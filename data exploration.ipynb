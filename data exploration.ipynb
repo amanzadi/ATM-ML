{
 "cells": [
  {
   "cell_type": "code",
   "execution_count": 1,
   "id": "680f62d5",
   "metadata": {},
   "outputs": [],
   "source": [
    "import os\n",
    "import tqdm\n",
    "import glob\n",
    "import numpy as np\n",
    "import pandas as pd\n",
    "import plotly.express as px"
   ]
  },
  {
   "cell_type": "code",
   "execution_count": 2,
   "id": "ad2cbe64",
   "metadata": {},
   "outputs": [
    {
     "output_type": "stream",
     "name": "stdout",
     "text": [
      "['EX5261.csv', 'EX5342.csv', 'EX5347.csv', 'EX5348.csv', 'EX5349.csv', 'EX5364.csv', 'EX5365.csv', 'EX5428.csv', 'EX5429.csv', 'EX5431.csv', 'EX5432.csv', 'EX5433.csv', 'EX5434.csv', 'EX5435.csv', 'EX5436.csv', 'EX5437.csv', 'EX5438.csv', 'EX5441.csv', 'EX5443.csv', 'EX5445.csv', 'EX5526.csv', 'EX5527.csv', 'EX5528.csv', 'EX5529.csv', 'EX5530.csv', 'EX5531.csv', 'EX5533.csv', 'EX5539.csv', 'EX5540.csv', 'EX5541.csv', 'EX5542.csv', 'EX5544.csv', 'EX5545.csv', 'EX5555.csv']\n"
     ]
    }
   ],
   "source": [
    "path = '../data/genes/'\n",
    "os.chdir(path)\n",
    "files = glob.glob('*.csv')\n",
    "print(files)"
   ]
  },
  {
   "cell_type": "code",
   "execution_count": 51,
   "id": "2beb16c3",
   "metadata": {},
   "outputs": [],
   "source": [
    "# function to isolate no. of mutations\n",
    "def mut_count(file, chr_list):\n",
    "\n",
    "    # created the dataframe\n",
    "    df = pd.read_csv(file, low_memory=False)\n",
    "    df = df.iloc[:, 77]  # only the chr column\n",
    "    name = file[:-4]     # name of the input file\n",
    "\n",
    "     \n",
    "    chr_count = []\n",
    "    chr_values = df.value_counts()\n",
    "    chr_names = df.unique().tolist()\n",
    "\n",
    "    # counts no. of mutation in each chr\n",
    "    for gene in chr_list:\n",
    "        if gene in chr_names:\n",
    "            chr_count.append(chr_values[gene])\n",
    "        else:\n",
    "            chr_count.append(0)\n",
    "\n",
    "    # creates the mutation count dataframe\n",
    "    dic = {'Chromosome': chr_list, name: chr_count}\n",
    "    df_chr = pd.DataFrame.from_dict(dic)\n",
    "\n",
    "    return(df_chr)"
   ]
  },
  {
   "cell_type": "code",
   "execution_count": 52,
   "metadata": {},
   "outputs": [
    {
     "output_type": "execute_result",
     "data": {
      "text/plain": [
       "   Chromosome  EX5434  EX5540\n",
       "0        chr1   15406    3569\n",
       "1        chr2   11464    2508\n",
       "2        chr3    8701    2184\n",
       "3        chr4    7173    1465\n",
       "4        chr5    7307    1583\n",
       "5        chr6    6691    2502\n",
       "6        chr7    8632    1835\n",
       "7        chr8    6018    1235\n",
       "8        chr9    6546    1310\n",
       "9       chr10    7394    1607\n",
       "10      chr11    8922    2431\n",
       "11      chr12    9148    1895\n",
       "12      chr13    3208     678\n",
       "13      chr14    5698    1053\n",
       "14      chr15    5310    1224\n",
       "15      chr16    6461    1499\n",
       "16      chr17    8592    2292\n",
       "17      chr18    2822     567\n",
       "18      chr19    9693    2863\n",
       "19      chr20    3848     848\n",
       "20      chr21    2496     532\n",
       "21      chr22    4068     853\n",
       "22       chrM      48       0\n",
       "23       chrX    3004     775\n",
       "24       chrY      95       5"
      ],
      "text/html": "<div>\n<style scoped>\n    .dataframe tbody tr th:only-of-type {\n        vertical-align: middle;\n    }\n\n    .dataframe tbody tr th {\n        vertical-align: top;\n    }\n\n    .dataframe thead th {\n        text-align: right;\n    }\n</style>\n<table border=\"1\" class=\"dataframe\">\n  <thead>\n    <tr style=\"text-align: right;\">\n      <th></th>\n      <th>Chromosome</th>\n      <th>EX5434</th>\n      <th>EX5540</th>\n    </tr>\n  </thead>\n  <tbody>\n    <tr>\n      <th>0</th>\n      <td>chr1</td>\n      <td>15406</td>\n      <td>3569</td>\n    </tr>\n    <tr>\n      <th>1</th>\n      <td>chr2</td>\n      <td>11464</td>\n      <td>2508</td>\n    </tr>\n    <tr>\n      <th>2</th>\n      <td>chr3</td>\n      <td>8701</td>\n      <td>2184</td>\n    </tr>\n    <tr>\n      <th>3</th>\n      <td>chr4</td>\n      <td>7173</td>\n      <td>1465</td>\n    </tr>\n    <tr>\n      <th>4</th>\n      <td>chr5</td>\n      <td>7307</td>\n      <td>1583</td>\n    </tr>\n    <tr>\n      <th>5</th>\n      <td>chr6</td>\n      <td>6691</td>\n      <td>2502</td>\n    </tr>\n    <tr>\n      <th>6</th>\n      <td>chr7</td>\n      <td>8632</td>\n      <td>1835</td>\n    </tr>\n    <tr>\n      <th>7</th>\n      <td>chr8</td>\n      <td>6018</td>\n      <td>1235</td>\n    </tr>\n    <tr>\n      <th>8</th>\n      <td>chr9</td>\n      <td>6546</td>\n      <td>1310</td>\n    </tr>\n    <tr>\n      <th>9</th>\n      <td>chr10</td>\n      <td>7394</td>\n      <td>1607</td>\n    </tr>\n    <tr>\n      <th>10</th>\n      <td>chr11</td>\n      <td>8922</td>\n      <td>2431</td>\n    </tr>\n    <tr>\n      <th>11</th>\n      <td>chr12</td>\n      <td>9148</td>\n      <td>1895</td>\n    </tr>\n    <tr>\n      <th>12</th>\n      <td>chr13</td>\n      <td>3208</td>\n      <td>678</td>\n    </tr>\n    <tr>\n      <th>13</th>\n      <td>chr14</td>\n      <td>5698</td>\n      <td>1053</td>\n    </tr>\n    <tr>\n      <th>14</th>\n      <td>chr15</td>\n      <td>5310</td>\n      <td>1224</td>\n    </tr>\n    <tr>\n      <th>15</th>\n      <td>chr16</td>\n      <td>6461</td>\n      <td>1499</td>\n    </tr>\n    <tr>\n      <th>16</th>\n      <td>chr17</td>\n      <td>8592</td>\n      <td>2292</td>\n    </tr>\n    <tr>\n      <th>17</th>\n      <td>chr18</td>\n      <td>2822</td>\n      <td>567</td>\n    </tr>\n    <tr>\n      <th>18</th>\n      <td>chr19</td>\n      <td>9693</td>\n      <td>2863</td>\n    </tr>\n    <tr>\n      <th>19</th>\n      <td>chr20</td>\n      <td>3848</td>\n      <td>848</td>\n    </tr>\n    <tr>\n      <th>20</th>\n      <td>chr21</td>\n      <td>2496</td>\n      <td>532</td>\n    </tr>\n    <tr>\n      <th>21</th>\n      <td>chr22</td>\n      <td>4068</td>\n      <td>853</td>\n    </tr>\n    <tr>\n      <th>22</th>\n      <td>chrM</td>\n      <td>48</td>\n      <td>0</td>\n    </tr>\n    <tr>\n      <th>23</th>\n      <td>chrX</td>\n      <td>3004</td>\n      <td>775</td>\n    </tr>\n    <tr>\n      <th>24</th>\n      <td>chrY</td>\n      <td>95</td>\n      <td>5</td>\n    </tr>\n  </tbody>\n</table>\n</div>"
     },
     "metadata": {},
     "execution_count": 52
    }
   ],
   "source": [
    "df = pd.read_csv(files[0])\n",
    "chr_names_list = df.iloc[:, 77].unique().tolist()\n",
    "\n",
    "# start col\n",
    "result = mut_count(file[0], chr_names_list)\n",
    "\n",
    "#merging results\n",
    "for file in files[1:]:\n",
    "    tmp = mut_count(file, chr_names_list)\n",
    "    results = pd.concat([x, y.iloc[:,1]], axis=1)\n",
    "\n",
    "result "
   ]
  },
  {
   "cell_type": "code",
   "execution_count": 3,
   "id": "03b2f914",
   "metadata": {},
   "outputs": [],
   "source": [
    "\n"
   ]
  },
  {
   "cell_type": "code",
   "execution_count": null,
   "id": "85a0180c",
   "metadata": {},
   "outputs": [],
   "source": []
  },
  {
   "cell_type": "code",
   "execution_count": null,
   "id": "81670b25",
   "metadata": {},
   "outputs": [],
   "source": []
  },
  {
   "cell_type": "code",
   "execution_count": null,
   "id": "44f84824",
   "metadata": {},
   "outputs": [],
   "source": []
  },
  {
   "cell_type": "code",
   "execution_count": null,
   "id": "af63ddb2",
   "metadata": {},
   "outputs": [],
   "source": []
  },
  {
   "cell_type": "code",
   "execution_count": null,
   "id": "78c824a5",
   "metadata": {},
   "outputs": [],
   "source": []
  },
  {
   "cell_type": "code",
   "execution_count": null,
   "id": "899cf48a",
   "metadata": {},
   "outputs": [],
   "source": []
  },
  {
   "cell_type": "code",
   "execution_count": null,
   "id": "3128f473",
   "metadata": {},
   "outputs": [],
   "source": []
  },
  {
   "cell_type": "code",
   "execution_count": null,
   "id": "868dfd13",
   "metadata": {},
   "outputs": [],
   "source": [
    "for file in files:\n",
    "    new_file = file.replace('.merged', '')\n",
    "    os.rename(file, new_file)"
   ]
  }
 ],
 "metadata": {
  "kernelspec": {
   "name": "python3",
   "display_name": "Python 3.8.8 64-bit ('ProgramData': virtualenv)"
  },
  "language_info": {
   "codemirror_mode": {
    "name": "ipython",
    "version": 3
   },
   "file_extension": ".py",
   "mimetype": "text/x-python",
   "name": "python",
   "nbconvert_exporter": "python",
   "pygments_lexer": "ipython3",
   "version": "3.8.8"
  },
  "interpreter": {
   "hash": "b3ba2566441a7c06988d0923437866b63cedc61552a5af99d1f4fb67d367b25f"
  }
 },
 "nbformat": 4,
 "nbformat_minor": 5
}