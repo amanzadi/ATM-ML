{
 "cells": [
  {
   "cell_type": "code",
   "execution_count": 13,
   "id": "680f62d5",
   "metadata": {},
   "outputs": [],
   "source": [
    "import os\n",
    "import glob\n",
    "import numpy as np\n",
    "import pandas as pd\n",
    "import seaborn as sns\n",
    "import plotly.express as px\n",
    "from tqdm.notebook import tqdm"
   ]
  },
  {
   "cell_type": "code",
   "execution_count": 2,
   "id": "ad2cbe64",
   "metadata": {},
   "outputs": [
    {
     "output_type": "stream",
     "name": "stdout",
     "text": [
      "['EX5261.csv', 'EX5342.csv', 'EX5347.csv', 'EX5348.csv', 'EX5349.csv', 'EX5364.csv', 'EX5365.csv', 'EX5428.csv', 'EX5429.csv', 'EX5431.csv', 'EX5432.csv', 'EX5433.csv', 'EX5434.csv', 'EX5435.csv', 'EX5436.csv', 'EX5437.csv', 'EX5438.csv', 'EX5441.csv', 'EX5443.csv', 'EX5445.csv', 'EX5526.csv', 'EX5527.csv', 'EX5528.csv', 'EX5529.csv', 'EX5530.csv', 'EX5531.csv', 'EX5533.csv', 'EX5539.csv', 'EX5540.csv', 'EX5541.csv', 'EX5542.csv', 'EX5544.csv', 'EX5545.csv', 'EX5555.csv']\n"
     ]
    }
   ],
   "source": [
    "path = '../data/genes/'\n",
    "os.chdir(path)\n",
    "files = glob.glob('*.csv')\n",
    "print(files)"
   ]
  },
  {
   "cell_type": "code",
   "execution_count": 3,
   "id": "2beb16c3",
   "metadata": {},
   "outputs": [],
   "source": [
    "# function to isolate no. of mutations\n",
    "def mut_count(file, chr_list):\n",
    "\n",
    "    # created the dataframe\n",
    "    df = pd.read_csv(file, low_memory=False)\n",
    "    df = df.iloc[:, 77]  # only the chr column\n",
    "    name = file[:-4]     # name of the input file\n",
    "\n",
    "     \n",
    "    chr_count = []\n",
    "    chr_values = df.value_counts()\n",
    "    chr_names = df.unique().tolist()\n",
    "\n",
    "    # counts no. of mutation in each chr\n",
    "    for gene in chr_list:\n",
    "        if gene in chr_names:\n",
    "            chr_count.append(chr_values[gene])\n",
    "        else:\n",
    "            chr_count.append(0)\n",
    "\n",
    "    # creates the mutation count dataframe\n",
    "    dic = {'Chromosome': chr_list, name: chr_count}\n",
    "    df_chr = pd.DataFrame.from_dict(dic)\n",
    "\n",
    "    return(df_chr)"
   ]
  },
  {
   "cell_type": "code",
   "execution_count": 10,
   "metadata": {},
   "outputs": [
    {
     "output_type": "display_data",
     "data": {
      "text/plain": "  0%|          | 0/33 [00:00<?, ?it/s]",
      "application/vnd.jupyter.widget-view+json": {
       "version_major": 2,
       "version_minor": 0,
       "model_id": "af06edeeda504a98816e93fceef75338"
      }
     },
     "metadata": {}
    },
    {
     "output_type": "execute_result",
     "data": {
      "text/plain": [
       "   Chromosome  EX5261  EX5342  EX5347  EX5348  EX5349  EX5364  EX5365  EX5428  \\\n",
       "0        chr1   11664   12902   13262   13177   13061   12320   12924   15688   \n",
       "1        chr2    9156    9377    9419    9905   10536    9247    9848   11934   \n",
       "2        chr3    7016    6932    7360    7314    7703    7160    7144    8790   \n",
       "3        chr4    5267    5285    5472    5733    5821    5290    5824    7064   \n",
       "4        chr5    5556    5699    5741    6191    6261    5762    6002    7124   \n",
       "5        chr6    5723    5666    5924    5851    6226    6053    5950    7464   \n",
       "6        chr7    6346    7339    7741    7677    7695    7298    7904    8702   \n",
       "7        chr8    4580    4531    4981    5052    5097    4470    4685    5667   \n",
       "8        chr9    4751    5296    5523    5432    5545    5513    5720    6418   \n",
       "9       chr10    5463    5932    5998    6276    6365    5759    6047    7316   \n",
       "10      chr11    7538    8001    8282    7568    8425    8380    8353    9553   \n",
       "11      chr12    6670    7432    7296    6909    7305    7334    7952    9063   \n",
       "12      chr13    2563    2526    2571    2584    2660    2437    2667    3099   \n",
       "13      chr14    4194    4907    4572    5027    4921    4822    4551    5811   \n",
       "14      chr15    3939    4632    4625    3936    4980    4529    4567    5403   \n",
       "15      chr16    5140    5863    5929    6092    5572    5692    5589    6372   \n",
       "16      chr17    6831    7322    7607    7204    7928    7135    7505    8910   \n",
       "17      chr18    2039    2157    2166    1880    2363    2204    2488    2826   \n",
       "18      chr19    7959    8354    8835    8987    8228    8579    8397   10578   \n",
       "19      chr20    3113    3402    3561    3579    3563    3180    3554    4195   \n",
       "20      chr21    1831    2054    2131    2236    2191    2016    2030    2373   \n",
       "21      chr22    2572    2929    3100    3159    3242    3249    3224    3839   \n",
       "22       chrM      48      39      54      43      53      39      53      44   \n",
       "23       chrX    1984    2119    2164    2036    2204    2023    1776    2835   \n",
       "24       chrY      37      55      68      50      40      45      55      87   \n",
       "\n",
       "    EX5429  ...  EX5530  EX5531  EX5533  EX5539  EX5540  EX5541  EX5542  \\\n",
       "0    14857  ...    3493    3459    3661    3554    3569    3547    3387   \n",
       "1    11323  ...    2462    2507    2372    2425    2508    2435    2227   \n",
       "2     7617  ...    2039    2109    2141    2169    2184    2083    2102   \n",
       "3     6577  ...    1394    1475    1453    1437    1465    1484    1489   \n",
       "4     6408  ...    1541    1541    1552    1600    1583    1573    1542   \n",
       "5     6556  ...    2494    2466    2424    2396    2502    2347    2368   \n",
       "6     7577  ...    1770    1768    1862    1818    1835    1820    1770   \n",
       "7     5095  ...    1268    1233    1209    1193    1235    1182    1220   \n",
       "8     5788  ...    1446    1217    1335    1410    1310    1397    1379   \n",
       "9     6629  ...    1630    1555    1557    1566    1607    1656    1508   \n",
       "10    7959  ...    2366    2299    2362    2450    2431    2396    2428   \n",
       "11    8199  ...    1844    1846    1823    1821    1895    1920    1898   \n",
       "12    3031  ...     690     641     700     626     678     651     633   \n",
       "13    5321  ...    1087    1041    1165    1164    1053    1118    1132   \n",
       "14    4862  ...    1192    1148    1268    1213    1224    1160    1257   \n",
       "15    6090  ...    1568    1438    1518    1491    1499    1470    1538   \n",
       "16    8150  ...    2292    2232    2278    2350    2292    2058    2277   \n",
       "17    2616  ...     570     583     586     594     567     557     603   \n",
       "18    9723  ...    2603    2838    2811    2879    2863    2825    2844   \n",
       "19    3813  ...     870     828     858     882     848     861     813   \n",
       "20    2151  ...     528     492     502     532     532     505     537   \n",
       "21    3510  ...     880     705     789     803     853     803     850   \n",
       "22      37  ...       0       0       0       0       0       0       0   \n",
       "23    2587  ...     540     577     499     683     775     653     657   \n",
       "24      58  ...       9      10       9       5       5       4       5   \n",
       "\n",
       "    EX5544  EX5545  EX5555  \n",
       "0     3365    3550    3432  \n",
       "1     2518    2540    2402  \n",
       "2     1988    2107    2206  \n",
       "3     1408    1499    1435  \n",
       "4     1565    1542    1556  \n",
       "5     2150    2292    2460  \n",
       "6     1820    1812    1799  \n",
       "7     1260    1224    1207  \n",
       "8     1379    1414    1405  \n",
       "9     1560    1540    1549  \n",
       "10    2340    2427    2532  \n",
       "11    1877    1882    1871  \n",
       "12     575     606     589  \n",
       "13    1095    1063    1142  \n",
       "14    1138    1223    1220  \n",
       "15    1508    1369    1469  \n",
       "16    2298    2319    2226  \n",
       "17     607     582     596  \n",
       "18    2929    2948    2827  \n",
       "19     898     932     798  \n",
       "20     421     419     518  \n",
       "21     883     670     799  \n",
       "22       0       0       0  \n",
       "23     580     678     654  \n",
       "24       9       5       5  \n",
       "\n",
       "[25 rows x 35 columns]"
      ],
      "text/html": "<div>\n<style scoped>\n    .dataframe tbody tr th:only-of-type {\n        vertical-align: middle;\n    }\n\n    .dataframe tbody tr th {\n        vertical-align: top;\n    }\n\n    .dataframe thead th {\n        text-align: right;\n    }\n</style>\n<table border=\"1\" class=\"dataframe\">\n  <thead>\n    <tr style=\"text-align: right;\">\n      <th></th>\n      <th>Chromosome</th>\n      <th>EX5261</th>\n      <th>EX5342</th>\n      <th>EX5347</th>\n      <th>EX5348</th>\n      <th>EX5349</th>\n      <th>EX5364</th>\n      <th>EX5365</th>\n      <th>EX5428</th>\n      <th>EX5429</th>\n      <th>...</th>\n      <th>EX5530</th>\n      <th>EX5531</th>\n      <th>EX5533</th>\n      <th>EX5539</th>\n      <th>EX5540</th>\n      <th>EX5541</th>\n      <th>EX5542</th>\n      <th>EX5544</th>\n      <th>EX5545</th>\n      <th>EX5555</th>\n    </tr>\n  </thead>\n  <tbody>\n    <tr>\n      <th>0</th>\n      <td>chr1</td>\n      <td>11664</td>\n      <td>12902</td>\n      <td>13262</td>\n      <td>13177</td>\n      <td>13061</td>\n      <td>12320</td>\n      <td>12924</td>\n      <td>15688</td>\n      <td>14857</td>\n      <td>...</td>\n      <td>3493</td>\n      <td>3459</td>\n      <td>3661</td>\n      <td>3554</td>\n      <td>3569</td>\n      <td>3547</td>\n      <td>3387</td>\n      <td>3365</td>\n      <td>3550</td>\n      <td>3432</td>\n    </tr>\n    <tr>\n      <th>1</th>\n      <td>chr2</td>\n      <td>9156</td>\n      <td>9377</td>\n      <td>9419</td>\n      <td>9905</td>\n      <td>10536</td>\n      <td>9247</td>\n      <td>9848</td>\n      <td>11934</td>\n      <td>11323</td>\n      <td>...</td>\n      <td>2462</td>\n      <td>2507</td>\n      <td>2372</td>\n      <td>2425</td>\n      <td>2508</td>\n      <td>2435</td>\n      <td>2227</td>\n      <td>2518</td>\n      <td>2540</td>\n      <td>2402</td>\n    </tr>\n    <tr>\n      <th>2</th>\n      <td>chr3</td>\n      <td>7016</td>\n      <td>6932</td>\n      <td>7360</td>\n      <td>7314</td>\n      <td>7703</td>\n      <td>7160</td>\n      <td>7144</td>\n      <td>8790</td>\n      <td>7617</td>\n      <td>...</td>\n      <td>2039</td>\n      <td>2109</td>\n      <td>2141</td>\n      <td>2169</td>\n      <td>2184</td>\n      <td>2083</td>\n      <td>2102</td>\n      <td>1988</td>\n      <td>2107</td>\n      <td>2206</td>\n    </tr>\n    <tr>\n      <th>3</th>\n      <td>chr4</td>\n      <td>5267</td>\n      <td>5285</td>\n      <td>5472</td>\n      <td>5733</td>\n      <td>5821</td>\n      <td>5290</td>\n      <td>5824</td>\n      <td>7064</td>\n      <td>6577</td>\n      <td>...</td>\n      <td>1394</td>\n      <td>1475</td>\n      <td>1453</td>\n      <td>1437</td>\n      <td>1465</td>\n      <td>1484</td>\n      <td>1489</td>\n      <td>1408</td>\n      <td>1499</td>\n      <td>1435</td>\n    </tr>\n    <tr>\n      <th>4</th>\n      <td>chr5</td>\n      <td>5556</td>\n      <td>5699</td>\n      <td>5741</td>\n      <td>6191</td>\n      <td>6261</td>\n      <td>5762</td>\n      <td>6002</td>\n      <td>7124</td>\n      <td>6408</td>\n      <td>...</td>\n      <td>1541</td>\n      <td>1541</td>\n      <td>1552</td>\n      <td>1600</td>\n      <td>1583</td>\n      <td>1573</td>\n      <td>1542</td>\n      <td>1565</td>\n      <td>1542</td>\n      <td>1556</td>\n    </tr>\n    <tr>\n      <th>5</th>\n      <td>chr6</td>\n      <td>5723</td>\n      <td>5666</td>\n      <td>5924</td>\n      <td>5851</td>\n      <td>6226</td>\n      <td>6053</td>\n      <td>5950</td>\n      <td>7464</td>\n      <td>6556</td>\n      <td>...</td>\n      <td>2494</td>\n      <td>2466</td>\n      <td>2424</td>\n      <td>2396</td>\n      <td>2502</td>\n      <td>2347</td>\n      <td>2368</td>\n      <td>2150</td>\n      <td>2292</td>\n      <td>2460</td>\n    </tr>\n    <tr>\n      <th>6</th>\n      <td>chr7</td>\n      <td>6346</td>\n      <td>7339</td>\n      <td>7741</td>\n      <td>7677</td>\n      <td>7695</td>\n      <td>7298</td>\n      <td>7904</td>\n      <td>8702</td>\n      <td>7577</td>\n      <td>...</td>\n      <td>1770</td>\n      <td>1768</td>\n      <td>1862</td>\n      <td>1818</td>\n      <td>1835</td>\n      <td>1820</td>\n      <td>1770</td>\n      <td>1820</td>\n      <td>1812</td>\n      <td>1799</td>\n    </tr>\n    <tr>\n      <th>7</th>\n      <td>chr8</td>\n      <td>4580</td>\n      <td>4531</td>\n      <td>4981</td>\n      <td>5052</td>\n      <td>5097</td>\n      <td>4470</td>\n      <td>4685</td>\n      <td>5667</td>\n      <td>5095</td>\n      <td>...</td>\n      <td>1268</td>\n      <td>1233</td>\n      <td>1209</td>\n      <td>1193</td>\n      <td>1235</td>\n      <td>1182</td>\n      <td>1220</td>\n      <td>1260</td>\n      <td>1224</td>\n      <td>1207</td>\n    </tr>\n    <tr>\n      <th>8</th>\n      <td>chr9</td>\n      <td>4751</td>\n      <td>5296</td>\n      <td>5523</td>\n      <td>5432</td>\n      <td>5545</td>\n      <td>5513</td>\n      <td>5720</td>\n      <td>6418</td>\n      <td>5788</td>\n      <td>...</td>\n      <td>1446</td>\n      <td>1217</td>\n      <td>1335</td>\n      <td>1410</td>\n      <td>1310</td>\n      <td>1397</td>\n      <td>1379</td>\n      <td>1379</td>\n      <td>1414</td>\n      <td>1405</td>\n    </tr>\n    <tr>\n      <th>9</th>\n      <td>chr10</td>\n      <td>5463</td>\n      <td>5932</td>\n      <td>5998</td>\n      <td>6276</td>\n      <td>6365</td>\n      <td>5759</td>\n      <td>6047</td>\n      <td>7316</td>\n      <td>6629</td>\n      <td>...</td>\n      <td>1630</td>\n      <td>1555</td>\n      <td>1557</td>\n      <td>1566</td>\n      <td>1607</td>\n      <td>1656</td>\n      <td>1508</td>\n      <td>1560</td>\n      <td>1540</td>\n      <td>1549</td>\n    </tr>\n    <tr>\n      <th>10</th>\n      <td>chr11</td>\n      <td>7538</td>\n      <td>8001</td>\n      <td>8282</td>\n      <td>7568</td>\n      <td>8425</td>\n      <td>8380</td>\n      <td>8353</td>\n      <td>9553</td>\n      <td>7959</td>\n      <td>...</td>\n      <td>2366</td>\n      <td>2299</td>\n      <td>2362</td>\n      <td>2450</td>\n      <td>2431</td>\n      <td>2396</td>\n      <td>2428</td>\n      <td>2340</td>\n      <td>2427</td>\n      <td>2532</td>\n    </tr>\n    <tr>\n      <th>11</th>\n      <td>chr12</td>\n      <td>6670</td>\n      <td>7432</td>\n      <td>7296</td>\n      <td>6909</td>\n      <td>7305</td>\n      <td>7334</td>\n      <td>7952</td>\n      <td>9063</td>\n      <td>8199</td>\n      <td>...</td>\n      <td>1844</td>\n      <td>1846</td>\n      <td>1823</td>\n      <td>1821</td>\n      <td>1895</td>\n      <td>1920</td>\n      <td>1898</td>\n      <td>1877</td>\n      <td>1882</td>\n      <td>1871</td>\n    </tr>\n    <tr>\n      <th>12</th>\n      <td>chr13</td>\n      <td>2563</td>\n      <td>2526</td>\n      <td>2571</td>\n      <td>2584</td>\n      <td>2660</td>\n      <td>2437</td>\n      <td>2667</td>\n      <td>3099</td>\n      <td>3031</td>\n      <td>...</td>\n      <td>690</td>\n      <td>641</td>\n      <td>700</td>\n      <td>626</td>\n      <td>678</td>\n      <td>651</td>\n      <td>633</td>\n      <td>575</td>\n      <td>606</td>\n      <td>589</td>\n    </tr>\n    <tr>\n      <th>13</th>\n      <td>chr14</td>\n      <td>4194</td>\n      <td>4907</td>\n      <td>4572</td>\n      <td>5027</td>\n      <td>4921</td>\n      <td>4822</td>\n      <td>4551</td>\n      <td>5811</td>\n      <td>5321</td>\n      <td>...</td>\n      <td>1087</td>\n      <td>1041</td>\n      <td>1165</td>\n      <td>1164</td>\n      <td>1053</td>\n      <td>1118</td>\n      <td>1132</td>\n      <td>1095</td>\n      <td>1063</td>\n      <td>1142</td>\n    </tr>\n    <tr>\n      <th>14</th>\n      <td>chr15</td>\n      <td>3939</td>\n      <td>4632</td>\n      <td>4625</td>\n      <td>3936</td>\n      <td>4980</td>\n      <td>4529</td>\n      <td>4567</td>\n      <td>5403</td>\n      <td>4862</td>\n      <td>...</td>\n      <td>1192</td>\n      <td>1148</td>\n      <td>1268</td>\n      <td>1213</td>\n      <td>1224</td>\n      <td>1160</td>\n      <td>1257</td>\n      <td>1138</td>\n      <td>1223</td>\n      <td>1220</td>\n    </tr>\n    <tr>\n      <th>15</th>\n      <td>chr16</td>\n      <td>5140</td>\n      <td>5863</td>\n      <td>5929</td>\n      <td>6092</td>\n      <td>5572</td>\n      <td>5692</td>\n      <td>5589</td>\n      <td>6372</td>\n      <td>6090</td>\n      <td>...</td>\n      <td>1568</td>\n      <td>1438</td>\n      <td>1518</td>\n      <td>1491</td>\n      <td>1499</td>\n      <td>1470</td>\n      <td>1538</td>\n      <td>1508</td>\n      <td>1369</td>\n      <td>1469</td>\n    </tr>\n    <tr>\n      <th>16</th>\n      <td>chr17</td>\n      <td>6831</td>\n      <td>7322</td>\n      <td>7607</td>\n      <td>7204</td>\n      <td>7928</td>\n      <td>7135</td>\n      <td>7505</td>\n      <td>8910</td>\n      <td>8150</td>\n      <td>...</td>\n      <td>2292</td>\n      <td>2232</td>\n      <td>2278</td>\n      <td>2350</td>\n      <td>2292</td>\n      <td>2058</td>\n      <td>2277</td>\n      <td>2298</td>\n      <td>2319</td>\n      <td>2226</td>\n    </tr>\n    <tr>\n      <th>17</th>\n      <td>chr18</td>\n      <td>2039</td>\n      <td>2157</td>\n      <td>2166</td>\n      <td>1880</td>\n      <td>2363</td>\n      <td>2204</td>\n      <td>2488</td>\n      <td>2826</td>\n      <td>2616</td>\n      <td>...</td>\n      <td>570</td>\n      <td>583</td>\n      <td>586</td>\n      <td>594</td>\n      <td>567</td>\n      <td>557</td>\n      <td>603</td>\n      <td>607</td>\n      <td>582</td>\n      <td>596</td>\n    </tr>\n    <tr>\n      <th>18</th>\n      <td>chr19</td>\n      <td>7959</td>\n      <td>8354</td>\n      <td>8835</td>\n      <td>8987</td>\n      <td>8228</td>\n      <td>8579</td>\n      <td>8397</td>\n      <td>10578</td>\n      <td>9723</td>\n      <td>...</td>\n      <td>2603</td>\n      <td>2838</td>\n      <td>2811</td>\n      <td>2879</td>\n      <td>2863</td>\n      <td>2825</td>\n      <td>2844</td>\n      <td>2929</td>\n      <td>2948</td>\n      <td>2827</td>\n    </tr>\n    <tr>\n      <th>19</th>\n      <td>chr20</td>\n      <td>3113</td>\n      <td>3402</td>\n      <td>3561</td>\n      <td>3579</td>\n      <td>3563</td>\n      <td>3180</td>\n      <td>3554</td>\n      <td>4195</td>\n      <td>3813</td>\n      <td>...</td>\n      <td>870</td>\n      <td>828</td>\n      <td>858</td>\n      <td>882</td>\n      <td>848</td>\n      <td>861</td>\n      <td>813</td>\n      <td>898</td>\n      <td>932</td>\n      <td>798</td>\n    </tr>\n    <tr>\n      <th>20</th>\n      <td>chr21</td>\n      <td>1831</td>\n      <td>2054</td>\n      <td>2131</td>\n      <td>2236</td>\n      <td>2191</td>\n      <td>2016</td>\n      <td>2030</td>\n      <td>2373</td>\n      <td>2151</td>\n      <td>...</td>\n      <td>528</td>\n      <td>492</td>\n      <td>502</td>\n      <td>532</td>\n      <td>532</td>\n      <td>505</td>\n      <td>537</td>\n      <td>421</td>\n      <td>419</td>\n      <td>518</td>\n    </tr>\n    <tr>\n      <th>21</th>\n      <td>chr22</td>\n      <td>2572</td>\n      <td>2929</td>\n      <td>3100</td>\n      <td>3159</td>\n      <td>3242</td>\n      <td>3249</td>\n      <td>3224</td>\n      <td>3839</td>\n      <td>3510</td>\n      <td>...</td>\n      <td>880</td>\n      <td>705</td>\n      <td>789</td>\n      <td>803</td>\n      <td>853</td>\n      <td>803</td>\n      <td>850</td>\n      <td>883</td>\n      <td>670</td>\n      <td>799</td>\n    </tr>\n    <tr>\n      <th>22</th>\n      <td>chrM</td>\n      <td>48</td>\n      <td>39</td>\n      <td>54</td>\n      <td>43</td>\n      <td>53</td>\n      <td>39</td>\n      <td>53</td>\n      <td>44</td>\n      <td>37</td>\n      <td>...</td>\n      <td>0</td>\n      <td>0</td>\n      <td>0</td>\n      <td>0</td>\n      <td>0</td>\n      <td>0</td>\n      <td>0</td>\n      <td>0</td>\n      <td>0</td>\n      <td>0</td>\n    </tr>\n    <tr>\n      <th>23</th>\n      <td>chrX</td>\n      <td>1984</td>\n      <td>2119</td>\n      <td>2164</td>\n      <td>2036</td>\n      <td>2204</td>\n      <td>2023</td>\n      <td>1776</td>\n      <td>2835</td>\n      <td>2587</td>\n      <td>...</td>\n      <td>540</td>\n      <td>577</td>\n      <td>499</td>\n      <td>683</td>\n      <td>775</td>\n      <td>653</td>\n      <td>657</td>\n      <td>580</td>\n      <td>678</td>\n      <td>654</td>\n    </tr>\n    <tr>\n      <th>24</th>\n      <td>chrY</td>\n      <td>37</td>\n      <td>55</td>\n      <td>68</td>\n      <td>50</td>\n      <td>40</td>\n      <td>45</td>\n      <td>55</td>\n      <td>87</td>\n      <td>58</td>\n      <td>...</td>\n      <td>9</td>\n      <td>10</td>\n      <td>9</td>\n      <td>5</td>\n      <td>5</td>\n      <td>4</td>\n      <td>5</td>\n      <td>9</td>\n      <td>5</td>\n      <td>5</td>\n    </tr>\n  </tbody>\n</table>\n<p>25 rows × 35 columns</p>\n</div>"
     },
     "metadata": {},
     "execution_count": 10
    }
   ],
   "source": [
    "df = pd.read_csv(files[0])\n",
    "chr_names_list = df.iloc[:, 77].unique().tolist()\n",
    "\n",
    "# start col\n",
    "result = mut_count(files[0], chr_names_list)\n",
    "\n",
    "#merging results\n",
    "for file in tqdm(files[1:]):\n",
    "    tmp = mut_count(file, chr_names_list)\n",
    "    result = pd.concat([result, tmp.iloc[:,1]], axis=1)\n",
    "    \n",
    "df.to_csv('mut_count_all.csv', index=False)\n",
    "result "
   ]
  },
  {
   "cell_type": "code",
   "execution_count": 47,
   "metadata": {},
   "outputs": [
    {
     "output_type": "execute_result",
     "data": {
      "text/plain": [
       "15918"
      ]
     },
     "metadata": {},
     "execution_count": 47
    }
   ],
   "source": [
    "#result.iloc[:,1:].mean().mean()\n",
    "result.iloc[:,1:].max().max()"
   ]
  },
  {
   "cell_type": "code",
   "execution_count": 49,
   "metadata": {},
   "outputs": [],
   "source": [
    "res_norm = result.iloc[:,1:]/result.iloc[:,1:].max().max()"
   ]
  },
  {
   "cell_type": "code",
   "execution_count": 51,
   "id": "03b2f914",
   "metadata": {},
   "outputs": [
    {
     "output_type": "display_data",
     "data": {
      "text/plain": "<Figure size 1800x1080 with 2 Axes>",
      "image/svg+xml": "<?xml version=\"1.0\" encoding=\"utf-8\" standalone=\"no\"?>\r\n<!DOCTYPE svg PUBLIC \"-//W3C//DTD SVG 1.1//EN\"\r\n  \"http://www.w3.org/Graphics/SVG/1.1/DTD/svg11.dtd\">\r\n<!-- Created with matplotlib (https://matplotlib.org/) -->\r\n<svg height=\"878.442812pt\" version=\"1.1\" viewBox=\"0 0 1300.565 878.442812\" width=\"1300.565pt\" xmlns=\"http://www.w3.org/2000/svg\" xmlns:xlink=\"http://www.w3.org/1999/xlink\">\r\n <metadata>\r\n  <rdf:RDF xmlns:cc=\"http://creativecommons.org/ns#\" xmlns:dc=\"http://purl.org/dc/elements/1.1/\" xmlns:rdf=\"http://www.w3.org/1999/02/22-rdf-syntax-ns#\">\r\n   <cc:Work>\r\n    <dc:type rdf:resource=\"http://purl.org/dc/dcmitype/StillImage\"/>\r\n    <dc:date>2021-06-22T21:49:39.050740</dc:date>\r\n    <dc:format>image/svg+xml</dc:format>\r\n    <dc:creator>\r\n     <cc:Agent>\r\n      <dc:title>Matplotlib v3.3.4, https://matplotlib.org/</dc:title>\r\n     </cc:Agent>\r\n    </dc:creator>\r\n   </cc:Work>\r\n  </rdf:RDF>\r\n </metadata>\r\n <defs>\r\n  <style type=\"text/css\">*{stroke-linecap:butt;stroke-linejoin:round;}</style>\r\n </defs>\r\n <g id=\"figure_1\">\r\n  <g id=\"patch_1\">\r\n   <path d=\"M 0 878.442812 \r\nL 1300.565 878.442812 \r\nL 1300.565 0 \r\nL 0 0 \r\nz\r\n\" style=\"fill:#ffffff;\"/>\r\n  </g>\r\n  <g id=\"axes_1\">\r\n   <g id=\"patch_2\">\r\n    <path d=\"M 26.759844 822.6 \r\nL 1142.759844 822.6 \r\nL 1142.759844 7.2 \r\nL 26.759844 7.2 \r\nz\r\n\" style=\"fill:#eaeaf2;\"/>\r\n   </g>\r\n   <g id=\"matplotlib.axis_1\">\r\n    <g id=\"xtick_1\">\r\n     <g id=\"text_1\">\r\n      <!-- EX5261 -->\r\n      <g style=\"fill:#262626;\" transform=\"translate(46.01528 871.242812)rotate(-90)scale(0.11 -0.11)\">\r\n       <defs>\r\n        <path d=\"M 7.90625 0 \r\nL 7.90625 71.578125 \r\nL 59.671875 71.578125 \r\nL 59.671875 63.140625 \r\nL 17.390625 63.140625 \r\nL 17.390625 41.21875 \r\nL 56.984375 41.21875 \r\nL 56.984375 32.8125 \r\nL 17.390625 32.8125 \r\nL 17.390625 8.453125 \r\nL 61.328125 8.453125 \r\nL 61.328125 0 \r\nz\r\n\" id=\"ArialMT-69\"/>\r\n        <path d=\"M 0.4375 0 \r\nL 28.125 37.3125 \r\nL 3.71875 71.578125 \r\nL 14.984375 71.578125 \r\nL 27.984375 53.21875 \r\nQ 32.03125 47.515625 33.734375 44.4375 \r\nQ 36.140625 48.34375 39.40625 52.59375 \r\nL 53.8125 71.578125 \r\nL 64.109375 71.578125 \r\nL 38.96875 37.84375 \r\nL 66.0625 0 \r\nL 54.34375 0 \r\nL 36.328125 25.53125 \r\nQ 34.8125 27.734375 33.203125 30.328125 \r\nQ 30.8125 26.421875 29.78125 24.953125 \r\nL 11.8125 0 \r\nz\r\n\" id=\"ArialMT-88\"/>\r\n        <path d=\"M 4.15625 18.75 \r\nL 13.375 19.53125 \r\nQ 14.40625 12.796875 18.140625 9.390625 \r\nQ 21.875 6 27.15625 6 \r\nQ 33.5 6 37.890625 10.78125 \r\nQ 42.28125 15.578125 42.28125 23.484375 \r\nQ 42.28125 31 38.0625 35.34375 \r\nQ 33.84375 39.703125 27 39.703125 \r\nQ 22.75 39.703125 19.328125 37.765625 \r\nQ 15.921875 35.84375 13.96875 32.765625 \r\nL 5.71875 33.84375 \r\nL 12.640625 70.609375 \r\nL 48.25 70.609375 \r\nL 48.25 62.203125 \r\nL 19.671875 62.203125 \r\nL 15.828125 42.96875 \r\nQ 22.265625 47.46875 29.34375 47.46875 \r\nQ 38.71875 47.46875 45.15625 40.96875 \r\nQ 51.609375 34.46875 51.609375 24.265625 \r\nQ 51.609375 14.546875 45.953125 7.46875 \r\nQ 39.0625 -1.21875 27.15625 -1.21875 \r\nQ 17.390625 -1.21875 11.203125 4.25 \r\nQ 5.03125 9.71875 4.15625 18.75 \r\nz\r\n\" id=\"ArialMT-53\"/>\r\n        <path d=\"M 50.34375 8.453125 \r\nL 50.34375 0 \r\nL 3.03125 0 \r\nQ 2.9375 3.171875 4.046875 6.109375 \r\nQ 5.859375 10.9375 9.828125 15.625 \r\nQ 13.8125 20.3125 21.34375 26.46875 \r\nQ 33.015625 36.03125 37.109375 41.625 \r\nQ 41.21875 47.21875 41.21875 52.203125 \r\nQ 41.21875 57.421875 37.46875 61 \r\nQ 33.734375 64.59375 27.734375 64.59375 \r\nQ 21.390625 64.59375 17.578125 60.78125 \r\nQ 13.765625 56.984375 13.71875 50.25 \r\nL 4.6875 51.171875 \r\nQ 5.609375 61.28125 11.65625 66.578125 \r\nQ 17.71875 71.875 27.9375 71.875 \r\nQ 38.234375 71.875 44.234375 66.15625 \r\nQ 50.25 60.453125 50.25 52 \r\nQ 50.25 47.703125 48.484375 43.546875 \r\nQ 46.734375 39.40625 42.65625 34.8125 \r\nQ 38.578125 30.21875 29.109375 22.21875 \r\nQ 21.1875 15.578125 18.9375 13.203125 \r\nQ 16.703125 10.84375 15.234375 8.453125 \r\nz\r\n\" id=\"ArialMT-50\"/>\r\n        <path d=\"M 49.75 54.046875 \r\nL 41.015625 53.375 \r\nQ 39.84375 58.546875 37.703125 60.890625 \r\nQ 34.125 64.65625 28.90625 64.65625 \r\nQ 24.703125 64.65625 21.53125 62.3125 \r\nQ 17.390625 59.28125 14.984375 53.46875 \r\nQ 12.59375 47.65625 12.5 36.921875 \r\nQ 15.671875 41.75 20.265625 44.09375 \r\nQ 24.859375 46.4375 29.890625 46.4375 \r\nQ 38.671875 46.4375 44.84375 39.96875 \r\nQ 51.03125 33.5 51.03125 23.25 \r\nQ 51.03125 16.5 48.125 10.71875 \r\nQ 45.21875 4.9375 40.140625 1.859375 \r\nQ 35.0625 -1.21875 28.609375 -1.21875 \r\nQ 17.625 -1.21875 10.6875 6.859375 \r\nQ 3.765625 14.9375 3.765625 33.5 \r\nQ 3.765625 54.25 11.421875 63.671875 \r\nQ 18.109375 71.875 29.4375 71.875 \r\nQ 37.890625 71.875 43.28125 67.140625 \r\nQ 48.6875 62.40625 49.75 54.046875 \r\nz\r\nM 13.875 23.1875 \r\nQ 13.875 18.65625 15.796875 14.5 \r\nQ 17.71875 10.359375 21.1875 8.171875 \r\nQ 24.65625 6 28.46875 6 \r\nQ 34.03125 6 38.03125 10.484375 \r\nQ 42.046875 14.984375 42.046875 22.703125 \r\nQ 42.046875 30.125 38.078125 34.390625 \r\nQ 34.125 38.671875 28.125 38.671875 \r\nQ 22.171875 38.671875 18.015625 34.390625 \r\nQ 13.875 30.125 13.875 23.1875 \r\nz\r\n\" id=\"ArialMT-54\"/>\r\n        <path d=\"M 37.25 0 \r\nL 28.46875 0 \r\nL 28.46875 56 \r\nQ 25.296875 52.984375 20.140625 49.953125 \r\nQ 14.984375 46.921875 10.890625 45.40625 \r\nL 10.890625 53.90625 \r\nQ 18.265625 57.375 23.78125 62.296875 \r\nQ 29.296875 67.234375 31.59375 71.875 \r\nL 37.25 71.875 \r\nz\r\n\" id=\"ArialMT-49\"/>\r\n       </defs>\r\n       <use xlink:href=\"#ArialMT-69\"/>\r\n       <use x=\"66.699219\" xlink:href=\"#ArialMT-88\"/>\r\n       <use x=\"133.398438\" xlink:href=\"#ArialMT-53\"/>\r\n       <use x=\"189.013672\" xlink:href=\"#ArialMT-50\"/>\r\n       <use x=\"244.628906\" xlink:href=\"#ArialMT-54\"/>\r\n       <use x=\"300.244141\" xlink:href=\"#ArialMT-49\"/>\r\n      </g>\r\n     </g>\r\n    </g>\r\n    <g id=\"xtick_2\">\r\n     <g id=\"text_2\">\r\n      <!-- EX5342 -->\r\n      <g style=\"fill:#262626;\" transform=\"translate(78.83881 871.242812)rotate(-90)scale(0.11 -0.11)\">\r\n       <defs>\r\n        <path d=\"M 4.203125 18.890625 \r\nL 12.984375 20.0625 \r\nQ 14.5 12.59375 18.140625 9.296875 \r\nQ 21.78125 6 27 6 \r\nQ 33.203125 6 37.46875 10.296875 \r\nQ 41.75 14.59375 41.75 20.953125 \r\nQ 41.75 27 37.796875 30.921875 \r\nQ 33.84375 34.859375 27.734375 34.859375 \r\nQ 25.25 34.859375 21.53125 33.890625 \r\nL 22.515625 41.609375 \r\nQ 23.390625 41.5 23.921875 41.5 \r\nQ 29.546875 41.5 34.03125 44.421875 \r\nQ 38.53125 47.359375 38.53125 53.46875 \r\nQ 38.53125 58.296875 35.25 61.46875 \r\nQ 31.984375 64.65625 26.8125 64.65625 \r\nQ 21.6875 64.65625 18.265625 61.421875 \r\nQ 14.84375 58.203125 13.875 51.765625 \r\nL 5.078125 53.328125 \r\nQ 6.6875 62.15625 12.390625 67.015625 \r\nQ 18.109375 71.875 26.609375 71.875 \r\nQ 32.46875 71.875 37.390625 69.359375 \r\nQ 42.328125 66.84375 44.9375 62.5 \r\nQ 47.5625 58.15625 47.5625 53.265625 \r\nQ 47.5625 48.640625 45.0625 44.828125 \r\nQ 42.578125 41.015625 37.703125 38.765625 \r\nQ 44.046875 37.3125 47.5625 32.6875 \r\nQ 51.078125 28.078125 51.078125 21.140625 \r\nQ 51.078125 11.765625 44.234375 5.25 \r\nQ 37.40625 -1.265625 26.953125 -1.265625 \r\nQ 17.53125 -1.265625 11.296875 4.34375 \r\nQ 5.078125 9.96875 4.203125 18.890625 \r\nz\r\n\" id=\"ArialMT-51\"/>\r\n        <path d=\"M 32.328125 0 \r\nL 32.328125 17.140625 \r\nL 1.265625 17.140625 \r\nL 1.265625 25.203125 \r\nL 33.9375 71.578125 \r\nL 41.109375 71.578125 \r\nL 41.109375 25.203125 \r\nL 50.78125 25.203125 \r\nL 50.78125 17.140625 \r\nL 41.109375 17.140625 \r\nL 41.109375 0 \r\nz\r\nM 32.328125 25.203125 \r\nL 32.328125 57.46875 \r\nL 9.90625 25.203125 \r\nz\r\n\" id=\"ArialMT-52\"/>\r\n       </defs>\r\n       <use xlink:href=\"#ArialMT-69\"/>\r\n       <use x=\"66.699219\" xlink:href=\"#ArialMT-88\"/>\r\n       <use x=\"133.398438\" xlink:href=\"#ArialMT-53\"/>\r\n       <use x=\"189.013672\" xlink:href=\"#ArialMT-51\"/>\r\n       <use x=\"244.628906\" xlink:href=\"#ArialMT-52\"/>\r\n       <use x=\"300.244141\" xlink:href=\"#ArialMT-50\"/>\r\n      </g>\r\n     </g>\r\n    </g>\r\n    <g id=\"xtick_3\">\r\n     <g id=\"text_3\">\r\n      <!-- EX5347 -->\r\n      <g style=\"fill:#262626;\" transform=\"translate(111.662339 871.242812)rotate(-90)scale(0.11 -0.11)\">\r\n       <defs>\r\n        <path d=\"M 4.734375 62.203125 \r\nL 4.734375 70.65625 \r\nL 51.078125 70.65625 \r\nL 51.078125 63.8125 \r\nQ 44.234375 56.546875 37.515625 44.484375 \r\nQ 30.8125 32.421875 27.15625 19.671875 \r\nQ 24.515625 10.6875 23.78125 0 \r\nL 14.75 0 \r\nQ 14.890625 8.453125 18.0625 20.40625 \r\nQ 21.234375 32.375 27.171875 43.484375 \r\nQ 33.109375 54.59375 39.796875 62.203125 \r\nz\r\n\" id=\"ArialMT-55\"/>\r\n       </defs>\r\n       <use xlink:href=\"#ArialMT-69\"/>\r\n       <use x=\"66.699219\" xlink:href=\"#ArialMT-88\"/>\r\n       <use x=\"133.398438\" xlink:href=\"#ArialMT-53\"/>\r\n       <use x=\"189.013672\" xlink:href=\"#ArialMT-51\"/>\r\n       <use x=\"244.628906\" xlink:href=\"#ArialMT-52\"/>\r\n       <use x=\"300.244141\" xlink:href=\"#ArialMT-55\"/>\r\n      </g>\r\n     </g>\r\n    </g>\r\n    <g id=\"xtick_4\">\r\n     <g id=\"text_4\">\r\n      <!-- EX5348 -->\r\n      <g style=\"fill:#262626;\" transform=\"translate(144.485869 871.242812)rotate(-90)scale(0.11 -0.11)\">\r\n       <defs>\r\n        <path d=\"M 17.671875 38.8125 \r\nQ 12.203125 40.828125 9.5625 44.53125 \r\nQ 6.9375 48.25 6.9375 53.421875 \r\nQ 6.9375 61.234375 12.546875 66.546875 \r\nQ 18.171875 71.875 27.484375 71.875 \r\nQ 36.859375 71.875 42.578125 66.421875 \r\nQ 48.296875 60.984375 48.296875 53.171875 \r\nQ 48.296875 48.1875 45.671875 44.5 \r\nQ 43.0625 40.828125 37.75 38.8125 \r\nQ 44.34375 36.671875 47.78125 31.875 \r\nQ 51.21875 27.09375 51.21875 20.453125 \r\nQ 51.21875 11.28125 44.71875 5.03125 \r\nQ 38.234375 -1.21875 27.640625 -1.21875 \r\nQ 17.046875 -1.21875 10.546875 5.046875 \r\nQ 4.046875 11.328125 4.046875 20.703125 \r\nQ 4.046875 27.6875 7.59375 32.390625 \r\nQ 11.140625 37.109375 17.671875 38.8125 \r\nz\r\nM 15.921875 53.71875 \r\nQ 15.921875 48.640625 19.1875 45.40625 \r\nQ 22.46875 42.1875 27.6875 42.1875 \r\nQ 32.765625 42.1875 36.015625 45.375 \r\nQ 39.265625 48.578125 39.265625 53.21875 \r\nQ 39.265625 58.0625 35.90625 61.359375 \r\nQ 32.5625 64.65625 27.59375 64.65625 \r\nQ 22.5625 64.65625 19.234375 61.421875 \r\nQ 15.921875 58.203125 15.921875 53.71875 \r\nz\r\nM 13.09375 20.65625 \r\nQ 13.09375 16.890625 14.875 13.375 \r\nQ 16.65625 9.859375 20.171875 7.921875 \r\nQ 23.6875 6 27.734375 6 \r\nQ 34.03125 6 38.125 10.046875 \r\nQ 42.234375 14.109375 42.234375 20.359375 \r\nQ 42.234375 26.703125 38.015625 30.859375 \r\nQ 33.796875 35.015625 27.4375 35.015625 \r\nQ 21.234375 35.015625 17.15625 30.90625 \r\nQ 13.09375 26.8125 13.09375 20.65625 \r\nz\r\n\" id=\"ArialMT-56\"/>\r\n       </defs>\r\n       <use xlink:href=\"#ArialMT-69\"/>\r\n       <use x=\"66.699219\" xlink:href=\"#ArialMT-88\"/>\r\n       <use x=\"133.398438\" xlink:href=\"#ArialMT-53\"/>\r\n       <use x=\"189.013672\" xlink:href=\"#ArialMT-51\"/>\r\n       <use x=\"244.628906\" xlink:href=\"#ArialMT-52\"/>\r\n       <use x=\"300.244141\" xlink:href=\"#ArialMT-56\"/>\r\n      </g>\r\n     </g>\r\n    </g>\r\n    <g id=\"xtick_5\">\r\n     <g id=\"text_5\">\r\n      <!-- EX5349 -->\r\n      <g style=\"fill:#262626;\" transform=\"translate(177.309398 871.242812)rotate(-90)scale(0.11 -0.11)\">\r\n       <defs>\r\n        <path d=\"M 5.46875 16.546875 \r\nL 13.921875 17.328125 \r\nQ 14.984375 11.375 18.015625 8.6875 \r\nQ 21.046875 6 25.78125 6 \r\nQ 29.828125 6 32.875 7.859375 \r\nQ 35.9375 9.71875 37.890625 12.8125 \r\nQ 39.84375 15.921875 41.15625 21.1875 \r\nQ 42.484375 26.46875 42.484375 31.9375 \r\nQ 42.484375 32.515625 42.4375 33.6875 \r\nQ 39.796875 29.5 35.234375 26.875 \r\nQ 30.671875 24.265625 25.34375 24.265625 \r\nQ 16.453125 24.265625 10.296875 30.703125 \r\nQ 4.15625 37.15625 4.15625 47.703125 \r\nQ 4.15625 58.59375 10.578125 65.234375 \r\nQ 17 71.875 26.65625 71.875 \r\nQ 33.640625 71.875 39.421875 68.109375 \r\nQ 45.21875 64.359375 48.21875 57.390625 \r\nQ 51.21875 50.4375 51.21875 37.25 \r\nQ 51.21875 23.53125 48.234375 15.40625 \r\nQ 45.265625 7.28125 39.375 3.03125 \r\nQ 33.5 -1.21875 25.59375 -1.21875 \r\nQ 17.1875 -1.21875 11.859375 3.4375 \r\nQ 6.546875 8.109375 5.46875 16.546875 \r\nz\r\nM 41.453125 48.140625 \r\nQ 41.453125 55.71875 37.421875 60.15625 \r\nQ 33.40625 64.59375 27.734375 64.59375 \r\nQ 21.875 64.59375 17.53125 59.8125 \r\nQ 13.1875 55.03125 13.1875 47.40625 \r\nQ 13.1875 40.578125 17.3125 36.296875 \r\nQ 21.4375 32.03125 27.484375 32.03125 \r\nQ 33.59375 32.03125 37.515625 36.296875 \r\nQ 41.453125 40.578125 41.453125 48.140625 \r\nz\r\n\" id=\"ArialMT-57\"/>\r\n       </defs>\r\n       <use xlink:href=\"#ArialMT-69\"/>\r\n       <use x=\"66.699219\" xlink:href=\"#ArialMT-88\"/>\r\n       <use x=\"133.398438\" xlink:href=\"#ArialMT-53\"/>\r\n       <use x=\"189.013672\" xlink:href=\"#ArialMT-51\"/>\r\n       <use x=\"244.628906\" xlink:href=\"#ArialMT-52\"/>\r\n       <use x=\"300.244141\" xlink:href=\"#ArialMT-57\"/>\r\n      </g>\r\n     </g>\r\n    </g>\r\n    <g id=\"xtick_6\">\r\n     <g id=\"text_6\">\r\n      <!-- EX5364 -->\r\n      <g style=\"fill:#262626;\" transform=\"translate(210.132927 871.242812)rotate(-90)scale(0.11 -0.11)\">\r\n       <use xlink:href=\"#ArialMT-69\"/>\r\n       <use x=\"66.699219\" xlink:href=\"#ArialMT-88\"/>\r\n       <use x=\"133.398438\" xlink:href=\"#ArialMT-53\"/>\r\n       <use x=\"189.013672\" xlink:href=\"#ArialMT-51\"/>\r\n       <use x=\"244.628906\" xlink:href=\"#ArialMT-54\"/>\r\n       <use x=\"300.244141\" xlink:href=\"#ArialMT-52\"/>\r\n      </g>\r\n     </g>\r\n    </g>\r\n    <g id=\"xtick_7\">\r\n     <g id=\"text_7\">\r\n      <!-- EX5365 -->\r\n      <g style=\"fill:#262626;\" transform=\"translate(242.956457 871.242812)rotate(-90)scale(0.11 -0.11)\">\r\n       <use xlink:href=\"#ArialMT-69\"/>\r\n       <use x=\"66.699219\" xlink:href=\"#ArialMT-88\"/>\r\n       <use x=\"133.398438\" xlink:href=\"#ArialMT-53\"/>\r\n       <use x=\"189.013672\" xlink:href=\"#ArialMT-51\"/>\r\n       <use x=\"244.628906\" xlink:href=\"#ArialMT-54\"/>\r\n       <use x=\"300.244141\" xlink:href=\"#ArialMT-53\"/>\r\n      </g>\r\n     </g>\r\n    </g>\r\n    <g id=\"xtick_8\">\r\n     <g id=\"text_8\">\r\n      <!-- EX5428 -->\r\n      <g style=\"fill:#262626;\" transform=\"translate(275.779986 871.242812)rotate(-90)scale(0.11 -0.11)\">\r\n       <use xlink:href=\"#ArialMT-69\"/>\r\n       <use x=\"66.699219\" xlink:href=\"#ArialMT-88\"/>\r\n       <use x=\"133.398438\" xlink:href=\"#ArialMT-53\"/>\r\n       <use x=\"189.013672\" xlink:href=\"#ArialMT-52\"/>\r\n       <use x=\"244.628906\" xlink:href=\"#ArialMT-50\"/>\r\n       <use x=\"300.244141\" xlink:href=\"#ArialMT-56\"/>\r\n      </g>\r\n     </g>\r\n    </g>\r\n    <g id=\"xtick_9\">\r\n     <g id=\"text_9\">\r\n      <!-- EX5429 -->\r\n      <g style=\"fill:#262626;\" transform=\"translate(308.603516 871.242812)rotate(-90)scale(0.11 -0.11)\">\r\n       <use xlink:href=\"#ArialMT-69\"/>\r\n       <use x=\"66.699219\" xlink:href=\"#ArialMT-88\"/>\r\n       <use x=\"133.398438\" xlink:href=\"#ArialMT-53\"/>\r\n       <use x=\"189.013672\" xlink:href=\"#ArialMT-52\"/>\r\n       <use x=\"244.628906\" xlink:href=\"#ArialMT-50\"/>\r\n       <use x=\"300.244141\" xlink:href=\"#ArialMT-57\"/>\r\n      </g>\r\n     </g>\r\n    </g>\r\n    <g id=\"xtick_10\">\r\n     <g id=\"text_10\">\r\n      <!-- EX5431 -->\r\n      <g style=\"fill:#262626;\" transform=\"translate(341.427045 871.242812)rotate(-90)scale(0.11 -0.11)\">\r\n       <use xlink:href=\"#ArialMT-69\"/>\r\n       <use x=\"66.699219\" xlink:href=\"#ArialMT-88\"/>\r\n       <use x=\"133.398438\" xlink:href=\"#ArialMT-53\"/>\r\n       <use x=\"189.013672\" xlink:href=\"#ArialMT-52\"/>\r\n       <use x=\"244.628906\" xlink:href=\"#ArialMT-51\"/>\r\n       <use x=\"300.244141\" xlink:href=\"#ArialMT-49\"/>\r\n      </g>\r\n     </g>\r\n    </g>\r\n    <g id=\"xtick_11\">\r\n     <g id=\"text_11\">\r\n      <!-- EX5432 -->\r\n      <g style=\"fill:#262626;\" transform=\"translate(374.250574 871.242812)rotate(-90)scale(0.11 -0.11)\">\r\n       <use xlink:href=\"#ArialMT-69\"/>\r\n       <use x=\"66.699219\" xlink:href=\"#ArialMT-88\"/>\r\n       <use x=\"133.398438\" xlink:href=\"#ArialMT-53\"/>\r\n       <use x=\"189.013672\" xlink:href=\"#ArialMT-52\"/>\r\n       <use x=\"244.628906\" xlink:href=\"#ArialMT-51\"/>\r\n       <use x=\"300.244141\" xlink:href=\"#ArialMT-50\"/>\r\n      </g>\r\n     </g>\r\n    </g>\r\n    <g id=\"xtick_12\">\r\n     <g id=\"text_12\">\r\n      <!-- EX5433 -->\r\n      <g style=\"fill:#262626;\" transform=\"translate(407.074104 871.242812)rotate(-90)scale(0.11 -0.11)\">\r\n       <use xlink:href=\"#ArialMT-69\"/>\r\n       <use x=\"66.699219\" xlink:href=\"#ArialMT-88\"/>\r\n       <use x=\"133.398438\" xlink:href=\"#ArialMT-53\"/>\r\n       <use x=\"189.013672\" xlink:href=\"#ArialMT-52\"/>\r\n       <use x=\"244.628906\" xlink:href=\"#ArialMT-51\"/>\r\n       <use x=\"300.244141\" xlink:href=\"#ArialMT-51\"/>\r\n      </g>\r\n     </g>\r\n    </g>\r\n    <g id=\"xtick_13\">\r\n     <g id=\"text_13\">\r\n      <!-- EX5434 -->\r\n      <g style=\"fill:#262626;\" transform=\"translate(439.897633 871.242812)rotate(-90)scale(0.11 -0.11)\">\r\n       <use xlink:href=\"#ArialMT-69\"/>\r\n       <use x=\"66.699219\" xlink:href=\"#ArialMT-88\"/>\r\n       <use x=\"133.398438\" xlink:href=\"#ArialMT-53\"/>\r\n       <use x=\"189.013672\" xlink:href=\"#ArialMT-52\"/>\r\n       <use x=\"244.628906\" xlink:href=\"#ArialMT-51\"/>\r\n       <use x=\"300.244141\" xlink:href=\"#ArialMT-52\"/>\r\n      </g>\r\n     </g>\r\n    </g>\r\n    <g id=\"xtick_14\">\r\n     <g id=\"text_14\">\r\n      <!-- EX5435 -->\r\n      <g style=\"fill:#262626;\" transform=\"translate(472.721163 871.242812)rotate(-90)scale(0.11 -0.11)\">\r\n       <use xlink:href=\"#ArialMT-69\"/>\r\n       <use x=\"66.699219\" xlink:href=\"#ArialMT-88\"/>\r\n       <use x=\"133.398438\" xlink:href=\"#ArialMT-53\"/>\r\n       <use x=\"189.013672\" xlink:href=\"#ArialMT-52\"/>\r\n       <use x=\"244.628906\" xlink:href=\"#ArialMT-51\"/>\r\n       <use x=\"300.244141\" xlink:href=\"#ArialMT-53\"/>\r\n      </g>\r\n     </g>\r\n    </g>\r\n    <g id=\"xtick_15\">\r\n     <g id=\"text_15\">\r\n      <!-- EX5436 -->\r\n      <g style=\"fill:#262626;\" transform=\"translate(505.544692 871.242812)rotate(-90)scale(0.11 -0.11)\">\r\n       <use xlink:href=\"#ArialMT-69\"/>\r\n       <use x=\"66.699219\" xlink:href=\"#ArialMT-88\"/>\r\n       <use x=\"133.398438\" xlink:href=\"#ArialMT-53\"/>\r\n       <use x=\"189.013672\" xlink:href=\"#ArialMT-52\"/>\r\n       <use x=\"244.628906\" xlink:href=\"#ArialMT-51\"/>\r\n       <use x=\"300.244141\" xlink:href=\"#ArialMT-54\"/>\r\n      </g>\r\n     </g>\r\n    </g>\r\n    <g id=\"xtick_16\">\r\n     <g id=\"text_16\">\r\n      <!-- EX5437 -->\r\n      <g style=\"fill:#262626;\" transform=\"translate(538.368222 871.242812)rotate(-90)scale(0.11 -0.11)\">\r\n       <use xlink:href=\"#ArialMT-69\"/>\r\n       <use x=\"66.699219\" xlink:href=\"#ArialMT-88\"/>\r\n       <use x=\"133.398438\" xlink:href=\"#ArialMT-53\"/>\r\n       <use x=\"189.013672\" xlink:href=\"#ArialMT-52\"/>\r\n       <use x=\"244.628906\" xlink:href=\"#ArialMT-51\"/>\r\n       <use x=\"300.244141\" xlink:href=\"#ArialMT-55\"/>\r\n      </g>\r\n     </g>\r\n    </g>\r\n    <g id=\"xtick_17\">\r\n     <g id=\"text_17\">\r\n      <!-- EX5438 -->\r\n      <g style=\"fill:#262626;\" transform=\"translate(571.191751 871.242812)rotate(-90)scale(0.11 -0.11)\">\r\n       <use xlink:href=\"#ArialMT-69\"/>\r\n       <use x=\"66.699219\" xlink:href=\"#ArialMT-88\"/>\r\n       <use x=\"133.398438\" xlink:href=\"#ArialMT-53\"/>\r\n       <use x=\"189.013672\" xlink:href=\"#ArialMT-52\"/>\r\n       <use x=\"244.628906\" xlink:href=\"#ArialMT-51\"/>\r\n       <use x=\"300.244141\" xlink:href=\"#ArialMT-56\"/>\r\n      </g>\r\n     </g>\r\n    </g>\r\n    <g id=\"xtick_18\">\r\n     <g id=\"text_18\">\r\n      <!-- EX5441 -->\r\n      <g style=\"fill:#262626;\" transform=\"translate(604.01528 871.242812)rotate(-90)scale(0.11 -0.11)\">\r\n       <use xlink:href=\"#ArialMT-69\"/>\r\n       <use x=\"66.699219\" xlink:href=\"#ArialMT-88\"/>\r\n       <use x=\"133.398438\" xlink:href=\"#ArialMT-53\"/>\r\n       <use x=\"189.013672\" xlink:href=\"#ArialMT-52\"/>\r\n       <use x=\"244.628906\" xlink:href=\"#ArialMT-52\"/>\r\n       <use x=\"300.244141\" xlink:href=\"#ArialMT-49\"/>\r\n      </g>\r\n     </g>\r\n    </g>\r\n    <g id=\"xtick_19\">\r\n     <g id=\"text_19\">\r\n      <!-- EX5443 -->\r\n      <g style=\"fill:#262626;\" transform=\"translate(636.83881 871.242812)rotate(-90)scale(0.11 -0.11)\">\r\n       <use xlink:href=\"#ArialMT-69\"/>\r\n       <use x=\"66.699219\" xlink:href=\"#ArialMT-88\"/>\r\n       <use x=\"133.398438\" xlink:href=\"#ArialMT-53\"/>\r\n       <use x=\"189.013672\" xlink:href=\"#ArialMT-52\"/>\r\n       <use x=\"244.628906\" xlink:href=\"#ArialMT-52\"/>\r\n       <use x=\"300.244141\" xlink:href=\"#ArialMT-51\"/>\r\n      </g>\r\n     </g>\r\n    </g>\r\n    <g id=\"xtick_20\">\r\n     <g id=\"text_20\">\r\n      <!-- EX5445 -->\r\n      <g style=\"fill:#262626;\" transform=\"translate(669.662339 871.242812)rotate(-90)scale(0.11 -0.11)\">\r\n       <use xlink:href=\"#ArialMT-69\"/>\r\n       <use x=\"66.699219\" xlink:href=\"#ArialMT-88\"/>\r\n       <use x=\"133.398438\" xlink:href=\"#ArialMT-53\"/>\r\n       <use x=\"189.013672\" xlink:href=\"#ArialMT-52\"/>\r\n       <use x=\"244.628906\" xlink:href=\"#ArialMT-52\"/>\r\n       <use x=\"300.244141\" xlink:href=\"#ArialMT-53\"/>\r\n      </g>\r\n     </g>\r\n    </g>\r\n    <g id=\"xtick_21\">\r\n     <g id=\"text_21\">\r\n      <!-- EX5526 -->\r\n      <g style=\"fill:#262626;\" transform=\"translate(702.485869 871.242812)rotate(-90)scale(0.11 -0.11)\">\r\n       <use xlink:href=\"#ArialMT-69\"/>\r\n       <use x=\"66.699219\" xlink:href=\"#ArialMT-88\"/>\r\n       <use x=\"133.398438\" xlink:href=\"#ArialMT-53\"/>\r\n       <use x=\"189.013672\" xlink:href=\"#ArialMT-53\"/>\r\n       <use x=\"244.628906\" xlink:href=\"#ArialMT-50\"/>\r\n       <use x=\"300.244141\" xlink:href=\"#ArialMT-54\"/>\r\n      </g>\r\n     </g>\r\n    </g>\r\n    <g id=\"xtick_22\">\r\n     <g id=\"text_22\">\r\n      <!-- EX5527 -->\r\n      <g style=\"fill:#262626;\" transform=\"translate(735.309398 871.242812)rotate(-90)scale(0.11 -0.11)\">\r\n       <use xlink:href=\"#ArialMT-69\"/>\r\n       <use x=\"66.699219\" xlink:href=\"#ArialMT-88\"/>\r\n       <use x=\"133.398438\" xlink:href=\"#ArialMT-53\"/>\r\n       <use x=\"189.013672\" xlink:href=\"#ArialMT-53\"/>\r\n       <use x=\"244.628906\" xlink:href=\"#ArialMT-50\"/>\r\n       <use x=\"300.244141\" xlink:href=\"#ArialMT-55\"/>\r\n      </g>\r\n     </g>\r\n    </g>\r\n    <g id=\"xtick_23\">\r\n     <g id=\"text_23\">\r\n      <!-- EX5528 -->\r\n      <g style=\"fill:#262626;\" transform=\"translate(768.132927 871.242812)rotate(-90)scale(0.11 -0.11)\">\r\n       <use xlink:href=\"#ArialMT-69\"/>\r\n       <use x=\"66.699219\" xlink:href=\"#ArialMT-88\"/>\r\n       <use x=\"133.398438\" xlink:href=\"#ArialMT-53\"/>\r\n       <use x=\"189.013672\" xlink:href=\"#ArialMT-53\"/>\r\n       <use x=\"244.628906\" xlink:href=\"#ArialMT-50\"/>\r\n       <use x=\"300.244141\" xlink:href=\"#ArialMT-56\"/>\r\n      </g>\r\n     </g>\r\n    </g>\r\n    <g id=\"xtick_24\">\r\n     <g id=\"text_24\">\r\n      <!-- EX5529 -->\r\n      <g style=\"fill:#262626;\" transform=\"translate(800.956457 871.242812)rotate(-90)scale(0.11 -0.11)\">\r\n       <use xlink:href=\"#ArialMT-69\"/>\r\n       <use x=\"66.699219\" xlink:href=\"#ArialMT-88\"/>\r\n       <use x=\"133.398438\" xlink:href=\"#ArialMT-53\"/>\r\n       <use x=\"189.013672\" xlink:href=\"#ArialMT-53\"/>\r\n       <use x=\"244.628906\" xlink:href=\"#ArialMT-50\"/>\r\n       <use x=\"300.244141\" xlink:href=\"#ArialMT-57\"/>\r\n      </g>\r\n     </g>\r\n    </g>\r\n    <g id=\"xtick_25\">\r\n     <g id=\"text_25\">\r\n      <!-- EX5530 -->\r\n      <g style=\"fill:#262626;\" transform=\"translate(833.779986 871.242812)rotate(-90)scale(0.11 -0.11)\">\r\n       <defs>\r\n        <path d=\"M 4.15625 35.296875 \r\nQ 4.15625 48 6.765625 55.734375 \r\nQ 9.375 63.484375 14.515625 67.671875 \r\nQ 19.671875 71.875 27.484375 71.875 \r\nQ 33.25 71.875 37.59375 69.546875 \r\nQ 41.9375 67.234375 44.765625 62.859375 \r\nQ 47.609375 58.5 49.21875 52.21875 \r\nQ 50.828125 45.953125 50.828125 35.296875 \r\nQ 50.828125 22.703125 48.234375 14.96875 \r\nQ 45.65625 7.234375 40.5 3 \r\nQ 35.359375 -1.21875 27.484375 -1.21875 \r\nQ 17.140625 -1.21875 11.234375 6.203125 \r\nQ 4.15625 15.140625 4.15625 35.296875 \r\nz\r\nM 13.1875 35.296875 \r\nQ 13.1875 17.671875 17.3125 11.828125 \r\nQ 21.4375 6 27.484375 6 \r\nQ 33.546875 6 37.671875 11.859375 \r\nQ 41.796875 17.71875 41.796875 35.296875 \r\nQ 41.796875 52.984375 37.671875 58.78125 \r\nQ 33.546875 64.59375 27.390625 64.59375 \r\nQ 21.34375 64.59375 17.71875 59.46875 \r\nQ 13.1875 52.9375 13.1875 35.296875 \r\nz\r\n\" id=\"ArialMT-48\"/>\r\n       </defs>\r\n       <use xlink:href=\"#ArialMT-69\"/>\r\n       <use x=\"66.699219\" xlink:href=\"#ArialMT-88\"/>\r\n       <use x=\"133.398438\" xlink:href=\"#ArialMT-53\"/>\r\n       <use x=\"189.013672\" xlink:href=\"#ArialMT-53\"/>\r\n       <use x=\"244.628906\" xlink:href=\"#ArialMT-51\"/>\r\n       <use x=\"300.244141\" xlink:href=\"#ArialMT-48\"/>\r\n      </g>\r\n     </g>\r\n    </g>\r\n    <g id=\"xtick_26\">\r\n     <g id=\"text_26\">\r\n      <!-- EX5531 -->\r\n      <g style=\"fill:#262626;\" transform=\"translate(866.603516 871.242812)rotate(-90)scale(0.11 -0.11)\">\r\n       <use xlink:href=\"#ArialMT-69\"/>\r\n       <use x=\"66.699219\" xlink:href=\"#ArialMT-88\"/>\r\n       <use x=\"133.398438\" xlink:href=\"#ArialMT-53\"/>\r\n       <use x=\"189.013672\" xlink:href=\"#ArialMT-53\"/>\r\n       <use x=\"244.628906\" xlink:href=\"#ArialMT-51\"/>\r\n       <use x=\"300.244141\" xlink:href=\"#ArialMT-49\"/>\r\n      </g>\r\n     </g>\r\n    </g>\r\n    <g id=\"xtick_27\">\r\n     <g id=\"text_27\">\r\n      <!-- EX5533 -->\r\n      <g style=\"fill:#262626;\" transform=\"translate(899.427045 871.242812)rotate(-90)scale(0.11 -0.11)\">\r\n       <use xlink:href=\"#ArialMT-69\"/>\r\n       <use x=\"66.699219\" xlink:href=\"#ArialMT-88\"/>\r\n       <use x=\"133.398438\" xlink:href=\"#ArialMT-53\"/>\r\n       <use x=\"189.013672\" xlink:href=\"#ArialMT-53\"/>\r\n       <use x=\"244.628906\" xlink:href=\"#ArialMT-51\"/>\r\n       <use x=\"300.244141\" xlink:href=\"#ArialMT-51\"/>\r\n      </g>\r\n     </g>\r\n    </g>\r\n    <g id=\"xtick_28\">\r\n     <g id=\"text_28\">\r\n      <!-- EX5539 -->\r\n      <g style=\"fill:#262626;\" transform=\"translate(932.250574 871.242812)rotate(-90)scale(0.11 -0.11)\">\r\n       <use xlink:href=\"#ArialMT-69\"/>\r\n       <use x=\"66.699219\" xlink:href=\"#ArialMT-88\"/>\r\n       <use x=\"133.398438\" xlink:href=\"#ArialMT-53\"/>\r\n       <use x=\"189.013672\" xlink:href=\"#ArialMT-53\"/>\r\n       <use x=\"244.628906\" xlink:href=\"#ArialMT-51\"/>\r\n       <use x=\"300.244141\" xlink:href=\"#ArialMT-57\"/>\r\n      </g>\r\n     </g>\r\n    </g>\r\n    <g id=\"xtick_29\">\r\n     <g id=\"text_29\">\r\n      <!-- EX5540 -->\r\n      <g style=\"fill:#262626;\" transform=\"translate(965.074104 871.242812)rotate(-90)scale(0.11 -0.11)\">\r\n       <use xlink:href=\"#ArialMT-69\"/>\r\n       <use x=\"66.699219\" xlink:href=\"#ArialMT-88\"/>\r\n       <use x=\"133.398438\" xlink:href=\"#ArialMT-53\"/>\r\n       <use x=\"189.013672\" xlink:href=\"#ArialMT-53\"/>\r\n       <use x=\"244.628906\" xlink:href=\"#ArialMT-52\"/>\r\n       <use x=\"300.244141\" xlink:href=\"#ArialMT-48\"/>\r\n      </g>\r\n     </g>\r\n    </g>\r\n    <g id=\"xtick_30\">\r\n     <g id=\"text_30\">\r\n      <!-- EX5541 -->\r\n      <g style=\"fill:#262626;\" transform=\"translate(997.897633 871.242812)rotate(-90)scale(0.11 -0.11)\">\r\n       <use xlink:href=\"#ArialMT-69\"/>\r\n       <use x=\"66.699219\" xlink:href=\"#ArialMT-88\"/>\r\n       <use x=\"133.398438\" xlink:href=\"#ArialMT-53\"/>\r\n       <use x=\"189.013672\" xlink:href=\"#ArialMT-53\"/>\r\n       <use x=\"244.628906\" xlink:href=\"#ArialMT-52\"/>\r\n       <use x=\"300.244141\" xlink:href=\"#ArialMT-49\"/>\r\n      </g>\r\n     </g>\r\n    </g>\r\n    <g id=\"xtick_31\">\r\n     <g id=\"text_31\">\r\n      <!-- EX5542 -->\r\n      <g style=\"fill:#262626;\" transform=\"translate(1030.721163 871.242812)rotate(-90)scale(0.11 -0.11)\">\r\n       <use xlink:href=\"#ArialMT-69\"/>\r\n       <use x=\"66.699219\" xlink:href=\"#ArialMT-88\"/>\r\n       <use x=\"133.398438\" xlink:href=\"#ArialMT-53\"/>\r\n       <use x=\"189.013672\" xlink:href=\"#ArialMT-53\"/>\r\n       <use x=\"244.628906\" xlink:href=\"#ArialMT-52\"/>\r\n       <use x=\"300.244141\" xlink:href=\"#ArialMT-50\"/>\r\n      </g>\r\n     </g>\r\n    </g>\r\n    <g id=\"xtick_32\">\r\n     <g id=\"text_32\">\r\n      <!-- EX5544 -->\r\n      <g style=\"fill:#262626;\" transform=\"translate(1063.544692 871.242812)rotate(-90)scale(0.11 -0.11)\">\r\n       <use xlink:href=\"#ArialMT-69\"/>\r\n       <use x=\"66.699219\" xlink:href=\"#ArialMT-88\"/>\r\n       <use x=\"133.398438\" xlink:href=\"#ArialMT-53\"/>\r\n       <use x=\"189.013672\" xlink:href=\"#ArialMT-53\"/>\r\n       <use x=\"244.628906\" xlink:href=\"#ArialMT-52\"/>\r\n       <use x=\"300.244141\" xlink:href=\"#ArialMT-52\"/>\r\n      </g>\r\n     </g>\r\n    </g>\r\n    <g id=\"xtick_33\">\r\n     <g id=\"text_33\">\r\n      <!-- EX5545 -->\r\n      <g style=\"fill:#262626;\" transform=\"translate(1096.368222 871.242812)rotate(-90)scale(0.11 -0.11)\">\r\n       <use xlink:href=\"#ArialMT-69\"/>\r\n       <use x=\"66.699219\" xlink:href=\"#ArialMT-88\"/>\r\n       <use x=\"133.398438\" xlink:href=\"#ArialMT-53\"/>\r\n       <use x=\"189.013672\" xlink:href=\"#ArialMT-53\"/>\r\n       <use x=\"244.628906\" xlink:href=\"#ArialMT-52\"/>\r\n       <use x=\"300.244141\" xlink:href=\"#ArialMT-53\"/>\r\n      </g>\r\n     </g>\r\n    </g>\r\n    <g id=\"xtick_34\">\r\n     <g id=\"text_34\">\r\n      <!-- EX5555 -->\r\n      <g style=\"fill:#262626;\" transform=\"translate(1129.191751 871.242812)rotate(-90)scale(0.11 -0.11)\">\r\n       <use xlink:href=\"#ArialMT-69\"/>\r\n       <use x=\"66.699219\" xlink:href=\"#ArialMT-88\"/>\r\n       <use x=\"133.398438\" xlink:href=\"#ArialMT-53\"/>\r\n       <use x=\"189.013672\" xlink:href=\"#ArialMT-53\"/>\r\n       <use x=\"244.628906\" xlink:href=\"#ArialMT-53\"/>\r\n       <use x=\"300.244141\" xlink:href=\"#ArialMT-53\"/>\r\n      </g>\r\n     </g>\r\n    </g>\r\n   </g>\r\n   <g id=\"matplotlib.axis_2\">\r\n    <g id=\"ytick_1\">\r\n     <g id=\"text_35\">\r\n      <!-- 0 -->\r\n      <g style=\"fill:#262626;\" transform=\"translate(15.073594 25.688234)rotate(-90)scale(0.11 -0.11)\">\r\n       <use xlink:href=\"#ArialMT-48\"/>\r\n      </g>\r\n     </g>\r\n    </g>\r\n    <g id=\"ytick_2\">\r\n     <g id=\"text_36\">\r\n      <!-- 1 -->\r\n      <g style=\"fill:#262626;\" transform=\"translate(15.073594 58.304234)rotate(-90)scale(0.11 -0.11)\">\r\n       <use xlink:href=\"#ArialMT-49\"/>\r\n      </g>\r\n     </g>\r\n    </g>\r\n    <g id=\"ytick_3\">\r\n     <g id=\"text_37\">\r\n      <!-- 2 -->\r\n      <g style=\"fill:#262626;\" transform=\"translate(15.073594 90.920234)rotate(-90)scale(0.11 -0.11)\">\r\n       <use xlink:href=\"#ArialMT-50\"/>\r\n      </g>\r\n     </g>\r\n    </g>\r\n    <g id=\"ytick_4\">\r\n     <g id=\"text_38\">\r\n      <!-- 3 -->\r\n      <g style=\"fill:#262626;\" transform=\"translate(15.073594 123.536234)rotate(-90)scale(0.11 -0.11)\">\r\n       <use xlink:href=\"#ArialMT-51\"/>\r\n      </g>\r\n     </g>\r\n    </g>\r\n    <g id=\"ytick_5\">\r\n     <g id=\"text_39\">\r\n      <!-- 4 -->\r\n      <g style=\"fill:#262626;\" transform=\"translate(15.073594 156.152234)rotate(-90)scale(0.11 -0.11)\">\r\n       <use xlink:href=\"#ArialMT-52\"/>\r\n      </g>\r\n     </g>\r\n    </g>\r\n    <g id=\"ytick_6\">\r\n     <g id=\"text_40\">\r\n      <!-- 5 -->\r\n      <g style=\"fill:#262626;\" transform=\"translate(15.073594 188.768234)rotate(-90)scale(0.11 -0.11)\">\r\n       <use xlink:href=\"#ArialMT-53\"/>\r\n      </g>\r\n     </g>\r\n    </g>\r\n    <g id=\"ytick_7\">\r\n     <g id=\"text_41\">\r\n      <!-- 6 -->\r\n      <g style=\"fill:#262626;\" transform=\"translate(15.073594 221.384234)rotate(-90)scale(0.11 -0.11)\">\r\n       <use xlink:href=\"#ArialMT-54\"/>\r\n      </g>\r\n     </g>\r\n    </g>\r\n    <g id=\"ytick_8\">\r\n     <g id=\"text_42\">\r\n      <!-- 7 -->\r\n      <g style=\"fill:#262626;\" transform=\"translate(15.073594 254.000234)rotate(-90)scale(0.11 -0.11)\">\r\n       <use xlink:href=\"#ArialMT-55\"/>\r\n      </g>\r\n     </g>\r\n    </g>\r\n    <g id=\"ytick_9\">\r\n     <g id=\"text_43\">\r\n      <!-- 8 -->\r\n      <g style=\"fill:#262626;\" transform=\"translate(15.073594 286.616234)rotate(-90)scale(0.11 -0.11)\">\r\n       <use xlink:href=\"#ArialMT-56\"/>\r\n      </g>\r\n     </g>\r\n    </g>\r\n    <g id=\"ytick_10\">\r\n     <g id=\"text_44\">\r\n      <!-- 9 -->\r\n      <g style=\"fill:#262626;\" transform=\"translate(15.073594 319.232234)rotate(-90)scale(0.11 -0.11)\">\r\n       <use xlink:href=\"#ArialMT-57\"/>\r\n      </g>\r\n     </g>\r\n    </g>\r\n    <g id=\"ytick_11\">\r\n     <g id=\"text_45\">\r\n      <!-- 10 -->\r\n      <g style=\"fill:#262626;\" transform=\"translate(15.073594 357.965266)rotate(-90)scale(0.11 -0.11)\">\r\n       <use xlink:href=\"#ArialMT-49\"/>\r\n       <use x=\"55.615234\" xlink:href=\"#ArialMT-48\"/>\r\n      </g>\r\n     </g>\r\n    </g>\r\n    <g id=\"ytick_12\">\r\n     <g id=\"text_46\">\r\n      <!-- 11 -->\r\n      <g style=\"fill:#262626;\" transform=\"translate(15.073594 389.770016)rotate(-90)scale(0.11 -0.11)\">\r\n       <use xlink:href=\"#ArialMT-49\"/>\r\n       <use x=\"48.240234\" xlink:href=\"#ArialMT-49\"/>\r\n      </g>\r\n     </g>\r\n    </g>\r\n    <g id=\"ytick_13\">\r\n     <g id=\"text_47\">\r\n      <!-- 12 -->\r\n      <g style=\"fill:#262626;\" transform=\"translate(15.073594 423.197266)rotate(-90)scale(0.11 -0.11)\">\r\n       <use xlink:href=\"#ArialMT-49\"/>\r\n       <use x=\"55.615234\" xlink:href=\"#ArialMT-50\"/>\r\n      </g>\r\n     </g>\r\n    </g>\r\n    <g id=\"ytick_14\">\r\n     <g id=\"text_48\">\r\n      <!-- 13 -->\r\n      <g style=\"fill:#262626;\" transform=\"translate(15.073594 455.813266)rotate(-90)scale(0.11 -0.11)\">\r\n       <use xlink:href=\"#ArialMT-49\"/>\r\n       <use x=\"55.615234\" xlink:href=\"#ArialMT-51\"/>\r\n      </g>\r\n     </g>\r\n    </g>\r\n    <g id=\"ytick_15\">\r\n     <g id=\"text_49\">\r\n      <!-- 14 -->\r\n      <g style=\"fill:#262626;\" transform=\"translate(15.073594 488.429266)rotate(-90)scale(0.11 -0.11)\">\r\n       <use xlink:href=\"#ArialMT-49\"/>\r\n       <use x=\"55.615234\" xlink:href=\"#ArialMT-52\"/>\r\n      </g>\r\n     </g>\r\n    </g>\r\n    <g id=\"ytick_16\">\r\n     <g id=\"text_50\">\r\n      <!-- 15 -->\r\n      <g style=\"fill:#262626;\" transform=\"translate(15.073594 521.045266)rotate(-90)scale(0.11 -0.11)\">\r\n       <use xlink:href=\"#ArialMT-49\"/>\r\n       <use x=\"55.615234\" xlink:href=\"#ArialMT-53\"/>\r\n      </g>\r\n     </g>\r\n    </g>\r\n    <g id=\"ytick_17\">\r\n     <g id=\"text_51\">\r\n      <!-- 16 -->\r\n      <g style=\"fill:#262626;\" transform=\"translate(15.073594 553.661266)rotate(-90)scale(0.11 -0.11)\">\r\n       <use xlink:href=\"#ArialMT-49\"/>\r\n       <use x=\"55.615234\" xlink:href=\"#ArialMT-54\"/>\r\n      </g>\r\n     </g>\r\n    </g>\r\n    <g id=\"ytick_18\">\r\n     <g id=\"text_52\">\r\n      <!-- 17 -->\r\n      <g style=\"fill:#262626;\" transform=\"translate(15.073594 586.277266)rotate(-90)scale(0.11 -0.11)\">\r\n       <use xlink:href=\"#ArialMT-49\"/>\r\n       <use x=\"55.615234\" xlink:href=\"#ArialMT-55\"/>\r\n      </g>\r\n     </g>\r\n    </g>\r\n    <g id=\"ytick_19\">\r\n     <g id=\"text_53\">\r\n      <!-- 18 -->\r\n      <g style=\"fill:#262626;\" transform=\"translate(15.073594 618.893266)rotate(-90)scale(0.11 -0.11)\">\r\n       <use xlink:href=\"#ArialMT-49\"/>\r\n       <use x=\"55.615234\" xlink:href=\"#ArialMT-56\"/>\r\n      </g>\r\n     </g>\r\n    </g>\r\n    <g id=\"ytick_20\">\r\n     <g id=\"text_54\">\r\n      <!-- 19 -->\r\n      <g style=\"fill:#262626;\" transform=\"translate(15.073594 651.509266)rotate(-90)scale(0.11 -0.11)\">\r\n       <use xlink:href=\"#ArialMT-49\"/>\r\n       <use x=\"55.615234\" xlink:href=\"#ArialMT-57\"/>\r\n      </g>\r\n     </g>\r\n    </g>\r\n    <g id=\"ytick_21\">\r\n     <g id=\"text_55\">\r\n      <!-- 20 -->\r\n      <g style=\"fill:#262626;\" transform=\"translate(15.073594 684.125266)rotate(-90)scale(0.11 -0.11)\">\r\n       <use xlink:href=\"#ArialMT-50\"/>\r\n       <use x=\"55.615234\" xlink:href=\"#ArialMT-48\"/>\r\n      </g>\r\n     </g>\r\n    </g>\r\n    <g id=\"ytick_22\">\r\n     <g id=\"text_56\">\r\n      <!-- 21 -->\r\n      <g style=\"fill:#262626;\" transform=\"translate(15.073594 716.741266)rotate(-90)scale(0.11 -0.11)\">\r\n       <use xlink:href=\"#ArialMT-50\"/>\r\n       <use x=\"55.615234\" xlink:href=\"#ArialMT-49\"/>\r\n      </g>\r\n     </g>\r\n    </g>\r\n    <g id=\"ytick_23\">\r\n     <g id=\"text_57\">\r\n      <!-- 22 -->\r\n      <g style=\"fill:#262626;\" transform=\"translate(15.073594 749.357266)rotate(-90)scale(0.11 -0.11)\">\r\n       <use xlink:href=\"#ArialMT-50\"/>\r\n       <use x=\"55.615234\" xlink:href=\"#ArialMT-50\"/>\r\n      </g>\r\n     </g>\r\n    </g>\r\n    <g id=\"ytick_24\">\r\n     <g id=\"text_58\">\r\n      <!-- 23 -->\r\n      <g style=\"fill:#262626;\" transform=\"translate(15.073594 781.973266)rotate(-90)scale(0.11 -0.11)\">\r\n       <use xlink:href=\"#ArialMT-50\"/>\r\n       <use x=\"55.615234\" xlink:href=\"#ArialMT-51\"/>\r\n      </g>\r\n     </g>\r\n    </g>\r\n    <g id=\"ytick_25\">\r\n     <g id=\"text_59\">\r\n      <!-- 24 -->\r\n      <g style=\"fill:#262626;\" transform=\"translate(15.073594 814.589266)rotate(-90)scale(0.11 -0.11)\">\r\n       <use xlink:href=\"#ArialMT-50\"/>\r\n       <use x=\"55.615234\" xlink:href=\"#ArialMT-52\"/>\r\n      </g>\r\n     </g>\r\n    </g>\r\n   </g>\r\n   <g id=\"QuadMesh_1\">\r\n    <path clip-path=\"url(#p88245d997b)\" d=\"M 26.759844 7.2 \r\nL 59.583373 7.2 \r\nL 59.583373 39.816 \r\nL 26.759844 39.816 \r\nL 26.759844 7.2 \r\n\" style=\"fill:#ffa700;\"/>\r\n    <path clip-path=\"url(#p88245d997b)\" d=\"M 59.583373 7.2 \r\nL 92.406903 7.2 \r\nL 92.406903 39.816 \r\nL 59.583373 39.816 \r\nL 59.583373 7.2 \r\n\" style=\"fill:#ff5d00;\"/>\r\n    <path clip-path=\"url(#p88245d997b)\" d=\"M 92.406903 7.2 \r\nL 125.230432 7.2 \r\nL 125.230432 39.816 \r\nL 92.406903 39.816 \r\nL 92.406903 7.2 \r\n\" style=\"fill:#ff4700;\"/>\r\n    <path clip-path=\"url(#p88245d997b)\" d=\"M 125.230432 7.2 \r\nL 158.053961 7.2 \r\nL 158.053961 39.816 \r\nL 125.230432 39.816 \r\nL 125.230432 7.2 \r\n\" style=\"fill:#ff4e00;\"/>\r\n    <path clip-path=\"url(#p88245d997b)\" d=\"M 158.053961 7.2 \r\nL 190.877491 7.2 \r\nL 190.877491 39.816 \r\nL 158.053961 39.816 \r\nL 158.053961 7.2 \r\n\" style=\"fill:#ff5200;\"/>\r\n    <path clip-path=\"url(#p88245d997b)\" d=\"M 190.877491 7.2 \r\nL 223.70102 7.2 \r\nL 223.70102 39.816 \r\nL 190.877491 39.816 \r\nL 190.877491 7.2 \r\n\" style=\"fill:#ff7e00;\"/>\r\n    <path clip-path=\"url(#p88245d997b)\" d=\"M 223.70102 7.2 \r\nL 256.52455 7.2 \r\nL 256.52455 39.816 \r\nL 223.70102 39.816 \r\nL 223.70102 7.2 \r\n\" style=\"fill:#ff5d00;\"/>\r\n    <path clip-path=\"url(#p88245d997b)\" d=\"M 256.52455 7.2 \r\nL 289.348079 7.2 \r\nL 289.348079 39.816 \r\nL 256.52455 39.816 \r\nL 256.52455 7.2 \r\n\" style=\"fill:#8d0000;\"/>\r\n    <path clip-path=\"url(#p88245d997b)\" d=\"M 289.348079 7.2 \r\nL 322.171608 7.2 \r\nL 322.171608 39.816 \r\nL 289.348079 39.816 \r\nL 289.348079 7.2 \r\n\" style=\"fill:#cd0000;\"/>\r\n    <path clip-path=\"url(#p88245d997b)\" d=\"M 322.171608 7.2 \r\nL 354.995138 7.2 \r\nL 354.995138 39.816 \r\nL 322.171608 39.816 \r\nL 322.171608 7.2 \r\n\" style=\"fill:#b20000;\"/>\r\n    <path clip-path=\"url(#p88245d997b)\" d=\"M 354.995138 7.2 \r\nL 387.818667 7.2 \r\nL 387.818667 39.816 \r\nL 354.995138 39.816 \r\nL 354.995138 7.2 \r\n\" style=\"fill:#df0000;\"/>\r\n    <path clip-path=\"url(#p88245d997b)\" d=\"M 387.818667 7.2 \r\nL 420.642197 7.2 \r\nL 420.642197 39.816 \r\nL 387.818667 39.816 \r\nL 387.818667 7.2 \r\n\" style=\"fill:#a40000;\"/>\r\n    <path clip-path=\"url(#p88245d997b)\" d=\"M 420.642197 7.2 \r\nL 453.465726 7.2 \r\nL 453.465726 39.816 \r\nL 420.642197 39.816 \r\nL 420.642197 7.2 \r\n\" style=\"fill:#a40000;\"/>\r\n    <path clip-path=\"url(#p88245d997b)\" d=\"M 453.465726 7.2 \r\nL 486.289256 7.2 \r\nL 486.289256 39.816 \r\nL 453.465726 39.816 \r\nL 453.465726 7.2 \r\n\" style=\"fill:#c80000;\"/>\r\n    <path clip-path=\"url(#p88245d997b)\" d=\"M 486.289256 7.2 \r\nL 519.112785 7.2 \r\nL 519.112785 39.816 \r\nL 486.289256 39.816 \r\nL 486.289256 7.2 \r\n\" style=\"fill:#a40000;\"/>\r\n    <path clip-path=\"url(#p88245d997b)\" d=\"M 519.112785 7.2 \r\nL 551.936314 7.2 \r\nL 551.936314 39.816 \r\nL 519.112785 39.816 \r\nL 519.112785 7.2 \r\n\" style=\"fill:#da0000;\"/>\r\n    <path clip-path=\"url(#p88245d997b)\" d=\"M 551.936314 7.2 \r\nL 584.759844 7.2 \r\nL 584.759844 39.816 \r\nL 551.936314 39.816 \r\nL 551.936314 7.2 \r\n\" style=\"fill:#b60000;\"/>\r\n    <path clip-path=\"url(#p88245d997b)\" d=\"M 584.759844 7.2 \r\nL 617.583373 7.2 \r\nL 617.583373 39.816 \r\nL 584.759844 39.816 \r\nL 584.759844 7.2 \r\n\" style=\"fill:#c80000;\"/>\r\n    <path clip-path=\"url(#p88245d997b)\" d=\"M 617.583373 7.2 \r\nL 650.406903 7.2 \r\nL 650.406903 39.816 \r\nL 617.583373 39.816 \r\nL 617.583373 7.2 \r\n\" style=\"fill:#800000;\"/>\r\n    <path clip-path=\"url(#p88245d997b)\" d=\"M 650.406903 7.2 \r\nL 683.230432 7.2 \r\nL 683.230432 39.816 \r\nL 650.406903 39.816 \r\nL 650.406903 7.2 \r\n\" style=\"fill:#8d0000;\"/>\r\n    <path clip-path=\"url(#p88245d997b)\" d=\"M 683.230432 7.2 \r\nL 716.053961 7.2 \r\nL 716.053961 39.816 \r\nL 683.230432 39.816 \r\nL 683.230432 7.2 \r\n\" style=\"fill:#005cff;\"/>\r\n    <path clip-path=\"url(#p88245d997b)\" d=\"M 716.053961 7.2 \r\nL 748.877491 7.2 \r\nL 748.877491 39.816 \r\nL 716.053961 39.816 \r\nL 716.053961 7.2 \r\n\" style=\"fill:#005cff;\"/>\r\n    <path clip-path=\"url(#p88245d997b)\" d=\"M 748.877491 7.2 \r\nL 781.70102 7.2 \r\nL 781.70102 39.816 \r\nL 748.877491 39.816 \r\nL 748.877491 7.2 \r\n\" style=\"fill:#0064ff;\"/>\r\n    <path clip-path=\"url(#p88245d997b)\" d=\"M 781.70102 7.2 \r\nL 814.52455 7.2 \r\nL 814.52455 39.816 \r\nL 781.70102 39.816 \r\nL 781.70102 7.2 \r\n\" style=\"fill:#0064ff;\"/>\r\n    <path clip-path=\"url(#p88245d997b)\" d=\"M 814.52455 7.2 \r\nL 847.348079 7.2 \r\nL 847.348079 39.816 \r\nL 814.52455 39.816 \r\nL 814.52455 7.2 \r\n\" style=\"fill:#0060ff;\"/>\r\n    <path clip-path=\"url(#p88245d997b)\" d=\"M 847.348079 7.2 \r\nL 880.171608 7.2 \r\nL 880.171608 39.816 \r\nL 847.348079 39.816 \r\nL 847.348079 7.2 \r\n\" style=\"fill:#005cff;\"/>\r\n    <path clip-path=\"url(#p88245d997b)\" d=\"M 880.171608 7.2 \r\nL 912.995138 7.2 \r\nL 912.995138 39.816 \r\nL 880.171608 39.816 \r\nL 880.171608 7.2 \r\n\" style=\"fill:#0068ff;\"/>\r\n    <path clip-path=\"url(#p88245d997b)\" d=\"M 912.995138 7.2 \r\nL 945.818667 7.2 \r\nL 945.818667 39.816 \r\nL 912.995138 39.816 \r\nL 912.995138 7.2 \r\n\" style=\"fill:#0064ff;\"/>\r\n    <path clip-path=\"url(#p88245d997b)\" d=\"M 945.818667 7.2 \r\nL 978.642197 7.2 \r\nL 978.642197 39.816 \r\nL 945.818667 39.816 \r\nL 945.818667 7.2 \r\n\" style=\"fill:#0064ff;\"/>\r\n    <path clip-path=\"url(#p88245d997b)\" d=\"M 978.642197 7.2 \r\nL 1011.465726 7.2 \r\nL 1011.465726 39.816 \r\nL 978.642197 39.816 \r\nL 978.642197 7.2 \r\n\" style=\"fill:#0064ff;\"/>\r\n    <path clip-path=\"url(#p88245d997b)\" d=\"M 1011.465726 7.2 \r\nL 1044.289256 7.2 \r\nL 1044.289256 39.816 \r\nL 1011.465726 39.816 \r\nL 1011.465726 7.2 \r\n\" style=\"fill:#0058ff;\"/>\r\n    <path clip-path=\"url(#p88245d997b)\" d=\"M 1044.289256 7.2 \r\nL 1077.112785 7.2 \r\nL 1077.112785 39.816 \r\nL 1044.289256 39.816 \r\nL 1044.289256 7.2 \r\n\" style=\"fill:#0058ff;\"/>\r\n    <path clip-path=\"url(#p88245d997b)\" d=\"M 1077.112785 7.2 \r\nL 1109.936314 7.2 \r\nL 1109.936314 39.816 \r\nL 1077.112785 39.816 \r\nL 1077.112785 7.2 \r\n\" style=\"fill:#0064ff;\"/>\r\n    <path clip-path=\"url(#p88245d997b)\" d=\"M 1109.936314 7.2 \r\nL 1142.759844 7.2 \r\nL 1142.759844 39.816 \r\nL 1109.936314 39.816 \r\nL 1109.936314 7.2 \r\n\" style=\"fill:#005cff;\"/>\r\n    <path clip-path=\"url(#p88245d997b)\" d=\"M 26.759844 39.816 \r\nL 59.583373 39.816 \r\nL 59.583373 72.432 \r\nL 26.759844 72.432 \r\nL 26.759844 39.816 \r\n\" style=\"fill:#baff3c;\"/>\r\n    <path clip-path=\"url(#p88245d997b)\" d=\"M 59.583373 39.816 \r\nL 92.406903 39.816 \r\nL 92.406903 72.432 \r\nL 59.583373 72.432 \r\nL 59.583373 39.816 \r\n\" style=\"fill:#c4ff33;\"/>\r\n    <path clip-path=\"url(#p88245d997b)\" d=\"M 92.406903 39.816 \r\nL 125.230432 39.816 \r\nL 125.230432 72.432 \r\nL 92.406903 72.432 \r\nL 92.406903 39.816 \r\n\" style=\"fill:#c7ff30;\"/>\r\n    <path clip-path=\"url(#p88245d997b)\" d=\"M 125.230432 39.816 \r\nL 158.053961 39.816 \r\nL 158.053961 72.432 \r\nL 125.230432 72.432 \r\nL 125.230432 39.816 \r\n\" style=\"fill:#e1ff16;\"/>\r\n    <path clip-path=\"url(#p88245d997b)\" d=\"M 158.053961 39.816 \r\nL 190.877491 39.816 \r\nL 190.877491 72.432 \r\nL 158.053961 72.432 \r\nL 158.053961 39.816 \r\n\" style=\"fill:#ffea00;\"/>\r\n    <path clip-path=\"url(#p88245d997b)\" d=\"M 190.877491 39.816 \r\nL 223.70102 39.816 \r\nL 223.70102 72.432 \r\nL 190.877491 72.432 \r\nL 190.877491 39.816 \r\n\" style=\"fill:#beff39;\"/>\r\n    <path clip-path=\"url(#p88245d997b)\" d=\"M 223.70102 39.816 \r\nL 256.52455 39.816 \r\nL 256.52455 72.432 \r\nL 223.70102 72.432 \r\nL 223.70102 39.816 \r\n\" style=\"fill:#deff19;\"/>\r\n    <path clip-path=\"url(#p88245d997b)\" d=\"M 256.52455 39.816 \r\nL 289.348079 39.816 \r\nL 289.348079 72.432 \r\nL 256.52455 72.432 \r\nL 256.52455 39.816 \r\n\" style=\"fill:#ff9800;\"/>\r\n    <path clip-path=\"url(#p88245d997b)\" d=\"M 289.348079 39.816 \r\nL 322.171608 39.816 \r\nL 322.171608 72.432 \r\nL 289.348079 72.432 \r\nL 289.348079 39.816 \r\n\" style=\"fill:#ffb900;\"/>\r\n    <path clip-path=\"url(#p88245d997b)\" d=\"M 322.171608 39.816 \r\nL 354.995138 39.816 \r\nL 354.995138 72.432 \r\nL 322.171608 72.432 \r\nL 322.171608 39.816 \r\n\" style=\"fill:#ffc400;\"/>\r\n    <path clip-path=\"url(#p88245d997b)\" d=\"M 354.995138 39.816 \r\nL 387.818667 39.816 \r\nL 387.818667 72.432 \r\nL 354.995138 72.432 \r\nL 354.995138 39.816 \r\n\" style=\"fill:#ffb900;\"/>\r\n    <path clip-path=\"url(#p88245d997b)\" d=\"M 387.818667 39.816 \r\nL 420.642197 39.816 \r\nL 420.642197 72.432 \r\nL 387.818667 72.432 \r\nL 387.818667 39.816 \r\n\" style=\"fill:#ff9400;\"/>\r\n    <path clip-path=\"url(#p88245d997b)\" d=\"M 420.642197 39.816 \r\nL 453.465726 39.816 \r\nL 453.465726 72.432 \r\nL 420.642197 72.432 \r\nL 420.642197 39.816 \r\n\" style=\"fill:#ffb200;\"/>\r\n    <path clip-path=\"url(#p88245d997b)\" d=\"M 453.465726 39.816 \r\nL 486.289256 39.816 \r\nL 486.289256 72.432 \r\nL 453.465726 72.432 \r\nL 453.465726 39.816 \r\n\" style=\"fill:#feed00;\"/>\r\n    <path clip-path=\"url(#p88245d997b)\" d=\"M 486.289256 39.816 \r\nL 519.112785 39.816 \r\nL 519.112785 72.432 \r\nL 486.289256 72.432 \r\nL 486.289256 39.816 \r\n\" style=\"fill:#ffd000;\"/>\r\n    <path clip-path=\"url(#p88245d997b)\" d=\"M 519.112785 39.816 \r\nL 551.936314 39.816 \r\nL 551.936314 72.432 \r\nL 519.112785 72.432 \r\nL 519.112785 39.816 \r\n\" style=\"fill:#f1fc06;\"/>\r\n    <path clip-path=\"url(#p88245d997b)\" d=\"M 551.936314 39.816 \r\nL 584.759844 39.816 \r\nL 584.759844 72.432 \r\nL 551.936314 72.432 \r\nL 551.936314 39.816 \r\n\" style=\"fill:#ffb200;\"/>\r\n    <path clip-path=\"url(#p88245d997b)\" d=\"M 584.759844 39.816 \r\nL 617.583373 39.816 \r\nL 617.583373 72.432 \r\nL 584.759844 72.432 \r\nL 584.759844 39.816 \r\n\" style=\"fill:#ffc800;\"/>\r\n    <path clip-path=\"url(#p88245d997b)\" d=\"M 617.583373 39.816 \r\nL 650.406903 39.816 \r\nL 650.406903 72.432 \r\nL 617.583373 72.432 \r\nL 617.583373 39.816 \r\n\" style=\"fill:#ff9800;\"/>\r\n    <path clip-path=\"url(#p88245d997b)\" d=\"M 650.406903 39.816 \r\nL 683.230432 39.816 \r\nL 683.230432 72.432 \r\nL 650.406903 72.432 \r\nL 650.406903 39.816 \r\n\" style=\"fill:#ff8900;\"/>\r\n    <path clip-path=\"url(#p88245d997b)\" d=\"M 683.230432 39.816 \r\nL 716.053961 39.816 \r\nL 716.053961 72.432 \r\nL 683.230432 72.432 \r\nL 683.230432 39.816 \r\n\" style=\"fill:#0008ff;\"/>\r\n    <path clip-path=\"url(#p88245d997b)\" d=\"M 716.053961 39.816 \r\nL 748.877491 39.816 \r\nL 748.877491 72.432 \r\nL 716.053961 72.432 \r\nL 716.053961 39.816 \r\n\" style=\"fill:#0014ff;\"/>\r\n    <path clip-path=\"url(#p88245d997b)\" d=\"M 748.877491 39.816 \r\nL 781.70102 39.816 \r\nL 781.70102 72.432 \r\nL 748.877491 72.432 \r\nL 748.877491 39.816 \r\n\" style=\"fill:#001cff;\"/>\r\n    <path clip-path=\"url(#p88245d997b)\" d=\"M 781.70102 39.816 \r\nL 814.52455 39.816 \r\nL 814.52455 72.432 \r\nL 781.70102 72.432 \r\nL 781.70102 39.816 \r\n\" style=\"fill:#001cff;\"/>\r\n    <path clip-path=\"url(#p88245d997b)\" d=\"M 814.52455 39.816 \r\nL 847.348079 39.816 \r\nL 847.348079 72.432 \r\nL 814.52455 72.432 \r\nL 814.52455 39.816 \r\n\" style=\"fill:#001cff;\"/>\r\n    <path clip-path=\"url(#p88245d997b)\" d=\"M 847.348079 39.816 \r\nL 880.171608 39.816 \r\nL 880.171608 72.432 \r\nL 847.348079 72.432 \r\nL 847.348079 39.816 \r\n\" style=\"fill:#0020ff;\"/>\r\n    <path clip-path=\"url(#p88245d997b)\" d=\"M 880.171608 39.816 \r\nL 912.995138 39.816 \r\nL 912.995138 72.432 \r\nL 880.171608 72.432 \r\nL 880.171608 39.816 \r\n\" style=\"fill:#0018ff;\"/>\r\n    <path clip-path=\"url(#p88245d997b)\" d=\"M 912.995138 39.816 \r\nL 945.818667 39.816 \r\nL 945.818667 72.432 \r\nL 912.995138 72.432 \r\nL 912.995138 39.816 \r\n\" style=\"fill:#0018ff;\"/>\r\n    <path clip-path=\"url(#p88245d997b)\" d=\"M 945.818667 39.816 \r\nL 978.642197 39.816 \r\nL 978.642197 72.432 \r\nL 945.818667 72.432 \r\nL 945.818667 39.816 \r\n\" style=\"fill:#0020ff;\"/>\r\n    <path clip-path=\"url(#p88245d997b)\" d=\"M 978.642197 39.816 \r\nL 1011.465726 39.816 \r\nL 1011.465726 72.432 \r\nL 978.642197 72.432 \r\nL 978.642197 39.816 \r\n\" style=\"fill:#001cff;\"/>\r\n    <path clip-path=\"url(#p88245d997b)\" d=\"M 1011.465726 39.816 \r\nL 1044.289256 39.816 \r\nL 1044.289256 72.432 \r\nL 1011.465726 72.432 \r\nL 1011.465726 39.816 \r\n\" style=\"fill:#000cff;\"/>\r\n    <path clip-path=\"url(#p88245d997b)\" d=\"M 1044.289256 39.816 \r\nL 1077.112785 39.816 \r\nL 1077.112785 72.432 \r\nL 1044.289256 72.432 \r\nL 1044.289256 39.816 \r\n\" style=\"fill:#0020ff;\"/>\r\n    <path clip-path=\"url(#p88245d997b)\" d=\"M 1077.112785 39.816 \r\nL 1109.936314 39.816 \r\nL 1109.936314 72.432 \r\nL 1077.112785 72.432 \r\nL 1077.112785 39.816 \r\n\" style=\"fill:#0020ff;\"/>\r\n    <path clip-path=\"url(#p88245d997b)\" d=\"M 1109.936314 39.816 \r\nL 1142.759844 39.816 \r\nL 1142.759844 72.432 \r\nL 1109.936314 72.432 \r\nL 1109.936314 39.816 \r\n\" style=\"fill:#0018ff;\"/>\r\n    <path clip-path=\"url(#p88245d997b)\" d=\"M 26.759844 72.432 \r\nL 59.583373 72.432 \r\nL 59.583373 105.048 \r\nL 26.759844 105.048 \r\nL 26.759844 72.432 \r\n\" style=\"fill:#49ffad;\"/>\r\n    <path clip-path=\"url(#p88245d997b)\" d=\"M 59.583373 72.432 \r\nL 92.406903 72.432 \r\nL 92.406903 105.048 \r\nL 59.583373 105.048 \r\nL 59.583373 72.432 \r\n\" style=\"fill:#46ffb1;\"/>\r\n    <path clip-path=\"url(#p88245d997b)\" d=\"M 92.406903 72.432 \r\nL 125.230432 72.432 \r\nL 125.230432 105.048 \r\nL 92.406903 105.048 \r\nL 92.406903 72.432 \r\n\" style=\"fill:#5dff9a;\"/>\r\n    <path clip-path=\"url(#p88245d997b)\" d=\"M 125.230432 72.432 \r\nL 158.053961 72.432 \r\nL 158.053961 105.048 \r\nL 125.230432 105.048 \r\nL 125.230432 72.432 \r\n\" style=\"fill:#5aff9d;\"/>\r\n    <path clip-path=\"url(#p88245d997b)\" d=\"M 158.053961 72.432 \r\nL 190.877491 72.432 \r\nL 190.877491 105.048 \r\nL 158.053961 105.048 \r\nL 158.053961 72.432 \r\n\" style=\"fill:#6dff8a;\"/>\r\n    <path clip-path=\"url(#p88245d997b)\" d=\"M 190.877491 72.432 \r\nL 223.70102 72.432 \r\nL 223.70102 105.048 \r\nL 190.877491 105.048 \r\nL 190.877491 72.432 \r\n\" style=\"fill:#53ffa4;\"/>\r\n    <path clip-path=\"url(#p88245d997b)\" d=\"M 223.70102 72.432 \r\nL 256.52455 72.432 \r\nL 256.52455 105.048 \r\nL 223.70102 105.048 \r\nL 223.70102 72.432 \r\n\" style=\"fill:#50ffa7;\"/>\r\n    <path clip-path=\"url(#p88245d997b)\" d=\"M 256.52455 72.432 \r\nL 289.348079 72.432 \r\nL 289.348079 105.048 \r\nL 256.52455 105.048 \r\nL 256.52455 72.432 \r\n\" style=\"fill:#a7ff50;\"/>\r\n    <path clip-path=\"url(#p88245d997b)\" d=\"M 289.348079 72.432 \r\nL 322.171608 72.432 \r\nL 322.171608 105.048 \r\nL 289.348079 105.048 \r\nL 289.348079 72.432 \r\n\" style=\"fill:#6aff8d;\"/>\r\n    <path clip-path=\"url(#p88245d997b)\" d=\"M 322.171608 72.432 \r\nL 354.995138 72.432 \r\nL 354.995138 105.048 \r\nL 322.171608 105.048 \r\nL 322.171608 72.432 \r\n\" style=\"fill:#b1ff46;\"/>\r\n    <path clip-path=\"url(#p88245d997b)\" d=\"M 354.995138 72.432 \r\nL 387.818667 72.432 \r\nL 387.818667 105.048 \r\nL 354.995138 105.048 \r\nL 354.995138 72.432 \r\n\" style=\"fill:#9aff5d;\"/>\r\n    <path clip-path=\"url(#p88245d997b)\" d=\"M 387.818667 72.432 \r\nL 420.642197 72.432 \r\nL 420.642197 105.048 \r\nL 387.818667 105.048 \r\nL 387.818667 72.432 \r\n\" style=\"fill:#9aff5d;\"/>\r\n    <path clip-path=\"url(#p88245d997b)\" d=\"M 420.642197 72.432 \r\nL 453.465726 72.432 \r\nL 453.465726 105.048 \r\nL 420.642197 105.048 \r\nL 420.642197 72.432 \r\n\" style=\"fill:#a0ff56;\"/>\r\n    <path clip-path=\"url(#p88245d997b)\" d=\"M 453.465726 72.432 \r\nL 486.289256 72.432 \r\nL 486.289256 105.048 \r\nL 453.465726 105.048 \r\nL 453.465726 72.432 \r\n\" style=\"fill:#87ff70;\"/>\r\n    <path clip-path=\"url(#p88245d997b)\" d=\"M 486.289256 72.432 \r\nL 519.112785 72.432 \r\nL 519.112785 105.048 \r\nL 486.289256 105.048 \r\nL 486.289256 72.432 \r\n\" style=\"fill:#8dff6a;\"/>\r\n    <path clip-path=\"url(#p88245d997b)\" d=\"M 519.112785 72.432 \r\nL 551.936314 72.432 \r\nL 551.936314 105.048 \r\nL 519.112785 105.048 \r\nL 519.112785 72.432 \r\n\" style=\"fill:#70ff87;\"/>\r\n    <path clip-path=\"url(#p88245d997b)\" d=\"M 551.936314 72.432 \r\nL 584.759844 72.432 \r\nL 584.759844 105.048 \r\nL 551.936314 105.048 \r\nL 551.936314 72.432 \r\n\" style=\"fill:#a7ff50;\"/>\r\n    <path clip-path=\"url(#p88245d997b)\" d=\"M 584.759844 72.432 \r\nL 617.583373 72.432 \r\nL 617.583373 105.048 \r\nL 584.759844 105.048 \r\nL 584.759844 72.432 \r\n\" style=\"fill:#83ff73;\"/>\r\n    <path clip-path=\"url(#p88245d997b)\" d=\"M 617.583373 72.432 \r\nL 650.406903 72.432 \r\nL 650.406903 105.048 \r\nL 617.583373 105.048 \r\nL 617.583373 72.432 \r\n\" style=\"fill:#a7ff50;\"/>\r\n    <path clip-path=\"url(#p88245d997b)\" d=\"M 650.406903 72.432 \r\nL 683.230432 72.432 \r\nL 683.230432 105.048 \r\nL 650.406903 105.048 \r\nL 650.406903 72.432 \r\n\" style=\"fill:#8aff6d;\"/>\r\n    <path clip-path=\"url(#p88245d997b)\" d=\"M 683.230432 72.432 \r\nL 716.053961 72.432 \r\nL 716.053961 105.048 \r\nL 683.230432 105.048 \r\nL 683.230432 72.432 \r\n\" style=\"fill:#0008ff;\"/>\r\n    <path clip-path=\"url(#p88245d997b)\" d=\"M 716.053961 72.432 \r\nL 748.877491 72.432 \r\nL 748.877491 105.048 \r\nL 716.053961 105.048 \r\nL 716.053961 72.432 \r\n\" style=\"fill:#0010ff;\"/>\r\n    <path clip-path=\"url(#p88245d997b)\" d=\"M 748.877491 72.432 \r\nL 781.70102 72.432 \r\nL 781.70102 105.048 \r\nL 748.877491 105.048 \r\nL 748.877491 72.432 \r\n\" style=\"fill:#0000ff;\"/>\r\n    <path clip-path=\"url(#p88245d997b)\" d=\"M 781.70102 72.432 \r\nL 814.52455 72.432 \r\nL 814.52455 105.048 \r\nL 781.70102 105.048 \r\nL 781.70102 72.432 \r\n\" style=\"fill:#0008ff;\"/>\r\n    <path clip-path=\"url(#p88245d997b)\" d=\"M 814.52455 72.432 \r\nL 847.348079 72.432 \r\nL 847.348079 105.048 \r\nL 814.52455 105.048 \r\nL 814.52455 72.432 \r\n\" style=\"fill:#0000ff;\"/>\r\n    <path clip-path=\"url(#p88245d997b)\" d=\"M 847.348079 72.432 \r\nL 880.171608 72.432 \r\nL 880.171608 105.048 \r\nL 847.348079 105.048 \r\nL 847.348079 72.432 \r\n\" style=\"fill:#0004ff;\"/>\r\n    <path clip-path=\"url(#p88245d997b)\" d=\"M 880.171608 72.432 \r\nL 912.995138 72.432 \r\nL 912.995138 105.048 \r\nL 880.171608 105.048 \r\nL 880.171608 72.432 \r\n\" style=\"fill:#0008ff;\"/>\r\n    <path clip-path=\"url(#p88245d997b)\" d=\"M 912.995138 72.432 \r\nL 945.818667 72.432 \r\nL 945.818667 105.048 \r\nL 912.995138 105.048 \r\nL 912.995138 72.432 \r\n\" style=\"fill:#0008ff;\"/>\r\n    <path clip-path=\"url(#p88245d997b)\" d=\"M 945.818667 72.432 \r\nL 978.642197 72.432 \r\nL 978.642197 105.048 \r\nL 945.818667 105.048 \r\nL 945.818667 72.432 \r\n\" style=\"fill:#000cff;\"/>\r\n    <path clip-path=\"url(#p88245d997b)\" d=\"M 978.642197 72.432 \r\nL 1011.465726 72.432 \r\nL 1011.465726 105.048 \r\nL 978.642197 105.048 \r\nL 978.642197 72.432 \r\n\" style=\"fill:#0004ff;\"/>\r\n    <path clip-path=\"url(#p88245d997b)\" d=\"M 1011.465726 72.432 \r\nL 1044.289256 72.432 \r\nL 1044.289256 105.048 \r\nL 1011.465726 105.048 \r\nL 1011.465726 72.432 \r\n\" style=\"fill:#0004ff;\"/>\r\n    <path clip-path=\"url(#p88245d997b)\" d=\"M 1044.289256 72.432 \r\nL 1077.112785 72.432 \r\nL 1077.112785 105.048 \r\nL 1044.289256 105.048 \r\nL 1044.289256 72.432 \r\n\" style=\"fill:#0000ff;\"/>\r\n    <path clip-path=\"url(#p88245d997b)\" d=\"M 1077.112785 72.432 \r\nL 1109.936314 72.432 \r\nL 1109.936314 105.048 \r\nL 1077.112785 105.048 \r\nL 1077.112785 72.432 \r\n\" style=\"fill:#0004ff;\"/>\r\n    <path clip-path=\"url(#p88245d997b)\" d=\"M 1109.936314 72.432 \r\nL 1142.759844 72.432 \r\nL 1142.759844 105.048 \r\nL 1109.936314 105.048 \r\nL 1109.936314 72.432 \r\n\" style=\"fill:#000cff;\"/>\r\n    <path clip-path=\"url(#p88245d997b)\" d=\"M 26.759844 105.048 \r\nL 59.583373 105.048 \r\nL 59.583373 137.664 \r\nL 26.759844 137.664 \r\nL 26.759844 105.048 \r\n\" style=\"fill:#00d0ff;\"/>\r\n    <path clip-path=\"url(#p88245d997b)\" d=\"M 59.583373 105.048 \r\nL 92.406903 105.048 \r\nL 92.406903 137.664 \r\nL 59.583373 137.664 \r\nL 59.583373 105.048 \r\n\" style=\"fill:#00d0ff;\"/>\r\n    <path clip-path=\"url(#p88245d997b)\" d=\"M 92.406903 105.048 \r\nL 125.230432 105.048 \r\nL 125.230432 137.664 \r\nL 92.406903 137.664 \r\nL 92.406903 105.048 \r\n\" style=\"fill:#00e0fb;\"/>\r\n    <path clip-path=\"url(#p88245d997b)\" d=\"M 125.230432 105.048 \r\nL 158.053961 105.048 \r\nL 158.053961 137.664 \r\nL 125.230432 137.664 \r\nL 125.230432 105.048 \r\n\" style=\"fill:#09f0ee;\"/>\r\n    <path clip-path=\"url(#p88245d997b)\" d=\"M 158.053961 105.048 \r\nL 190.877491 105.048 \r\nL 190.877491 137.664 \r\nL 158.053961 137.664 \r\nL 158.053961 105.048 \r\n\" style=\"fill:#0cf4eb;\"/>\r\n    <path clip-path=\"url(#p88245d997b)\" d=\"M 190.877491 105.048 \r\nL 223.70102 105.048 \r\nL 223.70102 137.664 \r\nL 190.877491 137.664 \r\nL 190.877491 105.048 \r\n\" style=\"fill:#00d4ff;\"/>\r\n    <path clip-path=\"url(#p88245d997b)\" d=\"M 223.70102 105.048 \r\nL 256.52455 105.048 \r\nL 256.52455 137.664 \r\nL 223.70102 137.664 \r\nL 223.70102 105.048 \r\n\" style=\"fill:#0cf4eb;\"/>\r\n    <path clip-path=\"url(#p88245d997b)\" d=\"M 256.52455 105.048 \r\nL 289.348079 105.048 \r\nL 289.348079 137.664 \r\nL 256.52455 137.664 \r\nL 256.52455 105.048 \r\n\" style=\"fill:#4dffaa;\"/>\r\n    <path clip-path=\"url(#p88245d997b)\" d=\"M 289.348079 105.048 \r\nL 322.171608 105.048 \r\nL 322.171608 137.664 \r\nL 289.348079 137.664 \r\nL 289.348079 105.048 \r\n\" style=\"fill:#33ffc4;\"/>\r\n    <path clip-path=\"url(#p88245d997b)\" d=\"M 322.171608 105.048 \r\nL 354.995138 105.048 \r\nL 354.995138 137.664 \r\nL 322.171608 137.664 \r\nL 322.171608 105.048 \r\n\" style=\"fill:#49ffad;\"/>\r\n    <path clip-path=\"url(#p88245d997b)\" d=\"M 354.995138 105.048 \r\nL 387.818667 105.048 \r\nL 387.818667 137.664 \r\nL 354.995138 137.664 \r\nL 354.995138 105.048 \r\n\" style=\"fill:#39ffbe;\"/>\r\n    <path clip-path=\"url(#p88245d997b)\" d=\"M 387.818667 105.048 \r\nL 420.642197 105.048 \r\nL 420.642197 137.664 \r\nL 387.818667 137.664 \r\nL 387.818667 105.048 \r\n\" style=\"fill:#43ffb4;\"/>\r\n    <path clip-path=\"url(#p88245d997b)\" d=\"M 420.642197 105.048 \r\nL 453.465726 105.048 \r\nL 453.465726 137.664 \r\nL 420.642197 137.664 \r\nL 420.642197 105.048 \r\n\" style=\"fill:#53ffa4;\"/>\r\n    <path clip-path=\"url(#p88245d997b)\" d=\"M 453.465726 105.048 \r\nL 486.289256 105.048 \r\nL 486.289256 137.664 \r\nL 453.465726 137.664 \r\nL 453.465726 105.048 \r\n\" style=\"fill:#2cffca;\"/>\r\n    <path clip-path=\"url(#p88245d997b)\" d=\"M 486.289256 105.048 \r\nL 519.112785 105.048 \r\nL 519.112785 137.664 \r\nL 486.289256 137.664 \r\nL 486.289256 105.048 \r\n\" style=\"fill:#36ffc1;\"/>\r\n    <path clip-path=\"url(#p88245d997b)\" d=\"M 519.112785 105.048 \r\nL 551.936314 105.048 \r\nL 551.936314 137.664 \r\nL 519.112785 137.664 \r\nL 519.112785 105.048 \r\n\" style=\"fill:#0ff8e7;\"/>\r\n    <path clip-path=\"url(#p88245d997b)\" d=\"M 551.936314 105.048 \r\nL 584.759844 105.048 \r\nL 584.759844 137.664 \r\nL 551.936314 137.664 \r\nL 551.936314 105.048 \r\n\" style=\"fill:#4dffaa;\"/>\r\n    <path clip-path=\"url(#p88245d997b)\" d=\"M 584.759844 105.048 \r\nL 617.583373 105.048 \r\nL 617.583373 137.664 \r\nL 584.759844 137.664 \r\nL 584.759844 105.048 \r\n\" style=\"fill:#30ffc7;\"/>\r\n    <path clip-path=\"url(#p88245d997b)\" d=\"M 617.583373 105.048 \r\nL 650.406903 105.048 \r\nL 650.406903 137.664 \r\nL 617.583373 137.664 \r\nL 617.583373 105.048 \r\n\" style=\"fill:#4dffaa;\"/>\r\n    <path clip-path=\"url(#p88245d997b)\" d=\"M 650.406903 105.048 \r\nL 683.230432 105.048 \r\nL 683.230432 137.664 \r\nL 650.406903 137.664 \r\nL 650.406903 105.048 \r\n\" style=\"fill:#33ffc4;\"/>\r\n    <path clip-path=\"url(#p88245d997b)\" d=\"M 683.230432 105.048 \r\nL 716.053961 105.048 \r\nL 716.053961 137.664 \r\nL 683.230432 137.664 \r\nL 683.230432 105.048 \r\n\" style=\"fill:#0000df;\"/>\r\n    <path clip-path=\"url(#p88245d997b)\" d=\"M 716.053961 105.048 \r\nL 748.877491 105.048 \r\nL 748.877491 137.664 \r\nL 716.053961 137.664 \r\nL 716.053961 105.048 \r\n\" style=\"fill:#0000e8;\"/>\r\n    <path clip-path=\"url(#p88245d997b)\" d=\"M 748.877491 105.048 \r\nL 781.70102 105.048 \r\nL 781.70102 137.664 \r\nL 748.877491 137.664 \r\nL 748.877491 105.048 \r\n\" style=\"fill:#0000e8;\"/>\r\n    <path clip-path=\"url(#p88245d997b)\" d=\"M 781.70102 105.048 \r\nL 814.52455 105.048 \r\nL 814.52455 137.664 \r\nL 781.70102 137.664 \r\nL 781.70102 105.048 \r\n\" style=\"fill:#0000e8;\"/>\r\n    <path clip-path=\"url(#p88245d997b)\" d=\"M 814.52455 105.048 \r\nL 847.348079 105.048 \r\nL 847.348079 137.664 \r\nL 814.52455 137.664 \r\nL 814.52455 105.048 \r\n\" style=\"fill:#0000e3;\"/>\r\n    <path clip-path=\"url(#p88245d997b)\" d=\"M 847.348079 105.048 \r\nL 880.171608 105.048 \r\nL 880.171608 137.664 \r\nL 847.348079 137.664 \r\nL 847.348079 105.048 \r\n\" style=\"fill:#0000e8;\"/>\r\n    <path clip-path=\"url(#p88245d997b)\" d=\"M 880.171608 105.048 \r\nL 912.995138 105.048 \r\nL 912.995138 137.664 \r\nL 880.171608 137.664 \r\nL 880.171608 105.048 \r\n\" style=\"fill:#0000e8;\"/>\r\n    <path clip-path=\"url(#p88245d997b)\" d=\"M 912.995138 105.048 \r\nL 945.818667 105.048 \r\nL 945.818667 137.664 \r\nL 912.995138 137.664 \r\nL 912.995138 105.048 \r\n\" style=\"fill:#0000e8;\"/>\r\n    <path clip-path=\"url(#p88245d997b)\" d=\"M 945.818667 105.048 \r\nL 978.642197 105.048 \r\nL 978.642197 137.664 \r\nL 945.818667 137.664 \r\nL 945.818667 105.048 \r\n\" style=\"fill:#0000e8;\"/>\r\n    <path clip-path=\"url(#p88245d997b)\" d=\"M 978.642197 105.048 \r\nL 1011.465726 105.048 \r\nL 1011.465726 137.664 \r\nL 978.642197 137.664 \r\nL 978.642197 105.048 \r\n\" style=\"fill:#0000e8;\"/>\r\n    <path clip-path=\"url(#p88245d997b)\" d=\"M 1011.465726 105.048 \r\nL 1044.289256 105.048 \r\nL 1044.289256 137.664 \r\nL 1011.465726 137.664 \r\nL 1011.465726 105.048 \r\n\" style=\"fill:#0000e8;\"/>\r\n    <path clip-path=\"url(#p88245d997b)\" d=\"M 1044.289256 105.048 \r\nL 1077.112785 105.048 \r\nL 1077.112785 137.664 \r\nL 1044.289256 137.664 \r\nL 1044.289256 105.048 \r\n\" style=\"fill:#0000e3;\"/>\r\n    <path clip-path=\"url(#p88245d997b)\" d=\"M 1077.112785 105.048 \r\nL 1109.936314 105.048 \r\nL 1109.936314 137.664 \r\nL 1077.112785 137.664 \r\nL 1077.112785 105.048 \r\n\" style=\"fill:#0000ed;\"/>\r\n    <path clip-path=\"url(#p88245d997b)\" d=\"M 1109.936314 105.048 \r\nL 1142.759844 105.048 \r\nL 1142.759844 137.664 \r\nL 1109.936314 137.664 \r\nL 1109.936314 105.048 \r\n\" style=\"fill:#0000e8;\"/>\r\n    <path clip-path=\"url(#p88245d997b)\" d=\"M 26.759844 137.664 \r\nL 59.583373 137.664 \r\nL 59.583373 170.28 \r\nL 26.759844 170.28 \r\nL 26.759844 137.664 \r\n\" style=\"fill:#00e4f8;\"/>\r\n    <path clip-path=\"url(#p88245d997b)\" d=\"M 59.583373 137.664 \r\nL 92.406903 137.664 \r\nL 92.406903 170.28 \r\nL 59.583373 170.28 \r\nL 59.583373 137.664 \r\n\" style=\"fill:#06ecf1;\"/>\r\n    <path clip-path=\"url(#p88245d997b)\" d=\"M 92.406903 137.664 \r\nL 125.230432 137.664 \r\nL 125.230432 170.28 \r\nL 92.406903 170.28 \r\nL 92.406903 137.664 \r\n\" style=\"fill:#09f0ee;\"/>\r\n    <path clip-path=\"url(#p88245d997b)\" d=\"M 125.230432 137.664 \r\nL 158.053961 137.664 \r\nL 158.053961 170.28 \r\nL 125.230432 170.28 \r\nL 125.230432 137.664 \r\n\" style=\"fill:#1fffd7;\"/>\r\n    <path clip-path=\"url(#p88245d997b)\" d=\"M 158.053961 137.664 \r\nL 190.877491 137.664 \r\nL 190.877491 170.28 \r\nL 158.053961 170.28 \r\nL 158.053961 137.664 \r\n\" style=\"fill:#23ffd4;\"/>\r\n    <path clip-path=\"url(#p88245d997b)\" d=\"M 190.877491 137.664 \r\nL 223.70102 137.664 \r\nL 223.70102 170.28 \r\nL 190.877491 170.28 \r\nL 190.877491 137.664 \r\n\" style=\"fill:#09f0ee;\"/>\r\n    <path clip-path=\"url(#p88245d997b)\" d=\"M 223.70102 137.664 \r\nL 256.52455 137.664 \r\nL 256.52455 170.28 \r\nL 223.70102 170.28 \r\nL 223.70102 137.664 \r\n\" style=\"fill:#16ffe1;\"/>\r\n    <path clip-path=\"url(#p88245d997b)\" d=\"M 256.52455 137.664 \r\nL 289.348079 137.664 \r\nL 289.348079 170.28 \r\nL 256.52455 170.28 \r\nL 256.52455 137.664 \r\n\" style=\"fill:#50ffa7;\"/>\r\n    <path clip-path=\"url(#p88245d997b)\" d=\"M 289.348079 137.664 \r\nL 322.171608 137.664 \r\nL 322.171608 170.28 \r\nL 289.348079 170.28 \r\nL 289.348079 137.664 \r\n\" style=\"fill:#2cffca;\"/>\r\n    <path clip-path=\"url(#p88245d997b)\" d=\"M 322.171608 137.664 \r\nL 354.995138 137.664 \r\nL 354.995138 170.28 \r\nL 322.171608 170.28 \r\nL 322.171608 137.664 \r\n\" style=\"fill:#66ff90;\"/>\r\n    <path clip-path=\"url(#p88245d997b)\" d=\"M 354.995138 137.664 \r\nL 387.818667 137.664 \r\nL 387.818667 170.28 \r\nL 354.995138 170.28 \r\nL 354.995138 137.664 \r\n\" style=\"fill:#5aff9d;\"/>\r\n    <path clip-path=\"url(#p88245d997b)\" d=\"M 387.818667 137.664 \r\nL 420.642197 137.664 \r\nL 420.642197 170.28 \r\nL 387.818667 170.28 \r\nL 387.818667 137.664 \r\n\" style=\"fill:#46ffb1;\"/>\r\n    <path clip-path=\"url(#p88245d997b)\" d=\"M 420.642197 137.664 \r\nL 453.465726 137.664 \r\nL 453.465726 170.28 \r\nL 420.642197 170.28 \r\nL 420.642197 137.664 \r\n\" style=\"fill:#5aff9d;\"/>\r\n    <path clip-path=\"url(#p88245d997b)\" d=\"M 453.465726 137.664 \r\nL 486.289256 137.664 \r\nL 486.289256 170.28 \r\nL 453.465726 170.28 \r\nL 453.465726 137.664 \r\n\" style=\"fill:#0ff8e7;\"/>\r\n    <path clip-path=\"url(#p88245d997b)\" d=\"M 486.289256 137.664 \r\nL 519.112785 137.664 \r\nL 519.112785 170.28 \r\nL 486.289256 170.28 \r\nL 486.289256 137.664 \r\n\" style=\"fill:#3cffba;\"/>\r\n    <path clip-path=\"url(#p88245d997b)\" d=\"M 519.112785 137.664 \r\nL 551.936314 137.664 \r\nL 551.936314 170.28 \r\nL 519.112785 170.28 \r\nL 519.112785 137.664 \r\n\" style=\"fill:#1fffd7;\"/>\r\n    <path clip-path=\"url(#p88245d997b)\" d=\"M 551.936314 137.664 \r\nL 584.759844 137.664 \r\nL 584.759844 170.28 \r\nL 551.936314 170.28 \r\nL 551.936314 137.664 \r\n\" style=\"fill:#40ffb7;\"/>\r\n    <path clip-path=\"url(#p88245d997b)\" d=\"M 584.759844 137.664 \r\nL 617.583373 137.664 \r\nL 617.583373 170.28 \r\nL 584.759844 170.28 \r\nL 584.759844 137.664 \r\n\" style=\"fill:#2cffca;\"/>\r\n    <path clip-path=\"url(#p88245d997b)\" d=\"M 617.583373 137.664 \r\nL 650.406903 137.664 \r\nL 650.406903 170.28 \r\nL 617.583373 170.28 \r\nL 617.583373 137.664 \r\n\" style=\"fill:#56ffa0;\"/>\r\n    <path clip-path=\"url(#p88245d997b)\" d=\"M 650.406903 137.664 \r\nL 683.230432 137.664 \r\nL 683.230432 170.28 \r\nL 650.406903 170.28 \r\nL 650.406903 137.664 \r\n\" style=\"fill:#4dffaa;\"/>\r\n    <path clip-path=\"url(#p88245d997b)\" d=\"M 683.230432 137.664 \r\nL 716.053961 137.664 \r\nL 716.053961 170.28 \r\nL 683.230432 170.28 \r\nL 683.230432 137.664 \r\n\" style=\"fill:#0000e8;\"/>\r\n    <path clip-path=\"url(#p88245d997b)\" d=\"M 716.053961 137.664 \r\nL 748.877491 137.664 \r\nL 748.877491 170.28 \r\nL 716.053961 170.28 \r\nL 716.053961 137.664 \r\n\" style=\"fill:#0000e8;\"/>\r\n    <path clip-path=\"url(#p88245d997b)\" d=\"M 748.877491 137.664 \r\nL 781.70102 137.664 \r\nL 781.70102 170.28 \r\nL 748.877491 170.28 \r\nL 748.877491 137.664 \r\n\" style=\"fill:#0000ed;\"/>\r\n    <path clip-path=\"url(#p88245d997b)\" d=\"M 781.70102 137.664 \r\nL 814.52455 137.664 \r\nL 814.52455 170.28 \r\nL 781.70102 170.28 \r\nL 781.70102 137.664 \r\n\" style=\"fill:#0000f6;\"/>\r\n    <path clip-path=\"url(#p88245d997b)\" d=\"M 814.52455 137.664 \r\nL 847.348079 137.664 \r\nL 847.348079 170.28 \r\nL 814.52455 170.28 \r\nL 814.52455 137.664 \r\n\" style=\"fill:#0000ed;\"/>\r\n    <path clip-path=\"url(#p88245d997b)\" d=\"M 847.348079 137.664 \r\nL 880.171608 137.664 \r\nL 880.171608 170.28 \r\nL 847.348079 170.28 \r\nL 847.348079 137.664 \r\n\" style=\"fill:#0000ed;\"/>\r\n    <path clip-path=\"url(#p88245d997b)\" d=\"M 880.171608 137.664 \r\nL 912.995138 137.664 \r\nL 912.995138 170.28 \r\nL 880.171608 170.28 \r\nL 880.171608 137.664 \r\n\" style=\"fill:#0000ed;\"/>\r\n    <path clip-path=\"url(#p88245d997b)\" d=\"M 912.995138 137.664 \r\nL 945.818667 137.664 \r\nL 945.818667 170.28 \r\nL 912.995138 170.28 \r\nL 912.995138 137.664 \r\n\" style=\"fill:#0000f1;\"/>\r\n    <path clip-path=\"url(#p88245d997b)\" d=\"M 945.818667 137.664 \r\nL 978.642197 137.664 \r\nL 978.642197 170.28 \r\nL 945.818667 170.28 \r\nL 945.818667 137.664 \r\n\" style=\"fill:#0000f1;\"/>\r\n    <path clip-path=\"url(#p88245d997b)\" d=\"M 978.642197 137.664 \r\nL 1011.465726 137.664 \r\nL 1011.465726 170.28 \r\nL 978.642197 170.28 \r\nL 978.642197 137.664 \r\n\" style=\"fill:#0000f1;\"/>\r\n    <path clip-path=\"url(#p88245d997b)\" d=\"M 1011.465726 137.664 \r\nL 1044.289256 137.664 \r\nL 1044.289256 170.28 \r\nL 1011.465726 170.28 \r\nL 1011.465726 137.664 \r\n\" style=\"fill:#0000ed;\"/>\r\n    <path clip-path=\"url(#p88245d997b)\" d=\"M 1044.289256 137.664 \r\nL 1077.112785 137.664 \r\nL 1077.112785 170.28 \r\nL 1044.289256 170.28 \r\nL 1044.289256 137.664 \r\n\" style=\"fill:#0000f1;\"/>\r\n    <path clip-path=\"url(#p88245d997b)\" d=\"M 1077.112785 137.664 \r\nL 1109.936314 137.664 \r\nL 1109.936314 170.28 \r\nL 1077.112785 170.28 \r\nL 1077.112785 137.664 \r\n\" style=\"fill:#0000ed;\"/>\r\n    <path clip-path=\"url(#p88245d997b)\" d=\"M 1109.936314 137.664 \r\nL 1142.759844 137.664 \r\nL 1142.759844 170.28 \r\nL 1109.936314 170.28 \r\nL 1109.936314 137.664 \r\n\" style=\"fill:#0000f1;\"/>\r\n    <path clip-path=\"url(#p88245d997b)\" d=\"M 26.759844 170.28 \r\nL 59.583373 170.28 \r\nL 59.583373 202.896 \r\nL 26.759844 202.896 \r\nL 26.759844 170.28 \r\n\" style=\"fill:#09f0ee;\"/>\r\n    <path clip-path=\"url(#p88245d997b)\" d=\"M 59.583373 170.28 \r\nL 92.406903 170.28 \r\nL 92.406903 202.896 \r\nL 59.583373 202.896 \r\nL 59.583373 170.28 \r\n\" style=\"fill:#06ecf1;\"/>\r\n    <path clip-path=\"url(#p88245d997b)\" d=\"M 92.406903 170.28 \r\nL 125.230432 170.28 \r\nL 125.230432 202.896 \r\nL 92.406903 202.896 \r\nL 92.406903 170.28 \r\n\" style=\"fill:#13fce4;\"/>\r\n    <path clip-path=\"url(#p88245d997b)\" d=\"M 125.230432 170.28 \r\nL 158.053961 170.28 \r\nL 158.053961 202.896 \r\nL 125.230432 202.896 \r\nL 125.230432 170.28 \r\n\" style=\"fill:#0ff8e7;\"/>\r\n    <path clip-path=\"url(#p88245d997b)\" d=\"M 158.053961 170.28 \r\nL 190.877491 170.28 \r\nL 190.877491 202.896 \r\nL 158.053961 202.896 \r\nL 158.053961 170.28 \r\n\" style=\"fill:#23ffd4;\"/>\r\n    <path clip-path=\"url(#p88245d997b)\" d=\"M 190.877491 170.28 \r\nL 223.70102 170.28 \r\nL 223.70102 202.896 \r\nL 190.877491 202.896 \r\nL 190.877491 170.28 \r\n\" style=\"fill:#19ffde;\"/>\r\n    <path clip-path=\"url(#p88245d997b)\" d=\"M 223.70102 170.28 \r\nL 256.52455 170.28 \r\nL 256.52455 202.896 \r\nL 223.70102 202.896 \r\nL 223.70102 170.28 \r\n\" style=\"fill:#13fce4;\"/>\r\n    <path clip-path=\"url(#p88245d997b)\" d=\"M 256.52455 170.28 \r\nL 289.348079 170.28 \r\nL 289.348079 202.896 \r\nL 256.52455 202.896 \r\nL 256.52455 170.28 \r\n\" style=\"fill:#63ff94;\"/>\r\n    <path clip-path=\"url(#p88245d997b)\" d=\"M 289.348079 170.28 \r\nL 322.171608 170.28 \r\nL 322.171608 202.896 \r\nL 289.348079 202.896 \r\nL 289.348079 170.28 \r\n\" style=\"fill:#33ffc4;\"/>\r\n    <path clip-path=\"url(#p88245d997b)\" d=\"M 322.171608 170.28 \r\nL 354.995138 170.28 \r\nL 354.995138 202.896 \r\nL 322.171608 202.896 \r\nL 322.171608 170.28 \r\n\" style=\"fill:#46ffb1;\"/>\r\n    <path clip-path=\"url(#p88245d997b)\" d=\"M 354.995138 170.28 \r\nL 387.818667 170.28 \r\nL 387.818667 202.896 \r\nL 354.995138 202.896 \r\nL 354.995138 170.28 \r\n\" style=\"fill:#4dffaa;\"/>\r\n    <path clip-path=\"url(#p88245d997b)\" d=\"M 387.818667 170.28 \r\nL 420.642197 170.28 \r\nL 420.642197 202.896 \r\nL 387.818667 202.896 \r\nL 387.818667 170.28 \r\n\" style=\"fill:#49ffad;\"/>\r\n    <path clip-path=\"url(#p88245d997b)\" d=\"M 420.642197 170.28 \r\nL 453.465726 170.28 \r\nL 453.465726 202.896 \r\nL 420.642197 202.896 \r\nL 420.642197 170.28 \r\n\" style=\"fill:#39ffbe;\"/>\r\n    <path clip-path=\"url(#p88245d997b)\" d=\"M 453.465726 170.28 \r\nL 486.289256 170.28 \r\nL 486.289256 202.896 \r\nL 453.465726 202.896 \r\nL 453.465726 170.28 \r\n\" style=\"fill:#33ffc4;\"/>\r\n    <path clip-path=\"url(#p88245d997b)\" d=\"M 486.289256 170.28 \r\nL 519.112785 170.28 \r\nL 519.112785 202.896 \r\nL 486.289256 202.896 \r\nL 486.289256 170.28 \r\n\" style=\"fill:#49ffad;\"/>\r\n    <path clip-path=\"url(#p88245d997b)\" d=\"M 519.112785 170.28 \r\nL 551.936314 170.28 \r\nL 551.936314 202.896 \r\nL 519.112785 202.896 \r\nL 519.112785 170.28 \r\n\" style=\"fill:#30ffc7;\"/>\r\n    <path clip-path=\"url(#p88245d997b)\" d=\"M 551.936314 170.28 \r\nL 584.759844 170.28 \r\nL 584.759844 202.896 \r\nL 551.936314 202.896 \r\nL 551.936314 170.28 \r\n\" style=\"fill:#46ffb1;\"/>\r\n    <path clip-path=\"url(#p88245d997b)\" d=\"M 584.759844 170.28 \r\nL 617.583373 170.28 \r\nL 617.583373 202.896 \r\nL 584.759844 202.896 \r\nL 584.759844 170.28 \r\n\" style=\"fill:#2cffca;\"/>\r\n    <path clip-path=\"url(#p88245d997b)\" d=\"M 617.583373 170.28 \r\nL 650.406903 170.28 \r\nL 650.406903 202.896 \r\nL 617.583373 202.896 \r\nL 617.583373 170.28 \r\n\" style=\"fill:#53ffa4;\"/>\r\n    <path clip-path=\"url(#p88245d997b)\" d=\"M 650.406903 170.28 \r\nL 683.230432 170.28 \r\nL 683.230432 202.896 \r\nL 650.406903 202.896 \r\nL 650.406903 170.28 \r\n\" style=\"fill:#50ffa7;\"/>\r\n    <path clip-path=\"url(#p88245d997b)\" d=\"M 683.230432 170.28 \r\nL 716.053961 170.28 \r\nL 716.053961 202.896 \r\nL 683.230432 202.896 \r\nL 683.230432 170.28 \r\n\" style=\"fill:#0014ff;\"/>\r\n    <path clip-path=\"url(#p88245d997b)\" d=\"M 716.053961 170.28 \r\nL 748.877491 170.28 \r\nL 748.877491 202.896 \r\nL 716.053961 202.896 \r\nL 716.053961 170.28 \r\n\" style=\"fill:#0014ff;\"/>\r\n    <path clip-path=\"url(#p88245d997b)\" d=\"M 748.877491 170.28 \r\nL 781.70102 170.28 \r\nL 781.70102 202.896 \r\nL 748.877491 202.896 \r\nL 748.877491 170.28 \r\n\" style=\"fill:#001cff;\"/>\r\n    <path clip-path=\"url(#p88245d997b)\" d=\"M 781.70102 170.28 \r\nL 814.52455 170.28 \r\nL 814.52455 202.896 \r\nL 781.70102 202.896 \r\nL 781.70102 170.28 \r\n\" style=\"fill:#0010ff;\"/>\r\n    <path clip-path=\"url(#p88245d997b)\" d=\"M 814.52455 170.28 \r\nL 847.348079 170.28 \r\nL 847.348079 202.896 \r\nL 814.52455 202.896 \r\nL 814.52455 170.28 \r\n\" style=\"fill:#0020ff;\"/>\r\n    <path clip-path=\"url(#p88245d997b)\" d=\"M 847.348079 170.28 \r\nL 880.171608 170.28 \r\nL 880.171608 202.896 \r\nL 847.348079 202.896 \r\nL 847.348079 170.28 \r\n\" style=\"fill:#001cff;\"/>\r\n    <path clip-path=\"url(#p88245d997b)\" d=\"M 880.171608 170.28 \r\nL 912.995138 170.28 \r\nL 912.995138 202.896 \r\nL 880.171608 202.896 \r\nL 880.171608 170.28 \r\n\" style=\"fill:#0018ff;\"/>\r\n    <path clip-path=\"url(#p88245d997b)\" d=\"M 912.995138 170.28 \r\nL 945.818667 170.28 \r\nL 945.818667 202.896 \r\nL 912.995138 202.896 \r\nL 912.995138 170.28 \r\n\" style=\"fill:#0018ff;\"/>\r\n    <path clip-path=\"url(#p88245d997b)\" d=\"M 945.818667 170.28 \r\nL 978.642197 170.28 \r\nL 978.642197 202.896 \r\nL 945.818667 202.896 \r\nL 945.818667 170.28 \r\n\" style=\"fill:#0020ff;\"/>\r\n    <path clip-path=\"url(#p88245d997b)\" d=\"M 978.642197 170.28 \r\nL 1011.465726 170.28 \r\nL 1011.465726 202.896 \r\nL 978.642197 202.896 \r\nL 978.642197 170.28 \r\n\" style=\"fill:#0014ff;\"/>\r\n    <path clip-path=\"url(#p88245d997b)\" d=\"M 1011.465726 170.28 \r\nL 1044.289256 170.28 \r\nL 1044.289256 202.896 \r\nL 1011.465726 202.896 \r\nL 1011.465726 170.28 \r\n\" style=\"fill:#0018ff;\"/>\r\n    <path clip-path=\"url(#p88245d997b)\" d=\"M 1044.289256 170.28 \r\nL 1077.112785 170.28 \r\nL 1077.112785 202.896 \r\nL 1044.289256 202.896 \r\nL 1044.289256 170.28 \r\n\" style=\"fill:#0008ff;\"/>\r\n    <path clip-path=\"url(#p88245d997b)\" d=\"M 1077.112785 170.28 \r\nL 1109.936314 170.28 \r\nL 1109.936314 202.896 \r\nL 1077.112785 202.896 \r\nL 1077.112785 170.28 \r\n\" style=\"fill:#0010ff;\"/>\r\n    <path clip-path=\"url(#p88245d997b)\" d=\"M 1109.936314 170.28 \r\nL 1142.759844 170.28 \r\nL 1142.759844 202.896 \r\nL 1109.936314 202.896 \r\nL 1109.936314 170.28 \r\n\" style=\"fill:#001cff;\"/>\r\n    <path clip-path=\"url(#p88245d997b)\" d=\"M 26.759844 202.896 \r\nL 59.583373 202.896 \r\nL 59.583373 235.512 \r\nL 26.759844 235.512 \r\nL 26.759844 202.896 \r\n\" style=\"fill:#29ffce;\"/>\r\n    <path clip-path=\"url(#p88245d997b)\" d=\"M 59.583373 202.896 \r\nL 92.406903 202.896 \r\nL 92.406903 235.512 \r\nL 59.583373 235.512 \r\nL 59.583373 202.896 \r\n\" style=\"fill:#5dff9a;\"/>\r\n    <path clip-path=\"url(#p88245d997b)\" d=\"M 92.406903 202.896 \r\nL 125.230432 202.896 \r\nL 125.230432 235.512 \r\nL 92.406903 235.512 \r\nL 92.406903 202.896 \r\n\" style=\"fill:#70ff87;\"/>\r\n    <path clip-path=\"url(#p88245d997b)\" d=\"M 125.230432 202.896 \r\nL 158.053961 202.896 \r\nL 158.053961 235.512 \r\nL 125.230432 235.512 \r\nL 125.230432 202.896 \r\n\" style=\"fill:#6dff8a;\"/>\r\n    <path clip-path=\"url(#p88245d997b)\" d=\"M 158.053961 202.896 \r\nL 190.877491 202.896 \r\nL 190.877491 235.512 \r\nL 158.053961 235.512 \r\nL 158.053961 202.896 \r\n\" style=\"fill:#6dff8a;\"/>\r\n    <path clip-path=\"url(#p88245d997b)\" d=\"M 190.877491 202.896 \r\nL 223.70102 202.896 \r\nL 223.70102 235.512 \r\nL 190.877491 235.512 \r\nL 190.877491 202.896 \r\n\" style=\"fill:#5aff9d;\"/>\r\n    <path clip-path=\"url(#p88245d997b)\" d=\"M 223.70102 202.896 \r\nL 256.52455 202.896 \r\nL 256.52455 235.512 \r\nL 223.70102 235.512 \r\nL 223.70102 202.896 \r\n\" style=\"fill:#7aff7d;\"/>\r\n    <path clip-path=\"url(#p88245d997b)\" d=\"M 256.52455 202.896 \r\nL 289.348079 202.896 \r\nL 289.348079 235.512 \r\nL 256.52455 235.512 \r\nL 256.52455 202.896 \r\n\" style=\"fill:#a0ff56;\"/>\r\n    <path clip-path=\"url(#p88245d997b)\" d=\"M 289.348079 202.896 \r\nL 322.171608 202.896 \r\nL 322.171608 235.512 \r\nL 289.348079 235.512 \r\nL 289.348079 202.896 \r\n\" style=\"fill:#66ff90;\"/>\r\n    <path clip-path=\"url(#p88245d997b)\" d=\"M 322.171608 202.896 \r\nL 354.995138 202.896 \r\nL 354.995138 235.512 \r\nL 322.171608 235.512 \r\nL 322.171608 202.896 \r\n\" style=\"fill:#97ff60;\"/>\r\n    <path clip-path=\"url(#p88245d997b)\" d=\"M 354.995138 202.896 \r\nL 387.818667 202.896 \r\nL 387.818667 235.512 \r\nL 354.995138 235.512 \r\nL 354.995138 202.896 \r\n\" style=\"fill:#94ff63;\"/>\r\n    <path clip-path=\"url(#p88245d997b)\" d=\"M 387.818667 202.896 \r\nL 420.642197 202.896 \r\nL 420.642197 235.512 \r\nL 387.818667 235.512 \r\nL 387.818667 202.896 \r\n\" style=\"fill:#a7ff50;\"/>\r\n    <path clip-path=\"url(#p88245d997b)\" d=\"M 420.642197 202.896 \r\nL 453.465726 202.896 \r\nL 453.465726 235.512 \r\nL 420.642197 235.512 \r\nL 420.642197 202.896 \r\n\" style=\"fill:#9dff5a;\"/>\r\n    <path clip-path=\"url(#p88245d997b)\" d=\"M 453.465726 202.896 \r\nL 486.289256 202.896 \r\nL 486.289256 235.512 \r\nL 453.465726 235.512 \r\nL 453.465726 202.896 \r\n\" style=\"fill:#80ff77;\"/>\r\n    <path clip-path=\"url(#p88245d997b)\" d=\"M 486.289256 202.896 \r\nL 519.112785 202.896 \r\nL 519.112785 235.512 \r\nL 486.289256 235.512 \r\nL 486.289256 202.896 \r\n\" style=\"fill:#8aff6d;\"/>\r\n    <path clip-path=\"url(#p88245d997b)\" d=\"M 519.112785 202.896 \r\nL 551.936314 202.896 \r\nL 551.936314 235.512 \r\nL 519.112785 235.512 \r\nL 519.112785 202.896 \r\n\" style=\"fill:#7aff7d;\"/>\r\n    <path clip-path=\"url(#p88245d997b)\" d=\"M 551.936314 202.896 \r\nL 584.759844 202.896 \r\nL 584.759844 235.512 \r\nL 551.936314 235.512 \r\nL 551.936314 202.896 \r\n\" style=\"fill:#80ff77;\"/>\r\n    <path clip-path=\"url(#p88245d997b)\" d=\"M 584.759844 202.896 \r\nL 617.583373 202.896 \r\nL 617.583373 235.512 \r\nL 584.759844 235.512 \r\nL 584.759844 202.896 \r\n\" style=\"fill:#97ff60;\"/>\r\n    <path clip-path=\"url(#p88245d997b)\" d=\"M 617.583373 202.896 \r\nL 650.406903 202.896 \r\nL 650.406903 235.512 \r\nL 617.583373 235.512 \r\nL 617.583373 202.896 \r\n\" style=\"fill:#a7ff50;\"/>\r\n    <path clip-path=\"url(#p88245d997b)\" d=\"M 650.406903 202.896 \r\nL 683.230432 202.896 \r\nL 683.230432 235.512 \r\nL 650.406903 235.512 \r\nL 650.406903 202.896 \r\n\" style=\"fill:#9aff5d;\"/>\r\n    <path clip-path=\"url(#p88245d997b)\" d=\"M 683.230432 202.896 \r\nL 716.053961 202.896 \r\nL 716.053961 235.512 \r\nL 683.230432 235.512 \r\nL 683.230432 202.896 \r\n\" style=\"fill:#0000fa;\"/>\r\n    <path clip-path=\"url(#p88245d997b)\" d=\"M 716.053961 202.896 \r\nL 748.877491 202.896 \r\nL 748.877491 235.512 \r\nL 716.053961 235.512 \r\nL 716.053961 202.896 \r\n\" style=\"fill:#0000fa;\"/>\r\n    <path clip-path=\"url(#p88245d997b)\" d=\"M 748.877491 202.896 \r\nL 781.70102 202.896 \r\nL 781.70102 235.512 \r\nL 748.877491 235.512 \r\nL 748.877491 202.896 \r\n\" style=\"fill:#0000ff;\"/>\r\n    <path clip-path=\"url(#p88245d997b)\" d=\"M 781.70102 202.896 \r\nL 814.52455 202.896 \r\nL 814.52455 235.512 \r\nL 781.70102 235.512 \r\nL 781.70102 202.896 \r\n\" style=\"fill:#0000ff;\"/>\r\n    <path clip-path=\"url(#p88245d997b)\" d=\"M 814.52455 202.896 \r\nL 847.348079 202.896 \r\nL 847.348079 235.512 \r\nL 814.52455 235.512 \r\nL 814.52455 202.896 \r\n\" style=\"fill:#0000ff;\"/>\r\n    <path clip-path=\"url(#p88245d997b)\" d=\"M 847.348079 202.896 \r\nL 880.171608 202.896 \r\nL 880.171608 235.512 \r\nL 847.348079 235.512 \r\nL 847.348079 202.896 \r\n\" style=\"fill:#0000ff;\"/>\r\n    <path clip-path=\"url(#p88245d997b)\" d=\"M 880.171608 202.896 \r\nL 912.995138 202.896 \r\nL 912.995138 235.512 \r\nL 880.171608 235.512 \r\nL 880.171608 202.896 \r\n\" style=\"fill:#0000ff;\"/>\r\n    <path clip-path=\"url(#p88245d997b)\" d=\"M 912.995138 202.896 \r\nL 945.818667 202.896 \r\nL 945.818667 235.512 \r\nL 912.995138 235.512 \r\nL 912.995138 202.896 \r\n\" style=\"fill:#0000ff;\"/>\r\n    <path clip-path=\"url(#p88245d997b)\" d=\"M 945.818667 202.896 \r\nL 978.642197 202.896 \r\nL 978.642197 235.512 \r\nL 945.818667 235.512 \r\nL 945.818667 202.896 \r\n\" style=\"fill:#0000ff;\"/>\r\n    <path clip-path=\"url(#p88245d997b)\" d=\"M 978.642197 202.896 \r\nL 1011.465726 202.896 \r\nL 1011.465726 235.512 \r\nL 978.642197 235.512 \r\nL 978.642197 202.896 \r\n\" style=\"fill:#0000ff;\"/>\r\n    <path clip-path=\"url(#p88245d997b)\" d=\"M 1011.465726 202.896 \r\nL 1044.289256 202.896 \r\nL 1044.289256 235.512 \r\nL 1011.465726 235.512 \r\nL 1011.465726 202.896 \r\n\" style=\"fill:#0000ff;\"/>\r\n    <path clip-path=\"url(#p88245d997b)\" d=\"M 1044.289256 202.896 \r\nL 1077.112785 202.896 \r\nL 1077.112785 235.512 \r\nL 1044.289256 235.512 \r\nL 1044.289256 202.896 \r\n\" style=\"fill:#0000ff;\"/>\r\n    <path clip-path=\"url(#p88245d997b)\" d=\"M 1077.112785 202.896 \r\nL 1109.936314 202.896 \r\nL 1109.936314 235.512 \r\nL 1077.112785 235.512 \r\nL 1077.112785 202.896 \r\n\" style=\"fill:#0000ff;\"/>\r\n    <path clip-path=\"url(#p88245d997b)\" d=\"M 1109.936314 202.896 \r\nL 1142.759844 202.896 \r\nL 1142.759844 235.512 \r\nL 1109.936314 235.512 \r\nL 1109.936314 202.896 \r\n\" style=\"fill:#0000ff;\"/>\r\n    <path clip-path=\"url(#p88245d997b)\" d=\"M 26.759844 235.512 \r\nL 59.583373 235.512 \r\nL 59.583373 268.128 \r\nL 26.759844 268.128 \r\nL 26.759844 235.512 \r\n\" style=\"fill:#00a4ff;\"/>\r\n    <path clip-path=\"url(#p88245d997b)\" d=\"M 59.583373 235.512 \r\nL 92.406903 235.512 \r\nL 92.406903 268.128 \r\nL 59.583373 268.128 \r\nL 59.583373 235.512 \r\n\" style=\"fill:#00a0ff;\"/>\r\n    <path clip-path=\"url(#p88245d997b)\" d=\"M 92.406903 235.512 \r\nL 125.230432 235.512 \r\nL 125.230432 268.128 \r\nL 92.406903 268.128 \r\nL 92.406903 235.512 \r\n\" style=\"fill:#00c0ff;\"/>\r\n    <path clip-path=\"url(#p88245d997b)\" d=\"M 125.230432 235.512 \r\nL 158.053961 235.512 \r\nL 158.053961 268.128 \r\nL 125.230432 268.128 \r\nL 125.230432 235.512 \r\n\" style=\"fill:#00c4ff;\"/>\r\n    <path clip-path=\"url(#p88245d997b)\" d=\"M 158.053961 235.512 \r\nL 190.877491 235.512 \r\nL 190.877491 268.128 \r\nL 158.053961 268.128 \r\nL 158.053961 235.512 \r\n\" style=\"fill:#00c4ff;\"/>\r\n    <path clip-path=\"url(#p88245d997b)\" d=\"M 190.877491 235.512 \r\nL 223.70102 235.512 \r\nL 223.70102 268.128 \r\nL 190.877491 268.128 \r\nL 190.877491 235.512 \r\n\" style=\"fill:#009cff;\"/>\r\n    <path clip-path=\"url(#p88245d997b)\" d=\"M 223.70102 235.512 \r\nL 256.52455 235.512 \r\nL 256.52455 268.128 \r\nL 223.70102 268.128 \r\nL 223.70102 235.512 \r\n\" style=\"fill:#00acff;\"/>\r\n    <path clip-path=\"url(#p88245d997b)\" d=\"M 256.52455 235.512 \r\nL 289.348079 235.512 \r\nL 289.348079 268.128 \r\nL 256.52455 268.128 \r\nL 256.52455 235.512 \r\n\" style=\"fill:#06ecf1;\"/>\r\n    <path clip-path=\"url(#p88245d997b)\" d=\"M 289.348079 235.512 \r\nL 322.171608 235.512 \r\nL 322.171608 268.128 \r\nL 289.348079 268.128 \r\nL 289.348079 235.512 \r\n\" style=\"fill:#00c4ff;\"/>\r\n    <path clip-path=\"url(#p88245d997b)\" d=\"M 322.171608 235.512 \r\nL 354.995138 235.512 \r\nL 354.995138 268.128 \r\nL 322.171608 268.128 \r\nL 322.171608 235.512 \r\n\" style=\"fill:#09f0ee;\"/>\r\n    <path clip-path=\"url(#p88245d997b)\" d=\"M 354.995138 235.512 \r\nL 387.818667 235.512 \r\nL 387.818667 268.128 \r\nL 354.995138 268.128 \r\nL 354.995138 235.512 \r\n\" style=\"fill:#00d4ff;\"/>\r\n    <path clip-path=\"url(#p88245d997b)\" d=\"M 387.818667 235.512 \r\nL 420.642197 235.512 \r\nL 420.642197 268.128 \r\nL 387.818667 268.128 \r\nL 387.818667 235.512 \r\n\" style=\"fill:#00dcfe;\"/>\r\n    <path clip-path=\"url(#p88245d997b)\" d=\"M 420.642197 235.512 \r\nL 453.465726 235.512 \r\nL 453.465726 268.128 \r\nL 420.642197 268.128 \r\nL 420.642197 235.512 \r\n\" style=\"fill:#16ffe1;\"/>\r\n    <path clip-path=\"url(#p88245d997b)\" d=\"M 453.465726 235.512 \r\nL 486.289256 235.512 \r\nL 486.289256 268.128 \r\nL 453.465726 268.128 \r\nL 453.465726 235.512 \r\n\" style=\"fill:#00e0fb;\"/>\r\n    <path clip-path=\"url(#p88245d997b)\" d=\"M 486.289256 235.512 \r\nL 519.112785 235.512 \r\nL 519.112785 268.128 \r\nL 486.289256 268.128 \r\nL 486.289256 235.512 \r\n\" style=\"fill:#02e8f4;\"/>\r\n    <path clip-path=\"url(#p88245d997b)\" d=\"M 519.112785 235.512 \r\nL 551.936314 235.512 \r\nL 551.936314 268.128 \r\nL 519.112785 268.128 \r\nL 519.112785 235.512 \r\n\" style=\"fill:#00b8ff;\"/>\r\n    <path clip-path=\"url(#p88245d997b)\" d=\"M 551.936314 235.512 \r\nL 584.759844 235.512 \r\nL 584.759844 268.128 \r\nL 551.936314 268.128 \r\nL 551.936314 235.512 \r\n\" style=\"fill:#0cf4eb;\"/>\r\n    <path clip-path=\"url(#p88245d997b)\" d=\"M 584.759844 235.512 \r\nL 617.583373 235.512 \r\nL 617.583373 268.128 \r\nL 584.759844 268.128 \r\nL 584.759844 235.512 \r\n\" style=\"fill:#00c4ff;\"/>\r\n    <path clip-path=\"url(#p88245d997b)\" d=\"M 617.583373 235.512 \r\nL 650.406903 235.512 \r\nL 650.406903 268.128 \r\nL 617.583373 268.128 \r\nL 617.583373 235.512 \r\n\" style=\"fill:#09f0ee;\"/>\r\n    <path clip-path=\"url(#p88245d997b)\" d=\"M 650.406903 235.512 \r\nL 683.230432 235.512 \r\nL 683.230432 268.128 \r\nL 650.406903 268.128 \r\nL 650.406903 235.512 \r\n\" style=\"fill:#0cf4eb;\"/>\r\n    <path clip-path=\"url(#p88245d997b)\" d=\"M 683.230432 235.512 \r\nL 716.053961 235.512 \r\nL 716.053961 268.128 \r\nL 683.230432 268.128 \r\nL 683.230432 235.512 \r\n\" style=\"fill:#0000d1;\"/>\r\n    <path clip-path=\"url(#p88245d997b)\" d=\"M 716.053961 235.512 \r\nL 748.877491 235.512 \r\nL 748.877491 268.128 \r\nL 716.053961 268.128 \r\nL 716.053961 235.512 \r\n\" style=\"fill:#0000da;\"/>\r\n    <path clip-path=\"url(#p88245d997b)\" d=\"M 748.877491 235.512 \r\nL 781.70102 235.512 \r\nL 781.70102 268.128 \r\nL 748.877491 268.128 \r\nL 748.877491 235.512 \r\n\" style=\"fill:#0000d1;\"/>\r\n    <path clip-path=\"url(#p88245d997b)\" d=\"M 781.70102 235.512 \r\nL 814.52455 235.512 \r\nL 814.52455 268.128 \r\nL 781.70102 268.128 \r\nL 781.70102 235.512 \r\n\" style=\"fill:#0000da;\"/>\r\n    <path clip-path=\"url(#p88245d997b)\" d=\"M 814.52455 235.512 \r\nL 847.348079 235.512 \r\nL 847.348079 268.128 \r\nL 814.52455 268.128 \r\nL 814.52455 235.512 \r\n\" style=\"fill:#0000da;\"/>\r\n    <path clip-path=\"url(#p88245d997b)\" d=\"M 847.348079 235.512 \r\nL 880.171608 235.512 \r\nL 880.171608 268.128 \r\nL 847.348079 268.128 \r\nL 847.348079 235.512 \r\n\" style=\"fill:#0000d6;\"/>\r\n    <path clip-path=\"url(#p88245d997b)\" d=\"M 880.171608 235.512 \r\nL 912.995138 235.512 \r\nL 912.995138 268.128 \r\nL 880.171608 268.128 \r\nL 880.171608 235.512 \r\n\" style=\"fill:#0000d6;\"/>\r\n    <path clip-path=\"url(#p88245d997b)\" d=\"M 912.995138 235.512 \r\nL 945.818667 235.512 \r\nL 945.818667 268.128 \r\nL 912.995138 268.128 \r\nL 912.995138 235.512 \r\n\" style=\"fill:#0000d6;\"/>\r\n    <path clip-path=\"url(#p88245d997b)\" d=\"M 945.818667 235.512 \r\nL 978.642197 235.512 \r\nL 978.642197 268.128 \r\nL 945.818667 268.128 \r\nL 945.818667 235.512 \r\n\" style=\"fill:#0000d6;\"/>\r\n    <path clip-path=\"url(#p88245d997b)\" d=\"M 978.642197 235.512 \r\nL 1011.465726 235.512 \r\nL 1011.465726 268.128 \r\nL 978.642197 268.128 \r\nL 978.642197 235.512 \r\n\" style=\"fill:#0000d6;\"/>\r\n    <path clip-path=\"url(#p88245d997b)\" d=\"M 1011.465726 235.512 \r\nL 1044.289256 235.512 \r\nL 1044.289256 268.128 \r\nL 1011.465726 268.128 \r\nL 1011.465726 235.512 \r\n\" style=\"fill:#0000d6;\"/>\r\n    <path clip-path=\"url(#p88245d997b)\" d=\"M 1044.289256 235.512 \r\nL 1077.112785 235.512 \r\nL 1077.112785 268.128 \r\nL 1044.289256 268.128 \r\nL 1044.289256 235.512 \r\n\" style=\"fill:#0000da;\"/>\r\n    <path clip-path=\"url(#p88245d997b)\" d=\"M 1077.112785 235.512 \r\nL 1109.936314 235.512 \r\nL 1109.936314 268.128 \r\nL 1077.112785 268.128 \r\nL 1077.112785 235.512 \r\n\" style=\"fill:#0000d6;\"/>\r\n    <path clip-path=\"url(#p88245d997b)\" d=\"M 1109.936314 235.512 \r\nL 1142.759844 235.512 \r\nL 1142.759844 268.128 \r\nL 1109.936314 268.128 \r\nL 1109.936314 235.512 \r\n\" style=\"fill:#0000d6;\"/>\r\n    <path clip-path=\"url(#p88245d997b)\" d=\"M 26.759844 268.128 \r\nL 59.583373 268.128 \r\nL 59.583373 300.744 \r\nL 26.759844 300.744 \r\nL 26.759844 268.128 \r\n\" style=\"fill:#00b0ff;\"/>\r\n    <path clip-path=\"url(#p88245d997b)\" d=\"M 59.583373 268.128 \r\nL 92.406903 268.128 \r\nL 92.406903 300.744 \r\nL 59.583373 300.744 \r\nL 59.583373 268.128 \r\n\" style=\"fill:#00d4ff;\"/>\r\n    <path clip-path=\"url(#p88245d997b)\" d=\"M 92.406903 268.128 \r\nL 125.230432 268.128 \r\nL 125.230432 300.744 \r\nL 92.406903 300.744 \r\nL 92.406903 268.128 \r\n\" style=\"fill:#00e0fb;\"/>\r\n    <path clip-path=\"url(#p88245d997b)\" d=\"M 125.230432 268.128 \r\nL 158.053961 268.128 \r\nL 158.053961 300.744 \r\nL 125.230432 300.744 \r\nL 125.230432 268.128 \r\n\" style=\"fill:#00dcfe;\"/>\r\n    <path clip-path=\"url(#p88245d997b)\" d=\"M 158.053961 268.128 \r\nL 190.877491 268.128 \r\nL 190.877491 300.744 \r\nL 158.053961 300.744 \r\nL 158.053961 268.128 \r\n\" style=\"fill:#00e4f8;\"/>\r\n    <path clip-path=\"url(#p88245d997b)\" d=\"M 190.877491 268.128 \r\nL 223.70102 268.128 \r\nL 223.70102 300.744 \r\nL 190.877491 300.744 \r\nL 190.877491 268.128 \r\n\" style=\"fill:#00e0fb;\"/>\r\n    <path clip-path=\"url(#p88245d997b)\" d=\"M 223.70102 268.128 \r\nL 256.52455 268.128 \r\nL 256.52455 300.744 \r\nL 223.70102 300.744 \r\nL 223.70102 268.128 \r\n\" style=\"fill:#06ecf1;\"/>\r\n    <path clip-path=\"url(#p88245d997b)\" d=\"M 256.52455 268.128 \r\nL 289.348079 268.128 \r\nL 289.348079 300.744 \r\nL 256.52455 300.744 \r\nL 256.52455 268.128 \r\n\" style=\"fill:#2cffca;\"/>\r\n    <path clip-path=\"url(#p88245d997b)\" d=\"M 289.348079 268.128 \r\nL 322.171608 268.128 \r\nL 322.171608 300.744 \r\nL 289.348079 300.744 \r\nL 289.348079 268.128 \r\n\" style=\"fill:#0cf4eb;\"/>\r\n    <path clip-path=\"url(#p88245d997b)\" d=\"M 322.171608 268.128 \r\nL 354.995138 268.128 \r\nL 354.995138 300.744 \r\nL 322.171608 300.744 \r\nL 322.171608 268.128 \r\n\" style=\"fill:#19ffde;\"/>\r\n    <path clip-path=\"url(#p88245d997b)\" d=\"M 354.995138 268.128 \r\nL 387.818667 268.128 \r\nL 387.818667 300.744 \r\nL 354.995138 300.744 \r\nL 354.995138 268.128 \r\n\" style=\"fill:#23ffd4;\"/>\r\n    <path clip-path=\"url(#p88245d997b)\" d=\"M 387.818667 268.128 \r\nL 420.642197 268.128 \r\nL 420.642197 300.744 \r\nL 387.818667 300.744 \r\nL 387.818667 268.128 \r\n\" style=\"fill:#30ffc7;\"/>\r\n    <path clip-path=\"url(#p88245d997b)\" d=\"M 420.642197 268.128 \r\nL 453.465726 268.128 \r\nL 453.465726 300.744 \r\nL 420.642197 300.744 \r\nL 420.642197 268.128 \r\n\" style=\"fill:#33ffc4;\"/>\r\n    <path clip-path=\"url(#p88245d997b)\" d=\"M 453.465726 268.128 \r\nL 486.289256 268.128 \r\nL 486.289256 300.744 \r\nL 453.465726 300.744 \r\nL 453.465726 268.128 \r\n\" style=\"fill:#19ffde;\"/>\r\n    <path clip-path=\"url(#p88245d997b)\" d=\"M 486.289256 268.128 \r\nL 519.112785 268.128 \r\nL 519.112785 300.744 \r\nL 486.289256 300.744 \r\nL 486.289256 268.128 \r\n\" style=\"fill:#29ffce;\"/>\r\n    <path clip-path=\"url(#p88245d997b)\" d=\"M 519.112785 268.128 \r\nL 551.936314 268.128 \r\nL 551.936314 300.744 \r\nL 519.112785 300.744 \r\nL 519.112785 268.128 \r\n\" style=\"fill:#0cf4eb;\"/>\r\n    <path clip-path=\"url(#p88245d997b)\" d=\"M 551.936314 268.128 \r\nL 584.759844 268.128 \r\nL 584.759844 300.744 \r\nL 551.936314 300.744 \r\nL 551.936314 268.128 \r\n\" style=\"fill:#3cffba;\"/>\r\n    <path clip-path=\"url(#p88245d997b)\" d=\"M 584.759844 268.128 \r\nL 617.583373 268.128 \r\nL 617.583373 300.744 \r\nL 584.759844 300.744 \r\nL 584.759844 268.128 \r\n\" style=\"fill:#26ffd1;\"/>\r\n    <path clip-path=\"url(#p88245d997b)\" d=\"M 617.583373 268.128 \r\nL 650.406903 268.128 \r\nL 650.406903 300.744 \r\nL 617.583373 300.744 \r\nL 617.583373 268.128 \r\n\" style=\"fill:#26ffd1;\"/>\r\n    <path clip-path=\"url(#p88245d997b)\" d=\"M 650.406903 268.128 \r\nL 683.230432 268.128 \r\nL 683.230432 300.744 \r\nL 650.406903 300.744 \r\nL 650.406903 268.128 \r\n\" style=\"fill:#29ffce;\"/>\r\n    <path clip-path=\"url(#p88245d997b)\" d=\"M 683.230432 268.128 \r\nL 716.053961 268.128 \r\nL 716.053961 300.744 \r\nL 683.230432 300.744 \r\nL 683.230432 268.128 \r\n\" style=\"fill:#0000df;\"/>\r\n    <path clip-path=\"url(#p88245d997b)\" d=\"M 716.053961 268.128 \r\nL 748.877491 268.128 \r\nL 748.877491 300.744 \r\nL 716.053961 300.744 \r\nL 716.053961 268.128 \r\n\" style=\"fill:#0000e8;\"/>\r\n    <path clip-path=\"url(#p88245d997b)\" d=\"M 748.877491 268.128 \r\nL 781.70102 268.128 \r\nL 781.70102 300.744 \r\nL 748.877491 300.744 \r\nL 748.877491 268.128 \r\n\" style=\"fill:#0000da;\"/>\r\n    <path clip-path=\"url(#p88245d997b)\" d=\"M 781.70102 268.128 \r\nL 814.52455 268.128 \r\nL 814.52455 300.744 \r\nL 781.70102 300.744 \r\nL 781.70102 268.128 \r\n\" style=\"fill:#0000e3;\"/>\r\n    <path clip-path=\"url(#p88245d997b)\" d=\"M 814.52455 268.128 \r\nL 847.348079 268.128 \r\nL 847.348079 300.744 \r\nL 814.52455 300.744 \r\nL 814.52455 268.128 \r\n\" style=\"fill:#0000e8;\"/>\r\n    <path clip-path=\"url(#p88245d997b)\" d=\"M 847.348079 268.128 \r\nL 880.171608 268.128 \r\nL 880.171608 300.744 \r\nL 847.348079 300.744 \r\nL 847.348079 268.128 \r\n\" style=\"fill:#0000d6;\"/>\r\n    <path clip-path=\"url(#p88245d997b)\" d=\"M 880.171608 268.128 \r\nL 912.995138 268.128 \r\nL 912.995138 300.744 \r\nL 880.171608 300.744 \r\nL 880.171608 268.128 \r\n\" style=\"fill:#0000df;\"/>\r\n    <path clip-path=\"url(#p88245d997b)\" d=\"M 912.995138 268.128 \r\nL 945.818667 268.128 \r\nL 945.818667 300.744 \r\nL 912.995138 300.744 \r\nL 912.995138 268.128 \r\n\" style=\"fill:#0000e3;\"/>\r\n    <path clip-path=\"url(#p88245d997b)\" d=\"M 945.818667 268.128 \r\nL 978.642197 268.128 \r\nL 978.642197 300.744 \r\nL 945.818667 300.744 \r\nL 945.818667 268.128 \r\n\" style=\"fill:#0000df;\"/>\r\n    <path clip-path=\"url(#p88245d997b)\" d=\"M 978.642197 268.128 \r\nL 1011.465726 268.128 \r\nL 1011.465726 300.744 \r\nL 978.642197 300.744 \r\nL 978.642197 268.128 \r\n\" style=\"fill:#0000e3;\"/>\r\n    <path clip-path=\"url(#p88245d997b)\" d=\"M 1011.465726 268.128 \r\nL 1044.289256 268.128 \r\nL 1044.289256 300.744 \r\nL 1011.465726 300.744 \r\nL 1011.465726 268.128 \r\n\" style=\"fill:#0000e3;\"/>\r\n    <path clip-path=\"url(#p88245d997b)\" d=\"M 1044.289256 268.128 \r\nL 1077.112785 268.128 \r\nL 1077.112785 300.744 \r\nL 1044.289256 300.744 \r\nL 1044.289256 268.128 \r\n\" style=\"fill:#0000e3;\"/>\r\n    <path clip-path=\"url(#p88245d997b)\" d=\"M 1077.112785 268.128 \r\nL 1109.936314 268.128 \r\nL 1109.936314 300.744 \r\nL 1077.112785 300.744 \r\nL 1077.112785 268.128 \r\n\" style=\"fill:#0000e3;\"/>\r\n    <path clip-path=\"url(#p88245d997b)\" d=\"M 1109.936314 268.128 \r\nL 1142.759844 268.128 \r\nL 1142.759844 300.744 \r\nL 1109.936314 300.744 \r\nL 1109.936314 268.128 \r\n\" style=\"fill:#0000e3;\"/>\r\n    <path clip-path=\"url(#p88245d997b)\" d=\"M 26.759844 300.744 \r\nL 59.583373 300.744 \r\nL 59.583373 333.36 \r\nL 26.759844 333.36 \r\nL 26.759844 300.744 \r\n\" style=\"fill:#00dcfe;\"/>\r\n    <path clip-path=\"url(#p88245d997b)\" d=\"M 59.583373 300.744 \r\nL 92.406903 300.744 \r\nL 92.406903 333.36 \r\nL 59.583373 333.36 \r\nL 59.583373 300.744 \r\n\" style=\"fill:#13fce4;\"/>\r\n    <path clip-path=\"url(#p88245d997b)\" d=\"M 92.406903 300.744 \r\nL 125.230432 300.744 \r\nL 125.230432 333.36 \r\nL 92.406903 333.36 \r\nL 92.406903 300.744 \r\n\" style=\"fill:#16ffe1;\"/>\r\n    <path clip-path=\"url(#p88245d997b)\" d=\"M 125.230432 300.744 \r\nL 158.053961 300.744 \r\nL 158.053961 333.36 \r\nL 125.230432 333.36 \r\nL 125.230432 300.744 \r\n\" style=\"fill:#23ffd4;\"/>\r\n    <path clip-path=\"url(#p88245d997b)\" d=\"M 158.053961 300.744 \r\nL 190.877491 300.744 \r\nL 190.877491 333.36 \r\nL 158.053961 333.36 \r\nL 158.053961 300.744 \r\n\" style=\"fill:#29ffce;\"/>\r\n    <path clip-path=\"url(#p88245d997b)\" d=\"M 190.877491 300.744 \r\nL 223.70102 300.744 \r\nL 223.70102 333.36 \r\nL 190.877491 333.36 \r\nL 190.877491 300.744 \r\n\" style=\"fill:#09f0ee;\"/>\r\n    <path clip-path=\"url(#p88245d997b)\" d=\"M 223.70102 300.744 \r\nL 256.52455 300.744 \r\nL 256.52455 333.36 \r\nL 223.70102 333.36 \r\nL 223.70102 300.744 \r\n\" style=\"fill:#19ffde;\"/>\r\n    <path clip-path=\"url(#p88245d997b)\" d=\"M 256.52455 300.744 \r\nL 289.348079 300.744 \r\nL 289.348079 333.36 \r\nL 256.52455 333.36 \r\nL 256.52455 300.744 \r\n\" style=\"fill:#5aff9d;\"/>\r\n    <path clip-path=\"url(#p88245d997b)\" d=\"M 289.348079 300.744 \r\nL 322.171608 300.744 \r\nL 322.171608 333.36 \r\nL 289.348079 333.36 \r\nL 289.348079 300.744 \r\n\" style=\"fill:#36ffc1;\"/>\r\n    <path clip-path=\"url(#p88245d997b)\" d=\"M 322.171608 300.744 \r\nL 354.995138 300.744 \r\nL 354.995138 333.36 \r\nL 322.171608 333.36 \r\nL 322.171608 300.744 \r\n\" style=\"fill:#53ffa4;\"/>\r\n    <path clip-path=\"url(#p88245d997b)\" d=\"M 354.995138 300.744 \r\nL 387.818667 300.744 \r\nL 387.818667 333.36 \r\nL 354.995138 333.36 \r\nL 354.995138 300.744 \r\n\" style=\"fill:#4dffaa;\"/>\r\n    <path clip-path=\"url(#p88245d997b)\" d=\"M 387.818667 300.744 \r\nL 420.642197 300.744 \r\nL 420.642197 333.36 \r\nL 387.818667 333.36 \r\nL 387.818667 300.744 \r\n\" style=\"fill:#50ffa7;\"/>\r\n    <path clip-path=\"url(#p88245d997b)\" d=\"M 420.642197 300.744 \r\nL 453.465726 300.744 \r\nL 453.465726 333.36 \r\nL 420.642197 333.36 \r\nL 420.642197 300.744 \r\n\" style=\"fill:#5dff9a;\"/>\r\n    <path clip-path=\"url(#p88245d997b)\" d=\"M 453.465726 300.744 \r\nL 486.289256 300.744 \r\nL 486.289256 333.36 \r\nL 453.465726 333.36 \r\nL 453.465726 300.744 \r\n\" style=\"fill:#39ffbe;\"/>\r\n    <path clip-path=\"url(#p88245d997b)\" d=\"M 486.289256 300.744 \r\nL 519.112785 300.744 \r\nL 519.112785 333.36 \r\nL 486.289256 333.36 \r\nL 486.289256 300.744 \r\n\" style=\"fill:#43ffb4;\"/>\r\n    <path clip-path=\"url(#p88245d997b)\" d=\"M 519.112785 300.744 \r\nL 551.936314 300.744 \r\nL 551.936314 333.36 \r\nL 519.112785 333.36 \r\nL 519.112785 300.744 \r\n\" style=\"fill:#1cffdb;\"/>\r\n    <path clip-path=\"url(#p88245d997b)\" d=\"M 551.936314 300.744 \r\nL 584.759844 300.744 \r\nL 584.759844 333.36 \r\nL 551.936314 333.36 \r\nL 551.936314 300.744 \r\n\" style=\"fill:#4dffaa;\"/>\r\n    <path clip-path=\"url(#p88245d997b)\" d=\"M 584.759844 300.744 \r\nL 617.583373 300.744 \r\nL 617.583373 333.36 \r\nL 584.759844 333.36 \r\nL 584.759844 300.744 \r\n\" style=\"fill:#39ffbe;\"/>\r\n    <path clip-path=\"url(#p88245d997b)\" d=\"M 617.583373 300.744 \r\nL 650.406903 300.744 \r\nL 650.406903 333.36 \r\nL 617.583373 333.36 \r\nL 617.583373 300.744 \r\n\" style=\"fill:#60ff97;\"/>\r\n    <path clip-path=\"url(#p88245d997b)\" d=\"M 650.406903 300.744 \r\nL 683.230432 300.744 \r\nL 683.230432 333.36 \r\nL 650.406903 333.36 \r\nL 650.406903 300.744 \r\n\" style=\"fill:#53ffa4;\"/>\r\n    <path clip-path=\"url(#p88245d997b)\" d=\"M 683.230432 300.744 \r\nL 716.053961 300.744 \r\nL 716.053961 333.36 \r\nL 683.230432 333.36 \r\nL 683.230432 300.744 \r\n\" style=\"fill:#0000e3;\"/>\r\n    <path clip-path=\"url(#p88245d997b)\" d=\"M 716.053961 300.744 \r\nL 748.877491 300.744 \r\nL 748.877491 333.36 \r\nL 716.053961 333.36 \r\nL 716.053961 300.744 \r\n\" style=\"fill:#0000f1;\"/>\r\n    <path clip-path=\"url(#p88245d997b)\" d=\"M 748.877491 300.744 \r\nL 781.70102 300.744 \r\nL 781.70102 333.36 \r\nL 748.877491 333.36 \r\nL 748.877491 300.744 \r\n\" style=\"fill:#0000f6;\"/>\r\n    <path clip-path=\"url(#p88245d997b)\" d=\"M 781.70102 300.744 \r\nL 814.52455 300.744 \r\nL 814.52455 333.36 \r\nL 781.70102 333.36 \r\nL 781.70102 300.744 \r\n\" style=\"fill:#0000f1;\"/>\r\n    <path clip-path=\"url(#p88245d997b)\" d=\"M 814.52455 300.744 \r\nL 847.348079 300.744 \r\nL 847.348079 333.36 \r\nL 814.52455 333.36 \r\nL 814.52455 300.744 \r\n\" style=\"fill:#0000f6;\"/>\r\n    <path clip-path=\"url(#p88245d997b)\" d=\"M 847.348079 300.744 \r\nL 880.171608 300.744 \r\nL 880.171608 333.36 \r\nL 847.348079 333.36 \r\nL 847.348079 300.744 \r\n\" style=\"fill:#0000f1;\"/>\r\n    <path clip-path=\"url(#p88245d997b)\" d=\"M 880.171608 300.744 \r\nL 912.995138 300.744 \r\nL 912.995138 333.36 \r\nL 880.171608 333.36 \r\nL 880.171608 300.744 \r\n\" style=\"fill:#0000f1;\"/>\r\n    <path clip-path=\"url(#p88245d997b)\" d=\"M 912.995138 300.744 \r\nL 945.818667 300.744 \r\nL 945.818667 333.36 \r\nL 912.995138 333.36 \r\nL 912.995138 300.744 \r\n\" style=\"fill:#0000f1;\"/>\r\n    <path clip-path=\"url(#p88245d997b)\" d=\"M 945.818667 300.744 \r\nL 978.642197 300.744 \r\nL 978.642197 333.36 \r\nL 945.818667 333.36 \r\nL 945.818667 300.744 \r\n\" style=\"fill:#0000f1;\"/>\r\n    <path clip-path=\"url(#p88245d997b)\" d=\"M 978.642197 300.744 \r\nL 1011.465726 300.744 \r\nL 1011.465726 333.36 \r\nL 978.642197 333.36 \r\nL 978.642197 300.744 \r\n\" style=\"fill:#0000f6;\"/>\r\n    <path clip-path=\"url(#p88245d997b)\" d=\"M 1011.465726 300.744 \r\nL 1044.289256 300.744 \r\nL 1044.289256 333.36 \r\nL 1011.465726 333.36 \r\nL 1011.465726 300.744 \r\n\" style=\"fill:#0000ed;\"/>\r\n    <path clip-path=\"url(#p88245d997b)\" d=\"M 1044.289256 300.744 \r\nL 1077.112785 300.744 \r\nL 1077.112785 333.36 \r\nL 1044.289256 333.36 \r\nL 1044.289256 300.744 \r\n\" style=\"fill:#0000f1;\"/>\r\n    <path clip-path=\"url(#p88245d997b)\" d=\"M 1077.112785 300.744 \r\nL 1109.936314 300.744 \r\nL 1109.936314 333.36 \r\nL 1077.112785 333.36 \r\nL 1077.112785 300.744 \r\n\" style=\"fill:#0000ed;\"/>\r\n    <path clip-path=\"url(#p88245d997b)\" d=\"M 1109.936314 300.744 \r\nL 1142.759844 300.744 \r\nL 1142.759844 333.36 \r\nL 1109.936314 333.36 \r\nL 1109.936314 300.744 \r\n\" style=\"fill:#0000ed;\"/>\r\n    <path clip-path=\"url(#p88245d997b)\" d=\"M 26.759844 333.36 \r\nL 59.583373 333.36 \r\nL 59.583373 365.976 \r\nL 26.759844 365.976 \r\nL 26.759844 333.36 \r\n\" style=\"fill:#66ff90;\"/>\r\n    <path clip-path=\"url(#p88245d997b)\" d=\"M 59.583373 333.36 \r\nL 92.406903 333.36 \r\nL 92.406903 365.976 \r\nL 59.583373 365.976 \r\nL 59.583373 333.36 \r\n\" style=\"fill:#7dff7a;\"/>\r\n    <path clip-path=\"url(#p88245d997b)\" d=\"M 92.406903 333.36 \r\nL 125.230432 333.36 \r\nL 125.230432 365.976 \r\nL 92.406903 365.976 \r\nL 92.406903 333.36 \r\n\" style=\"fill:#8dff6a;\"/>\r\n    <path clip-path=\"url(#p88245d997b)\" d=\"M 125.230432 333.36 \r\nL 158.053961 333.36 \r\nL 158.053961 365.976 \r\nL 125.230432 365.976 \r\nL 125.230432 333.36 \r\n\" style=\"fill:#66ff90;\"/>\r\n    <path clip-path=\"url(#p88245d997b)\" d=\"M 158.053961 333.36 \r\nL 190.877491 333.36 \r\nL 190.877491 365.976 \r\nL 158.053961 365.976 \r\nL 158.053961 333.36 \r\n\" style=\"fill:#94ff63;\"/>\r\n    <path clip-path=\"url(#p88245d997b)\" d=\"M 190.877491 333.36 \r\nL 223.70102 333.36 \r\nL 223.70102 365.976 \r\nL 190.877491 365.976 \r\nL 190.877491 333.36 \r\n\" style=\"fill:#90ff66;\"/>\r\n    <path clip-path=\"url(#p88245d997b)\" d=\"M 223.70102 333.36 \r\nL 256.52455 333.36 \r\nL 256.52455 365.976 \r\nL 223.70102 365.976 \r\nL 223.70102 333.36 \r\n\" style=\"fill:#90ff66;\"/>\r\n    <path clip-path=\"url(#p88245d997b)\" d=\"M 256.52455 333.36 \r\nL 289.348079 333.36 \r\nL 289.348079 365.976 \r\nL 256.52455 365.976 \r\nL 256.52455 333.36 \r\n\" style=\"fill:#ceff29;\"/>\r\n    <path clip-path=\"url(#p88245d997b)\" d=\"M 289.348079 333.36 \r\nL 322.171608 333.36 \r\nL 322.171608 365.976 \r\nL 289.348079 365.976 \r\nL 289.348079 333.36 \r\n\" style=\"fill:#7dff7a;\"/>\r\n    <path clip-path=\"url(#p88245d997b)\" d=\"M 322.171608 333.36 \r\nL 354.995138 333.36 \r\nL 354.995138 365.976 \r\nL 322.171608 365.976 \r\nL 322.171608 333.36 \r\n\" style=\"fill:#d1ff26;\"/>\r\n    <path clip-path=\"url(#p88245d997b)\" d=\"M 354.995138 333.36 \r\nL 387.818667 333.36 \r\nL 387.818667 365.976 \r\nL 354.995138 365.976 \r\nL 354.995138 333.36 \r\n\" style=\"fill:#baff3c;\"/>\r\n    <path clip-path=\"url(#p88245d997b)\" d=\"M 387.818667 333.36 \r\nL 420.642197 333.36 \r\nL 420.642197 365.976 \r\nL 387.818667 365.976 \r\nL 387.818667 333.36 \r\n\" style=\"fill:#a4ff53;\"/>\r\n    <path clip-path=\"url(#p88245d997b)\" d=\"M 420.642197 333.36 \r\nL 453.465726 333.36 \r\nL 453.465726 365.976 \r\nL 420.642197 365.976 \r\nL 420.642197 333.36 \r\n\" style=\"fill:#adff49;\"/>\r\n    <path clip-path=\"url(#p88245d997b)\" d=\"M 453.465726 333.36 \r\nL 486.289256 333.36 \r\nL 486.289256 365.976 \r\nL 453.465726 365.976 \r\nL 453.465726 333.36 \r\n\" style=\"fill:#9aff5d;\"/>\r\n    <path clip-path=\"url(#p88245d997b)\" d=\"M 486.289256 333.36 \r\nL 519.112785 333.36 \r\nL 519.112785 365.976 \r\nL 486.289256 365.976 \r\nL 486.289256 333.36 \r\n\" style=\"fill:#c1ff36;\"/>\r\n    <path clip-path=\"url(#p88245d997b)\" d=\"M 519.112785 333.36 \r\nL 551.936314 333.36 \r\nL 551.936314 365.976 \r\nL 519.112785 365.976 \r\nL 519.112785 333.36 \r\n\" style=\"fill:#a7ff50;\"/>\r\n    <path clip-path=\"url(#p88245d997b)\" d=\"M 551.936314 333.36 \r\nL 584.759844 333.36 \r\nL 584.759844 365.976 \r\nL 551.936314 365.976 \r\nL 551.936314 333.36 \r\n\" style=\"fill:#b4ff43;\"/>\r\n    <path clip-path=\"url(#p88245d997b)\" d=\"M 584.759844 333.36 \r\nL 617.583373 333.36 \r\nL 617.583373 365.976 \r\nL 584.759844 365.976 \r\nL 584.759844 333.36 \r\n\" style=\"fill:#aaff4d;\"/>\r\n    <path clip-path=\"url(#p88245d997b)\" d=\"M 617.583373 333.36 \r\nL 650.406903 333.36 \r\nL 650.406903 365.976 \r\nL 617.583373 365.976 \r\nL 617.583373 333.36 \r\n\" style=\"fill:#ceff29;\"/>\r\n    <path clip-path=\"url(#p88245d997b)\" d=\"M 650.406903 333.36 \r\nL 683.230432 333.36 \r\nL 683.230432 365.976 \r\nL 650.406903 365.976 \r\nL 650.406903 333.36 \r\n\" style=\"fill:#d4ff23;\"/>\r\n    <path clip-path=\"url(#p88245d997b)\" d=\"M 683.230432 333.36 \r\nL 716.053961 333.36 \r\nL 716.053961 365.976 \r\nL 683.230432 365.976 \r\nL 683.230432 333.36 \r\n\" style=\"fill:#0018ff;\"/>\r\n    <path clip-path=\"url(#p88245d997b)\" d=\"M 716.053961 333.36 \r\nL 748.877491 333.36 \r\nL 748.877491 365.976 \r\nL 716.053961 365.976 \r\nL 716.053961 333.36 \r\n\" style=\"fill:#0010ff;\"/>\r\n    <path clip-path=\"url(#p88245d997b)\" d=\"M 748.877491 333.36 \r\nL 781.70102 333.36 \r\nL 781.70102 365.976 \r\nL 748.877491 365.976 \r\nL 748.877491 333.36 \r\n\" style=\"fill:#000cff;\"/>\r\n    <path clip-path=\"url(#p88245d997b)\" d=\"M 781.70102 333.36 \r\nL 814.52455 333.36 \r\nL 814.52455 365.976 \r\nL 781.70102 365.976 \r\nL 781.70102 333.36 \r\n\" style=\"fill:#0010ff;\"/>\r\n    <path clip-path=\"url(#p88245d997b)\" d=\"M 814.52455 333.36 \r\nL 847.348079 333.36 \r\nL 847.348079 365.976 \r\nL 814.52455 365.976 \r\nL 814.52455 333.36 \r\n\" style=\"fill:#0018ff;\"/>\r\n    <path clip-path=\"url(#p88245d997b)\" d=\"M 847.348079 333.36 \r\nL 880.171608 333.36 \r\nL 880.171608 365.976 \r\nL 847.348079 365.976 \r\nL 847.348079 333.36 \r\n\" style=\"fill:#0010ff;\"/>\r\n    <path clip-path=\"url(#p88245d997b)\" d=\"M 880.171608 333.36 \r\nL 912.995138 333.36 \r\nL 912.995138 365.976 \r\nL 880.171608 365.976 \r\nL 880.171608 333.36 \r\n\" style=\"fill:#0014ff;\"/>\r\n    <path clip-path=\"url(#p88245d997b)\" d=\"M 912.995138 333.36 \r\nL 945.818667 333.36 \r\nL 945.818667 365.976 \r\nL 912.995138 365.976 \r\nL 912.995138 333.36 \r\n\" style=\"fill:#001cff;\"/>\r\n    <path clip-path=\"url(#p88245d997b)\" d=\"M 945.818667 333.36 \r\nL 978.642197 333.36 \r\nL 978.642197 365.976 \r\nL 945.818667 365.976 \r\nL 945.818667 333.36 \r\n\" style=\"fill:#001cff;\"/>\r\n    <path clip-path=\"url(#p88245d997b)\" d=\"M 978.642197 333.36 \r\nL 1011.465726 333.36 \r\nL 1011.465726 365.976 \r\nL 978.642197 365.976 \r\nL 978.642197 333.36 \r\n\" style=\"fill:#0018ff;\"/>\r\n    <path clip-path=\"url(#p88245d997b)\" d=\"M 1011.465726 333.36 \r\nL 1044.289256 333.36 \r\nL 1044.289256 365.976 \r\nL 1011.465726 365.976 \r\nL 1011.465726 333.36 \r\n\" style=\"fill:#001cff;\"/>\r\n    <path clip-path=\"url(#p88245d997b)\" d=\"M 1044.289256 333.36 \r\nL 1077.112785 333.36 \r\nL 1077.112785 365.976 \r\nL 1044.289256 365.976 \r\nL 1044.289256 333.36 \r\n\" style=\"fill:#0014ff;\"/>\r\n    <path clip-path=\"url(#p88245d997b)\" d=\"M 1077.112785 333.36 \r\nL 1109.936314 333.36 \r\nL 1109.936314 365.976 \r\nL 1077.112785 365.976 \r\nL 1077.112785 333.36 \r\n\" style=\"fill:#001cff;\"/>\r\n    <path clip-path=\"url(#p88245d997b)\" d=\"M 1109.936314 333.36 \r\nL 1142.759844 333.36 \r\nL 1142.759844 365.976 \r\nL 1109.936314 365.976 \r\nL 1109.936314 333.36 \r\n\" style=\"fill:#0020ff;\"/>\r\n    <path clip-path=\"url(#p88245d997b)\" d=\"M 26.759844 365.976 \r\nL 59.583373 365.976 \r\nL 59.583373 398.592 \r\nL 26.759844 398.592 \r\nL 26.759844 365.976 \r\n\" style=\"fill:#39ffbe;\"/>\r\n    <path clip-path=\"url(#p88245d997b)\" d=\"M 59.583373 365.976 \r\nL 92.406903 365.976 \r\nL 92.406903 398.592 \r\nL 59.583373 398.592 \r\nL 59.583373 365.976 \r\n\" style=\"fill:#60ff97;\"/>\r\n    <path clip-path=\"url(#p88245d997b)\" d=\"M 92.406903 365.976 \r\nL 125.230432 365.976 \r\nL 125.230432 398.592 \r\nL 92.406903 398.592 \r\nL 92.406903 365.976 \r\n\" style=\"fill:#5aff9d;\"/>\r\n    <path clip-path=\"url(#p88245d997b)\" d=\"M 125.230432 365.976 \r\nL 158.053961 365.976 \r\nL 158.053961 398.592 \r\nL 125.230432 398.592 \r\nL 125.230432 365.976 \r\n\" style=\"fill:#46ffb1;\"/>\r\n    <path clip-path=\"url(#p88245d997b)\" d=\"M 158.053961 365.976 \r\nL 190.877491 365.976 \r\nL 190.877491 398.592 \r\nL 158.053961 398.592 \r\nL 158.053961 365.976 \r\n\" style=\"fill:#5aff9d;\"/>\r\n    <path clip-path=\"url(#p88245d997b)\" d=\"M 190.877491 365.976 \r\nL 223.70102 365.976 \r\nL 223.70102 398.592 \r\nL 190.877491 398.592 \r\nL 190.877491 365.976 \r\n\" style=\"fill:#5aff9d;\"/>\r\n    <path clip-path=\"url(#p88245d997b)\" d=\"M 223.70102 365.976 \r\nL 256.52455 365.976 \r\nL 256.52455 398.592 \r\nL 223.70102 398.592 \r\nL 223.70102 365.976 \r\n\" style=\"fill:#7aff7d;\"/>\r\n    <path clip-path=\"url(#p88245d997b)\" d=\"M 256.52455 365.976 \r\nL 289.348079 365.976 \r\nL 289.348079 398.592 \r\nL 256.52455 398.592 \r\nL 256.52455 365.976 \r\n\" style=\"fill:#b4ff43;\"/>\r\n    <path clip-path=\"url(#p88245d997b)\" d=\"M 289.348079 365.976 \r\nL 322.171608 365.976 \r\nL 322.171608 398.592 \r\nL 289.348079 398.592 \r\nL 289.348079 365.976 \r\n\" style=\"fill:#87ff70;\"/>\r\n    <path clip-path=\"url(#p88245d997b)\" d=\"M 322.171608 365.976 \r\nL 354.995138 365.976 \r\nL 354.995138 398.592 \r\nL 322.171608 398.592 \r\nL 322.171608 365.976 \r\n\" style=\"fill:#c4ff33;\"/>\r\n    <path clip-path=\"url(#p88245d997b)\" d=\"M 354.995138 365.976 \r\nL 387.818667 365.976 \r\nL 387.818667 398.592 \r\nL 354.995138 398.592 \r\nL 354.995138 365.976 \r\n\" style=\"fill:#9aff5d;\"/>\r\n    <path clip-path=\"url(#p88245d997b)\" d=\"M 387.818667 365.976 \r\nL 420.642197 365.976 \r\nL 420.642197 398.592 \r\nL 387.818667 398.592 \r\nL 387.818667 365.976 \r\n\" style=\"fill:#97ff60;\"/>\r\n    <path clip-path=\"url(#p88245d997b)\" d=\"M 420.642197 365.976 \r\nL 453.465726 365.976 \r\nL 453.465726 398.592 \r\nL 420.642197 398.592 \r\nL 420.642197 365.976 \r\n\" style=\"fill:#baff3c;\"/>\r\n    <path clip-path=\"url(#p88245d997b)\" d=\"M 453.465726 365.976 \r\nL 486.289256 365.976 \r\nL 486.289256 398.592 \r\nL 453.465726 398.592 \r\nL 453.465726 365.976 \r\n\" style=\"fill:#83ff73;\"/>\r\n    <path clip-path=\"url(#p88245d997b)\" d=\"M 486.289256 365.976 \r\nL 519.112785 365.976 \r\nL 519.112785 398.592 \r\nL 486.289256 398.592 \r\nL 486.289256 365.976 \r\n\" style=\"fill:#94ff63;\"/>\r\n    <path clip-path=\"url(#p88245d997b)\" d=\"M 519.112785 365.976 \r\nL 551.936314 365.976 \r\nL 551.936314 398.592 \r\nL 519.112785 398.592 \r\nL 519.112785 365.976 \r\n\" style=\"fill:#90ff66;\"/>\r\n    <path clip-path=\"url(#p88245d997b)\" d=\"M 551.936314 365.976 \r\nL 584.759844 365.976 \r\nL 584.759844 398.592 \r\nL 551.936314 398.592 \r\nL 551.936314 365.976 \r\n\" style=\"fill:#a7ff50;\"/>\r\n    <path clip-path=\"url(#p88245d997b)\" d=\"M 584.759844 365.976 \r\nL 617.583373 365.976 \r\nL 617.583373 398.592 \r\nL 584.759844 398.592 \r\nL 584.759844 365.976 \r\n\" style=\"fill:#87ff70;\"/>\r\n    <path clip-path=\"url(#p88245d997b)\" d=\"M 617.583373 365.976 \r\nL 650.406903 365.976 \r\nL 650.406903 398.592 \r\nL 617.583373 398.592 \r\nL 617.583373 365.976 \r\n\" style=\"fill:#adff49;\"/>\r\n    <path clip-path=\"url(#p88245d997b)\" d=\"M 650.406903 365.976 \r\nL 683.230432 365.976 \r\nL 683.230432 398.592 \r\nL 650.406903 398.592 \r\nL 650.406903 365.976 \r\n\" style=\"fill:#b1ff46;\"/>\r\n    <path clip-path=\"url(#p88245d997b)\" d=\"M 683.230432 365.976 \r\nL 716.053961 365.976 \r\nL 716.053961 398.592 \r\nL 683.230432 398.592 \r\nL 683.230432 365.976 \r\n\" style=\"fill:#0000ff;\"/>\r\n    <path clip-path=\"url(#p88245d997b)\" d=\"M 716.053961 365.976 \r\nL 748.877491 365.976 \r\nL 748.877491 398.592 \r\nL 716.053961 398.592 \r\nL 716.053961 365.976 \r\n\" style=\"fill:#0000ff;\"/>\r\n    <path clip-path=\"url(#p88245d997b)\" d=\"M 748.877491 365.976 \r\nL 781.70102 365.976 \r\nL 781.70102 398.592 \r\nL 748.877491 398.592 \r\nL 748.877491 365.976 \r\n\" style=\"fill:#0000ff;\"/>\r\n    <path clip-path=\"url(#p88245d997b)\" d=\"M 781.70102 365.976 \r\nL 814.52455 365.976 \r\nL 814.52455 398.592 \r\nL 781.70102 398.592 \r\nL 781.70102 365.976 \r\n\" style=\"fill:#0000ff;\"/>\r\n    <path clip-path=\"url(#p88245d997b)\" d=\"M 814.52455 365.976 \r\nL 847.348079 365.976 \r\nL 847.348079 398.592 \r\nL 814.52455 398.592 \r\nL 814.52455 365.976 \r\n\" style=\"fill:#0000ff;\"/>\r\n    <path clip-path=\"url(#p88245d997b)\" d=\"M 847.348079 365.976 \r\nL 880.171608 365.976 \r\nL 880.171608 398.592 \r\nL 847.348079 398.592 \r\nL 847.348079 365.976 \r\n\" style=\"fill:#0000ff;\"/>\r\n    <path clip-path=\"url(#p88245d997b)\" d=\"M 880.171608 365.976 \r\nL 912.995138 365.976 \r\nL 912.995138 398.592 \r\nL 880.171608 398.592 \r\nL 880.171608 365.976 \r\n\" style=\"fill:#0000ff;\"/>\r\n    <path clip-path=\"url(#p88245d997b)\" d=\"M 912.995138 365.976 \r\nL 945.818667 365.976 \r\nL 945.818667 398.592 \r\nL 912.995138 398.592 \r\nL 912.995138 365.976 \r\n\" style=\"fill:#0000ff;\"/>\r\n    <path clip-path=\"url(#p88245d997b)\" d=\"M 945.818667 365.976 \r\nL 978.642197 365.976 \r\nL 978.642197 398.592 \r\nL 945.818667 398.592 \r\nL 945.818667 365.976 \r\n\" style=\"fill:#0000ff;\"/>\r\n    <path clip-path=\"url(#p88245d997b)\" d=\"M 978.642197 365.976 \r\nL 1011.465726 365.976 \r\nL 1011.465726 398.592 \r\nL 978.642197 398.592 \r\nL 978.642197 365.976 \r\n\" style=\"fill:#0000ff;\"/>\r\n    <path clip-path=\"url(#p88245d997b)\" d=\"M 1011.465726 365.976 \r\nL 1044.289256 365.976 \r\nL 1044.289256 398.592 \r\nL 1011.465726 398.592 \r\nL 1011.465726 365.976 \r\n\" style=\"fill:#0000ff;\"/>\r\n    <path clip-path=\"url(#p88245d997b)\" d=\"M 1044.289256 365.976 \r\nL 1077.112785 365.976 \r\nL 1077.112785 398.592 \r\nL 1044.289256 398.592 \r\nL 1044.289256 365.976 \r\n\" style=\"fill:#0000ff;\"/>\r\n    <path clip-path=\"url(#p88245d997b)\" d=\"M 1077.112785 365.976 \r\nL 1109.936314 365.976 \r\nL 1109.936314 398.592 \r\nL 1077.112785 398.592 \r\nL 1077.112785 365.976 \r\n\" style=\"fill:#0000ff;\"/>\r\n    <path clip-path=\"url(#p88245d997b)\" d=\"M 1109.936314 365.976 \r\nL 1142.759844 365.976 \r\nL 1142.759844 398.592 \r\nL 1109.936314 398.592 \r\nL 1109.936314 365.976 \r\n\" style=\"fill:#0000ff;\"/>\r\n    <path clip-path=\"url(#p88245d997b)\" d=\"M 26.759844 398.592 \r\nL 59.583373 398.592 \r\nL 59.583373 431.208 \r\nL 26.759844 431.208 \r\nL 26.759844 398.592 \r\n\" style=\"fill:#0024ff;\"/>\r\n    <path clip-path=\"url(#p88245d997b)\" d=\"M 59.583373 398.592 \r\nL 92.406903 398.592 \r\nL 92.406903 431.208 \r\nL 59.583373 431.208 \r\nL 59.583373 398.592 \r\n\" style=\"fill:#0020ff;\"/>\r\n    <path clip-path=\"url(#p88245d997b)\" d=\"M 92.406903 398.592 \r\nL 125.230432 398.592 \r\nL 125.230432 431.208 \r\nL 92.406903 431.208 \r\nL 92.406903 398.592 \r\n\" style=\"fill:#0024ff;\"/>\r\n    <path clip-path=\"url(#p88245d997b)\" d=\"M 125.230432 398.592 \r\nL 158.053961 398.592 \r\nL 158.053961 431.208 \r\nL 125.230432 431.208 \r\nL 125.230432 398.592 \r\n\" style=\"fill:#0024ff;\"/>\r\n    <path clip-path=\"url(#p88245d997b)\" d=\"M 158.053961 398.592 \r\nL 190.877491 398.592 \r\nL 190.877491 431.208 \r\nL 158.053961 431.208 \r\nL 158.053961 398.592 \r\n\" style=\"fill:#0028ff;\"/>\r\n    <path clip-path=\"url(#p88245d997b)\" d=\"M 190.877491 398.592 \r\nL 223.70102 398.592 \r\nL 223.70102 431.208 \r\nL 190.877491 431.208 \r\nL 190.877491 398.592 \r\n\" style=\"fill:#001cff;\"/>\r\n    <path clip-path=\"url(#p88245d997b)\" d=\"M 223.70102 398.592 \r\nL 256.52455 398.592 \r\nL 256.52455 431.208 \r\nL 223.70102 431.208 \r\nL 223.70102 398.592 \r\n\" style=\"fill:#0028ff;\"/>\r\n    <path clip-path=\"url(#p88245d997b)\" d=\"M 256.52455 398.592 \r\nL 289.348079 398.592 \r\nL 289.348079 431.208 \r\nL 256.52455 431.208 \r\nL 256.52455 398.592 \r\n\" style=\"fill:#0044ff;\"/>\r\n    <path clip-path=\"url(#p88245d997b)\" d=\"M 289.348079 398.592 \r\nL 322.171608 398.592 \r\nL 322.171608 431.208 \r\nL 289.348079 431.208 \r\nL 289.348079 398.592 \r\n\" style=\"fill:#0040ff;\"/>\r\n    <path clip-path=\"url(#p88245d997b)\" d=\"M 322.171608 398.592 \r\nL 354.995138 398.592 \r\nL 354.995138 431.208 \r\nL 322.171608 431.208 \r\nL 322.171608 398.592 \r\n\" style=\"fill:#0060ff;\"/>\r\n    <path clip-path=\"url(#p88245d997b)\" d=\"M 354.995138 398.592 \r\nL 387.818667 398.592 \r\nL 387.818667 431.208 \r\nL 354.995138 431.208 \r\nL 354.995138 398.592 \r\n\" style=\"fill:#0050ff;\"/>\r\n    <path clip-path=\"url(#p88245d997b)\" d=\"M 387.818667 398.592 \r\nL 420.642197 398.592 \r\nL 420.642197 431.208 \r\nL 387.818667 431.208 \r\nL 387.818667 398.592 \r\n\" style=\"fill:#0030ff;\"/>\r\n    <path clip-path=\"url(#p88245d997b)\" d=\"M 420.642197 398.592 \r\nL 453.465726 398.592 \r\nL 453.465726 431.208 \r\nL 420.642197 431.208 \r\nL 420.642197 398.592 \r\n\" style=\"fill:#004cff;\"/>\r\n    <path clip-path=\"url(#p88245d997b)\" d=\"M 453.465726 398.592 \r\nL 486.289256 398.592 \r\nL 486.289256 431.208 \r\nL 453.465726 431.208 \r\nL 453.465726 398.592 \r\n\" style=\"fill:#0040ff;\"/>\r\n    <path clip-path=\"url(#p88245d997b)\" d=\"M 486.289256 398.592 \r\nL 519.112785 398.592 \r\nL 519.112785 431.208 \r\nL 486.289256 431.208 \r\nL 486.289256 398.592 \r\n\" style=\"fill:#0040ff;\"/>\r\n    <path clip-path=\"url(#p88245d997b)\" d=\"M 519.112785 398.592 \r\nL 551.936314 398.592 \r\nL 551.936314 431.208 \r\nL 519.112785 431.208 \r\nL 519.112785 398.592 \r\n\" style=\"fill:#0044ff;\"/>\r\n    <path clip-path=\"url(#p88245d997b)\" d=\"M 551.936314 398.592 \r\nL 584.759844 398.592 \r\nL 584.759844 431.208 \r\nL 551.936314 431.208 \r\nL 551.936314 398.592 \r\n\" style=\"fill:#0058ff;\"/>\r\n    <path clip-path=\"url(#p88245d997b)\" d=\"M 584.759844 398.592 \r\nL 617.583373 398.592 \r\nL 617.583373 431.208 \r\nL 584.759844 431.208 \r\nL 584.759844 398.592 \r\n\" style=\"fill:#0040ff;\"/>\r\n    <path clip-path=\"url(#p88245d997b)\" d=\"M 617.583373 398.592 \r\nL 650.406903 398.592 \r\nL 650.406903 431.208 \r\nL 617.583373 431.208 \r\nL 617.583373 398.592 \r\n\" style=\"fill:#0058ff;\"/>\r\n    <path clip-path=\"url(#p88245d997b)\" d=\"M 650.406903 398.592 \r\nL 683.230432 398.592 \r\nL 683.230432 431.208 \r\nL 650.406903 431.208 \r\nL 650.406903 398.592 \r\n\" style=\"fill:#004cff;\"/>\r\n    <path clip-path=\"url(#p88245d997b)\" d=\"M 683.230432 398.592 \r\nL 716.053961 398.592 \r\nL 716.053961 431.208 \r\nL 683.230432 431.208 \r\nL 683.230432 398.592 \r\n\" style=\"fill:#0000ad;\"/>\r\n    <path clip-path=\"url(#p88245d997b)\" d=\"M 716.053961 398.592 \r\nL 748.877491 398.592 \r\nL 748.877491 431.208 \r\nL 716.053961 431.208 \r\nL 716.053961 398.592 \r\n\" style=\"fill:#0000ad;\"/>\r\n    <path clip-path=\"url(#p88245d997b)\" d=\"M 748.877491 398.592 \r\nL 781.70102 398.592 \r\nL 781.70102 431.208 \r\nL 748.877491 431.208 \r\nL 748.877491 398.592 \r\n\" style=\"fill:#0000ad;\"/>\r\n    <path clip-path=\"url(#p88245d997b)\" d=\"M 781.70102 398.592 \r\nL 814.52455 398.592 \r\nL 814.52455 431.208 \r\nL 781.70102 431.208 \r\nL 781.70102 398.592 \r\n\" style=\"fill:#0000ad;\"/>\r\n    <path clip-path=\"url(#p88245d997b)\" d=\"M 814.52455 398.592 \r\nL 847.348079 398.592 \r\nL 847.348079 431.208 \r\nL 814.52455 431.208 \r\nL 814.52455 398.592 \r\n\" style=\"fill:#0000b2;\"/>\r\n    <path clip-path=\"url(#p88245d997b)\" d=\"M 847.348079 398.592 \r\nL 880.171608 398.592 \r\nL 880.171608 431.208 \r\nL 847.348079 431.208 \r\nL 847.348079 398.592 \r\n\" style=\"fill:#0000ad;\"/>\r\n    <path clip-path=\"url(#p88245d997b)\" d=\"M 880.171608 398.592 \r\nL 912.995138 398.592 \r\nL 912.995138 431.208 \r\nL 880.171608 431.208 \r\nL 880.171608 398.592 \r\n\" style=\"fill:#0000b2;\"/>\r\n    <path clip-path=\"url(#p88245d997b)\" d=\"M 912.995138 398.592 \r\nL 945.818667 398.592 \r\nL 945.818667 431.208 \r\nL 912.995138 431.208 \r\nL 912.995138 398.592 \r\n\" style=\"fill:#0000ad;\"/>\r\n    <path clip-path=\"url(#p88245d997b)\" d=\"M 945.818667 398.592 \r\nL 978.642197 398.592 \r\nL 978.642197 431.208 \r\nL 945.818667 431.208 \r\nL 945.818667 398.592 \r\n\" style=\"fill:#0000ad;\"/>\r\n    <path clip-path=\"url(#p88245d997b)\" d=\"M 978.642197 398.592 \r\nL 1011.465726 398.592 \r\nL 1011.465726 431.208 \r\nL 978.642197 431.208 \r\nL 978.642197 398.592 \r\n\" style=\"fill:#0000ad;\"/>\r\n    <path clip-path=\"url(#p88245d997b)\" d=\"M 1011.465726 398.592 \r\nL 1044.289256 398.592 \r\nL 1044.289256 431.208 \r\nL 1011.465726 431.208 \r\nL 1011.465726 398.592 \r\n\" style=\"fill:#0000ad;\"/>\r\n    <path clip-path=\"url(#p88245d997b)\" d=\"M 1044.289256 398.592 \r\nL 1077.112785 398.592 \r\nL 1077.112785 431.208 \r\nL 1044.289256 431.208 \r\nL 1044.289256 398.592 \r\n\" style=\"fill:#0000a8;\"/>\r\n    <path clip-path=\"url(#p88245d997b)\" d=\"M 1077.112785 398.592 \r\nL 1109.936314 398.592 \r\nL 1109.936314 431.208 \r\nL 1077.112785 431.208 \r\nL 1077.112785 398.592 \r\n\" style=\"fill:#0000a8;\"/>\r\n    <path clip-path=\"url(#p88245d997b)\" d=\"M 1109.936314 398.592 \r\nL 1142.759844 398.592 \r\nL 1142.759844 431.208 \r\nL 1109.936314 431.208 \r\nL 1109.936314 398.592 \r\n\" style=\"fill:#0000a8;\"/>\r\n    <path clip-path=\"url(#p88245d997b)\" d=\"M 26.759844 431.208 \r\nL 59.583373 431.208 \r\nL 59.583373 463.824 \r\nL 26.759844 463.824 \r\nL 26.759844 431.208 \r\n\" style=\"fill:#008cff;\"/>\r\n    <path clip-path=\"url(#p88245d997b)\" d=\"M 59.583373 431.208 \r\nL 92.406903 431.208 \r\nL 92.406903 463.824 \r\nL 59.583373 463.824 \r\nL 59.583373 431.208 \r\n\" style=\"fill:#00b8ff;\"/>\r\n    <path clip-path=\"url(#p88245d997b)\" d=\"M 92.406903 431.208 \r\nL 125.230432 431.208 \r\nL 125.230432 463.824 \r\nL 92.406903 463.824 \r\nL 92.406903 431.208 \r\n\" style=\"fill:#00a4ff;\"/>\r\n    <path clip-path=\"url(#p88245d997b)\" d=\"M 125.230432 431.208 \r\nL 158.053961 431.208 \r\nL 158.053961 463.824 \r\nL 125.230432 463.824 \r\nL 125.230432 431.208 \r\n\" style=\"fill:#00c0ff;\"/>\r\n    <path clip-path=\"url(#p88245d997b)\" d=\"M 158.053961 431.208 \r\nL 190.877491 431.208 \r\nL 190.877491 463.824 \r\nL 158.053961 463.824 \r\nL 158.053961 431.208 \r\n\" style=\"fill:#00bcff;\"/>\r\n    <path clip-path=\"url(#p88245d997b)\" d=\"M 190.877491 431.208 \r\nL 223.70102 431.208 \r\nL 223.70102 463.824 \r\nL 190.877491 463.824 \r\nL 190.877491 431.208 \r\n\" style=\"fill:#00b4ff;\"/>\r\n    <path clip-path=\"url(#p88245d997b)\" d=\"M 223.70102 431.208 \r\nL 256.52455 431.208 \r\nL 256.52455 463.824 \r\nL 223.70102 463.824 \r\nL 223.70102 431.208 \r\n\" style=\"fill:#00a4ff;\"/>\r\n    <path clip-path=\"url(#p88245d997b)\" d=\"M 256.52455 431.208 \r\nL 289.348079 431.208 \r\nL 289.348079 463.824 \r\nL 256.52455 463.824 \r\nL 256.52455 431.208 \r\n\" style=\"fill:#0cf4eb;\"/>\r\n    <path clip-path=\"url(#p88245d997b)\" d=\"M 289.348079 431.208 \r\nL 322.171608 431.208 \r\nL 322.171608 463.824 \r\nL 289.348079 463.824 \r\nL 289.348079 431.208 \r\n\" style=\"fill:#00d4ff;\"/>\r\n    <path clip-path=\"url(#p88245d997b)\" d=\"M 322.171608 431.208 \r\nL 354.995138 431.208 \r\nL 354.995138 463.824 \r\nL 322.171608 463.824 \r\nL 322.171608 431.208 \r\n\" style=\"fill:#16ffe1;\"/>\r\n    <path clip-path=\"url(#p88245d997b)\" d=\"M 354.995138 431.208 \r\nL 387.818667 431.208 \r\nL 387.818667 463.824 \r\nL 354.995138 463.824 \r\nL 354.995138 431.208 \r\n\" style=\"fill:#09f0ee;\"/>\r\n    <path clip-path=\"url(#p88245d997b)\" d=\"M 387.818667 431.208 \r\nL 420.642197 431.208 \r\nL 420.642197 463.824 \r\nL 387.818667 463.824 \r\nL 387.818667 431.208 \r\n\" style=\"fill:#16ffe1;\"/>\r\n    <path clip-path=\"url(#p88245d997b)\" d=\"M 420.642197 431.208 \r\nL 453.465726 431.208 \r\nL 453.465726 463.824 \r\nL 420.642197 463.824 \r\nL 420.642197 431.208 \r\n\" style=\"fill:#06ecf1;\"/>\r\n    <path clip-path=\"url(#p88245d997b)\" d=\"M 453.465726 431.208 \r\nL 486.289256 431.208 \r\nL 486.289256 463.824 \r\nL 453.465726 463.824 \r\nL 453.465726 431.208 \r\n\" style=\"fill:#00d8ff;\"/>\r\n    <path clip-path=\"url(#p88245d997b)\" d=\"M 486.289256 431.208 \r\nL 519.112785 431.208 \r\nL 519.112785 463.824 \r\nL 486.289256 463.824 \r\nL 486.289256 431.208 \r\n\" style=\"fill:#06ecf1;\"/>\r\n    <path clip-path=\"url(#p88245d997b)\" d=\"M 519.112785 431.208 \r\nL 551.936314 431.208 \r\nL 551.936314 463.824 \r\nL 519.112785 463.824 \r\nL 519.112785 431.208 \r\n\" style=\"fill:#00d8ff;\"/>\r\n    <path clip-path=\"url(#p88245d997b)\" d=\"M 551.936314 431.208 \r\nL 584.759844 431.208 \r\nL 584.759844 463.824 \r\nL 551.936314 463.824 \r\nL 551.936314 431.208 \r\n\" style=\"fill:#09f0ee;\"/>\r\n    <path clip-path=\"url(#p88245d997b)\" d=\"M 584.759844 431.208 \r\nL 617.583373 431.208 \r\nL 617.583373 463.824 \r\nL 584.759844 463.824 \r\nL 584.759844 431.208 \r\n\" style=\"fill:#00ccff;\"/>\r\n    <path clip-path=\"url(#p88245d997b)\" d=\"M 617.583373 431.208 \r\nL 650.406903 431.208 \r\nL 650.406903 463.824 \r\nL 617.583373 463.824 \r\nL 617.583373 431.208 \r\n\" style=\"fill:#00e4f8;\"/>\r\n    <path clip-path=\"url(#p88245d997b)\" d=\"M 650.406903 431.208 \r\nL 683.230432 431.208 \r\nL 683.230432 463.824 \r\nL 650.406903 463.824 \r\nL 650.406903 431.208 \r\n\" style=\"fill:#06ecf1;\"/>\r\n    <path clip-path=\"url(#p88245d997b)\" d=\"M 683.230432 431.208 \r\nL 716.053961 431.208 \r\nL 716.053961 463.824 \r\nL 683.230432 463.824 \r\nL 683.230432 431.208 \r\n\" style=\"fill:#0000cd;\"/>\r\n    <path clip-path=\"url(#p88245d997b)\" d=\"M 716.053961 431.208 \r\nL 748.877491 431.208 \r\nL 748.877491 463.824 \r\nL 716.053961 463.824 \r\nL 716.053961 431.208 \r\n\" style=\"fill:#0000cd;\"/>\r\n    <path clip-path=\"url(#p88245d997b)\" d=\"M 748.877491 431.208 \r\nL 781.70102 431.208 \r\nL 781.70102 463.824 \r\nL 748.877491 463.824 \r\nL 748.877491 431.208 \r\n\" style=\"fill:#0000cd;\"/>\r\n    <path clip-path=\"url(#p88245d997b)\" d=\"M 781.70102 431.208 \r\nL 814.52455 431.208 \r\nL 814.52455 463.824 \r\nL 781.70102 463.824 \r\nL 781.70102 431.208 \r\n\" style=\"fill:#0000d1;\"/>\r\n    <path clip-path=\"url(#p88245d997b)\" d=\"M 814.52455 431.208 \r\nL 847.348079 431.208 \r\nL 847.348079 463.824 \r\nL 814.52455 463.824 \r\nL 814.52455 431.208 \r\n\" style=\"fill:#0000cd;\"/>\r\n    <path clip-path=\"url(#p88245d997b)\" d=\"M 847.348079 431.208 \r\nL 880.171608 431.208 \r\nL 880.171608 463.824 \r\nL 847.348079 463.824 \r\nL 847.348079 431.208 \r\n\" style=\"fill:#0000c8;\"/>\r\n    <path clip-path=\"url(#p88245d997b)\" d=\"M 880.171608 431.208 \r\nL 912.995138 431.208 \r\nL 912.995138 463.824 \r\nL 880.171608 463.824 \r\nL 880.171608 431.208 \r\n\" style=\"fill:#0000d1;\"/>\r\n    <path clip-path=\"url(#p88245d997b)\" d=\"M 912.995138 431.208 \r\nL 945.818667 431.208 \r\nL 945.818667 463.824 \r\nL 912.995138 463.824 \r\nL 912.995138 431.208 \r\n\" style=\"fill:#0000d1;\"/>\r\n    <path clip-path=\"url(#p88245d997b)\" d=\"M 945.818667 431.208 \r\nL 978.642197 431.208 \r\nL 978.642197 463.824 \r\nL 945.818667 463.824 \r\nL 945.818667 431.208 \r\n\" style=\"fill:#0000c8;\"/>\r\n    <path clip-path=\"url(#p88245d997b)\" d=\"M 978.642197 431.208 \r\nL 1011.465726 431.208 \r\nL 1011.465726 463.824 \r\nL 978.642197 463.824 \r\nL 978.642197 431.208 \r\n\" style=\"fill:#0000cd;\"/>\r\n    <path clip-path=\"url(#p88245d997b)\" d=\"M 1011.465726 431.208 \r\nL 1044.289256 431.208 \r\nL 1044.289256 463.824 \r\nL 1011.465726 463.824 \r\nL 1011.465726 431.208 \r\n\" style=\"fill:#0000d1;\"/>\r\n    <path clip-path=\"url(#p88245d997b)\" d=\"M 1044.289256 431.208 \r\nL 1077.112785 431.208 \r\nL 1077.112785 463.824 \r\nL 1044.289256 463.824 \r\nL 1044.289256 431.208 \r\n\" style=\"fill:#0000cd;\"/>\r\n    <path clip-path=\"url(#p88245d997b)\" d=\"M 1077.112785 431.208 \r\nL 1109.936314 431.208 \r\nL 1109.936314 463.824 \r\nL 1077.112785 463.824 \r\nL 1077.112785 431.208 \r\n\" style=\"fill:#0000cd;\"/>\r\n    <path clip-path=\"url(#p88245d997b)\" d=\"M 1109.936314 431.208 \r\nL 1142.759844 431.208 \r\nL 1142.759844 463.824 \r\nL 1109.936314 463.824 \r\nL 1109.936314 431.208 \r\n\" style=\"fill:#0000d1;\"/>\r\n    <path clip-path=\"url(#p88245d997b)\" d=\"M 26.759844 463.824 \r\nL 59.583373 463.824 \r\nL 59.583373 496.44 \r\nL 26.759844 496.44 \r\nL 26.759844 463.824 \r\n\" style=\"fill:#007cff;\"/>\r\n    <path clip-path=\"url(#p88245d997b)\" d=\"M 59.583373 463.824 \r\nL 92.406903 463.824 \r\nL 92.406903 496.44 \r\nL 59.583373 496.44 \r\nL 59.583373 463.824 \r\n\" style=\"fill:#00a8ff;\"/>\r\n    <path clip-path=\"url(#p88245d997b)\" d=\"M 92.406903 463.824 \r\nL 125.230432 463.824 \r\nL 125.230432 496.44 \r\nL 92.406903 496.44 \r\nL 92.406903 463.824 \r\n\" style=\"fill:#00a8ff;\"/>\r\n    <path clip-path=\"url(#p88245d997b)\" d=\"M 125.230432 463.824 \r\nL 158.053961 463.824 \r\nL 158.053961 496.44 \r\nL 125.230432 496.44 \r\nL 125.230432 463.824 \r\n\" style=\"fill:#007cff;\"/>\r\n    <path clip-path=\"url(#p88245d997b)\" d=\"M 158.053961 463.824 \r\nL 190.877491 463.824 \r\nL 190.877491 496.44 \r\nL 158.053961 496.44 \r\nL 158.053961 463.824 \r\n\" style=\"fill:#00c0ff;\"/>\r\n    <path clip-path=\"url(#p88245d997b)\" d=\"M 190.877491 463.824 \r\nL 223.70102 463.824 \r\nL 223.70102 496.44 \r\nL 190.877491 496.44 \r\nL 190.877491 463.824 \r\n\" style=\"fill:#00a0ff;\"/>\r\n    <path clip-path=\"url(#p88245d997b)\" d=\"M 223.70102 463.824 \r\nL 256.52455 463.824 \r\nL 256.52455 496.44 \r\nL 223.70102 496.44 \r\nL 223.70102 463.824 \r\n\" style=\"fill:#00a4ff;\"/>\r\n    <path clip-path=\"url(#p88245d997b)\" d=\"M 256.52455 463.824 \r\nL 289.348079 463.824 \r\nL 289.348079 496.44 \r\nL 256.52455 496.44 \r\nL 256.52455 463.824 \r\n\" style=\"fill:#00d8ff;\"/>\r\n    <path clip-path=\"url(#p88245d997b)\" d=\"M 289.348079 463.824 \r\nL 322.171608 463.824 \r\nL 322.171608 496.44 \r\nL 289.348079 496.44 \r\nL 289.348079 463.824 \r\n\" style=\"fill:#00b8ff;\"/>\r\n    <path clip-path=\"url(#p88245d997b)\" d=\"M 322.171608 463.824 \r\nL 354.995138 463.824 \r\nL 354.995138 496.44 \r\nL 322.171608 496.44 \r\nL 322.171608 463.824 \r\n\" style=\"fill:#00d4ff;\"/>\r\n    <path clip-path=\"url(#p88245d997b)\" d=\"M 354.995138 463.824 \r\nL 387.818667 463.824 \r\nL 387.818667 496.44 \r\nL 354.995138 496.44 \r\nL 354.995138 463.824 \r\n\" style=\"fill:#00c8ff;\"/>\r\n    <path clip-path=\"url(#p88245d997b)\" d=\"M 387.818667 463.824 \r\nL 420.642197 463.824 \r\nL 420.642197 496.44 \r\nL 387.818667 496.44 \r\nL 387.818667 463.824 \r\n\" style=\"fill:#00b0ff;\"/>\r\n    <path clip-path=\"url(#p88245d997b)\" d=\"M 420.642197 463.824 \r\nL 453.465726 463.824 \r\nL 453.465726 496.44 \r\nL 420.642197 496.44 \r\nL 420.642197 463.824 \r\n\" style=\"fill:#00d4ff;\"/>\r\n    <path clip-path=\"url(#p88245d997b)\" d=\"M 453.465726 463.824 \r\nL 486.289256 463.824 \r\nL 486.289256 496.44 \r\nL 453.465726 496.44 \r\nL 453.465726 463.824 \r\n\" style=\"fill:#00b8ff;\"/>\r\n    <path clip-path=\"url(#p88245d997b)\" d=\"M 486.289256 463.824 \r\nL 519.112785 463.824 \r\nL 519.112785 496.44 \r\nL 486.289256 496.44 \r\nL 486.289256 463.824 \r\n\" style=\"fill:#00c8ff;\"/>\r\n    <path clip-path=\"url(#p88245d997b)\" d=\"M 519.112785 463.824 \r\nL 551.936314 463.824 \r\nL 551.936314 496.44 \r\nL 519.112785 496.44 \r\nL 519.112785 463.824 \r\n\" style=\"fill:#00b8ff;\"/>\r\n    <path clip-path=\"url(#p88245d997b)\" d=\"M 551.936314 463.824 \r\nL 584.759844 463.824 \r\nL 584.759844 496.44 \r\nL 551.936314 496.44 \r\nL 551.936314 463.824 \r\n\" style=\"fill:#00d0ff;\"/>\r\n    <path clip-path=\"url(#p88245d997b)\" d=\"M 584.759844 463.824 \r\nL 617.583373 463.824 \r\nL 617.583373 496.44 \r\nL 584.759844 496.44 \r\nL 584.759844 463.824 \r\n\" style=\"fill:#00b4ff;\"/>\r\n    <path clip-path=\"url(#p88245d997b)\" d=\"M 617.583373 463.824 \r\nL 650.406903 463.824 \r\nL 650.406903 496.44 \r\nL 617.583373 496.44 \r\nL 617.583373 463.824 \r\n\" style=\"fill:#00e0fb;\"/>\r\n    <path clip-path=\"url(#p88245d997b)\" d=\"M 650.406903 463.824 \r\nL 683.230432 463.824 \r\nL 683.230432 496.44 \r\nL 650.406903 496.44 \r\nL 650.406903 463.824 \r\n\" style=\"fill:#00dcfe;\"/>\r\n    <path clip-path=\"url(#p88245d997b)\" d=\"M 683.230432 463.824 \r\nL 716.053961 463.824 \r\nL 716.053961 496.44 \r\nL 683.230432 496.44 \r\nL 683.230432 463.824 \r\n\" style=\"fill:#0000d1;\"/>\r\n    <path clip-path=\"url(#p88245d997b)\" d=\"M 716.053961 463.824 \r\nL 748.877491 463.824 \r\nL 748.877491 496.44 \r\nL 716.053961 496.44 \r\nL 716.053961 463.824 \r\n\" style=\"fill:#0000d1;\"/>\r\n    <path clip-path=\"url(#p88245d997b)\" d=\"M 748.877491 463.824 \r\nL 781.70102 463.824 \r\nL 781.70102 496.44 \r\nL 748.877491 496.44 \r\nL 748.877491 463.824 \r\n\" style=\"fill:#0000d1;\"/>\r\n    <path clip-path=\"url(#p88245d997b)\" d=\"M 781.70102 463.824 \r\nL 814.52455 463.824 \r\nL 814.52455 496.44 \r\nL 781.70102 496.44 \r\nL 781.70102 463.824 \r\n\" style=\"fill:#0000d6;\"/>\r\n    <path clip-path=\"url(#p88245d997b)\" d=\"M 814.52455 463.824 \r\nL 847.348079 463.824 \r\nL 847.348079 496.44 \r\nL 814.52455 496.44 \r\nL 814.52455 463.824 \r\n\" style=\"fill:#0000d6;\"/>\r\n    <path clip-path=\"url(#p88245d997b)\" d=\"M 847.348079 463.824 \r\nL 880.171608 463.824 \r\nL 880.171608 496.44 \r\nL 847.348079 496.44 \r\nL 847.348079 463.824 \r\n\" style=\"fill:#0000d1;\"/>\r\n    <path clip-path=\"url(#p88245d997b)\" d=\"M 880.171608 463.824 \r\nL 912.995138 463.824 \r\nL 912.995138 496.44 \r\nL 880.171608 496.44 \r\nL 880.171608 463.824 \r\n\" style=\"fill:#0000da;\"/>\r\n    <path clip-path=\"url(#p88245d997b)\" d=\"M 912.995138 463.824 \r\nL 945.818667 463.824 \r\nL 945.818667 496.44 \r\nL 912.995138 496.44 \r\nL 912.995138 463.824 \r\n\" style=\"fill:#0000d6;\"/>\r\n    <path clip-path=\"url(#p88245d997b)\" d=\"M 945.818667 463.824 \r\nL 978.642197 463.824 \r\nL 978.642197 496.44 \r\nL 945.818667 496.44 \r\nL 945.818667 463.824 \r\n\" style=\"fill:#0000d6;\"/>\r\n    <path clip-path=\"url(#p88245d997b)\" d=\"M 978.642197 463.824 \r\nL 1011.465726 463.824 \r\nL 1011.465726 496.44 \r\nL 978.642197 496.44 \r\nL 978.642197 463.824 \r\n\" style=\"fill:#0000d1;\"/>\r\n    <path clip-path=\"url(#p88245d997b)\" d=\"M 1011.465726 463.824 \r\nL 1044.289256 463.824 \r\nL 1044.289256 496.44 \r\nL 1011.465726 496.44 \r\nL 1011.465726 463.824 \r\n\" style=\"fill:#0000da;\"/>\r\n    <path clip-path=\"url(#p88245d997b)\" d=\"M 1044.289256 463.824 \r\nL 1077.112785 463.824 \r\nL 1077.112785 496.44 \r\nL 1044.289256 496.44 \r\nL 1044.289256 463.824 \r\n\" style=\"fill:#0000d1;\"/>\r\n    <path clip-path=\"url(#p88245d997b)\" d=\"M 1077.112785 463.824 \r\nL 1109.936314 463.824 \r\nL 1109.936314 496.44 \r\nL 1077.112785 496.44 \r\nL 1077.112785 463.824 \r\n\" style=\"fill:#0000d6;\"/>\r\n    <path clip-path=\"url(#p88245d997b)\" d=\"M 1109.936314 463.824 \r\nL 1142.759844 463.824 \r\nL 1142.759844 496.44 \r\nL 1109.936314 496.44 \r\nL 1109.936314 463.824 \r\n\" style=\"fill:#0000d6;\"/>\r\n    <path clip-path=\"url(#p88245d997b)\" d=\"M 26.759844 496.44 \r\nL 59.583373 496.44 \r\nL 59.583373 529.056 \r\nL 26.759844 529.056 \r\nL 26.759844 496.44 \r\n\" style=\"fill:#00c8ff;\"/>\r\n    <path clip-path=\"url(#p88245d997b)\" d=\"M 59.583373 496.44 \r\nL 92.406903 496.44 \r\nL 92.406903 529.056 \r\nL 59.583373 529.056 \r\nL 59.583373 496.44 \r\n\" style=\"fill:#0ff8e7;\"/>\r\n    <path clip-path=\"url(#p88245d997b)\" d=\"M 92.406903 496.44 \r\nL 125.230432 496.44 \r\nL 125.230432 529.056 \r\nL 92.406903 529.056 \r\nL 92.406903 496.44 \r\n\" style=\"fill:#13fce4;\"/>\r\n    <path clip-path=\"url(#p88245d997b)\" d=\"M 125.230432 496.44 \r\nL 158.053961 496.44 \r\nL 158.053961 529.056 \r\nL 125.230432 529.056 \r\nL 125.230432 496.44 \r\n\" style=\"fill:#19ffde;\"/>\r\n    <path clip-path=\"url(#p88245d997b)\" d=\"M 158.053961 496.44 \r\nL 190.877491 496.44 \r\nL 190.877491 529.056 \r\nL 158.053961 529.056 \r\nL 158.053961 496.44 \r\n\" style=\"fill:#00e4f8;\"/>\r\n    <path clip-path=\"url(#p88245d997b)\" d=\"M 190.877491 496.44 \r\nL 223.70102 496.44 \r\nL 223.70102 529.056 \r\nL 190.877491 529.056 \r\nL 190.877491 496.44 \r\n\" style=\"fill:#06ecf1;\"/>\r\n    <path clip-path=\"url(#p88245d997b)\" d=\"M 223.70102 496.44 \r\nL 256.52455 496.44 \r\nL 256.52455 529.056 \r\nL 223.70102 529.056 \r\nL 223.70102 496.44 \r\n\" style=\"fill:#00e4f8;\"/>\r\n    <path clip-path=\"url(#p88245d997b)\" d=\"M 256.52455 496.44 \r\nL 289.348079 496.44 \r\nL 289.348079 529.056 \r\nL 256.52455 529.056 \r\nL 256.52455 496.44 \r\n\" style=\"fill:#29ffce;\"/>\r\n    <path clip-path=\"url(#p88245d997b)\" d=\"M 289.348079 496.44 \r\nL 322.171608 496.44 \r\nL 322.171608 529.056 \r\nL 289.348079 529.056 \r\nL 289.348079 496.44 \r\n\" style=\"fill:#19ffde;\"/>\r\n    <path clip-path=\"url(#p88245d997b)\" d=\"M 322.171608 496.44 \r\nL 354.995138 496.44 \r\nL 354.995138 529.056 \r\nL 322.171608 529.056 \r\nL 322.171608 496.44 \r\n\" style=\"fill:#02e8f4;\"/>\r\n    <path clip-path=\"url(#p88245d997b)\" d=\"M 354.995138 496.44 \r\nL 387.818667 496.44 \r\nL 387.818667 529.056 \r\nL 354.995138 529.056 \r\nL 354.995138 496.44 \r\n\" style=\"fill:#00e4f8;\"/>\r\n    <path clip-path=\"url(#p88245d997b)\" d=\"M 387.818667 496.44 \r\nL 420.642197 496.44 \r\nL 420.642197 529.056 \r\nL 387.818667 529.056 \r\nL 387.818667 496.44 \r\n\" style=\"fill:#30ffc7;\"/>\r\n    <path clip-path=\"url(#p88245d997b)\" d=\"M 420.642197 496.44 \r\nL 453.465726 496.44 \r\nL 453.465726 529.056 \r\nL 420.642197 529.056 \r\nL 420.642197 496.44 \r\n\" style=\"fill:#2cffca;\"/>\r\n    <path clip-path=\"url(#p88245d997b)\" d=\"M 453.465726 496.44 \r\nL 486.289256 496.44 \r\nL 486.289256 529.056 \r\nL 453.465726 529.056 \r\nL 453.465726 496.44 \r\n\" style=\"fill:#06ecf1;\"/>\r\n    <path clip-path=\"url(#p88245d997b)\" d=\"M 486.289256 496.44 \r\nL 519.112785 496.44 \r\nL 519.112785 529.056 \r\nL 486.289256 529.056 \r\nL 486.289256 496.44 \r\n\" style=\"fill:#23ffd4;\"/>\r\n    <path clip-path=\"url(#p88245d997b)\" d=\"M 519.112785 496.44 \r\nL 551.936314 496.44 \r\nL 551.936314 529.056 \r\nL 519.112785 529.056 \r\nL 519.112785 496.44 \r\n\" style=\"fill:#0ff8e7;\"/>\r\n    <path clip-path=\"url(#p88245d997b)\" d=\"M 551.936314 496.44 \r\nL 584.759844 496.44 \r\nL 584.759844 529.056 \r\nL 551.936314 529.056 \r\nL 551.936314 496.44 \r\n\" style=\"fill:#26ffd1;\"/>\r\n    <path clip-path=\"url(#p88245d997b)\" d=\"M 584.759844 496.44 \r\nL 617.583373 496.44 \r\nL 617.583373 529.056 \r\nL 584.759844 529.056 \r\nL 584.759844 496.44 \r\n\" style=\"fill:#13fce4;\"/>\r\n    <path clip-path=\"url(#p88245d997b)\" d=\"M 617.583373 496.44 \r\nL 650.406903 496.44 \r\nL 650.406903 529.056 \r\nL 617.583373 529.056 \r\nL 617.583373 496.44 \r\n\" style=\"fill:#30ffc7;\"/>\r\n    <path clip-path=\"url(#p88245d997b)\" d=\"M 650.406903 496.44 \r\nL 683.230432 496.44 \r\nL 683.230432 529.056 \r\nL 650.406903 529.056 \r\nL 650.406903 496.44 \r\n\" style=\"fill:#23ffd4;\"/>\r\n    <path clip-path=\"url(#p88245d997b)\" d=\"M 683.230432 496.44 \r\nL 716.053961 496.44 \r\nL 716.053961 529.056 \r\nL 683.230432 529.056 \r\nL 683.230432 496.44 \r\n\" style=\"fill:#0000e8;\"/>\r\n    <path clip-path=\"url(#p88245d997b)\" d=\"M 716.053961 496.44 \r\nL 748.877491 496.44 \r\nL 748.877491 529.056 \r\nL 716.053961 529.056 \r\nL 716.053961 496.44 \r\n\" style=\"fill:#0000e8;\"/>\r\n    <path clip-path=\"url(#p88245d997b)\" d=\"M 748.877491 496.44 \r\nL 781.70102 496.44 \r\nL 781.70102 529.056 \r\nL 748.877491 529.056 \r\nL 748.877491 496.44 \r\n\" style=\"fill:#0000df;\"/>\r\n    <path clip-path=\"url(#p88245d997b)\" d=\"M 781.70102 496.44 \r\nL 814.52455 496.44 \r\nL 814.52455 529.056 \r\nL 781.70102 529.056 \r\nL 781.70102 496.44 \r\n\" style=\"fill:#0000f1;\"/>\r\n    <path clip-path=\"url(#p88245d997b)\" d=\"M 814.52455 496.44 \r\nL 847.348079 496.44 \r\nL 847.348079 529.056 \r\nL 814.52455 529.056 \r\nL 814.52455 496.44 \r\n\" style=\"fill:#0000f1;\"/>\r\n    <path clip-path=\"url(#p88245d997b)\" d=\"M 847.348079 496.44 \r\nL 880.171608 496.44 \r\nL 880.171608 529.056 \r\nL 847.348079 529.056 \r\nL 847.348079 496.44 \r\n\" style=\"fill:#0000e8;\"/>\r\n    <path clip-path=\"url(#p88245d997b)\" d=\"M 880.171608 496.44 \r\nL 912.995138 496.44 \r\nL 912.995138 529.056 \r\nL 880.171608 529.056 \r\nL 880.171608 496.44 \r\n\" style=\"fill:#0000ed;\"/>\r\n    <path clip-path=\"url(#p88245d997b)\" d=\"M 912.995138 496.44 \r\nL 945.818667 496.44 \r\nL 945.818667 529.056 \r\nL 912.995138 529.056 \r\nL 912.995138 496.44 \r\n\" style=\"fill:#0000e8;\"/>\r\n    <path clip-path=\"url(#p88245d997b)\" d=\"M 945.818667 496.44 \r\nL 978.642197 496.44 \r\nL 978.642197 529.056 \r\nL 945.818667 529.056 \r\nL 945.818667 496.44 \r\n\" style=\"fill:#0000ed;\"/>\r\n    <path clip-path=\"url(#p88245d997b)\" d=\"M 978.642197 496.44 \r\nL 1011.465726 496.44 \r\nL 1011.465726 529.056 \r\nL 978.642197 529.056 \r\nL 978.642197 496.44 \r\n\" style=\"fill:#0000e8;\"/>\r\n    <path clip-path=\"url(#p88245d997b)\" d=\"M 1011.465726 496.44 \r\nL 1044.289256 496.44 \r\nL 1044.289256 529.056 \r\nL 1011.465726 529.056 \r\nL 1011.465726 496.44 \r\n\" style=\"fill:#0000ed;\"/>\r\n    <path clip-path=\"url(#p88245d997b)\" d=\"M 1044.289256 496.44 \r\nL 1077.112785 496.44 \r\nL 1077.112785 529.056 \r\nL 1044.289256 529.056 \r\nL 1044.289256 496.44 \r\n\" style=\"fill:#0000ed;\"/>\r\n    <path clip-path=\"url(#p88245d997b)\" d=\"M 1077.112785 496.44 \r\nL 1109.936314 496.44 \r\nL 1109.936314 529.056 \r\nL 1077.112785 529.056 \r\nL 1077.112785 496.44 \r\n\" style=\"fill:#0000e3;\"/>\r\n    <path clip-path=\"url(#p88245d997b)\" d=\"M 1109.936314 496.44 \r\nL 1142.759844 496.44 \r\nL 1142.759844 529.056 \r\nL 1109.936314 529.056 \r\nL 1109.936314 496.44 \r\n\" style=\"fill:#0000e8;\"/>\r\n    <path clip-path=\"url(#p88245d997b)\" d=\"M 26.759844 529.056 \r\nL 59.583373 529.056 \r\nL 59.583373 561.672 \r\nL 26.759844 561.672 \r\nL 26.759844 529.056 \r\n\" style=\"fill:#40ffb7;\"/>\r\n    <path clip-path=\"url(#p88245d997b)\" d=\"M 59.583373 529.056 \r\nL 92.406903 529.056 \r\nL 92.406903 561.672 \r\nL 59.583373 561.672 \r\nL 59.583373 529.056 \r\n\" style=\"fill:#5aff9d;\"/>\r\n    <path clip-path=\"url(#p88245d997b)\" d=\"M 92.406903 529.056 \r\nL 125.230432 529.056 \r\nL 125.230432 561.672 \r\nL 92.406903 561.672 \r\nL 92.406903 529.056 \r\n\" style=\"fill:#6aff8d;\"/>\r\n    <path clip-path=\"url(#p88245d997b)\" d=\"M 125.230432 529.056 \r\nL 158.053961 529.056 \r\nL 158.053961 561.672 \r\nL 125.230432 561.672 \r\nL 125.230432 529.056 \r\n\" style=\"fill:#53ffa4;\"/>\r\n    <path clip-path=\"url(#p88245d997b)\" d=\"M 158.053961 529.056 \r\nL 190.877491 529.056 \r\nL 190.877491 561.672 \r\nL 158.053961 561.672 \r\nL 158.053961 529.056 \r\n\" style=\"fill:#7aff7d;\"/>\r\n    <path clip-path=\"url(#p88245d997b)\" d=\"M 190.877491 529.056 \r\nL 223.70102 529.056 \r\nL 223.70102 561.672 \r\nL 190.877491 561.672 \r\nL 190.877491 529.056 \r\n\" style=\"fill:#50ffa7;\"/>\r\n    <path clip-path=\"url(#p88245d997b)\" d=\"M 223.70102 529.056 \r\nL 256.52455 529.056 \r\nL 256.52455 561.672 \r\nL 223.70102 561.672 \r\nL 223.70102 529.056 \r\n\" style=\"fill:#63ff94;\"/>\r\n    <path clip-path=\"url(#p88245d997b)\" d=\"M 256.52455 529.056 \r\nL 289.348079 529.056 \r\nL 289.348079 561.672 \r\nL 256.52455 561.672 \r\nL 256.52455 529.056 \r\n\" style=\"fill:#adff49;\"/>\r\n    <path clip-path=\"url(#p88245d997b)\" d=\"M 289.348079 529.056 \r\nL 322.171608 529.056 \r\nL 322.171608 561.672 \r\nL 289.348079 561.672 \r\nL 289.348079 529.056 \r\n\" style=\"fill:#87ff70;\"/>\r\n    <path clip-path=\"url(#p88245d997b)\" d=\"M 322.171608 529.056 \r\nL 354.995138 529.056 \r\nL 354.995138 561.672 \r\nL 322.171608 561.672 \r\nL 322.171608 529.056 \r\n\" style=\"fill:#b4ff43;\"/>\r\n    <path clip-path=\"url(#p88245d997b)\" d=\"M 354.995138 529.056 \r\nL 387.818667 529.056 \r\nL 387.818667 561.672 \r\nL 354.995138 561.672 \r\nL 354.995138 529.056 \r\n\" style=\"fill:#b1ff46;\"/>\r\n    <path clip-path=\"url(#p88245d997b)\" d=\"M 387.818667 529.056 \r\nL 420.642197 529.056 \r\nL 420.642197 561.672 \r\nL 387.818667 561.672 \r\nL 387.818667 529.056 \r\n\" style=\"fill:#77ff80;\"/>\r\n    <path clip-path=\"url(#p88245d997b)\" d=\"M 420.642197 529.056 \r\nL 453.465726 529.056 \r\nL 453.465726 561.672 \r\nL 420.642197 561.672 \r\nL 420.642197 529.056 \r\n\" style=\"fill:#9dff5a;\"/>\r\n    <path clip-path=\"url(#p88245d997b)\" d=\"M 453.465726 529.056 \r\nL 486.289256 529.056 \r\nL 486.289256 561.672 \r\nL 453.465726 561.672 \r\nL 453.465726 529.056 \r\n\" style=\"fill:#5aff9d;\"/>\r\n    <path clip-path=\"url(#p88245d997b)\" d=\"M 486.289256 529.056 \r\nL 519.112785 529.056 \r\nL 519.112785 561.672 \r\nL 486.289256 561.672 \r\nL 486.289256 529.056 \r\n\" style=\"fill:#a0ff56;\"/>\r\n    <path clip-path=\"url(#p88245d997b)\" d=\"M 519.112785 529.056 \r\nL 551.936314 529.056 \r\nL 551.936314 561.672 \r\nL 519.112785 561.672 \r\nL 519.112785 529.056 \r\n\" style=\"fill:#77ff80;\"/>\r\n    <path clip-path=\"url(#p88245d997b)\" d=\"M 551.936314 529.056 \r\nL 584.759844 529.056 \r\nL 584.759844 561.672 \r\nL 551.936314 561.672 \r\nL 551.936314 529.056 \r\n\" style=\"fill:#a7ff50;\"/>\r\n    <path clip-path=\"url(#p88245d997b)\" d=\"M 584.759844 529.056 \r\nL 617.583373 529.056 \r\nL 617.583373 561.672 \r\nL 584.759844 561.672 \r\nL 584.759844 529.056 \r\n\" style=\"fill:#90ff66;\"/>\r\n    <path clip-path=\"url(#p88245d997b)\" d=\"M 617.583373 529.056 \r\nL 650.406903 529.056 \r\nL 650.406903 561.672 \r\nL 617.583373 561.672 \r\nL 617.583373 529.056 \r\n\" style=\"fill:#aaff4d;\"/>\r\n    <path clip-path=\"url(#p88245d997b)\" d=\"M 650.406903 529.056 \r\nL 683.230432 529.056 \r\nL 683.230432 561.672 \r\nL 650.406903 561.672 \r\nL 650.406903 529.056 \r\n\" style=\"fill:#aaff4d;\"/>\r\n    <path clip-path=\"url(#p88245d997b)\" d=\"M 683.230432 529.056 \r\nL 716.053961 529.056 \r\nL 716.053961 561.672 \r\nL 683.230432 561.672 \r\nL 683.230432 529.056 \r\n\" style=\"fill:#000cff;\"/>\r\n    <path clip-path=\"url(#p88245d997b)\" d=\"M 716.053961 529.056 \r\nL 748.877491 529.056 \r\nL 748.877491 561.672 \r\nL 716.053961 561.672 \r\nL 716.053961 529.056 \r\n\" style=\"fill:#0010ff;\"/>\r\n    <path clip-path=\"url(#p88245d997b)\" d=\"M 748.877491 529.056 \r\nL 781.70102 529.056 \r\nL 781.70102 561.672 \r\nL 748.877491 561.672 \r\nL 748.877491 529.056 \r\n\" style=\"fill:#0014ff;\"/>\r\n    <path clip-path=\"url(#p88245d997b)\" d=\"M 781.70102 529.056 \r\nL 814.52455 529.056 \r\nL 814.52455 561.672 \r\nL 781.70102 561.672 \r\nL 781.70102 529.056 \r\n\" style=\"fill:#0010ff;\"/>\r\n    <path clip-path=\"url(#p88245d997b)\" d=\"M 814.52455 529.056 \r\nL 847.348079 529.056 \r\nL 847.348079 561.672 \r\nL 814.52455 561.672 \r\nL 814.52455 529.056 \r\n\" style=\"fill:#0010ff;\"/>\r\n    <path clip-path=\"url(#p88245d997b)\" d=\"M 847.348079 529.056 \r\nL 880.171608 529.056 \r\nL 880.171608 561.672 \r\nL 847.348079 561.672 \r\nL 847.348079 529.056 \r\n\" style=\"fill:#000cff;\"/>\r\n    <path clip-path=\"url(#p88245d997b)\" d=\"M 880.171608 529.056 \r\nL 912.995138 529.056 \r\nL 912.995138 561.672 \r\nL 880.171608 561.672 \r\nL 880.171608 529.056 \r\n\" style=\"fill:#0010ff;\"/>\r\n    <path clip-path=\"url(#p88245d997b)\" d=\"M 912.995138 529.056 \r\nL 945.818667 529.056 \r\nL 945.818667 561.672 \r\nL 912.995138 561.672 \r\nL 912.995138 529.056 \r\n\" style=\"fill:#0014ff;\"/>\r\n    <path clip-path=\"url(#p88245d997b)\" d=\"M 945.818667 529.056 \r\nL 978.642197 529.056 \r\nL 978.642197 561.672 \r\nL 945.818667 561.672 \r\nL 945.818667 529.056 \r\n\" style=\"fill:#0010ff;\"/>\r\n    <path clip-path=\"url(#p88245d997b)\" d=\"M 978.642197 529.056 \r\nL 1011.465726 529.056 \r\nL 1011.465726 561.672 \r\nL 978.642197 561.672 \r\nL 978.642197 529.056 \r\n\" style=\"fill:#0004ff;\"/>\r\n    <path clip-path=\"url(#p88245d997b)\" d=\"M 1011.465726 529.056 \r\nL 1044.289256 529.056 \r\nL 1044.289256 561.672 \r\nL 1011.465726 561.672 \r\nL 1011.465726 529.056 \r\n\" style=\"fill:#0010ff;\"/>\r\n    <path clip-path=\"url(#p88245d997b)\" d=\"M 1044.289256 529.056 \r\nL 1077.112785 529.056 \r\nL 1077.112785 561.672 \r\nL 1044.289256 561.672 \r\nL 1044.289256 529.056 \r\n\" style=\"fill:#0010ff;\"/>\r\n    <path clip-path=\"url(#p88245d997b)\" d=\"M 1077.112785 529.056 \r\nL 1109.936314 529.056 \r\nL 1109.936314 561.672 \r\nL 1077.112785 561.672 \r\nL 1077.112785 529.056 \r\n\" style=\"fill:#0014ff;\"/>\r\n    <path clip-path=\"url(#p88245d997b)\" d=\"M 1109.936314 529.056 \r\nL 1142.759844 529.056 \r\nL 1142.759844 561.672 \r\nL 1109.936314 561.672 \r\nL 1109.936314 529.056 \r\n\" style=\"fill:#000cff;\"/>\r\n    <path clip-path=\"url(#p88245d997b)\" d=\"M 26.759844 561.672 \r\nL 59.583373 561.672 \r\nL 59.583373 594.288 \r\nL 26.759844 594.288 \r\nL 26.759844 561.672 \r\n\" style=\"fill:#0000ff;\"/>\r\n    <path clip-path=\"url(#p88245d997b)\" d=\"M 59.583373 561.672 \r\nL 92.406903 561.672 \r\nL 92.406903 594.288 \r\nL 59.583373 594.288 \r\nL 59.583373 561.672 \r\n\" style=\"fill:#0008ff;\"/>\r\n    <path clip-path=\"url(#p88245d997b)\" d=\"M 92.406903 561.672 \r\nL 125.230432 561.672 \r\nL 125.230432 594.288 \r\nL 92.406903 594.288 \r\nL 92.406903 561.672 \r\n\" style=\"fill:#0008ff;\"/>\r\n    <path clip-path=\"url(#p88245d997b)\" d=\"M 125.230432 561.672 \r\nL 158.053961 561.672 \r\nL 158.053961 594.288 \r\nL 125.230432 594.288 \r\nL 125.230432 561.672 \r\n\" style=\"fill:#0000ff;\"/>\r\n    <path clip-path=\"url(#p88245d997b)\" d=\"M 158.053961 561.672 \r\nL 190.877491 561.672 \r\nL 190.877491 594.288 \r\nL 158.053961 594.288 \r\nL 158.053961 561.672 \r\n\" style=\"fill:#0018ff;\"/>\r\n    <path clip-path=\"url(#p88245d997b)\" d=\"M 190.877491 561.672 \r\nL 223.70102 561.672 \r\nL 223.70102 594.288 \r\nL 190.877491 594.288 \r\nL 190.877491 561.672 \r\n\" style=\"fill:#000cff;\"/>\r\n    <path clip-path=\"url(#p88245d997b)\" d=\"M 223.70102 561.672 \r\nL 256.52455 561.672 \r\nL 256.52455 594.288 \r\nL 223.70102 594.288 \r\nL 223.70102 561.672 \r\n\" style=\"fill:#0020ff;\"/>\r\n    <path clip-path=\"url(#p88245d997b)\" d=\"M 256.52455 561.672 \r\nL 289.348079 561.672 \r\nL 289.348079 594.288 \r\nL 256.52455 594.288 \r\nL 256.52455 561.672 \r\n\" style=\"fill:#0034ff;\"/>\r\n    <path clip-path=\"url(#p88245d997b)\" d=\"M 289.348079 561.672 \r\nL 322.171608 561.672 \r\nL 322.171608 594.288 \r\nL 289.348079 594.288 \r\nL 289.348079 561.672 \r\n\" style=\"fill:#0028ff;\"/>\r\n    <path clip-path=\"url(#p88245d997b)\" d=\"M 322.171608 561.672 \r\nL 354.995138 561.672 \r\nL 354.995138 594.288 \r\nL 322.171608 594.288 \r\nL 322.171608 561.672 \r\n\" style=\"fill:#0030ff;\"/>\r\n    <path clip-path=\"url(#p88245d997b)\" d=\"M 354.995138 561.672 \r\nL 387.818667 561.672 \r\nL 387.818667 594.288 \r\nL 354.995138 594.288 \r\nL 354.995138 561.672 \r\n\" style=\"fill:#0028ff;\"/>\r\n    <path clip-path=\"url(#p88245d997b)\" d=\"M 387.818667 561.672 \r\nL 420.642197 561.672 \r\nL 420.642197 594.288 \r\nL 387.818667 594.288 \r\nL 387.818667 561.672 \r\n\" style=\"fill:#0020ff;\"/>\r\n    <path clip-path=\"url(#p88245d997b)\" d=\"M 420.642197 561.672 \r\nL 453.465726 561.672 \r\nL 453.465726 594.288 \r\nL 420.642197 594.288 \r\nL 420.642197 561.672 \r\n\" style=\"fill:#0034ff;\"/>\r\n    <path clip-path=\"url(#p88245d997b)\" d=\"M 453.465726 561.672 \r\nL 486.289256 561.672 \r\nL 486.289256 594.288 \r\nL 453.465726 594.288 \r\nL 453.465726 561.672 \r\n\" style=\"fill:#0024ff;\"/>\r\n    <path clip-path=\"url(#p88245d997b)\" d=\"M 486.289256 561.672 \r\nL 519.112785 561.672 \r\nL 519.112785 594.288 \r\nL 486.289256 594.288 \r\nL 486.289256 561.672 \r\n\" style=\"fill:#0028ff;\"/>\r\n    <path clip-path=\"url(#p88245d997b)\" d=\"M 519.112785 561.672 \r\nL 551.936314 561.672 \r\nL 551.936314 594.288 \r\nL 519.112785 594.288 \r\nL 519.112785 561.672 \r\n\" style=\"fill:#0018ff;\"/>\r\n    <path clip-path=\"url(#p88245d997b)\" d=\"M 551.936314 561.672 \r\nL 584.759844 561.672 \r\nL 584.759844 594.288 \r\nL 551.936314 594.288 \r\nL 551.936314 561.672 \r\n\" style=\"fill:#0030ff;\"/>\r\n    <path clip-path=\"url(#p88245d997b)\" d=\"M 584.759844 561.672 \r\nL 617.583373 561.672 \r\nL 617.583373 594.288 \r\nL 584.759844 594.288 \r\nL 584.759844 561.672 \r\n\" style=\"fill:#0024ff;\"/>\r\n    <path clip-path=\"url(#p88245d997b)\" d=\"M 617.583373 561.672 \r\nL 650.406903 561.672 \r\nL 650.406903 594.288 \r\nL 617.583373 594.288 \r\nL 617.583373 561.672 \r\n\" style=\"fill:#0030ff;\"/>\r\n    <path clip-path=\"url(#p88245d997b)\" d=\"M 650.406903 561.672 \r\nL 683.230432 561.672 \r\nL 683.230432 594.288 \r\nL 650.406903 594.288 \r\nL 650.406903 561.672 \r\n\" style=\"fill:#0034ff;\"/>\r\n    <path clip-path=\"url(#p88245d997b)\" d=\"M 683.230432 561.672 \r\nL 716.053961 561.672 \r\nL 716.053961 594.288 \r\nL 683.230432 594.288 \r\nL 683.230432 561.672 \r\n\" style=\"fill:#0000a8;\"/>\r\n    <path clip-path=\"url(#p88245d997b)\" d=\"M 716.053961 561.672 \r\nL 748.877491 561.672 \r\nL 748.877491 594.288 \r\nL 716.053961 594.288 \r\nL 716.053961 561.672 \r\n\" style=\"fill:#0000a8;\"/>\r\n    <path clip-path=\"url(#p88245d997b)\" d=\"M 748.877491 561.672 \r\nL 781.70102 561.672 \r\nL 781.70102 594.288 \r\nL 748.877491 594.288 \r\nL 748.877491 561.672 \r\n\" style=\"fill:#0000a8;\"/>\r\n    <path clip-path=\"url(#p88245d997b)\" d=\"M 781.70102 561.672 \r\nL 814.52455 561.672 \r\nL 814.52455 594.288 \r\nL 781.70102 594.288 \r\nL 781.70102 561.672 \r\n\" style=\"fill:#0000a8;\"/>\r\n    <path clip-path=\"url(#p88245d997b)\" d=\"M 814.52455 561.672 \r\nL 847.348079 561.672 \r\nL 847.348079 594.288 \r\nL 814.52455 594.288 \r\nL 814.52455 561.672 \r\n\" style=\"fill:#0000a8;\"/>\r\n    <path clip-path=\"url(#p88245d997b)\" d=\"M 847.348079 561.672 \r\nL 880.171608 561.672 \r\nL 880.171608 594.288 \r\nL 847.348079 594.288 \r\nL 847.348079 561.672 \r\n\" style=\"fill:#0000a8;\"/>\r\n    <path clip-path=\"url(#p88245d997b)\" d=\"M 880.171608 561.672 \r\nL 912.995138 561.672 \r\nL 912.995138 594.288 \r\nL 880.171608 594.288 \r\nL 880.171608 561.672 \r\n\" style=\"fill:#0000a8;\"/>\r\n    <path clip-path=\"url(#p88245d997b)\" d=\"M 912.995138 561.672 \r\nL 945.818667 561.672 \r\nL 945.818667 594.288 \r\nL 912.995138 594.288 \r\nL 912.995138 561.672 \r\n\" style=\"fill:#0000a8;\"/>\r\n    <path clip-path=\"url(#p88245d997b)\" d=\"M 945.818667 561.672 \r\nL 978.642197 561.672 \r\nL 978.642197 594.288 \r\nL 945.818667 594.288 \r\nL 945.818667 561.672 \r\n\" style=\"fill:#0000a8;\"/>\r\n    <path clip-path=\"url(#p88245d997b)\" d=\"M 978.642197 561.672 \r\nL 1011.465726 561.672 \r\nL 1011.465726 594.288 \r\nL 978.642197 594.288 \r\nL 978.642197 561.672 \r\n\" style=\"fill:#0000a4;\"/>\r\n    <path clip-path=\"url(#p88245d997b)\" d=\"M 1011.465726 561.672 \r\nL 1044.289256 561.672 \r\nL 1044.289256 594.288 \r\nL 1011.465726 594.288 \r\nL 1011.465726 561.672 \r\n\" style=\"fill:#0000a8;\"/>\r\n    <path clip-path=\"url(#p88245d997b)\" d=\"M 1044.289256 561.672 \r\nL 1077.112785 561.672 \r\nL 1077.112785 594.288 \r\nL 1044.289256 594.288 \r\nL 1044.289256 561.672 \r\n\" style=\"fill:#0000a8;\"/>\r\n    <path clip-path=\"url(#p88245d997b)\" d=\"M 1077.112785 561.672 \r\nL 1109.936314 561.672 \r\nL 1109.936314 594.288 \r\nL 1077.112785 594.288 \r\nL 1077.112785 561.672 \r\n\" style=\"fill:#0000a8;\"/>\r\n    <path clip-path=\"url(#p88245d997b)\" d=\"M 1109.936314 561.672 \r\nL 1142.759844 561.672 \r\nL 1142.759844 594.288 \r\nL 1109.936314 594.288 \r\nL 1109.936314 561.672 \r\n\" style=\"fill:#0000a8;\"/>\r\n    <path clip-path=\"url(#p88245d997b)\" d=\"M 26.759844 594.288 \r\nL 59.583373 594.288 \r\nL 59.583373 626.904 \r\nL 26.759844 626.904 \r\nL 26.759844 594.288 \r\n\" style=\"fill:#7dff7a;\"/>\r\n    <path clip-path=\"url(#p88245d997b)\" d=\"M 59.583373 594.288 \r\nL 92.406903 594.288 \r\nL 92.406903 626.904 \r\nL 59.583373 626.904 \r\nL 59.583373 594.288 \r\n\" style=\"fill:#90ff66;\"/>\r\n    <path clip-path=\"url(#p88245d997b)\" d=\"M 92.406903 594.288 \r\nL 125.230432 594.288 \r\nL 125.230432 626.904 \r\nL 92.406903 626.904 \r\nL 92.406903 594.288 \r\n\" style=\"fill:#aaff4d;\"/>\r\n    <path clip-path=\"url(#p88245d997b)\" d=\"M 125.230432 594.288 \r\nL 158.053961 594.288 \r\nL 158.053961 626.904 \r\nL 125.230432 626.904 \r\nL 125.230432 594.288 \r\n\" style=\"fill:#b1ff46;\"/>\r\n    <path clip-path=\"url(#p88245d997b)\" d=\"M 158.053961 594.288 \r\nL 190.877491 594.288 \r\nL 190.877491 626.904 \r\nL 158.053961 626.904 \r\nL 158.053961 594.288 \r\n\" style=\"fill:#8aff6d;\"/>\r\n    <path clip-path=\"url(#p88245d997b)\" d=\"M 190.877491 594.288 \r\nL 223.70102 594.288 \r\nL 223.70102 626.904 \r\nL 190.877491 626.904 \r\nL 190.877491 594.288 \r\n\" style=\"fill:#9aff5d;\"/>\r\n    <path clip-path=\"url(#p88245d997b)\" d=\"M 223.70102 594.288 \r\nL 256.52455 594.288 \r\nL 256.52455 626.904 \r\nL 223.70102 626.904 \r\nL 223.70102 594.288 \r\n\" style=\"fill:#94ff63;\"/>\r\n    <path clip-path=\"url(#p88245d997b)\" d=\"M 256.52455 594.288 \r\nL 289.348079 594.288 \r\nL 289.348079 626.904 \r\nL 256.52455 626.904 \r\nL 256.52455 594.288 \r\n\" style=\"fill:#ffe600;\"/>\r\n    <path clip-path=\"url(#p88245d997b)\" d=\"M 289.348079 594.288 \r\nL 322.171608 594.288 \r\nL 322.171608 626.904 \r\nL 289.348079 626.904 \r\nL 289.348079 594.288 \r\n\" style=\"fill:#d7ff1f;\"/>\r\n    <path clip-path=\"url(#p88245d997b)\" d=\"M 322.171608 594.288 \r\nL 354.995138 594.288 \r\nL 354.995138 626.904 \r\nL 322.171608 626.904 \r\nL 322.171608 594.288 \r\n\" style=\"fill:#fbf100;\"/>\r\n    <path clip-path=\"url(#p88245d997b)\" d=\"M 354.995138 594.288 \r\nL 387.818667 594.288 \r\nL 387.818667 626.904 \r\nL 354.995138 626.904 \r\nL 354.995138 594.288 \r\n\" style=\"fill:#ebff0c;\"/>\r\n    <path clip-path=\"url(#p88245d997b)\" d=\"M 387.818667 594.288 \r\nL 420.642197 594.288 \r\nL 420.642197 626.904 \r\nL 387.818667 626.904 \r\nL 387.818667 594.288 \r\n\" style=\"fill:#f8f500;\"/>\r\n    <path clip-path=\"url(#p88245d997b)\" d=\"M 420.642197 594.288 \r\nL 453.465726 594.288 \r\nL 453.465726 626.904 \r\nL 420.642197 626.904 \r\nL 420.642197 594.288 \r\n\" style=\"fill:#d4ff23;\"/>\r\n    <path clip-path=\"url(#p88245d997b)\" d=\"M 453.465726 594.288 \r\nL 486.289256 594.288 \r\nL 486.289256 626.904 \r\nL 453.465726 626.904 \r\nL 453.465726 594.288 \r\n\" style=\"fill:#deff19;\"/>\r\n    <path clip-path=\"url(#p88245d997b)\" d=\"M 486.289256 594.288 \r\nL 519.112785 594.288 \r\nL 519.112785 626.904 \r\nL 486.289256 626.904 \r\nL 486.289256 594.288 \r\n\" style=\"fill:#deff19;\"/>\r\n    <path clip-path=\"url(#p88245d997b)\" d=\"M 519.112785 594.288 \r\nL 551.936314 594.288 \r\nL 551.936314 626.904 \r\nL 519.112785 626.904 \r\nL 519.112785 594.288 \r\n\" style=\"fill:#dbff1c;\"/>\r\n    <path clip-path=\"url(#p88245d997b)\" d=\"M 551.936314 594.288 \r\nL 584.759844 594.288 \r\nL 584.759844 626.904 \r\nL 551.936314 626.904 \r\nL 551.936314 594.288 \r\n\" style=\"fill:#ebff0c;\"/>\r\n    <path clip-path=\"url(#p88245d997b)\" d=\"M 584.759844 594.288 \r\nL 617.583373 594.288 \r\nL 617.583373 626.904 \r\nL 584.759844 626.904 \r\nL 584.759844 594.288 \r\n\" style=\"fill:#e1ff16;\"/>\r\n    <path clip-path=\"url(#p88245d997b)\" d=\"M 617.583373 594.288 \r\nL 650.406903 594.288 \r\nL 650.406903 626.904 \r\nL 617.583373 626.904 \r\nL 617.583373 594.288 \r\n\" style=\"fill:#f8f500;\"/>\r\n    <path clip-path=\"url(#p88245d997b)\" d=\"M 650.406903 594.288 \r\nL 683.230432 594.288 \r\nL 683.230432 626.904 \r\nL 650.406903 626.904 \r\nL 650.406903 594.288 \r\n\" style=\"fill:#f8f500;\"/>\r\n    <path clip-path=\"url(#p88245d997b)\" d=\"M 683.230432 594.288 \r\nL 716.053961 594.288 \r\nL 716.053961 626.904 \r\nL 683.230432 626.904 \r\nL 683.230432 594.288 \r\n\" style=\"fill:#0038ff;\"/>\r\n    <path clip-path=\"url(#p88245d997b)\" d=\"M 716.053961 594.288 \r\nL 748.877491 594.288 \r\nL 748.877491 626.904 \r\nL 716.053961 626.904 \r\nL 716.053961 594.288 \r\n\" style=\"fill:#0034ff;\"/>\r\n    <path clip-path=\"url(#p88245d997b)\" d=\"M 748.877491 594.288 \r\nL 781.70102 594.288 \r\nL 781.70102 626.904 \r\nL 748.877491 626.904 \r\nL 748.877491 594.288 \r\n\" style=\"fill:#0034ff;\"/>\r\n    <path clip-path=\"url(#p88245d997b)\" d=\"M 781.70102 594.288 \r\nL 814.52455 594.288 \r\nL 814.52455 626.904 \r\nL 781.70102 626.904 \r\nL 781.70102 594.288 \r\n\" style=\"fill:#0038ff;\"/>\r\n    <path clip-path=\"url(#p88245d997b)\" d=\"M 814.52455 594.288 \r\nL 847.348079 594.288 \r\nL 847.348079 626.904 \r\nL 814.52455 626.904 \r\nL 814.52455 594.288 \r\n\" style=\"fill:#0024ff;\"/>\r\n    <path clip-path=\"url(#p88245d997b)\" d=\"M 847.348079 594.288 \r\nL 880.171608 594.288 \r\nL 880.171608 626.904 \r\nL 847.348079 626.904 \r\nL 847.348079 594.288 \r\n\" style=\"fill:#0034ff;\"/>\r\n    <path clip-path=\"url(#p88245d997b)\" d=\"M 880.171608 594.288 \r\nL 912.995138 594.288 \r\nL 912.995138 626.904 \r\nL 880.171608 626.904 \r\nL 880.171608 594.288 \r\n\" style=\"fill:#0034ff;\"/>\r\n    <path clip-path=\"url(#p88245d997b)\" d=\"M 912.995138 594.288 \r\nL 945.818667 594.288 \r\nL 945.818667 626.904 \r\nL 912.995138 626.904 \r\nL 912.995138 594.288 \r\n\" style=\"fill:#0038ff;\"/>\r\n    <path clip-path=\"url(#p88245d997b)\" d=\"M 945.818667 594.288 \r\nL 978.642197 594.288 \r\nL 978.642197 626.904 \r\nL 945.818667 626.904 \r\nL 945.818667 594.288 \r\n\" style=\"fill:#0038ff;\"/>\r\n    <path clip-path=\"url(#p88245d997b)\" d=\"M 978.642197 594.288 \r\nL 1011.465726 594.288 \r\nL 1011.465726 626.904 \r\nL 978.642197 626.904 \r\nL 978.642197 594.288 \r\n\" style=\"fill:#0034ff;\"/>\r\n    <path clip-path=\"url(#p88245d997b)\" d=\"M 1011.465726 594.288 \r\nL 1044.289256 594.288 \r\nL 1044.289256 626.904 \r\nL 1011.465726 626.904 \r\nL 1011.465726 594.288 \r\n\" style=\"fill:#0034ff;\"/>\r\n    <path clip-path=\"url(#p88245d997b)\" d=\"M 1044.289256 594.288 \r\nL 1077.112785 594.288 \r\nL 1077.112785 626.904 \r\nL 1044.289256 626.904 \r\nL 1044.289256 594.288 \r\n\" style=\"fill:#003cff;\"/>\r\n    <path clip-path=\"url(#p88245d997b)\" d=\"M 1077.112785 594.288 \r\nL 1109.936314 594.288 \r\nL 1109.936314 626.904 \r\nL 1077.112785 626.904 \r\nL 1077.112785 594.288 \r\n\" style=\"fill:#003cff;\"/>\r\n    <path clip-path=\"url(#p88245d997b)\" d=\"M 1109.936314 594.288 \r\nL 1142.759844 594.288 \r\nL 1142.759844 626.904 \r\nL 1109.936314 626.904 \r\nL 1109.936314 594.288 \r\n\" style=\"fill:#0034ff;\"/>\r\n    <path clip-path=\"url(#p88245d997b)\" d=\"M 26.759844 626.904 \r\nL 59.583373 626.904 \r\nL 59.583373 659.52 \r\nL 26.759844 659.52 \r\nL 26.759844 626.904 \r\n\" style=\"fill:#0048ff;\"/>\r\n    <path clip-path=\"url(#p88245d997b)\" d=\"M 59.583373 626.904 \r\nL 92.406903 626.904 \r\nL 92.406903 659.52 \r\nL 59.583373 659.52 \r\nL 59.583373 626.904 \r\n\" style=\"fill:#0058ff;\"/>\r\n    <path clip-path=\"url(#p88245d997b)\" d=\"M 92.406903 626.904 \r\nL 125.230432 626.904 \r\nL 125.230432 659.52 \r\nL 92.406903 659.52 \r\nL 92.406903 626.904 \r\n\" style=\"fill:#0064ff;\"/>\r\n    <path clip-path=\"url(#p88245d997b)\" d=\"M 125.230432 626.904 \r\nL 158.053961 626.904 \r\nL 158.053961 659.52 \r\nL 125.230432 659.52 \r\nL 125.230432 626.904 \r\n\" style=\"fill:#0064ff;\"/>\r\n    <path clip-path=\"url(#p88245d997b)\" d=\"M 158.053961 626.904 \r\nL 190.877491 626.904 \r\nL 190.877491 659.52 \r\nL 158.053961 659.52 \r\nL 158.053961 626.904 \r\n\" style=\"fill:#0064ff;\"/>\r\n    <path clip-path=\"url(#p88245d997b)\" d=\"M 190.877491 626.904 \r\nL 223.70102 626.904 \r\nL 223.70102 659.52 \r\nL 190.877491 659.52 \r\nL 190.877491 626.904 \r\n\" style=\"fill:#004cff;\"/>\r\n    <path clip-path=\"url(#p88245d997b)\" d=\"M 223.70102 626.904 \r\nL 256.52455 626.904 \r\nL 256.52455 659.52 \r\nL 223.70102 659.52 \r\nL 223.70102 626.904 \r\n\" style=\"fill:#0064ff;\"/>\r\n    <path clip-path=\"url(#p88245d997b)\" d=\"M 256.52455 626.904 \r\nL 289.348079 626.904 \r\nL 289.348079 659.52 \r\nL 256.52455 659.52 \r\nL 256.52455 626.904 \r\n\" style=\"fill:#008cff;\"/>\r\n    <path clip-path=\"url(#p88245d997b)\" d=\"M 289.348079 626.904 \r\nL 322.171608 626.904 \r\nL 322.171608 659.52 \r\nL 289.348079 659.52 \r\nL 289.348079 626.904 \r\n\" style=\"fill:#0074ff;\"/>\r\n    <path clip-path=\"url(#p88245d997b)\" d=\"M 322.171608 626.904 \r\nL 354.995138 626.904 \r\nL 354.995138 659.52 \r\nL 322.171608 659.52 \r\nL 322.171608 626.904 \r\n\" style=\"fill:#0090ff;\"/>\r\n    <path clip-path=\"url(#p88245d997b)\" d=\"M 354.995138 626.904 \r\nL 387.818667 626.904 \r\nL 387.818667 659.52 \r\nL 354.995138 659.52 \r\nL 354.995138 626.904 \r\n\" style=\"fill:#0084ff;\"/>\r\n    <path clip-path=\"url(#p88245d997b)\" d=\"M 387.818667 626.904 \r\nL 420.642197 626.904 \r\nL 420.642197 659.52 \r\nL 387.818667 659.52 \r\nL 387.818667 626.904 \r\n\" style=\"fill:#0070ff;\"/>\r\n    <path clip-path=\"url(#p88245d997b)\" d=\"M 420.642197 626.904 \r\nL 453.465726 626.904 \r\nL 453.465726 659.52 \r\nL 420.642197 659.52 \r\nL 420.642197 626.904 \r\n\" style=\"fill:#0074ff;\"/>\r\n    <path clip-path=\"url(#p88245d997b)\" d=\"M 453.465726 626.904 \r\nL 486.289256 626.904 \r\nL 486.289256 659.52 \r\nL 453.465726 659.52 \r\nL 453.465726 626.904 \r\n\" style=\"fill:#0074ff;\"/>\r\n    <path clip-path=\"url(#p88245d997b)\" d=\"M 486.289256 626.904 \r\nL 519.112785 626.904 \r\nL 519.112785 659.52 \r\nL 486.289256 659.52 \r\nL 486.289256 626.904 \r\n\" style=\"fill:#0088ff;\"/>\r\n    <path clip-path=\"url(#p88245d997b)\" d=\"M 519.112785 626.904 \r\nL 551.936314 626.904 \r\nL 551.936314 659.52 \r\nL 519.112785 659.52 \r\nL 519.112785 626.904 \r\n\" style=\"fill:#0060ff;\"/>\r\n    <path clip-path=\"url(#p88245d997b)\" d=\"M 551.936314 626.904 \r\nL 584.759844 626.904 \r\nL 584.759844 659.52 \r\nL 551.936314 659.52 \r\nL 551.936314 626.904 \r\n\" style=\"fill:#008cff;\"/>\r\n    <path clip-path=\"url(#p88245d997b)\" d=\"M 584.759844 626.904 \r\nL 617.583373 626.904 \r\nL 617.583373 659.52 \r\nL 584.759844 659.52 \r\nL 584.759844 626.904 \r\n\" style=\"fill:#0070ff;\"/>\r\n    <path clip-path=\"url(#p88245d997b)\" d=\"M 617.583373 626.904 \r\nL 650.406903 626.904 \r\nL 650.406903 659.52 \r\nL 617.583373 659.52 \r\nL 617.583373 626.904 \r\n\" style=\"fill:#0080ff;\"/>\r\n    <path clip-path=\"url(#p88245d997b)\" d=\"M 650.406903 626.904 \r\nL 683.230432 626.904 \r\nL 683.230432 659.52 \r\nL 650.406903 659.52 \r\nL 650.406903 626.904 \r\n\" style=\"fill:#0078ff;\"/>\r\n    <path clip-path=\"url(#p88245d997b)\" d=\"M 683.230432 626.904 \r\nL 716.053961 626.904 \r\nL 716.053961 659.52 \r\nL 683.230432 659.52 \r\nL 683.230432 626.904 \r\n\" style=\"fill:#0000bb;\"/>\r\n    <path clip-path=\"url(#p88245d997b)\" d=\"M 716.053961 626.904 \r\nL 748.877491 626.904 \r\nL 748.877491 659.52 \r\nL 716.053961 659.52 \r\nL 716.053961 626.904 \r\n\" style=\"fill:#0000bf;\"/>\r\n    <path clip-path=\"url(#p88245d997b)\" d=\"M 748.877491 626.904 \r\nL 781.70102 626.904 \r\nL 781.70102 659.52 \r\nL 748.877491 659.52 \r\nL 748.877491 626.904 \r\n\" style=\"fill:#0000bf;\"/>\r\n    <path clip-path=\"url(#p88245d997b)\" d=\"M 781.70102 626.904 \r\nL 814.52455 626.904 \r\nL 814.52455 659.52 \r\nL 781.70102 659.52 \r\nL 781.70102 626.904 \r\n\" style=\"fill:#0000bb;\"/>\r\n    <path clip-path=\"url(#p88245d997b)\" d=\"M 814.52455 626.904 \r\nL 847.348079 626.904 \r\nL 847.348079 659.52 \r\nL 814.52455 659.52 \r\nL 814.52455 626.904 \r\n\" style=\"fill:#0000bb;\"/>\r\n    <path clip-path=\"url(#p88245d997b)\" d=\"M 847.348079 626.904 \r\nL 880.171608 626.904 \r\nL 880.171608 659.52 \r\nL 847.348079 659.52 \r\nL 847.348079 626.904 \r\n\" style=\"fill:#0000bb;\"/>\r\n    <path clip-path=\"url(#p88245d997b)\" d=\"M 880.171608 626.904 \r\nL 912.995138 626.904 \r\nL 912.995138 659.52 \r\nL 880.171608 659.52 \r\nL 880.171608 626.904 \r\n\" style=\"fill:#0000bb;\"/>\r\n    <path clip-path=\"url(#p88245d997b)\" d=\"M 912.995138 626.904 \r\nL 945.818667 626.904 \r\nL 945.818667 659.52 \r\nL 912.995138 659.52 \r\nL 912.995138 626.904 \r\n\" style=\"fill:#0000bf;\"/>\r\n    <path clip-path=\"url(#p88245d997b)\" d=\"M 945.818667 626.904 \r\nL 978.642197 626.904 \r\nL 978.642197 659.52 \r\nL 945.818667 659.52 \r\nL 945.818667 626.904 \r\n\" style=\"fill:#0000bb;\"/>\r\n    <path clip-path=\"url(#p88245d997b)\" d=\"M 978.642197 626.904 \r\nL 1011.465726 626.904 \r\nL 1011.465726 659.52 \r\nL 978.642197 659.52 \r\nL 978.642197 626.904 \r\n\" style=\"fill:#0000bb;\"/>\r\n    <path clip-path=\"url(#p88245d997b)\" d=\"M 1011.465726 626.904 \r\nL 1044.289256 626.904 \r\nL 1044.289256 659.52 \r\nL 1011.465726 659.52 \r\nL 1011.465726 626.904 \r\n\" style=\"fill:#0000bb;\"/>\r\n    <path clip-path=\"url(#p88245d997b)\" d=\"M 1044.289256 626.904 \r\nL 1077.112785 626.904 \r\nL 1077.112785 659.52 \r\nL 1044.289256 659.52 \r\nL 1044.289256 626.904 \r\n\" style=\"fill:#0000bf;\"/>\r\n    <path clip-path=\"url(#p88245d997b)\" d=\"M 1077.112785 626.904 \r\nL 1109.936314 626.904 \r\nL 1109.936314 659.52 \r\nL 1077.112785 659.52 \r\nL 1077.112785 626.904 \r\n\" style=\"fill:#0000bf;\"/>\r\n    <path clip-path=\"url(#p88245d997b)\" d=\"M 1109.936314 626.904 \r\nL 1142.759844 626.904 \r\nL 1142.759844 659.52 \r\nL 1109.936314 659.52 \r\nL 1109.936314 626.904 \r\n\" style=\"fill:#0000b6;\"/>\r\n    <path clip-path=\"url(#p88245d997b)\" d=\"M 26.759844 659.52 \r\nL 59.583373 659.52 \r\nL 59.583373 692.136 \r\nL 26.759844 692.136 \r\nL 26.759844 659.52 \r\n\" style=\"fill:#0000ff;\"/>\r\n    <path clip-path=\"url(#p88245d997b)\" d=\"M 59.583373 659.52 \r\nL 92.406903 659.52 \r\nL 92.406903 692.136 \r\nL 59.583373 692.136 \r\nL 59.583373 659.52 \r\n\" style=\"fill:#0004ff;\"/>\r\n    <path clip-path=\"url(#p88245d997b)\" d=\"M 92.406903 659.52 \r\nL 125.230432 659.52 \r\nL 125.230432 692.136 \r\nL 92.406903 692.136 \r\nL 92.406903 659.52 \r\n\" style=\"fill:#0008ff;\"/>\r\n    <path clip-path=\"url(#p88245d997b)\" d=\"M 125.230432 659.52 \r\nL 158.053961 659.52 \r\nL 158.053961 692.136 \r\nL 125.230432 692.136 \r\nL 125.230432 659.52 \r\n\" style=\"fill:#000cff;\"/>\r\n    <path clip-path=\"url(#p88245d997b)\" d=\"M 158.053961 659.52 \r\nL 190.877491 659.52 \r\nL 190.877491 692.136 \r\nL 158.053961 692.136 \r\nL 158.053961 659.52 \r\n\" style=\"fill:#000cff;\"/>\r\n    <path clip-path=\"url(#p88245d997b)\" d=\"M 190.877491 659.52 \r\nL 223.70102 659.52 \r\nL 223.70102 692.136 \r\nL 190.877491 692.136 \r\nL 190.877491 659.52 \r\n\" style=\"fill:#0000ff;\"/>\r\n    <path clip-path=\"url(#p88245d997b)\" d=\"M 223.70102 659.52 \r\nL 256.52455 659.52 \r\nL 256.52455 692.136 \r\nL 223.70102 692.136 \r\nL 223.70102 659.52 \r\n\" style=\"fill:#0000ff;\"/>\r\n    <path clip-path=\"url(#p88245d997b)\" d=\"M 256.52455 659.52 \r\nL 289.348079 659.52 \r\nL 289.348079 692.136 \r\nL 256.52455 692.136 \r\nL 256.52455 659.52 \r\n\" style=\"fill:#0018ff;\"/>\r\n    <path clip-path=\"url(#p88245d997b)\" d=\"M 289.348079 659.52 \r\nL 322.171608 659.52 \r\nL 322.171608 692.136 \r\nL 289.348079 692.136 \r\nL 289.348079 659.52 \r\n\" style=\"fill:#0008ff;\"/>\r\n    <path clip-path=\"url(#p88245d997b)\" d=\"M 322.171608 659.52 \r\nL 354.995138 659.52 \r\nL 354.995138 692.136 \r\nL 322.171608 692.136 \r\nL 322.171608 659.52 \r\n\" style=\"fill:#001cff;\"/>\r\n    <path clip-path=\"url(#p88245d997b)\" d=\"M 354.995138 659.52 \r\nL 387.818667 659.52 \r\nL 387.818667 692.136 \r\nL 354.995138 692.136 \r\nL 354.995138 659.52 \r\n\" style=\"fill:#0010ff;\"/>\r\n    <path clip-path=\"url(#p88245d997b)\" d=\"M 387.818667 659.52 \r\nL 420.642197 659.52 \r\nL 420.642197 692.136 \r\nL 387.818667 692.136 \r\nL 387.818667 659.52 \r\n\" style=\"fill:#000cff;\"/>\r\n    <path clip-path=\"url(#p88245d997b)\" d=\"M 420.642197 659.52 \r\nL 453.465726 659.52 \r\nL 453.465726 692.136 \r\nL 420.642197 692.136 \r\nL 420.642197 659.52 \r\n\" style=\"fill:#0020ff;\"/>\r\n    <path clip-path=\"url(#p88245d997b)\" d=\"M 453.465726 659.52 \r\nL 486.289256 659.52 \r\nL 486.289256 692.136 \r\nL 453.465726 692.136 \r\nL 453.465726 659.52 \r\n\" style=\"fill:#0014ff;\"/>\r\n    <path clip-path=\"url(#p88245d997b)\" d=\"M 486.289256 659.52 \r\nL 519.112785 659.52 \r\nL 519.112785 692.136 \r\nL 486.289256 692.136 \r\nL 486.289256 659.52 \r\n\" style=\"fill:#0000ff;\"/>\r\n    <path clip-path=\"url(#p88245d997b)\" d=\"M 519.112785 659.52 \r\nL 551.936314 659.52 \r\nL 551.936314 692.136 \r\nL 519.112785 692.136 \r\nL 519.112785 659.52 \r\n\" style=\"fill:#0008ff;\"/>\r\n    <path clip-path=\"url(#p88245d997b)\" d=\"M 551.936314 659.52 \r\nL 584.759844 659.52 \r\nL 584.759844 692.136 \r\nL 551.936314 692.136 \r\nL 551.936314 659.52 \r\n\" style=\"fill:#0000ff;\"/>\r\n    <path clip-path=\"url(#p88245d997b)\" d=\"M 584.759844 659.52 \r\nL 617.583373 659.52 \r\nL 617.583373 692.136 \r\nL 584.759844 692.136 \r\nL 584.759844 659.52 \r\n\" style=\"fill:#0010ff;\"/>\r\n    <path clip-path=\"url(#p88245d997b)\" d=\"M 617.583373 659.52 \r\nL 650.406903 659.52 \r\nL 650.406903 692.136 \r\nL 617.583373 692.136 \r\nL 617.583373 659.52 \r\n\" style=\"fill:#0020ff;\"/>\r\n    <path clip-path=\"url(#p88245d997b)\" d=\"M 650.406903 659.52 \r\nL 683.230432 659.52 \r\nL 683.230432 692.136 \r\nL 650.406903 692.136 \r\nL 650.406903 659.52 \r\n\" style=\"fill:#000cff;\"/>\r\n    <path clip-path=\"url(#p88245d997b)\" d=\"M 683.230432 659.52 \r\nL 716.053961 659.52 \r\nL 716.053961 692.136 \r\nL 683.230432 692.136 \r\nL 683.230432 659.52 \r\n\" style=\"fill:#00009f;\"/>\r\n    <path clip-path=\"url(#p88245d997b)\" d=\"M 716.053961 659.52 \r\nL 748.877491 659.52 \r\nL 748.877491 692.136 \r\nL 716.053961 692.136 \r\nL 716.053961 659.52 \r\n\" style=\"fill:#00009b;\"/>\r\n    <path clip-path=\"url(#p88245d997b)\" d=\"M 748.877491 659.52 \r\nL 781.70102 659.52 \r\nL 781.70102 692.136 \r\nL 748.877491 692.136 \r\nL 748.877491 659.52 \r\n\" style=\"fill:#00009f;\"/>\r\n    <path clip-path=\"url(#p88245d997b)\" d=\"M 781.70102 659.52 \r\nL 814.52455 659.52 \r\nL 814.52455 692.136 \r\nL 781.70102 692.136 \r\nL 781.70102 659.52 \r\n\" style=\"fill:#0000a4;\"/>\r\n    <path clip-path=\"url(#p88245d997b)\" d=\"M 814.52455 659.52 \r\nL 847.348079 659.52 \r\nL 847.348079 692.136 \r\nL 814.52455 692.136 \r\nL 814.52455 659.52 \r\n\" style=\"fill:#0000a4;\"/>\r\n    <path clip-path=\"url(#p88245d997b)\" d=\"M 847.348079 659.52 \r\nL 880.171608 659.52 \r\nL 880.171608 692.136 \r\nL 847.348079 692.136 \r\nL 847.348079 659.52 \r\n\" style=\"fill:#00009f;\"/>\r\n    <path clip-path=\"url(#p88245d997b)\" d=\"M 880.171608 659.52 \r\nL 912.995138 659.52 \r\nL 912.995138 692.136 \r\nL 880.171608 692.136 \r\nL 880.171608 659.52 \r\n\" style=\"fill:#0000a4;\"/>\r\n    <path clip-path=\"url(#p88245d997b)\" d=\"M 912.995138 659.52 \r\nL 945.818667 659.52 \r\nL 945.818667 692.136 \r\nL 912.995138 692.136 \r\nL 912.995138 659.52 \r\n\" style=\"fill:#0000a4;\"/>\r\n    <path clip-path=\"url(#p88245d997b)\" d=\"M 945.818667 659.52 \r\nL 978.642197 659.52 \r\nL 978.642197 692.136 \r\nL 945.818667 692.136 \r\nL 945.818667 659.52 \r\n\" style=\"fill:#0000a4;\"/>\r\n    <path clip-path=\"url(#p88245d997b)\" d=\"M 978.642197 659.52 \r\nL 1011.465726 659.52 \r\nL 1011.465726 692.136 \r\nL 978.642197 692.136 \r\nL 978.642197 659.52 \r\n\" style=\"fill:#0000a4;\"/>\r\n    <path clip-path=\"url(#p88245d997b)\" d=\"M 1011.465726 659.52 \r\nL 1044.289256 659.52 \r\nL 1044.289256 692.136 \r\nL 1011.465726 692.136 \r\nL 1011.465726 659.52 \r\n\" style=\"fill:#0000a4;\"/>\r\n    <path clip-path=\"url(#p88245d997b)\" d=\"M 1044.289256 659.52 \r\nL 1077.112785 659.52 \r\nL 1077.112785 692.136 \r\nL 1044.289256 692.136 \r\nL 1044.289256 659.52 \r\n\" style=\"fill:#00009b;\"/>\r\n    <path clip-path=\"url(#p88245d997b)\" d=\"M 1077.112785 659.52 \r\nL 1109.936314 659.52 \r\nL 1109.936314 692.136 \r\nL 1077.112785 692.136 \r\nL 1077.112785 659.52 \r\n\" style=\"fill:#00009b;\"/>\r\n    <path clip-path=\"url(#p88245d997b)\" d=\"M 1109.936314 659.52 \r\nL 1142.759844 659.52 \r\nL 1142.759844 692.136 \r\nL 1109.936314 692.136 \r\nL 1109.936314 659.52 \r\n\" style=\"fill:#0000a4;\"/>\r\n    <path clip-path=\"url(#p88245d997b)\" d=\"M 26.759844 692.136 \r\nL 59.583373 692.136 \r\nL 59.583373 724.752 \r\nL 26.759844 724.752 \r\nL 26.759844 692.136 \r\n\" style=\"fill:#0024ff;\"/>\r\n    <path clip-path=\"url(#p88245d997b)\" d=\"M 59.583373 692.136 \r\nL 92.406903 692.136 \r\nL 92.406903 724.752 \r\nL 59.583373 724.752 \r\nL 59.583373 692.136 \r\n\" style=\"fill:#003cff;\"/>\r\n    <path clip-path=\"url(#p88245d997b)\" d=\"M 92.406903 692.136 \r\nL 125.230432 692.136 \r\nL 125.230432 724.752 \r\nL 92.406903 724.752 \r\nL 92.406903 692.136 \r\n\" style=\"fill:#0044ff;\"/>\r\n    <path clip-path=\"url(#p88245d997b)\" d=\"M 125.230432 692.136 \r\nL 158.053961 692.136 \r\nL 158.053961 724.752 \r\nL 125.230432 724.752 \r\nL 125.230432 692.136 \r\n\" style=\"fill:#0048ff;\"/>\r\n    <path clip-path=\"url(#p88245d997b)\" d=\"M 158.053961 692.136 \r\nL 190.877491 692.136 \r\nL 190.877491 724.752 \r\nL 158.053961 724.752 \r\nL 158.053961 692.136 \r\n\" style=\"fill:#0050ff;\"/>\r\n    <path clip-path=\"url(#p88245d997b)\" d=\"M 190.877491 692.136 \r\nL 223.70102 692.136 \r\nL 223.70102 724.752 \r\nL 190.877491 724.752 \r\nL 190.877491 692.136 \r\n\" style=\"fill:#0050ff;\"/>\r\n    <path clip-path=\"url(#p88245d997b)\" d=\"M 223.70102 692.136 \r\nL 256.52455 692.136 \r\nL 256.52455 724.752 \r\nL 223.70102 724.752 \r\nL 223.70102 692.136 \r\n\" style=\"fill:#004cff;\"/>\r\n    <path clip-path=\"url(#p88245d997b)\" d=\"M 256.52455 692.136 \r\nL 289.348079 692.136 \r\nL 289.348079 724.752 \r\nL 256.52455 724.752 \r\nL 256.52455 692.136 \r\n\" style=\"fill:#0074ff;\"/>\r\n    <path clip-path=\"url(#p88245d997b)\" d=\"M 289.348079 692.136 \r\nL 322.171608 692.136 \r\nL 322.171608 724.752 \r\nL 289.348079 724.752 \r\nL 289.348079 692.136 \r\n\" style=\"fill:#0060ff;\"/>\r\n    <path clip-path=\"url(#p88245d997b)\" d=\"M 322.171608 692.136 \r\nL 354.995138 692.136 \r\nL 354.995138 724.752 \r\nL 322.171608 724.752 \r\nL 322.171608 692.136 \r\n\" style=\"fill:#0074ff;\"/>\r\n    <path clip-path=\"url(#p88245d997b)\" d=\"M 354.995138 692.136 \r\nL 387.818667 692.136 \r\nL 387.818667 724.752 \r\nL 354.995138 724.752 \r\nL 354.995138 692.136 \r\n\" style=\"fill:#006cff;\"/>\r\n    <path clip-path=\"url(#p88245d997b)\" d=\"M 387.818667 692.136 \r\nL 420.642197 692.136 \r\nL 420.642197 724.752 \r\nL 387.818667 724.752 \r\nL 387.818667 692.136 \r\n\" style=\"fill:#0070ff;\"/>\r\n    <path clip-path=\"url(#p88245d997b)\" d=\"M 420.642197 692.136 \r\nL 453.465726 692.136 \r\nL 453.465726 724.752 \r\nL 420.642197 724.752 \r\nL 420.642197 692.136 \r\n\" style=\"fill:#0084ff;\"/>\r\n    <path clip-path=\"url(#p88245d997b)\" d=\"M 453.465726 692.136 \r\nL 486.289256 692.136 \r\nL 486.289256 724.752 \r\nL 453.465726 724.752 \r\nL 453.465726 692.136 \r\n\" style=\"fill:#0048ff;\"/>\r\n    <path clip-path=\"url(#p88245d997b)\" d=\"M 486.289256 692.136 \r\nL 519.112785 692.136 \r\nL 519.112785 724.752 \r\nL 486.289256 724.752 \r\nL 486.289256 692.136 \r\n\" style=\"fill:#007cff;\"/>\r\n    <path clip-path=\"url(#p88245d997b)\" d=\"M 519.112785 692.136 \r\nL 551.936314 692.136 \r\nL 551.936314 724.752 \r\nL 519.112785 724.752 \r\nL 519.112785 692.136 \r\n\" style=\"fill:#0044ff;\"/>\r\n    <path clip-path=\"url(#p88245d997b)\" d=\"M 551.936314 692.136 \r\nL 584.759844 692.136 \r\nL 584.759844 724.752 \r\nL 551.936314 724.752 \r\nL 551.936314 692.136 \r\n\" style=\"fill:#0070ff;\"/>\r\n    <path clip-path=\"url(#p88245d997b)\" d=\"M 584.759844 692.136 \r\nL 617.583373 692.136 \r\nL 617.583373 724.752 \r\nL 584.759844 724.752 \r\nL 584.759844 692.136 \r\n\" style=\"fill:#0060ff;\"/>\r\n    <path clip-path=\"url(#p88245d997b)\" d=\"M 617.583373 692.136 \r\nL 650.406903 692.136 \r\nL 650.406903 724.752 \r\nL 617.583373 724.752 \r\nL 617.583373 692.136 \r\n\" style=\"fill:#0078ff;\"/>\r\n    <path clip-path=\"url(#p88245d997b)\" d=\"M 650.406903 692.136 \r\nL 683.230432 692.136 \r\nL 683.230432 724.752 \r\nL 650.406903 724.752 \r\nL 650.406903 692.136 \r\n\" style=\"fill:#0078ff;\"/>\r\n    <path clip-path=\"url(#p88245d997b)\" d=\"M 683.230432 692.136 \r\nL 716.053961 692.136 \r\nL 716.053961 724.752 \r\nL 683.230432 724.752 \r\nL 683.230432 692.136 \r\n\" style=\"fill:#0000b2;\"/>\r\n    <path clip-path=\"url(#p88245d997b)\" d=\"M 716.053961 692.136 \r\nL 748.877491 692.136 \r\nL 748.877491 724.752 \r\nL 716.053961 724.752 \r\nL 716.053961 692.136 \r\n\" style=\"fill:#0000b6;\"/>\r\n    <path clip-path=\"url(#p88245d997b)\" d=\"M 748.877491 692.136 \r\nL 781.70102 692.136 \r\nL 781.70102 724.752 \r\nL 748.877491 724.752 \r\nL 748.877491 692.136 \r\n\" style=\"fill:#0000bb;\"/>\r\n    <path clip-path=\"url(#p88245d997b)\" d=\"M 781.70102 692.136 \r\nL 814.52455 692.136 \r\nL 814.52455 724.752 \r\nL 781.70102 724.752 \r\nL 781.70102 692.136 \r\n\" style=\"fill:#0000bb;\"/>\r\n    <path clip-path=\"url(#p88245d997b)\" d=\"M 814.52455 692.136 \r\nL 847.348079 692.136 \r\nL 847.348079 724.752 \r\nL 814.52455 724.752 \r\nL 814.52455 692.136 \r\n\" style=\"fill:#0000bf;\"/>\r\n    <path clip-path=\"url(#p88245d997b)\" d=\"M 847.348079 692.136 \r\nL 880.171608 692.136 \r\nL 880.171608 724.752 \r\nL 847.348079 724.752 \r\nL 847.348079 692.136 \r\n\" style=\"fill:#0000b2;\"/>\r\n    <path clip-path=\"url(#p88245d997b)\" d=\"M 880.171608 692.136 \r\nL 912.995138 692.136 \r\nL 912.995138 724.752 \r\nL 880.171608 724.752 \r\nL 880.171608 692.136 \r\n\" style=\"fill:#0000b6;\"/>\r\n    <path clip-path=\"url(#p88245d997b)\" d=\"M 912.995138 692.136 \r\nL 945.818667 692.136 \r\nL 945.818667 724.752 \r\nL 912.995138 724.752 \r\nL 912.995138 692.136 \r\n\" style=\"fill:#0000b6;\"/>\r\n    <path clip-path=\"url(#p88245d997b)\" d=\"M 945.818667 692.136 \r\nL 978.642197 692.136 \r\nL 978.642197 724.752 \r\nL 945.818667 724.752 \r\nL 945.818667 692.136 \r\n\" style=\"fill:#0000bb;\"/>\r\n    <path clip-path=\"url(#p88245d997b)\" d=\"M 978.642197 692.136 \r\nL 1011.465726 692.136 \r\nL 1011.465726 724.752 \r\nL 978.642197 724.752 \r\nL 978.642197 692.136 \r\n\" style=\"fill:#0000b6;\"/>\r\n    <path clip-path=\"url(#p88245d997b)\" d=\"M 1011.465726 692.136 \r\nL 1044.289256 692.136 \r\nL 1044.289256 724.752 \r\nL 1011.465726 724.752 \r\nL 1011.465726 692.136 \r\n\" style=\"fill:#0000bb;\"/>\r\n    <path clip-path=\"url(#p88245d997b)\" d=\"M 1044.289256 692.136 \r\nL 1077.112785 692.136 \r\nL 1077.112785 724.752 \r\nL 1044.289256 724.752 \r\nL 1044.289256 692.136 \r\n\" style=\"fill:#0000bf;\"/>\r\n    <path clip-path=\"url(#p88245d997b)\" d=\"M 1077.112785 692.136 \r\nL 1109.936314 692.136 \r\nL 1109.936314 724.752 \r\nL 1077.112785 724.752 \r\nL 1077.112785 692.136 \r\n\" style=\"fill:#0000ad;\"/>\r\n    <path clip-path=\"url(#p88245d997b)\" d=\"M 1109.936314 692.136 \r\nL 1142.759844 692.136 \r\nL 1142.759844 724.752 \r\nL 1109.936314 724.752 \r\nL 1109.936314 692.136 \r\n\" style=\"fill:#0000b6;\"/>\r\n    <path clip-path=\"url(#p88245d997b)\" d=\"M 26.759844 724.752 \r\nL 59.583373 724.752 \r\nL 59.583373 757.368 \r\nL 26.759844 757.368 \r\nL 26.759844 724.752 \r\n\" style=\"fill:#000080;\"/>\r\n    <path clip-path=\"url(#p88245d997b)\" d=\"M 59.583373 724.752 \r\nL 92.406903 724.752 \r\nL 92.406903 757.368 \r\nL 59.583373 757.368 \r\nL 59.583373 724.752 \r\n\" style=\"fill:#000080;\"/>\r\n    <path clip-path=\"url(#p88245d997b)\" d=\"M 92.406903 724.752 \r\nL 125.230432 724.752 \r\nL 125.230432 757.368 \r\nL 92.406903 757.368 \r\nL 92.406903 724.752 \r\n\" style=\"fill:#000080;\"/>\r\n    <path clip-path=\"url(#p88245d997b)\" d=\"M 125.230432 724.752 \r\nL 158.053961 724.752 \r\nL 158.053961 757.368 \r\nL 125.230432 757.368 \r\nL 125.230432 724.752 \r\n\" style=\"fill:#000080;\"/>\r\n    <path clip-path=\"url(#p88245d997b)\" d=\"M 158.053961 724.752 \r\nL 190.877491 724.752 \r\nL 190.877491 757.368 \r\nL 158.053961 757.368 \r\nL 158.053961 724.752 \r\n\" style=\"fill:#000080;\"/>\r\n    <path clip-path=\"url(#p88245d997b)\" d=\"M 190.877491 724.752 \r\nL 223.70102 724.752 \r\nL 223.70102 757.368 \r\nL 190.877491 757.368 \r\nL 190.877491 724.752 \r\n\" style=\"fill:#000080;\"/>\r\n    <path clip-path=\"url(#p88245d997b)\" d=\"M 223.70102 724.752 \r\nL 256.52455 724.752 \r\nL 256.52455 757.368 \r\nL 223.70102 757.368 \r\nL 223.70102 724.752 \r\n\" style=\"fill:#000080;\"/>\r\n    <path clip-path=\"url(#p88245d997b)\" d=\"M 256.52455 724.752 \r\nL 289.348079 724.752 \r\nL 289.348079 757.368 \r\nL 256.52455 757.368 \r\nL 256.52455 724.752 \r\n\" style=\"fill:#000080;\"/>\r\n    <path clip-path=\"url(#p88245d997b)\" d=\"M 289.348079 724.752 \r\nL 322.171608 724.752 \r\nL 322.171608 757.368 \r\nL 289.348079 757.368 \r\nL 289.348079 724.752 \r\n\" style=\"fill:#000080;\"/>\r\n    <path clip-path=\"url(#p88245d997b)\" d=\"M 322.171608 724.752 \r\nL 354.995138 724.752 \r\nL 354.995138 757.368 \r\nL 322.171608 757.368 \r\nL 322.171608 724.752 \r\n\" style=\"fill:#000080;\"/>\r\n    <path clip-path=\"url(#p88245d997b)\" d=\"M 354.995138 724.752 \r\nL 387.818667 724.752 \r\nL 387.818667 757.368 \r\nL 354.995138 757.368 \r\nL 354.995138 724.752 \r\n\" style=\"fill:#000080;\"/>\r\n    <path clip-path=\"url(#p88245d997b)\" d=\"M 387.818667 724.752 \r\nL 420.642197 724.752 \r\nL 420.642197 757.368 \r\nL 387.818667 757.368 \r\nL 387.818667 724.752 \r\n\" style=\"fill:#000080;\"/>\r\n    <path clip-path=\"url(#p88245d997b)\" d=\"M 420.642197 724.752 \r\nL 453.465726 724.752 \r\nL 453.465726 757.368 \r\nL 420.642197 757.368 \r\nL 420.642197 724.752 \r\n\" style=\"fill:#000080;\"/>\r\n    <path clip-path=\"url(#p88245d997b)\" d=\"M 453.465726 724.752 \r\nL 486.289256 724.752 \r\nL 486.289256 757.368 \r\nL 453.465726 757.368 \r\nL 453.465726 724.752 \r\n\" style=\"fill:#000080;\"/>\r\n    <path clip-path=\"url(#p88245d997b)\" d=\"M 486.289256 724.752 \r\nL 519.112785 724.752 \r\nL 519.112785 757.368 \r\nL 486.289256 757.368 \r\nL 486.289256 724.752 \r\n\" style=\"fill:#000080;\"/>\r\n    <path clip-path=\"url(#p88245d997b)\" d=\"M 519.112785 724.752 \r\nL 551.936314 724.752 \r\nL 551.936314 757.368 \r\nL 519.112785 757.368 \r\nL 519.112785 724.752 \r\n\" style=\"fill:#000080;\"/>\r\n    <path clip-path=\"url(#p88245d997b)\" d=\"M 551.936314 724.752 \r\nL 584.759844 724.752 \r\nL 584.759844 757.368 \r\nL 551.936314 757.368 \r\nL 551.936314 724.752 \r\n\" style=\"fill:#000080;\"/>\r\n    <path clip-path=\"url(#p88245d997b)\" d=\"M 584.759844 724.752 \r\nL 617.583373 724.752 \r\nL 617.583373 757.368 \r\nL 584.759844 757.368 \r\nL 584.759844 724.752 \r\n\" style=\"fill:#000080;\"/>\r\n    <path clip-path=\"url(#p88245d997b)\" d=\"M 617.583373 724.752 \r\nL 650.406903 724.752 \r\nL 650.406903 757.368 \r\nL 617.583373 757.368 \r\nL 617.583373 724.752 \r\n\" style=\"fill:#000080;\"/>\r\n    <path clip-path=\"url(#p88245d997b)\" d=\"M 650.406903 724.752 \r\nL 683.230432 724.752 \r\nL 683.230432 757.368 \r\nL 650.406903 757.368 \r\nL 650.406903 724.752 \r\n\" style=\"fill:#000080;\"/>\r\n    <path clip-path=\"url(#p88245d997b)\" d=\"M 683.230432 724.752 \r\nL 716.053961 724.752 \r\nL 716.053961 757.368 \r\nL 683.230432 757.368 \r\nL 683.230432 724.752 \r\n\" style=\"fill:#000080;\"/>\r\n    <path clip-path=\"url(#p88245d997b)\" d=\"M 716.053961 724.752 \r\nL 748.877491 724.752 \r\nL 748.877491 757.368 \r\nL 716.053961 757.368 \r\nL 716.053961 724.752 \r\n\" style=\"fill:#000080;\"/>\r\n    <path clip-path=\"url(#p88245d997b)\" d=\"M 748.877491 724.752 \r\nL 781.70102 724.752 \r\nL 781.70102 757.368 \r\nL 748.877491 757.368 \r\nL 748.877491 724.752 \r\n\" style=\"fill:#000080;\"/>\r\n    <path clip-path=\"url(#p88245d997b)\" d=\"M 781.70102 724.752 \r\nL 814.52455 724.752 \r\nL 814.52455 757.368 \r\nL 781.70102 757.368 \r\nL 781.70102 724.752 \r\n\" style=\"fill:#000080;\"/>\r\n    <path clip-path=\"url(#p88245d997b)\" d=\"M 814.52455 724.752 \r\nL 847.348079 724.752 \r\nL 847.348079 757.368 \r\nL 814.52455 757.368 \r\nL 814.52455 724.752 \r\n\" style=\"fill:#000080;\"/>\r\n    <path clip-path=\"url(#p88245d997b)\" d=\"M 847.348079 724.752 \r\nL 880.171608 724.752 \r\nL 880.171608 757.368 \r\nL 847.348079 757.368 \r\nL 847.348079 724.752 \r\n\" style=\"fill:#000080;\"/>\r\n    <path clip-path=\"url(#p88245d997b)\" d=\"M 880.171608 724.752 \r\nL 912.995138 724.752 \r\nL 912.995138 757.368 \r\nL 880.171608 757.368 \r\nL 880.171608 724.752 \r\n\" style=\"fill:#000080;\"/>\r\n    <path clip-path=\"url(#p88245d997b)\" d=\"M 912.995138 724.752 \r\nL 945.818667 724.752 \r\nL 945.818667 757.368 \r\nL 912.995138 757.368 \r\nL 912.995138 724.752 \r\n\" style=\"fill:#000080;\"/>\r\n    <path clip-path=\"url(#p88245d997b)\" d=\"M 945.818667 724.752 \r\nL 978.642197 724.752 \r\nL 978.642197 757.368 \r\nL 945.818667 757.368 \r\nL 945.818667 724.752 \r\n\" style=\"fill:#000080;\"/>\r\n    <path clip-path=\"url(#p88245d997b)\" d=\"M 978.642197 724.752 \r\nL 1011.465726 724.752 \r\nL 1011.465726 757.368 \r\nL 978.642197 757.368 \r\nL 978.642197 724.752 \r\n\" style=\"fill:#000080;\"/>\r\n    <path clip-path=\"url(#p88245d997b)\" d=\"M 1011.465726 724.752 \r\nL 1044.289256 724.752 \r\nL 1044.289256 757.368 \r\nL 1011.465726 757.368 \r\nL 1011.465726 724.752 \r\n\" style=\"fill:#000080;\"/>\r\n    <path clip-path=\"url(#p88245d997b)\" d=\"M 1044.289256 724.752 \r\nL 1077.112785 724.752 \r\nL 1077.112785 757.368 \r\nL 1044.289256 757.368 \r\nL 1044.289256 724.752 \r\n\" style=\"fill:#000080;\"/>\r\n    <path clip-path=\"url(#p88245d997b)\" d=\"M 1077.112785 724.752 \r\nL 1109.936314 724.752 \r\nL 1109.936314 757.368 \r\nL 1077.112785 757.368 \r\nL 1077.112785 724.752 \r\n\" style=\"fill:#000080;\"/>\r\n    <path clip-path=\"url(#p88245d997b)\" d=\"M 1109.936314 724.752 \r\nL 1142.759844 724.752 \r\nL 1142.759844 757.368 \r\nL 1109.936314 757.368 \r\nL 1109.936314 724.752 \r\n\" style=\"fill:#000080;\"/>\r\n    <path clip-path=\"url(#p88245d997b)\" d=\"M 26.759844 757.368 \r\nL 59.583373 757.368 \r\nL 59.583373 789.984 \r\nL 26.759844 789.984 \r\nL 26.759844 757.368 \r\n\" style=\"fill:#0000ff;\"/>\r\n    <path clip-path=\"url(#p88245d997b)\" d=\"M 59.583373 757.368 \r\nL 92.406903 757.368 \r\nL 92.406903 789.984 \r\nL 59.583373 789.984 \r\nL 59.583373 757.368 \r\n\" style=\"fill:#0008ff;\"/>\r\n    <path clip-path=\"url(#p88245d997b)\" d=\"M 92.406903 757.368 \r\nL 125.230432 757.368 \r\nL 125.230432 789.984 \r\nL 92.406903 789.984 \r\nL 92.406903 757.368 \r\n\" style=\"fill:#0008ff;\"/>\r\n    <path clip-path=\"url(#p88245d997b)\" d=\"M 125.230432 757.368 \r\nL 158.053961 757.368 \r\nL 158.053961 789.984 \r\nL 125.230432 789.984 \r\nL 125.230432 757.368 \r\n\" style=\"fill:#0000ff;\"/>\r\n    <path clip-path=\"url(#p88245d997b)\" d=\"M 158.053961 757.368 \r\nL 190.877491 757.368 \r\nL 190.877491 789.984 \r\nL 158.053961 789.984 \r\nL 158.053961 757.368 \r\n\" style=\"fill:#000cff;\"/>\r\n    <path clip-path=\"url(#p88245d997b)\" d=\"M 190.877491 757.368 \r\nL 223.70102 757.368 \r\nL 223.70102 789.984 \r\nL 190.877491 789.984 \r\nL 190.877491 757.368 \r\n\" style=\"fill:#0000ff;\"/>\r\n    <path clip-path=\"url(#p88245d997b)\" d=\"M 223.70102 757.368 \r\nL 256.52455 757.368 \r\nL 256.52455 789.984 \r\nL 223.70102 789.984 \r\nL 223.70102 757.368 \r\n\" style=\"fill:#0000ff;\"/>\r\n    <path clip-path=\"url(#p88245d997b)\" d=\"M 256.52455 757.368 \r\nL 289.348079 757.368 \r\nL 289.348079 789.984 \r\nL 256.52455 789.984 \r\nL 256.52455 757.368 \r\n\" style=\"fill:#0034ff;\"/>\r\n    <path clip-path=\"url(#p88245d997b)\" d=\"M 289.348079 757.368 \r\nL 322.171608 757.368 \r\nL 322.171608 789.984 \r\nL 289.348079 789.984 \r\nL 289.348079 757.368 \r\n\" style=\"fill:#0024ff;\"/>\r\n    <path clip-path=\"url(#p88245d997b)\" d=\"M 322.171608 757.368 \r\nL 354.995138 757.368 \r\nL 354.995138 789.984 \r\nL 322.171608 789.984 \r\nL 322.171608 757.368 \r\n\" style=\"fill:#0008ff;\"/>\r\n    <path clip-path=\"url(#p88245d997b)\" d=\"M 354.995138 757.368 \r\nL 387.818667 757.368 \r\nL 387.818667 789.984 \r\nL 354.995138 789.984 \r\nL 354.995138 757.368 \r\n\" style=\"fill:#0000ff;\"/>\r\n    <path clip-path=\"url(#p88245d997b)\" d=\"M 387.818667 757.368 \r\nL 420.642197 757.368 \r\nL 420.642197 789.984 \r\nL 387.818667 789.984 \r\nL 387.818667 757.368 \r\n\" style=\"fill:#0008ff;\"/>\r\n    <path clip-path=\"url(#p88245d997b)\" d=\"M 420.642197 757.368 \r\nL 453.465726 757.368 \r\nL 453.465726 789.984 \r\nL 420.642197 789.984 \r\nL 420.642197 757.368 \r\n\" style=\"fill:#0040ff;\"/>\r\n    <path clip-path=\"url(#p88245d997b)\" d=\"M 453.465726 757.368 \r\nL 486.289256 757.368 \r\nL 486.289256 789.984 \r\nL 453.465726 789.984 \r\nL 453.465726 757.368 \r\n\" style=\"fill:#002cff;\"/>\r\n    <path clip-path=\"url(#p88245d997b)\" d=\"M 486.289256 757.368 \r\nL 519.112785 757.368 \r\nL 519.112785 789.984 \r\nL 486.289256 789.984 \r\nL 486.289256 757.368 \r\n\" style=\"fill:#0010ff;\"/>\r\n    <path clip-path=\"url(#p88245d997b)\" d=\"M 519.112785 757.368 \r\nL 551.936314 757.368 \r\nL 551.936314 789.984 \r\nL 519.112785 789.984 \r\nL 519.112785 757.368 \r\n\" style=\"fill:#0000ff;\"/>\r\n    <path clip-path=\"url(#p88245d997b)\" d=\"M 551.936314 757.368 \r\nL 584.759844 757.368 \r\nL 584.759844 789.984 \r\nL 551.936314 789.984 \r\nL 551.936314 757.368 \r\n\" style=\"fill:#0034ff;\"/>\r\n    <path clip-path=\"url(#p88245d997b)\" d=\"M 584.759844 757.368 \r\nL 617.583373 757.368 \r\nL 617.583373 789.984 \r\nL 584.759844 789.984 \r\nL 584.759844 757.368 \r\n\" style=\"fill:#0024ff;\"/>\r\n    <path clip-path=\"url(#p88245d997b)\" d=\"M 617.583373 757.368 \r\nL 650.406903 757.368 \r\nL 650.406903 789.984 \r\nL 617.583373 789.984 \r\nL 617.583373 757.368 \r\n\" style=\"fill:#0044ff;\"/>\r\n    <path clip-path=\"url(#p88245d997b)\" d=\"M 650.406903 757.368 \r\nL 683.230432 757.368 \r\nL 683.230432 789.984 \r\nL 650.406903 789.984 \r\nL 650.406903 757.368 \r\n\" style=\"fill:#0008ff;\"/>\r\n    <path clip-path=\"url(#p88245d997b)\" d=\"M 683.230432 757.368 \r\nL 716.053961 757.368 \r\nL 716.053961 789.984 \r\nL 683.230432 789.984 \r\nL 683.230432 757.368 \r\n\" style=\"fill:#0000a8;\"/>\r\n    <path clip-path=\"url(#p88245d997b)\" d=\"M 716.053961 757.368 \r\nL 748.877491 757.368 \r\nL 748.877491 789.984 \r\nL 716.053961 789.984 \r\nL 716.053961 757.368 \r\n\" style=\"fill:#0000ad;\"/>\r\n    <path clip-path=\"url(#p88245d997b)\" d=\"M 748.877491 757.368 \r\nL 781.70102 757.368 \r\nL 781.70102 789.984 \r\nL 748.877491 789.984 \r\nL 748.877491 757.368 \r\n\" style=\"fill:#0000a4;\"/>\r\n    <path clip-path=\"url(#p88245d997b)\" d=\"M 781.70102 757.368 \r\nL 814.52455 757.368 \r\nL 814.52455 789.984 \r\nL 781.70102 789.984 \r\nL 781.70102 757.368 \r\n\" style=\"fill:#0000b2;\"/>\r\n    <path clip-path=\"url(#p88245d997b)\" d=\"M 814.52455 757.368 \r\nL 847.348079 757.368 \r\nL 847.348079 789.984 \r\nL 814.52455 789.984 \r\nL 814.52455 757.368 \r\n\" style=\"fill:#0000a4;\"/>\r\n    <path clip-path=\"url(#p88245d997b)\" d=\"M 847.348079 757.368 \r\nL 880.171608 757.368 \r\nL 880.171608 789.984 \r\nL 847.348079 789.984 \r\nL 847.348079 757.368 \r\n\" style=\"fill:#0000a8;\"/>\r\n    <path clip-path=\"url(#p88245d997b)\" d=\"M 880.171608 757.368 \r\nL 912.995138 757.368 \r\nL 912.995138 789.984 \r\nL 880.171608 789.984 \r\nL 880.171608 757.368 \r\n\" style=\"fill:#0000a4;\"/>\r\n    <path clip-path=\"url(#p88245d997b)\" d=\"M 912.995138 757.368 \r\nL 945.818667 757.368 \r\nL 945.818667 789.984 \r\nL 912.995138 789.984 \r\nL 912.995138 757.368 \r\n\" style=\"fill:#0000ad;\"/>\r\n    <path clip-path=\"url(#p88245d997b)\" d=\"M 945.818667 757.368 \r\nL 978.642197 757.368 \r\nL 978.642197 789.984 \r\nL 945.818667 789.984 \r\nL 945.818667 757.368 \r\n\" style=\"fill:#0000b6;\"/>\r\n    <path clip-path=\"url(#p88245d997b)\" d=\"M 978.642197 757.368 \r\nL 1011.465726 757.368 \r\nL 1011.465726 789.984 \r\nL 978.642197 789.984 \r\nL 978.642197 757.368 \r\n\" style=\"fill:#0000ad;\"/>\r\n    <path clip-path=\"url(#p88245d997b)\" d=\"M 1011.465726 757.368 \r\nL 1044.289256 757.368 \r\nL 1044.289256 789.984 \r\nL 1011.465726 789.984 \r\nL 1011.465726 757.368 \r\n\" style=\"fill:#0000ad;\"/>\r\n    <path clip-path=\"url(#p88245d997b)\" d=\"M 1044.289256 757.368 \r\nL 1077.112785 757.368 \r\nL 1077.112785 789.984 \r\nL 1044.289256 789.984 \r\nL 1044.289256 757.368 \r\n\" style=\"fill:#0000a8;\"/>\r\n    <path clip-path=\"url(#p88245d997b)\" d=\"M 1077.112785 757.368 \r\nL 1109.936314 757.368 \r\nL 1109.936314 789.984 \r\nL 1077.112785 789.984 \r\nL 1077.112785 757.368 \r\n\" style=\"fill:#0000ad;\"/>\r\n    <path clip-path=\"url(#p88245d997b)\" d=\"M 1109.936314 757.368 \r\nL 1142.759844 757.368 \r\nL 1142.759844 789.984 \r\nL 1109.936314 789.984 \r\nL 1109.936314 757.368 \r\n\" style=\"fill:#0000ad;\"/>\r\n    <path clip-path=\"url(#p88245d997b)\" d=\"M 26.759844 789.984 \r\nL 59.583373 789.984 \r\nL 59.583373 822.6 \r\nL 26.759844 822.6 \r\nL 26.759844 789.984 \r\n\" style=\"fill:#000080;\"/>\r\n    <path clip-path=\"url(#p88245d997b)\" d=\"M 59.583373 789.984 \r\nL 92.406903 789.984 \r\nL 92.406903 822.6 \r\nL 59.583373 822.6 \r\nL 59.583373 789.984 \r\n\" style=\"fill:#000080;\"/>\r\n    <path clip-path=\"url(#p88245d997b)\" d=\"M 92.406903 789.984 \r\nL 125.230432 789.984 \r\nL 125.230432 822.6 \r\nL 92.406903 822.6 \r\nL 92.406903 789.984 \r\n\" style=\"fill:#000084;\"/>\r\n    <path clip-path=\"url(#p88245d997b)\" d=\"M 125.230432 789.984 \r\nL 158.053961 789.984 \r\nL 158.053961 822.6 \r\nL 125.230432 822.6 \r\nL 125.230432 789.984 \r\n\" style=\"fill:#000080;\"/>\r\n    <path clip-path=\"url(#p88245d997b)\" d=\"M 158.053961 789.984 \r\nL 190.877491 789.984 \r\nL 190.877491 822.6 \r\nL 158.053961 822.6 \r\nL 158.053961 789.984 \r\n\" style=\"fill:#000080;\"/>\r\n    <path clip-path=\"url(#p88245d997b)\" d=\"M 190.877491 789.984 \r\nL 223.70102 789.984 \r\nL 223.70102 822.6 \r\nL 190.877491 822.6 \r\nL 190.877491 789.984 \r\n\" style=\"fill:#000080;\"/>\r\n    <path clip-path=\"url(#p88245d997b)\" d=\"M 223.70102 789.984 \r\nL 256.52455 789.984 \r\nL 256.52455 822.6 \r\nL 223.70102 822.6 \r\nL 223.70102 789.984 \r\n\" style=\"fill:#000080;\"/>\r\n    <path clip-path=\"url(#p88245d997b)\" d=\"M 256.52455 789.984 \r\nL 289.348079 789.984 \r\nL 289.348079 822.6 \r\nL 256.52455 822.6 \r\nL 256.52455 789.984 \r\n\" style=\"fill:#000084;\"/>\r\n    <path clip-path=\"url(#p88245d997b)\" d=\"M 289.348079 789.984 \r\nL 322.171608 789.984 \r\nL 322.171608 822.6 \r\nL 289.348079 822.6 \r\nL 289.348079 789.984 \r\n\" style=\"fill:#000080;\"/>\r\n    <path clip-path=\"url(#p88245d997b)\" d=\"M 322.171608 789.984 \r\nL 354.995138 789.984 \r\nL 354.995138 822.6 \r\nL 322.171608 822.6 \r\nL 322.171608 789.984 \r\n\" style=\"fill:#000084;\"/>\r\n    <path clip-path=\"url(#p88245d997b)\" d=\"M 354.995138 789.984 \r\nL 387.818667 789.984 \r\nL 387.818667 822.6 \r\nL 354.995138 822.6 \r\nL 354.995138 789.984 \r\n\" style=\"fill:#000080;\"/>\r\n    <path clip-path=\"url(#p88245d997b)\" d=\"M 387.818667 789.984 \r\nL 420.642197 789.984 \r\nL 420.642197 822.6 \r\nL 387.818667 822.6 \r\nL 387.818667 789.984 \r\n\" style=\"fill:#000080;\"/>\r\n    <path clip-path=\"url(#p88245d997b)\" d=\"M 420.642197 789.984 \r\nL 453.465726 789.984 \r\nL 453.465726 822.6 \r\nL 420.642197 822.6 \r\nL 420.642197 789.984 \r\n\" style=\"fill:#000084;\"/>\r\n    <path clip-path=\"url(#p88245d997b)\" d=\"M 453.465726 789.984 \r\nL 486.289256 789.984 \r\nL 486.289256 822.6 \r\nL 453.465726 822.6 \r\nL 453.465726 789.984 \r\n\" style=\"fill:#000080;\"/>\r\n    <path clip-path=\"url(#p88245d997b)\" d=\"M 486.289256 789.984 \r\nL 519.112785 789.984 \r\nL 519.112785 822.6 \r\nL 486.289256 822.6 \r\nL 486.289256 789.984 \r\n\" style=\"fill:#000084;\"/>\r\n    <path clip-path=\"url(#p88245d997b)\" d=\"M 519.112785 789.984 \r\nL 551.936314 789.984 \r\nL 551.936314 822.6 \r\nL 519.112785 822.6 \r\nL 519.112785 789.984 \r\n\" style=\"fill:#000080;\"/>\r\n    <path clip-path=\"url(#p88245d997b)\" d=\"M 551.936314 789.984 \r\nL 584.759844 789.984 \r\nL 584.759844 822.6 \r\nL 551.936314 822.6 \r\nL 551.936314 789.984 \r\n\" style=\"fill:#000084;\"/>\r\n    <path clip-path=\"url(#p88245d997b)\" d=\"M 584.759844 789.984 \r\nL 617.583373 789.984 \r\nL 617.583373 822.6 \r\nL 584.759844 822.6 \r\nL 584.759844 789.984 \r\n\" style=\"fill:#000080;\"/>\r\n    <path clip-path=\"url(#p88245d997b)\" d=\"M 617.583373 789.984 \r\nL 650.406903 789.984 \r\nL 650.406903 822.6 \r\nL 617.583373 822.6 \r\nL 617.583373 789.984 \r\n\" style=\"fill:#000084;\"/>\r\n    <path clip-path=\"url(#p88245d997b)\" d=\"M 650.406903 789.984 \r\nL 683.230432 789.984 \r\nL 683.230432 822.6 \r\nL 650.406903 822.6 \r\nL 650.406903 789.984 \r\n\" style=\"fill:#000080;\"/>\r\n    <path clip-path=\"url(#p88245d997b)\" d=\"M 683.230432 789.984 \r\nL 716.053961 789.984 \r\nL 716.053961 822.6 \r\nL 683.230432 822.6 \r\nL 683.230432 789.984 \r\n\" style=\"fill:#000080;\"/>\r\n    <path clip-path=\"url(#p88245d997b)\" d=\"M 716.053961 789.984 \r\nL 748.877491 789.984 \r\nL 748.877491 822.6 \r\nL 716.053961 822.6 \r\nL 716.053961 789.984 \r\n\" style=\"fill:#000080;\"/>\r\n    <path clip-path=\"url(#p88245d997b)\" d=\"M 748.877491 789.984 \r\nL 781.70102 789.984 \r\nL 781.70102 822.6 \r\nL 748.877491 822.6 \r\nL 748.877491 789.984 \r\n\" style=\"fill:#000080;\"/>\r\n    <path clip-path=\"url(#p88245d997b)\" d=\"M 781.70102 789.984 \r\nL 814.52455 789.984 \r\nL 814.52455 822.6 \r\nL 781.70102 822.6 \r\nL 781.70102 789.984 \r\n\" style=\"fill:#000080;\"/>\r\n    <path clip-path=\"url(#p88245d997b)\" d=\"M 814.52455 789.984 \r\nL 847.348079 789.984 \r\nL 847.348079 822.6 \r\nL 814.52455 822.6 \r\nL 814.52455 789.984 \r\n\" style=\"fill:#000080;\"/>\r\n    <path clip-path=\"url(#p88245d997b)\" d=\"M 847.348079 789.984 \r\nL 880.171608 789.984 \r\nL 880.171608 822.6 \r\nL 847.348079 822.6 \r\nL 847.348079 789.984 \r\n\" style=\"fill:#000080;\"/>\r\n    <path clip-path=\"url(#p88245d997b)\" d=\"M 880.171608 789.984 \r\nL 912.995138 789.984 \r\nL 912.995138 822.6 \r\nL 880.171608 822.6 \r\nL 880.171608 789.984 \r\n\" style=\"fill:#000080;\"/>\r\n    <path clip-path=\"url(#p88245d997b)\" d=\"M 912.995138 789.984 \r\nL 945.818667 789.984 \r\nL 945.818667 822.6 \r\nL 912.995138 822.6 \r\nL 912.995138 789.984 \r\n\" style=\"fill:#000080;\"/>\r\n    <path clip-path=\"url(#p88245d997b)\" d=\"M 945.818667 789.984 \r\nL 978.642197 789.984 \r\nL 978.642197 822.6 \r\nL 945.818667 822.6 \r\nL 945.818667 789.984 \r\n\" style=\"fill:#000080;\"/>\r\n    <path clip-path=\"url(#p88245d997b)\" d=\"M 978.642197 789.984 \r\nL 1011.465726 789.984 \r\nL 1011.465726 822.6 \r\nL 978.642197 822.6 \r\nL 978.642197 789.984 \r\n\" style=\"fill:#000080;\"/>\r\n    <path clip-path=\"url(#p88245d997b)\" d=\"M 1011.465726 789.984 \r\nL 1044.289256 789.984 \r\nL 1044.289256 822.6 \r\nL 1011.465726 822.6 \r\nL 1011.465726 789.984 \r\n\" style=\"fill:#000080;\"/>\r\n    <path clip-path=\"url(#p88245d997b)\" d=\"M 1044.289256 789.984 \r\nL 1077.112785 789.984 \r\nL 1077.112785 822.6 \r\nL 1044.289256 822.6 \r\nL 1044.289256 789.984 \r\n\" style=\"fill:#000080;\"/>\r\n    <path clip-path=\"url(#p88245d997b)\" d=\"M 1077.112785 789.984 \r\nL 1109.936314 789.984 \r\nL 1109.936314 822.6 \r\nL 1077.112785 822.6 \r\nL 1077.112785 789.984 \r\n\" style=\"fill:#000080;\"/>\r\n    <path clip-path=\"url(#p88245d997b)\" d=\"M 1109.936314 789.984 \r\nL 1142.759844 789.984 \r\nL 1142.759844 822.6 \r\nL 1109.936314 822.6 \r\nL 1109.936314 789.984 \r\n\" style=\"fill:#000080;\"/>\r\n   </g>\r\n  </g>\r\n  <g id=\"axes_2\">\r\n   <g id=\"patch_3\">\r\n    <path clip-path=\"url(#p090f3f5a2e)\" d=\"M 1212.509844 822.6 \r\nL 1212.509844 819.414844 \r\nL 1212.509844 10.385156 \r\nL 1212.509844 7.2 \r\nL 1253.279844 7.2 \r\nL 1253.279844 10.385156 \r\nL 1253.279844 819.414844 \r\nL 1253.279844 822.6 \r\nz\r\n\" style=\"fill:#eaeaf2;stroke:#eaeaf2;stroke-linejoin:miter;stroke-width:0.01;\"/>\r\n   </g>\r\n   <g id=\"matplotlib.axis_3\"/>\r\n   <g id=\"matplotlib.axis_4\">\r\n    <g id=\"ytick_26\">\r\n     <g id=\"line2d_1\">\r\n      <defs>\r\n       <path d=\"M 0 0 \r\nL 6 0 \r\n\" id=\"m3f48f4df47\" style=\"stroke:#262626;stroke-width:1.25;\"/>\r\n      </defs>\r\n      <g>\r\n       <use style=\"fill:#262626;stroke:#262626;stroke-width:1.25;\" x=\"1253.279844\" xlink:href=\"#m3f48f4df47\" y=\"822.6\"/>\r\n      </g>\r\n     </g>\r\n     <g id=\"text_60\">\r\n      <!-- 0 -->\r\n      <g style=\"fill:#262626;\" transform=\"translate(1262.779844 826.536797)scale(0.11 -0.11)\">\r\n       <use xlink:href=\"#ArialMT-48\"/>\r\n      </g>\r\n     </g>\r\n    </g>\r\n    <g id=\"ytick_27\">\r\n     <g id=\"line2d_2\">\r\n      <g>\r\n       <use style=\"fill:#262626;stroke:#262626;stroke-width:1.25;\" x=\"1253.279844\" xlink:href=\"#m3f48f4df47\" y=\"720.149943\"/>\r\n      </g>\r\n     </g>\r\n     <g id=\"text_61\">\r\n      <!-- 2000 -->\r\n      <g style=\"fill:#262626;\" transform=\"translate(1262.779844 724.08674)scale(0.11 -0.11)\">\r\n       <use xlink:href=\"#ArialMT-50\"/>\r\n       <use x=\"55.615234\" xlink:href=\"#ArialMT-48\"/>\r\n       <use x=\"111.230469\" xlink:href=\"#ArialMT-48\"/>\r\n       <use x=\"166.845703\" xlink:href=\"#ArialMT-48\"/>\r\n      </g>\r\n     </g>\r\n    </g>\r\n    <g id=\"ytick_28\">\r\n     <g id=\"line2d_3\">\r\n      <g>\r\n       <use style=\"fill:#262626;stroke:#262626;stroke-width:1.25;\" x=\"1253.279844\" xlink:href=\"#m3f48f4df47\" y=\"617.699887\"/>\r\n      </g>\r\n     </g>\r\n     <g id=\"text_62\">\r\n      <!-- 4000 -->\r\n      <g style=\"fill:#262626;\" transform=\"translate(1262.779844 621.636684)scale(0.11 -0.11)\">\r\n       <use xlink:href=\"#ArialMT-52\"/>\r\n       <use x=\"55.615234\" xlink:href=\"#ArialMT-48\"/>\r\n       <use x=\"111.230469\" xlink:href=\"#ArialMT-48\"/>\r\n       <use x=\"166.845703\" xlink:href=\"#ArialMT-48\"/>\r\n      </g>\r\n     </g>\r\n    </g>\r\n    <g id=\"ytick_29\">\r\n     <g id=\"line2d_4\">\r\n      <g>\r\n       <use style=\"fill:#262626;stroke:#262626;stroke-width:1.25;\" x=\"1253.279844\" xlink:href=\"#m3f48f4df47\" y=\"515.24983\"/>\r\n      </g>\r\n     </g>\r\n     <g id=\"text_63\">\r\n      <!-- 6000 -->\r\n      <g style=\"fill:#262626;\" transform=\"translate(1262.779844 519.186627)scale(0.11 -0.11)\">\r\n       <use xlink:href=\"#ArialMT-54\"/>\r\n       <use x=\"55.615234\" xlink:href=\"#ArialMT-48\"/>\r\n       <use x=\"111.230469\" xlink:href=\"#ArialMT-48\"/>\r\n       <use x=\"166.845703\" xlink:href=\"#ArialMT-48\"/>\r\n      </g>\r\n     </g>\r\n    </g>\r\n    <g id=\"ytick_30\">\r\n     <g id=\"line2d_5\">\r\n      <g>\r\n       <use style=\"fill:#262626;stroke:#262626;stroke-width:1.25;\" x=\"1253.279844\" xlink:href=\"#m3f48f4df47\" y=\"412.799774\"/>\r\n      </g>\r\n     </g>\r\n     <g id=\"text_64\">\r\n      <!-- 8000 -->\r\n      <g style=\"fill:#262626;\" transform=\"translate(1262.779844 416.736571)scale(0.11 -0.11)\">\r\n       <use xlink:href=\"#ArialMT-56\"/>\r\n       <use x=\"55.615234\" xlink:href=\"#ArialMT-48\"/>\r\n       <use x=\"111.230469\" xlink:href=\"#ArialMT-48\"/>\r\n       <use x=\"166.845703\" xlink:href=\"#ArialMT-48\"/>\r\n      </g>\r\n     </g>\r\n    </g>\r\n    <g id=\"ytick_31\">\r\n     <g id=\"line2d_6\">\r\n      <g>\r\n       <use style=\"fill:#262626;stroke:#262626;stroke-width:1.25;\" x=\"1253.279844\" xlink:href=\"#m3f48f4df47\" y=\"310.349717\"/>\r\n      </g>\r\n     </g>\r\n     <g id=\"text_65\">\r\n      <!-- 10000 -->\r\n      <g style=\"fill:#262626;\" transform=\"translate(1262.779844 314.286514)scale(0.11 -0.11)\">\r\n       <use xlink:href=\"#ArialMT-49\"/>\r\n       <use x=\"55.615234\" xlink:href=\"#ArialMT-48\"/>\r\n       <use x=\"111.230469\" xlink:href=\"#ArialMT-48\"/>\r\n       <use x=\"166.845703\" xlink:href=\"#ArialMT-48\"/>\r\n       <use x=\"222.460938\" xlink:href=\"#ArialMT-48\"/>\r\n      </g>\r\n     </g>\r\n    </g>\r\n    <g id=\"ytick_32\">\r\n     <g id=\"line2d_7\">\r\n      <g>\r\n       <use style=\"fill:#262626;stroke:#262626;stroke-width:1.25;\" x=\"1253.279844\" xlink:href=\"#m3f48f4df47\" y=\"207.899661\"/>\r\n      </g>\r\n     </g>\r\n     <g id=\"text_66\">\r\n      <!-- 12000 -->\r\n      <g style=\"fill:#262626;\" transform=\"translate(1262.779844 211.836458)scale(0.11 -0.11)\">\r\n       <use xlink:href=\"#ArialMT-49\"/>\r\n       <use x=\"55.615234\" xlink:href=\"#ArialMT-50\"/>\r\n       <use x=\"111.230469\" xlink:href=\"#ArialMT-48\"/>\r\n       <use x=\"166.845703\" xlink:href=\"#ArialMT-48\"/>\r\n       <use x=\"222.460938\" xlink:href=\"#ArialMT-48\"/>\r\n      </g>\r\n     </g>\r\n    </g>\r\n    <g id=\"ytick_33\">\r\n     <g id=\"line2d_8\">\r\n      <g>\r\n       <use style=\"fill:#262626;stroke:#262626;stroke-width:1.25;\" x=\"1253.279844\" xlink:href=\"#m3f48f4df47\" y=\"105.449604\"/>\r\n      </g>\r\n     </g>\r\n     <g id=\"text_67\">\r\n      <!-- 14000 -->\r\n      <g style=\"fill:#262626;\" transform=\"translate(1262.779844 109.386401)scale(0.11 -0.11)\">\r\n       <use xlink:href=\"#ArialMT-49\"/>\r\n       <use x=\"55.615234\" xlink:href=\"#ArialMT-52\"/>\r\n       <use x=\"111.230469\" xlink:href=\"#ArialMT-48\"/>\r\n       <use x=\"166.845703\" xlink:href=\"#ArialMT-48\"/>\r\n       <use x=\"222.460938\" xlink:href=\"#ArialMT-48\"/>\r\n      </g>\r\n     </g>\r\n    </g>\r\n   </g>\r\n   <image height=\"815\" id=\"image6c3d73110d\" transform=\"scale(1 -1)translate(0 -815)\" width=\"40\" x=\"1213\" xlink:href=\"data:image/png;base64,\r\niVBORw0KGgoAAAANSUhEUgAAACgAAAMvCAYAAACgE5JIAAAFEklEQVR4nO3dwW0rORAAUY7Yytt5S7KcwfhQB9ahXgSFaZHsb2Cx11o/3yX2OB3wH33grDWnG27pv6A+cNZ6nm64pf+C+sBOMaUP7BRT+sBOMaUP7BRTBVJdM5Q+sGuG0gd2iil9YKeY0gc2YqpAqpeE0gd2zVD6wE4xpQ/sFFP6wE4xpQ/sFFMFUl0zlD6wa4bSB3aKKX1gp5jSB3aKqQKprhlKH9iIKX1gLwmlD+wUU/rATjFVIHWt9e0//CMKpAqkCqQKpAqkZl2nE+7pv6A+cNY+nXBP/wULpEb+hwX/F9QHjvwPC/4vqA9sxJQ+sGWB0gf2FlMFUr0klD6wEVP6wJYFSh/YskDpA7uoKX1gI6YKpFoWKH1gywKlD+wlofSBjZjSB/YWUwVSLQuUPrCXhNIHNmJKH9iyQOkDe4upAqleEkof2IgpfWDLAqUPbFmg9IFd1JQ+sBFTBVItC5Q+sGWB0gf2klD6wEZM6QMbMVUg1T5I6QPbByl9YC8JpQ9sxJQ+sBFT+sBGTBVI9Ruk9IGNmNIH9g93Sh/YP9wpfWAXNVUg1W+Q0gc2Ykof2IgpfWAjpvSBjZgqkOovC5Q+sL8sUPrAXhJKH9iIKX1gI6b0gbNG/X9m9X/BAqlZ8zndcEv/BfWBjZjSB85jv0833NJ/QX3gzLNTjOgDZ3dRMwVS/QYpfeDsaVlA9IEznWJGHzj70YgRfeDs1YgRfWAjpgqkZq/2QUQfONM1w+gDe0kofWAjpvSBvcVUgVTLAqUP7CWh9IGNmNIHNmJKH9g+SBVItQ9S+sBeEkof2IgpfWDLAqUP7C2m9IFd1FSBVL9BSh/YskDpA1sWKH1gFzWlD2zEVIFUv0FKH9g+SOkD2wcpfWAXNaUPbMSUPrC3mCqQalmg9IG9JJQ+sBFT+sBGTOkD2wepAqn2QUof2EtC6QMbMaUPbFmg9IG9xVSBVC8JpQ9sxJQ+sBFT+sD2QUof2D5I6QO7qKkCqX6DlD6wZYHSB7YsUPrALmpKH9iIqQKplgVKH9iyQOkDe0kofWAjpvSBjZjSB7ZuUQVS7YOUPrCXhNIHNmJKH9iyQOkDe4upAqleEkof2IgpfWAjpvSB7YOUPrB9kCqQ6iWh9IGzP40Y0QfOfrcsIPrAmc/v6YZb+i+oD5ztPsT+L6gPbMRUgdRc7nXQ/wX1gSP/25H/C+oDGzGlD2zElD7Q/hdg/xcskOqaofSBjZjSB/aSUPrATjGlD2zElD6wEVMFUi0LlD6wa4bSBzZiSh/YRU3pAzvFVIFUv0FKH9hLQukDO8WUPrARU/rARkwVSLUsUPrArhlKH9iIKX1gFzWlD+wUU/rARkwVSPWSUPrArhlKH9iIKX1gI6b0gb3FVIFU1wylD2zElD6wl4TSB3aKKX1gI6b0gY2YKpBqWaD0gV0zlD6wEVP6wC5qSh/YKaYKpPoNUvrAXhJKH9gppvSBjZjSBzZiqkCqZYHSB3bNUPrARkzpA7uoKX1gp5jSBzZiqkCql4TSB3bNUPrARkzpAxsxpQ/sLaYKpObVNcPoA+fdiBl94Lx6SRh9YKeY0gf2FlP6wJFP2P8FC6TmdbrgH/ovqA9sxJQ+sJeE0gd2iil9YKeYKpDqmqH0gV0zlD6wU0zpAzvFlD6wU0wVSHXNUPrArhlKH9iIKX1gFzWlD+wUU/rATjFVINU1Q+kDu2YofWCnmNIHdoopfWCnmCqQ6pqh9IF/qj+8yxnXYNEAAAAASUVORK5CYII=\" y=\"-7\"/>\r\n   <g id=\"patch_4\">\r\n    <path d=\"M 1212.509844 822.6 \r\nL 1212.509844 819.414844 \r\nL 1212.509844 10.385156 \r\nL 1212.509844 7.2 \r\nL 1253.279844 7.2 \r\nL 1253.279844 10.385156 \r\nL 1253.279844 819.414844 \r\nL 1253.279844 822.6 \r\nz\r\n\" style=\"fill:none;\"/>\r\n   </g>\r\n  </g>\r\n </g>\r\n <defs>\r\n  <clipPath id=\"p88245d997b\">\r\n   <rect height=\"815.4\" width=\"1116\" x=\"26.759844\" y=\"7.2\"/>\r\n  </clipPath>\r\n  <clipPath id=\"p090f3f5a2e\">\r\n   <rect height=\"815.4\" width=\"40.77\" x=\"1212.509844\" y=\"7.2\"/>\r\n  </clipPath>\r\n </defs>\r\n</svg>\r\n",
      "image/png": "[encoded data removed]"
     },
     "metadata": {}
    }
   ],
   "source": [
    "\n",
    "sns.set(rc={'figure.figsize':(25,15)})\n",
    "\n",
    "ax = sns.heatmap(result.iloc[:,1:], cmap='jet')\n",
    "#res_norm = result.iloc[:,1:]/result.iloc[:,1:].max().max()\n",
    "#ax = sns.heatmap(res_norm, cmap='jet')"
   ]
  },
  {
   "cell_type": "code",
   "execution_count": 30,
   "id": "85a0180c",
   "metadata": {},
   "outputs": [
    {
     "output_type": "display_data",
     "data": {
      "application/vnd.plotly.v1+json": {
       "config": {
        "plotlyServerURL": "https://plot.ly"
       },
       "data": [
        {
         "coloraxis": "coloraxis",
         "hovertemplate": "x: %{x}<br>y: %{y}<br>color: %{z}<extra></extra>",
         "name": "0",
         "type": "heatmap",
         "x": [
          "EX5261",
          "EX5342",
          "EX5347",
          "EX5348",
          "EX5349",
          "EX5364",
          "EX5365",
          "EX5428",
          "EX5429",
          "EX5431",
          "EX5432",
          "EX5433",
          "EX5434",
          "EX5435",
          "EX5436",
          "EX5437",
          "EX5438",
          "EX5441",
          "EX5443",
          "EX5445",
          "EX5526",
          "EX5527",
          "EX5528",
          "EX5529",
          "EX5530",
          "EX5531",
          "EX5533",
          "EX5539",
          "EX5540",
          "EX5541",
          "EX5542",
          "EX5544",
          "EX5545",
          "EX5555"
         ],
         "xaxis": "x",
         "y": [
          0,
          1,
          2,
          3,
          4,
          5,
          6,
          7,
          8,
          9,
          10,
          11,
          12,
          13,
          14,
          15,
          16,
          17,
          18,
          19,
          20,
          21,
          22,
          23,
          24
         ],
         "yaxis": "y",
         "z": [
          [
           11664,
           12902,
           13262,
           13177,
           13061,
           12320,
           12924,
           15688,
           14857,
           15174,
           14585,
           15370,
           15406,
           14898,
           15385,
           14632,
           15141,
           14900,
           15918,
           15675,
           3448,
           3454,
           3579,
           3561,
           3493,
           3459,
           3661,
           3554,
           3569,
           3547,
           3387,
           3365,
           3550,
           3432
          ],
          [
           9156,
           9377,
           9419,
           9905,
           10536,
           9247,
           9848,
           11934,
           11323,
           11192,
           11341,
           11960,
           11464,
           10483,
           10991,
           10233,
           11451,
           11074,
           11879,
           12154,
           2140,
           2346,
           2487,
           2443,
           2462,
           2507,
           2372,
           2425,
           2508,
           2435,
           2227,
           2518,
           2540,
           2402
          ],
          [
           7016,
           6932,
           7360,
           7314,
           7703,
           7160,
           7144,
           8790,
           7617,
           8999,
           8539,
           8528,
           8701,
           8147,
           8273,
           7764,
           8804,
           8129,
           8794,
           8223,
           2133,
           2244,
           2029,
           2137,
           2039,
           2109,
           2141,
           2169,
           2184,
           2083,
           2102,
           1988,
           2107,
           2206
          ],
          [
           5267,
           5285,
           5472,
           5733,
           5821,
           5290,
           5824,
           7064,
           6577,
           6970,
           6669,
           6859,
           7173,
           6429,
           6602,
           5881,
           7048,
           6488,
           7073,
           6580,
           1336,
           1466,
           1448,
           1490,
           1394,
           1475,
           1453,
           1437,
           1465,
           1484,
           1489,
           1408,
           1499,
           1435
          ],
          [
           5556,
           5699,
           5741,
           6191,
           6261,
           5762,
           6002,
           7124,
           6408,
           7585,
           7320,
           6903,
           7307,
           5863,
           6746,
           6206,
           6780,
           6409,
           7224,
           7079,
           1446,
           1436,
           1514,
           1626,
           1541,
           1541,
           1552,
           1600,
           1583,
           1573,
           1542,
           1565,
           1542,
           1556
          ],
          [
           5723,
           5666,
           5924,
           5851,
           6226,
           6053,
           5950,
           7464,
           6556,
           6952,
           7064,
           6991,
           6691,
           6538,
           6991,
           6479,
           6954,
           6431,
           7152,
           7113,
           2328,
           2335,
           2476,
           2291,
           2494,
           2466,
           2424,
           2396,
           2502,
           2347,
           2368,
           2150,
           2292,
           2460
          ],
          [
           6346,
           7339,
           7741,
           7677,
           7695,
           7298,
           7904,
           8702,
           7577,
           8514,
           8420,
           8793,
           8632,
           8061,
           8227,
           7918,
           8039,
           8478,
           8793,
           8579,
           1722,
           1692,
           1819,
           1866,
           1770,
           1768,
           1862,
           1818,
           1835,
           1820,
           1770,
           1820,
           1812,
           1799
          ],
          [
           4580,
           4531,
           4981,
           5052,
           5097,
           4470,
           4685,
           5667,
           5095,
           5727,
           5346,
           5410,
           6018,
           5528,
           5646,
           4883,
           5784,
           5087,
           5778,
           5791,
           1145,
           1266,
           1127,
           1270,
           1268,
           1233,
           1209,
           1193,
           1235,
           1182,
           1220,
           1260,
           1224,
           1207
          ],
          [
           4751,
           5296,
           5523,
           5432,
           5545,
           5513,
           5720,
           6418,
           5788,
           6070,
           6258,
           6475,
           6546,
           6065,
           6350,
           5823,
           6773,
           6324,
           6327,
           6397,
           1313,
           1450,
           1262,
           1403,
           1446,
           1217,
           1335,
           1410,
           1310,
           1397,
           1379,
           1379,
           1414,
           1405
          ],
          [
           5463,
           5932,
           5998,
           6276,
           6365,
           5759,
           6047,
           7316,
           6629,
           7205,
           7064,
           7137,
           7394,
           6654,
           6860,
           6141,
           7084,
           6675,
           7404,
           7163,
           1382,
           1562,
           1655,
           1575,
           1630,
           1555,
           1557,
           1566,
           1607,
           1656,
           1508,
           1560,
           1540,
           1549
          ],
          [
           7538,
           8001,
           8282,
           7568,
           8425,
           8380,
           8353,
           9553,
           7959,
           9619,
           9173,
           8742,
           8922,
           8550,
           9318,
           8787,
           9061,
           8864,
           9557,
           9661,
           2371,
           2283,
           2194,
           2259,
           2366,
           2299,
           2362,
           2450,
           2431,
           2396,
           2428,
           2340,
           2427,
           2532
          ],
          [
           6670,
           7432,
           7296,
           6909,
           7305,
           7334,
           7952,
           9063,
           8199,
           9334,
           8568,
           8507,
           9148,
           8137,
           8453,
           8392,
           8807,
           8148,
           8910,
           8973,
           1910,
           1928,
           1887,
           1898,
           1844,
           1846,
           1823,
           1821,
           1895,
           1920,
           1898,
           1877,
           1882,
           1871
          ],
          [
           2563,
           2526,
           2571,
           2584,
           2660,
           2437,
           2667,
           3099,
           3031,
           3522,
           3251,
           2784,
           3208,
           3029,
           3013,
           3083,
           3383,
           3039,
           3406,
           3230,
           663,
           666,
           664,
           671,
           690,
           641,
           700,
           626,
           678,
           651,
           633,
           575,
           606,
           589
          ],
          [
           4194,
           4907,
           4572,
           5027,
           4921,
           4822,
           4551,
           5811,
           5321,
           6014,
           5721,
           5995,
           5698,
           5368,
           5693,
           5367,
           5778,
           5201,
           5551,
           5690,
           1117,
           1070,
           1091,
           1126,
           1087,
           1041,
           1165,
           1164,
           1053,
           1118,
           1132,
           1095,
           1063,
           1142
          ],
          [
           3939,
           4632,
           4625,
           3936,
           4980,
           4529,
           4567,
           5403,
           4862,
           5306,
           5115,
           4740,
           5310,
           4870,
           5100,
           4874,
           5253,
           4835,
           5498,
           5461,
           1169,
           1155,
           1154,
           1237,
           1192,
           1148,
           1268,
           1213,
           1224,
           1160,
           1257,
           1138,
           1223,
           1220
          ],
          [
           5140,
           5863,
           5929,
           6092,
           5572,
           5692,
           5589,
           6372,
           6090,
           5651,
           5584,
           6505,
           6461,
           5695,
           6257,
           5871,
           6288,
           5924,
           6473,
           6229,
           1480,
           1490,
           1354,
           1592,
           1568,
           1438,
           1518,
           1491,
           1499,
           1470,
           1538,
           1508,
           1369,
           1469
          ],
          [
           6831,
           7322,
           7607,
           7204,
           7928,
           7135,
           7505,
           8910,
           8150,
           9058,
           8981,
           7842,
           8592,
           7324,
           8667,
           7863,
           8778,
           8372,
           8844,
           8869,
           2209,
           2282,
           2339,
           2293,
           2292,
           2232,
           2278,
           2350,
           2292,
           2058,
           2277,
           2298,
           2319,
           2226
          ],
          [
           2039,
           2157,
           2166,
           1880,
           2363,
           2204,
           2488,
           2826,
           2616,
           2753,
           2629,
           2525,
           2822,
           2609,
           2651,
           2419,
           2781,
           2556,
           2739,
           2832,
           565,
           591,
           576,
           593,
           570,
           583,
           586,
           594,
           567,
           557,
           603,
           607,
           582,
           596
          ],
          [
           7959,
           8354,
           8835,
           8987,
           8228,
           8579,
           8397,
           10578,
           9723,
           10407,
           10121,
           10370,
           9693,
           9854,
           9835,
           9811,
           10125,
           9939,
           10382,
           10336,
           2907,
           2827,
           2848,
           2888,
           2603,
           2838,
           2811,
           2879,
           2863,
           2825,
           2844,
           2929,
           2948,
           2827
          ],
          [
           3113,
           3402,
           3561,
           3579,
           3563,
           3180,
           3554,
           4195,
           3813,
           4264,
           4045,
           3747,
           3848,
           3841,
           4118,
           3496,
           4218,
           3731,
           4038,
           3912,
           823,
           929,
           920,
           869,
           870,
           828,
           858,
           882,
           848,
           861,
           813,
           898,
           932,
           798
          ],
          [
           1831,
           2054,
           2131,
           2236,
           2191,
           2016,
           2030,
           2373,
           2151,
           2432,
           2269,
           2218,
           2496,
           2321,
           1777,
           2174,
           1836,
           2262,
           2537,
           2231,
           486,
           385,
           450,
           500,
           528,
           492,
           502,
           532,
           532,
           505,
           537,
           421,
           419,
           518
          ],
          [
           2572,
           2929,
           3100,
           3159,
           3242,
           3249,
           3224,
           3839,
           3510,
           3839,
           3673,
           3752,
           4068,
           3169,
           3927,
           3090,
           3738,
           3522,
           3908,
           3891,
           704,
           773,
           836,
           849,
           880,
           705,
           789,
           803,
           853,
           803,
           850,
           883,
           670,
           799
          ],
          [
           48,
           39,
           54,
           43,
           53,
           39,
           53,
           44,
           37,
           38,
           38,
           37,
           48,
           38,
           40,
           50,
           43,
           44,
           33,
           45,
           0,
           0,
           0,
           0,
           0,
           0,
           0,
           0,
           0,
           0,
           0,
           0,
           0,
           0
          ],
          [
           1984,
           2119,
           2164,
           2036,
           2204,
           2023,
           1776,
           2835,
           2587,
           2145,
           1982,
           2133,
           3004,
           2715,
           2246,
           2013,
           2802,
           2598,
           3076,
           2124,
           562,
           654,
           555,
           707,
           540,
           577,
           499,
           683,
           775,
           653,
           657,
           580,
           678,
           654
          ],
          [
           37,
           55,
           68,
           50,
           40,
           45,
           55,
           87,
           58,
           68,
           61,
           61,
           95,
           54,
           72,
           45,
           89,
           54,
           66,
           57,
           9,
           4,
           9,
           4,
           9,
           10,
           9,
           5,
           5,
           4,
           5,
           9,
           5,
           5
          ]
         ]
        }
       ],
       "layout": {
        "coloraxis": {
         "colorscale": [
          [
           0,
           "#0d0887"
          ],
          [
           0.1111111111111111,
           "#46039f"
          ],
          [
           0.2222222222222222,
           "#7201a8"
          ],
          [
           0.3333333333333333,
           "#9c179e"
          ],
          [
           0.4444444444444444,
           "#bd3786"
          ],
          [
           0.5555555555555556,
           "#d8576b"
          ],
          [
           0.6666666666666666,
           "#ed7953"
          ],
          [
           0.7777777777777778,
           "#fb9f3a"
          ],
          [
           0.8888888888888888,
           "#fdca26"
          ],
          [
           1,
           "#f0f921"
          ]
         ]
        },
        "margin": {
         "t": 60
        },
        "template": {
         "data": {
          "bar": [
           {
            "error_x": {
             "color": "#2a3f5f"
            },
            "error_y": {
             "color": "#2a3f5f"
            },
            "marker": {
             "line": {
              "color": "#E5ECF6",
              "width": 0.5
             }
            },
            "type": "bar"
           }
          ],
          "barpolar": [
           {
            "marker": {
             "line": {
              "color": "#E5ECF6",
              "width": 0.5
             }
            },
            "type": "barpolar"
           }
          ],
          "carpet": [
           {
            "aaxis": {
             "endlinecolor": "#2a3f5f",
             "gridcolor": "white",
             "linecolor": "white",
             "minorgridcolor": "white",
             "startlinecolor": "#2a3f5f"
            },
            "baxis": {
             "endlinecolor": "#2a3f5f",
             "gridcolor": "white",
             "linecolor": "white",
             "minorgridcolor": "white",
             "startlinecolor": "#2a3f5f"
            },
            "type": "carpet"
           }
          ],
          "choropleth": [
           {
            "colorbar": {
             "outlinewidth": 0,
             "ticks": ""
            },
            "type": "choropleth"
           }
          ],
          "contour": [
           {
            "colorbar": {
             "outlinewidth": 0,
             "ticks": ""
            },
            "colorscale": [
             [
              0,
              "#0d0887"
             ],
             [
              0.1111111111111111,
              "#46039f"
             ],
             [
              0.2222222222222222,
              "#7201a8"
             ],
             [
              0.3333333333333333,
              "#9c179e"
             ],
             [
              0.4444444444444444,
              "#bd3786"
             ],
             [
              0.5555555555555556,
              "#d8576b"
             ],
             [
              0.6666666666666666,
              "#ed7953"
             ],
             [
              0.7777777777777778,
              "#fb9f3a"
             ],
             [
              0.8888888888888888,
              "#fdca26"
             ],
             [
              1,
              "#f0f921"
             ]
            ],
            "type": "contour"
           }
          ],
          "contourcarpet": [
           {
            "colorbar": {
             "outlinewidth": 0,
             "ticks": ""
            },
            "type": "contourcarpet"
           }
          ],
          "heatmap": [
           {
            "colorbar": {
             "outlinewidth": 0,
             "ticks": ""
            },
            "colorscale": [
             [
              0,
              "#0d0887"
             ],
             [
              0.1111111111111111,
              "#46039f"
             ],
             [
              0.2222222222222222,
              "#7201a8"
             ],
             [
              0.3333333333333333,
              "#9c179e"
             ],
             [
              0.4444444444444444,
              "#bd3786"
             ],
             [
              0.5555555555555556,
              "#d8576b"
             ],
             [
              0.6666666666666666,
              "#ed7953"
             ],
             [
              0.7777777777777778,
              "#fb9f3a"
             ],
             [
              0.8888888888888888,
              "#fdca26"
             ],
             [
              1,
              "#f0f921"
             ]
            ],
            "type": "heatmap"
           }
          ],
          "heatmapgl": [
           {
            "colorbar": {
             "outlinewidth": 0,
             "ticks": ""
            },
            "colorscale": [
             [
              0,
              "#0d0887"
             ],
             [
              0.1111111111111111,
              "#46039f"
             ],
             [
              0.2222222222222222,
              "#7201a8"
             ],
             [
              0.3333333333333333,
              "#9c179e"
             ],
             [
              0.4444444444444444,
              "#bd3786"
             ],
             [
              0.5555555555555556,
              "#d8576b"
             ],
             [
              0.6666666666666666,
              "#ed7953"
             ],
             [
              0.7777777777777778,
              "#fb9f3a"
             ],
             [
              0.8888888888888888,
              "#fdca26"
             ],
             [
              1,
              "#f0f921"
             ]
            ],
            "type": "heatmapgl"
           }
          ],
          "histogram": [
           {
            "marker": {
             "colorbar": {
              "outlinewidth": 0,
              "ticks": ""
             }
            },
            "type": "histogram"
           }
          ],
          "histogram2d": [
           {
            "colorbar": {
             "outlinewidth": 0,
             "ticks": ""
            },
            "colorscale": [
             [
              0,
              "#0d0887"
             ],
             [
              0.1111111111111111,
              "#46039f"
             ],
             [
              0.2222222222222222,
              "#7201a8"
             ],
             [
              0.3333333333333333,
              "#9c179e"
             ],
             [
              0.4444444444444444,
              "#bd3786"
             ],
             [
              0.5555555555555556,
              "#d8576b"
             ],
             [
              0.6666666666666666,
              "#ed7953"
             ],
             [
              0.7777777777777778,
              "#fb9f3a"
             ],
             [
              0.8888888888888888,
              "#fdca26"
             ],
             [
              1,
              "#f0f921"
             ]
            ],
            "type": "histogram2d"
           }
          ],
          "histogram2dcontour": [
           {
            "colorbar": {
             "outlinewidth": 0,
             "ticks": ""
            },
            "colorscale": [
             [
              0,
              "#0d0887"
             ],
             [
              0.1111111111111111,
              "#46039f"
             ],
             [
              0.2222222222222222,
              "#7201a8"
             ],
             [
              0.3333333333333333,
              "#9c179e"
             ],
             [
              0.4444444444444444,
              "#bd3786"
             ],
             [
              0.5555555555555556,
              "#d8576b"
             ],
             [
              0.6666666666666666,
              "#ed7953"
             ],
             [
              0.7777777777777778,
              "#fb9f3a"
             ],
             [
              0.8888888888888888,
              "#fdca26"
             ],
             [
              1,
              "#f0f921"
             ]
            ],
            "type": "histogram2dcontour"
           }
          ],
          "mesh3d": [
           {
            "colorbar": {
             "outlinewidth": 0,
             "ticks": ""
            },
            "type": "mesh3d"
           }
          ],
          "parcoords": [
           {
            "line": {
             "colorbar": {
              "outlinewidth": 0,
              "ticks": ""
             }
            },
            "type": "parcoords"
           }
          ],
          "pie": [
           {
            "automargin": true,
            "type": "pie"
           }
          ],
          "scatter": [
           {
            "marker": {
             "colorbar": {
              "outlinewidth": 0,
              "ticks": ""
             }
            },
            "type": "scatter"
           }
          ],
          "scatter3d": [
           {
            "line": {
             "colorbar": {
              "outlinewidth": 0,
              "ticks": ""
             }
            },
            "marker": {
             "colorbar": {
              "outlinewidth": 0,
              "ticks": ""
             }
            },
            "type": "scatter3d"
           }
          ],
          "scattercarpet": [
           {
            "marker": {
             "colorbar": {
              "outlinewidth": 0,
              "ticks": ""
             }
            },
            "type": "scattercarpet"
           }
          ],
          "scattergeo": [
           {
            "marker": {
             "colorbar": {
              "outlinewidth": 0,
              "ticks": ""
             }
            },
            "type": "scattergeo"
           }
          ],
          "scattergl": [
           {
            "marker": {
             "colorbar": {
              "outlinewidth": 0,
              "ticks": ""
             }
            },
            "type": "scattergl"
           }
          ],
          "scattermapbox": [
           {
            "marker": {
             "colorbar": {
              "outlinewidth": 0,
              "ticks": ""
             }
            },
            "type": "scattermapbox"
           }
          ],
          "scatterpolar": [
           {
            "marker": {
             "colorbar": {
              "outlinewidth": 0,
              "ticks": ""
             }
            },
            "type": "scatterpolar"
           }
          ],
          "scatterpolargl": [
           {
            "marker": {
             "colorbar": {
              "outlinewidth": 0,
              "ticks": ""
             }
            },
            "type": "scatterpolargl"
           }
          ],
          "scatterternary": [
           {
            "marker": {
             "colorbar": {
              "outlinewidth": 0,
              "ticks": ""
             }
            },
            "type": "scatterternary"
           }
          ],
          "surface": [
           {
            "colorbar": {
             "outlinewidth": 0,
             "ticks": ""
            },
            "colorscale": [
             [
              0,
              "#0d0887"
             ],
             [
              0.1111111111111111,
              "#46039f"
             ],
             [
              0.2222222222222222,
              "#7201a8"
             ],
             [
              0.3333333333333333,
              "#9c179e"
             ],
             [
              0.4444444444444444,
              "#bd3786"
             ],
             [
              0.5555555555555556,
              "#d8576b"
             ],
             [
              0.6666666666666666,
              "#ed7953"
             ],
             [
              0.7777777777777778,
              "#fb9f3a"
             ],
             [
              0.8888888888888888,
              "#fdca26"
             ],
             [
              1,
              "#f0f921"
             ]
            ],
            "type": "surface"
           }
          ],
          "table": [
           {
            "cells": {
             "fill": {
              "color": "#EBF0F8"
             },
             "line": {
              "color": "white"
             }
            },
            "header": {
             "fill": {
              "color": "#C8D4E3"
             },
             "line": {
              "color": "white"
             }
            },
            "type": "table"
           }
          ]
         },
         "layout": {
          "annotationdefaults": {
           "arrowcolor": "#2a3f5f",
           "arrowhead": 0,
           "arrowwidth": 1
          },
          "autotypenumbers": "strict",
          "coloraxis": {
           "colorbar": {
            "outlinewidth": 0,
            "ticks": ""
           }
          },
          "colorscale": {
           "diverging": [
            [
             0,
             "#8e0152"
            ],
            [
             0.1,
             "#c51b7d"
            ],
            [
             0.2,
             "#de77ae"
            ],
            [
             0.3,
             "#f1b6da"
            ],
            [
             0.4,
             "#fde0ef"
            ],
            [
             0.5,
             "#f7f7f7"
            ],
            [
             0.6,
             "#e6f5d0"
            ],
            [
             0.7,
             "#b8e186"
            ],
            [
             0.8,
             "#7fbc41"
            ],
            [
             0.9,
             "#4d9221"
            ],
            [
             1,
             "#276419"
            ]
           ],
           "sequential": [
            [
             0,
             "#0d0887"
            ],
            [
             0.1111111111111111,
             "#46039f"
            ],
            [
             0.2222222222222222,
             "#7201a8"
            ],
            [
             0.3333333333333333,
             "#9c179e"
            ],
            [
             0.4444444444444444,
             "#bd3786"
            ],
            [
             0.5555555555555556,
             "#d8576b"
            ],
            [
             0.6666666666666666,
             "#ed7953"
            ],
            [
             0.7777777777777778,
             "#fb9f3a"
            ],
            [
             0.8888888888888888,
             "#fdca26"
            ],
            [
             1,
             "#f0f921"
            ]
           ],
           "sequentialminus": [
            [
             0,
             "#0d0887"
            ],
            [
             0.1111111111111111,
             "#46039f"
            ],
            [
             0.2222222222222222,
             "#7201a8"
            ],
            [
             0.3333333333333333,
             "#9c179e"
            ],
            [
             0.4444444444444444,
             "#bd3786"
            ],
            [
             0.5555555555555556,
             "#d8576b"
            ],
            [
             0.6666666666666666,
             "#ed7953"
            ],
            [
             0.7777777777777778,
             "#fb9f3a"
            ],
            [
             0.8888888888888888,
             "#fdca26"
            ],
            [
             1,
             "#f0f921"
            ]
           ]
          },
          "colorway": [
           "#636efa",
           "#EF553B",
           "#00cc96",
           "#ab63fa",
           "#FFA15A",
           "#19d3f3",
           "#FF6692",
           "#B6E880",
           "#FF97FF",
           "#FECB52"
          ],
          "font": {
           "color": "#2a3f5f"
          },
          "geo": {
           "bgcolor": "white",
           "lakecolor": "white",
           "landcolor": "#E5ECF6",
           "showlakes": true,
           "showland": true,
           "subunitcolor": "white"
          },
          "hoverlabel": {
           "align": "left"
          },
          "hovermode": "closest",
          "mapbox": {
           "style": "light"
          },
          "paper_bgcolor": "white",
          "plot_bgcolor": "#E5ECF6",
          "polar": {
           "angularaxis": {
            "gridcolor": "white",
            "linecolor": "white",
            "ticks": ""
           },
           "bgcolor": "#E5ECF6",
           "radialaxis": {
            "gridcolor": "white",
            "linecolor": "white",
            "ticks": ""
           }
          },
          "scene": {
           "xaxis": {
            "backgroundcolor": "#E5ECF6",
            "gridcolor": "white",
            "gridwidth": 2,
            "linecolor": "white",
            "showbackground": true,
            "ticks": "",
            "zerolinecolor": "white"
           },
           "yaxis": {
            "backgroundcolor": "#E5ECF6",
            "gridcolor": "white",
            "gridwidth": 2,
            "linecolor": "white",
            "showbackground": true,
            "ticks": "",
            "zerolinecolor": "white"
           },
           "zaxis": {
            "backgroundcolor": "#E5ECF6",
            "gridcolor": "white",
            "gridwidth": 2,
            "linecolor": "white",
            "showbackground": true,
            "ticks": "",
            "zerolinecolor": "white"
           }
          },
          "shapedefaults": {
           "line": {
            "color": "#2a3f5f"
           }
          },
          "ternary": {
           "aaxis": {
            "gridcolor": "white",
            "linecolor": "white",
            "ticks": ""
           },
           "baxis": {
            "gridcolor": "white",
            "linecolor": "white",
            "ticks": ""
           },
           "bgcolor": "#E5ECF6",
           "caxis": {
            "gridcolor": "white",
            "linecolor": "white",
            "ticks": ""
           }
          },
          "title": {
           "x": 0.05
          },
          "xaxis": {
           "automargin": true,
           "gridcolor": "white",
           "linecolor": "white",
           "ticks": "",
           "title": {
            "standoff": 15
           },
           "zerolinecolor": "white",
           "zerolinewidth": 2
          },
          "yaxis": {
           "automargin": true,
           "gridcolor": "white",
           "linecolor": "white",
           "ticks": "",
           "title": {
            "standoff": 15
           },
           "zerolinecolor": "white",
           "zerolinewidth": 2
          }
         }
        },
        "xaxis": {
         "anchor": "y",
         "constrain": "domain",
         "domain": [
          0,
          1
         ],
         "scaleanchor": "y"
        },
        "yaxis": {
         "anchor": "x",
         "autorange": "reversed",
         "constrain": "domain",
         "domain": [
          0,
          1
         ]
        }
       }
      }
     },
     "metadata": {}
    }
   ],
   "source": [
    "fig = px.imshow(result.iloc[:,1:])\n",
    "fig.show()"
   ]
  },
  {
   "cell_type": "code",
   "execution_count": null,
   "id": "81670b25",
   "metadata": {},
   "outputs": [],
   "source": []
  },
  {
   "cell_type": "code",
   "execution_count": null,
   "id": "44f84824",
   "metadata": {},
   "outputs": [],
   "source": []
  },
  {
   "cell_type": "code",
   "execution_count": null,
   "id": "af63ddb2",
   "metadata": {},
   "outputs": [],
   "source": []
  },
  {
   "cell_type": "code",
   "execution_count": null,
   "id": "78c824a5",
   "metadata": {},
   "outputs": [],
   "source": []
  },
  {
   "cell_type": "code",
   "execution_count": null,
   "id": "899cf48a",
   "metadata": {},
   "outputs": [],
   "source": []
  },
  {
   "cell_type": "code",
   "execution_count": null,
   "id": "3128f473",
   "metadata": {},
   "outputs": [],
   "source": []
  },
  {
   "cell_type": "code",
   "execution_count": null,
   "id": "868dfd13",
   "metadata": {},
   "outputs": [],
   "source": [
    "for file in files:\n",
    "    new_file = file.replace('.merged', '')\n",
    "    os.rename(file, new_file)"
   ]
  }
 ],
 "metadata": {
  "kernelspec": {
   "name": "python3",
   "display_name": "Python 3.8.8 64-bit ('ProgramData': virtualenv)"
  },
  "language_info": {
   "codemirror_mode": {
    "name": "ipython",
    "version": 3
   },
   "file_extension": ".py",
   "mimetype": "text/x-python",
   "name": "python",
   "nbconvert_exporter": "python",
   "pygments_lexer": "ipython3",
   "version": "3.8.8"
  },
  "interpreter": {
   "hash": "b3ba2566441a7c06988d0923437866b63cedc61552a5af99d1f4fb67d367b25f"
  }
 },
 "nbformat": 4,
 "nbformat_minor": 5
}