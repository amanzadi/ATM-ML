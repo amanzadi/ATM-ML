{
    "cells": [
        {
            "cell_type": "markdown",
            "source": [
                "# 1. Packeges and dependencies"
            ],
            "metadata": {}
        },
        {
            "cell_type": "code",
            "execution_count": 2,
            "source": [
                "# Liberies\r\n",
                "import torch\r\n",
                "import numpy as np\r\n",
                "import pandas as pd\r\n",
                "import seaborn as sns\r\n",
                "from tqdm.notebook import tqdm"
            ],
            "outputs": [],
            "metadata": {}
        },
        {
            "cell_type": "markdown",
            "source": [
                "# 2. Data processing"
            ],
            "metadata": {}
        },
        {
            "cell_type": "code",
            "execution_count": 3,
            "source": [
                "# Mutation counts of patients as an input to neural net\r\n",
                "muts = pd.read_csv('../data/mut_count_summery.csv')  \r\n",
                "muts.head()"
            ],
            "outputs": [
                {
                    "output_type": "execute_result",
                    "data": {
                        "text/plain": [
                            "  Chromosome  EX5261  EX5342  EX5347  EX5348  EX5349  EX5364  EX5365  EX5428  \\\n",
                            "0       chr1   11664   12902   13262   13177   13061   12320   12924   15688   \n",
                            "1       chr2    9156    9377    9419    9905   10536    9247    9848   11934   \n",
                            "2       chr3    7016    6932    7360    7314    7703    7160    7144    8790   \n",
                            "3       chr4    5267    5285    5472    5733    5821    5290    5824    7064   \n",
                            "4       chr5    5556    5699    5741    6191    6261    5762    6002    7124   \n",
                            "\n",
                            "   EX5429  ...  EX5530  EX5531  EX5533  EX5539  EX5540  EX5541  EX5542  \\\n",
                            "0   14857  ...    3493    3459    3661    3554    3569    3547    3387   \n",
                            "1   11323  ...    2462    2507    2372    2425    2508    2435    2227   \n",
                            "2    7617  ...    2039    2109    2141    2169    2184    2083    2102   \n",
                            "3    6577  ...    1394    1475    1453    1437    1465    1484    1489   \n",
                            "4    6408  ...    1541    1541    1552    1600    1583    1573    1542   \n",
                            "\n",
                            "   EX5544  EX5545  EX5555  \n",
                            "0    3365    3550    3432  \n",
                            "1    2518    2540    2402  \n",
                            "2    1988    2107    2206  \n",
                            "3    1408    1499    1435  \n",
                            "4    1565    1542    1556  \n",
                            "\n",
                            "[5 rows x 35 columns]"
                        ],
                        "text/html": [
                            "<div>\n",
                            "<style scoped>\n",
                            "    .dataframe tbody tr th:only-of-type {\n",
                            "        vertical-align: middle;\n",
                            "    }\n",
                            "\n",
                            "    .dataframe tbody tr th {\n",
                            "        vertical-align: top;\n",
                            "    }\n",
                            "\n",
                            "    .dataframe thead th {\n",
                            "        text-align: right;\n",
                            "    }\n",
                            "</style>\n",
                            "<table border=\"1\" class=\"dataframe\">\n",
                            "  <thead>\n",
                            "    <tr style=\"text-align: right;\">\n",
                            "      <th></th>\n",
                            "      <th>Chromosome</th>\n",
                            "      <th>EX5261</th>\n",
                            "      <th>EX5342</th>\n",
                            "      <th>EX5347</th>\n",
                            "      <th>EX5348</th>\n",
                            "      <th>EX5349</th>\n",
                            "      <th>EX5364</th>\n",
                            "      <th>EX5365</th>\n",
                            "      <th>EX5428</th>\n",
                            "      <th>EX5429</th>\n",
                            "      <th>...</th>\n",
                            "      <th>EX5530</th>\n",
                            "      <th>EX5531</th>\n",
                            "      <th>EX5533</th>\n",
                            "      <th>EX5539</th>\n",
                            "      <th>EX5540</th>\n",
                            "      <th>EX5541</th>\n",
                            "      <th>EX5542</th>\n",
                            "      <th>EX5544</th>\n",
                            "      <th>EX5545</th>\n",
                            "      <th>EX5555</th>\n",
                            "    </tr>\n",
                            "  </thead>\n",
                            "  <tbody>\n",
                            "    <tr>\n",
                            "      <th>0</th>\n",
                            "      <td>chr1</td>\n",
                            "      <td>11664</td>\n",
                            "      <td>12902</td>\n",
                            "      <td>13262</td>\n",
                            "      <td>13177</td>\n",
                            "      <td>13061</td>\n",
                            "      <td>12320</td>\n",
                            "      <td>12924</td>\n",
                            "      <td>15688</td>\n",
                            "      <td>14857</td>\n",
                            "      <td>...</td>\n",
                            "      <td>3493</td>\n",
                            "      <td>3459</td>\n",
                            "      <td>3661</td>\n",
                            "      <td>3554</td>\n",
                            "      <td>3569</td>\n",
                            "      <td>3547</td>\n",
                            "      <td>3387</td>\n",
                            "      <td>3365</td>\n",
                            "      <td>3550</td>\n",
                            "      <td>3432</td>\n",
                            "    </tr>\n",
                            "    <tr>\n",
                            "      <th>1</th>\n",
                            "      <td>chr2</td>\n",
                            "      <td>9156</td>\n",
                            "      <td>9377</td>\n",
                            "      <td>9419</td>\n",
                            "      <td>9905</td>\n",
                            "      <td>10536</td>\n",
                            "      <td>9247</td>\n",
                            "      <td>9848</td>\n",
                            "      <td>11934</td>\n",
                            "      <td>11323</td>\n",
                            "      <td>...</td>\n",
                            "      <td>2462</td>\n",
                            "      <td>2507</td>\n",
                            "      <td>2372</td>\n",
                            "      <td>2425</td>\n",
                            "      <td>2508</td>\n",
                            "      <td>2435</td>\n",
                            "      <td>2227</td>\n",
                            "      <td>2518</td>\n",
                            "      <td>2540</td>\n",
                            "      <td>2402</td>\n",
                            "    </tr>\n",
                            "    <tr>\n",
                            "      <th>2</th>\n",
                            "      <td>chr3</td>\n",
                            "      <td>7016</td>\n",
                            "      <td>6932</td>\n",
                            "      <td>7360</td>\n",
                            "      <td>7314</td>\n",
                            "      <td>7703</td>\n",
                            "      <td>7160</td>\n",
                            "      <td>7144</td>\n",
                            "      <td>8790</td>\n",
                            "      <td>7617</td>\n",
                            "      <td>...</td>\n",
                            "      <td>2039</td>\n",
                            "      <td>2109</td>\n",
                            "      <td>2141</td>\n",
                            "      <td>2169</td>\n",
                            "      <td>2184</td>\n",
                            "      <td>2083</td>\n",
                            "      <td>2102</td>\n",
                            "      <td>1988</td>\n",
                            "      <td>2107</td>\n",
                            "      <td>2206</td>\n",
                            "    </tr>\n",
                            "    <tr>\n",
                            "      <th>3</th>\n",
                            "      <td>chr4</td>\n",
                            "      <td>5267</td>\n",
                            "      <td>5285</td>\n",
                            "      <td>5472</td>\n",
                            "      <td>5733</td>\n",
                            "      <td>5821</td>\n",
                            "      <td>5290</td>\n",
                            "      <td>5824</td>\n",
                            "      <td>7064</td>\n",
                            "      <td>6577</td>\n",
                            "      <td>...</td>\n",
                            "      <td>1394</td>\n",
                            "      <td>1475</td>\n",
                            "      <td>1453</td>\n",
                            "      <td>1437</td>\n",
                            "      <td>1465</td>\n",
                            "      <td>1484</td>\n",
                            "      <td>1489</td>\n",
                            "      <td>1408</td>\n",
                            "      <td>1499</td>\n",
                            "      <td>1435</td>\n",
                            "    </tr>\n",
                            "    <tr>\n",
                            "      <th>4</th>\n",
                            "      <td>chr5</td>\n",
                            "      <td>5556</td>\n",
                            "      <td>5699</td>\n",
                            "      <td>5741</td>\n",
                            "      <td>6191</td>\n",
                            "      <td>6261</td>\n",
                            "      <td>5762</td>\n",
                            "      <td>6002</td>\n",
                            "      <td>7124</td>\n",
                            "      <td>6408</td>\n",
                            "      <td>...</td>\n",
                            "      <td>1541</td>\n",
                            "      <td>1541</td>\n",
                            "      <td>1552</td>\n",
                            "      <td>1600</td>\n",
                            "      <td>1583</td>\n",
                            "      <td>1573</td>\n",
                            "      <td>1542</td>\n",
                            "      <td>1565</td>\n",
                            "      <td>1542</td>\n",
                            "      <td>1556</td>\n",
                            "    </tr>\n",
                            "  </tbody>\n",
                            "</table>\n",
                            "<p>5 rows × 35 columns</p>\n",
                            "</div>"
                        ]
                    },
                    "metadata": {},
                    "execution_count": 3
                }
            ],
            "metadata": {}
        },
        {
            "cell_type": "code",
            "execution_count": 4,
            "source": [
                "# Binary labels of each patient (mild/Severe)\r\n",
                "labels = pd.read_csv('../data/labels.csv')  \r\n",
                "labels.head()"
            ],
            "outputs": [
                {
                    "output_type": "execute_result",
                    "data": {
                        "text/plain": [
                            "     ID   Group\n",
                            "0  5261  Severe\n",
                            "1  5342  Severe\n",
                            "2  5347  Severe\n",
                            "3  5348  Severe\n",
                            "4  5349    mild"
                        ],
                        "text/html": [
                            "<div>\n",
                            "<style scoped>\n",
                            "    .dataframe tbody tr th:only-of-type {\n",
                            "        vertical-align: middle;\n",
                            "    }\n",
                            "\n",
                            "    .dataframe tbody tr th {\n",
                            "        vertical-align: top;\n",
                            "    }\n",
                            "\n",
                            "    .dataframe thead th {\n",
                            "        text-align: right;\n",
                            "    }\n",
                            "</style>\n",
                            "<table border=\"1\" class=\"dataframe\">\n",
                            "  <thead>\n",
                            "    <tr style=\"text-align: right;\">\n",
                            "      <th></th>\n",
                            "      <th>ID</th>\n",
                            "      <th>Group</th>\n",
                            "    </tr>\n",
                            "  </thead>\n",
                            "  <tbody>\n",
                            "    <tr>\n",
                            "      <th>0</th>\n",
                            "      <td>5261</td>\n",
                            "      <td>Severe</td>\n",
                            "    </tr>\n",
                            "    <tr>\n",
                            "      <th>1</th>\n",
                            "      <td>5342</td>\n",
                            "      <td>Severe</td>\n",
                            "    </tr>\n",
                            "    <tr>\n",
                            "      <th>2</th>\n",
                            "      <td>5347</td>\n",
                            "      <td>Severe</td>\n",
                            "    </tr>\n",
                            "    <tr>\n",
                            "      <th>3</th>\n",
                            "      <td>5348</td>\n",
                            "      <td>Severe</td>\n",
                            "    </tr>\n",
                            "    <tr>\n",
                            "      <th>4</th>\n",
                            "      <td>5349</td>\n",
                            "      <td>mild</td>\n",
                            "    </tr>\n",
                            "  </tbody>\n",
                            "</table>\n",
                            "</div>"
                        ]
                    },
                    "metadata": {},
                    "execution_count": 4
                }
            ],
            "metadata": {}
        },
        {
            "cell_type": "code",
            "execution_count": 5,
            "source": [
                "# Making a dictionary with Id as key and label as the value\r\n",
                "labels_dic = {'EX'+str(labels['ID'][i]):labels['Group'][i] for i in range(len(labels))}\r\n",
                "#labels_dic"
            ],
            "outputs": [],
            "metadata": {}
        },
        {
            "cell_type": "markdown",
            "source": [
                "### The inputs to the neural network are 25 digit long tensors representing the number of mutations of each patient. The values are very big so there should be normalized. There are two ways to normalize the values eaither globally or individually. \r\n",
                "### We defined two set of functions to apply each of thoses methods.\r\n"
            ],
            "metadata": {}
        },
        {
            "cell_type": "code",
            "execution_count": 6,
            "source": [
                "# ====== Functions ====== #\r\n",
                "\r\n",
                "# Global normalizing\r\n",
                "def norm_glob(tensor, df):\r\n",
                "    tmp = df.max().tolist()\r\n",
                "    ts = tensor/max(tmp[1:])\r\n",
                "    return(ts)\r\n",
                "\r\n",
                "# Individual normalizing\r\n",
                "def norm_ind(tensor):\r\n",
                "    ts = tensor/tensor.max()\r\n",
                "    return(ts)\r\n",
                "\r\n",
                "# Changes Severe -> 1 , mild -> 0\r\n",
                "def convert_type(condition):\r\n",
                "    if condition == 'Severe':\r\n",
                "        return(1)\r\n",
                "    else:\r\n",
                "        return(0)"
            ],
            "outputs": [],
            "metadata": {}
        },
        {
            "cell_type": "code",
            "execution_count": 7,
            "source": [
                "# ====== inputs and labels ====== #\r\n",
                "\r\n",
                "x1 = [] # muts_norm_glob\r\n",
                "x2 = [] # muts_norm_ind\r\n",
                "y = [] # labels (Severe:1, mild:0) \r\n",
                "\r\n",
                "# making the two sets of inputs and their labels\r\n",
                "for patient in labels_dic.keys():\r\n",
                "    ts = torch.FloatTensor(muts[patient])\r\n",
                "    x1.append(norm_glob(ts, muts).tolist())\r\n",
                "    x2.append(norm_ind(ts).tolist())\r\n",
                "    y.append(convert_type(labels_dic[patient]))\r\n",
                "\r\n",
                "x1 = torch.FloatTensor(x1)\r\n",
                "x2 = torch.FloatTensor(x2)\r\n",
                "y = torch.FloatTensor(y)\r\n"
            ],
            "outputs": [],
            "metadata": {}
        },
        {
            "cell_type": "markdown",
            "source": [
                "# 3. Model"
            ],
            "metadata": {}
        },
        {
            "cell_type": "code",
            "execution_count": 95,
            "source": [
                "from torch import nn, optim\r\n",
                "import torch.nn.functional as F\r\n",
                "from sklearn.model_selection import train_test_split\r\n",
                "from sklearn.metrics import confusion_matrix, classification_report\r\n",
                "\r\n",
                "RANDOM_SEED = 36\r\n",
                "np.random.seed(RANDOM_SEED)\r\n",
                "torch.manual_seed(RANDOM_SEED)"
            ],
            "outputs": [
                {
                    "output_type": "execute_result",
                    "data": {
                        "text/plain": [
                            "<torch._C.Generator at 0x24731cdd9f0>"
                        ]
                    },
                    "metadata": {},
                    "execution_count": 95
                }
            ],
            "metadata": {}
        },
        {
            "cell_type": "code",
            "execution_count": 116,
            "source": [
                "# ====== model ====== #\r\n",
                "\r\n",
                "class Net(nn.Module):\r\n",
                "  def __init__(self, n_features):\r\n",
                "    super(Net, self).__init__()\r\n",
                "    self.fc1 = nn.Linear(n_features, 12)\r\n",
                "    self.fc2 = nn.Linear(12, 5)\r\n",
                "    #self.fc3 = nn.Linear(15, 10)\r\n",
                "    self.fc3 = nn.Linear(5, 1)\r\n",
                "    \r\n",
                "  def forward(self, x):\r\n",
                "    x = F.relu(self.fc1(x))\r\n",
                "    x = F.relu(self.fc2(x))\r\n",
                "    #x = F.relu(self.fc3(x))\r\n",
                "    return torch.sigmoid(self.fc3(x))\r\n"
            ],
            "outputs": [],
            "metadata": {}
        },
        {
            "cell_type": "markdown",
            "source": [
                "# 4. Training"
            ],
            "metadata": {}
        },
        {
            "cell_type": "code",
            "execution_count": 118,
            "source": [
                "X_train, X_test, y_train, y_test = train_test_split(x2, y, test_size=0.2, random_state=RANDOM_SEED)"
            ],
            "outputs": [],
            "metadata": {}
        },
        {
            "cell_type": "code",
            "execution_count": 127,
            "source": [
                "net = Net(X_train.shape[1])\r\n",
                "criterion = nn.BCELoss()\r\n",
                "optimizer = optim.Adam(net.parameters(), lr=0.001)\r\n",
                "\r\n",
                "def calculate_accuracy(y_true, y_pred):\r\n",
                "  predicted = y_pred.ge(.5).view(-1)\r\n",
                "  return (y_true == predicted).sum().float() / len(y_true)\r\n",
                "\r\n",
                "def round_tensor(t, decimal_places=4):\r\n",
                "  return round(t.item(), decimal_places)\r\n",
                "\r\n",
                "for epoch in range(2000):\r\n",
                "    y_pred = net(X_train)\r\n",
                "    y_pred = torch.squeeze(y_pred)\r\n",
                "    train_loss = criterion(y_pred, y_train)\r\n",
                "    if epoch % 150 == 0:\r\n",
                "      train_acc = calculate_accuracy(y_train, y_pred)\r\n",
                "      y_test_pred = net(X_test)\r\n",
                "      y_test_pred = torch.squeeze(y_test_pred)\r\n",
                "      test_loss = criterion(y_test_pred, y_test)\r\n",
                "      test_acc = calculate_accuracy(y_test, y_test_pred)\r\n",
                "      print(\r\n",
                "f'''epoch {epoch}\r\n",
                "Train set - loss: {round_tensor(train_loss)}, accuracy: {round_tensor(train_acc)}\r\n",
                "Test  set - loss: {round_tensor(test_loss)}, accuracy: {round_tensor(test_acc)}\r\n",
                "''')\r\n",
                "    optimizer.zero_grad()\r\n",
                "    train_loss.backward()\r\n",
                "    optimizer.step()"
            ],
            "outputs": [
                {
                    "output_type": "stream",
                    "name": "stdout",
                    "text": [
                        "epoch 0\n",
                        "Train set - loss: 0.6928, accuracy: 0.5185\n",
                        "Test  set - loss: 0.6865, accuracy: 0.5714\n",
                        "\n",
                        "epoch 150\n",
                        "Train set - loss: 0.6748, accuracy: 0.5926\n",
                        "Test  set - loss: 0.6725, accuracy: 0.5714\n",
                        "\n",
                        "epoch 300\n",
                        "Train set - loss: 0.6304, accuracy: 0.5926\n",
                        "Test  set - loss: 0.6371, accuracy: 0.5714\n",
                        "\n",
                        "epoch 450\n",
                        "Train set - loss: 0.5727, accuracy: 0.5926\n",
                        "Test  set - loss: 0.5754, accuracy: 0.5714\n",
                        "\n",
                        "epoch 600\n",
                        "Train set - loss: 0.4664, accuracy: 0.8519\n",
                        "Test  set - loss: 0.4486, accuracy: 0.8571\n",
                        "\n",
                        "epoch 750\n",
                        "Train set - loss: 0.3729, accuracy: 0.8519\n",
                        "Test  set - loss: 0.3501, accuracy: 1.0\n",
                        "\n",
                        "epoch 900\n",
                        "Train set - loss: 0.2989, accuracy: 0.8889\n",
                        "Test  set - loss: 0.2975, accuracy: 1.0\n",
                        "\n",
                        "epoch 1050\n",
                        "Train set - loss: 0.2369, accuracy: 0.9259\n",
                        "Test  set - loss: 0.2811, accuracy: 0.8571\n",
                        "\n",
                        "epoch 1200\n",
                        "Train set - loss: 0.1881, accuracy: 0.963\n",
                        "Test  set - loss: 0.2868, accuracy: 0.8571\n",
                        "\n",
                        "epoch 1350\n",
                        "Train set - loss: 0.1498, accuracy: 0.963\n",
                        "Test  set - loss: 0.306, accuracy: 0.8571\n",
                        "\n",
                        "epoch 1500\n",
                        "Train set - loss: 0.1194, accuracy: 1.0\n",
                        "Test  set - loss: 0.3373, accuracy: 0.8571\n",
                        "\n",
                        "epoch 1650\n",
                        "Train set - loss: 0.095, accuracy: 1.0\n",
                        "Test  set - loss: 0.3733, accuracy: 0.8571\n",
                        "\n",
                        "epoch 1800\n",
                        "Train set - loss: 0.0758, accuracy: 1.0\n",
                        "Test  set - loss: 0.413, accuracy: 0.8571\n",
                        "\n",
                        "epoch 1950\n",
                        "Train set - loss: 0.0605, accuracy: 1.0\n",
                        "Test  set - loss: 0.4578, accuracy: 0.8571\n",
                        "\n"
                    ]
                }
            ],
            "metadata": {}
        },
        {
            "cell_type": "code",
            "execution_count": 124,
            "source": [
                "# saving the model\r\n",
                "MODEL_PATH = 'model3.pth'\r\n",
                "torch.save(net, MODEL_PATH)"
            ],
            "outputs": [],
            "metadata": {}
        },
        {
            "cell_type": "markdown",
            "source": [
                "# 5. Evaluation"
            ],
            "metadata": {}
        },
        {
            "cell_type": "code",
            "execution_count": 121,
            "source": [
                "classes = ['mild', 'Severe']\r\n",
                "y_pred = net(X_test).cpu()\r\n",
                "y_pred = y_pred.ge(.5).view(-1).cpu()\r\n",
                "y_test = y_test\r\n",
                "print(classification_report(y_test, y_pred, target_names=classes))"
            ],
            "outputs": [
                {
                    "output_type": "stream",
                    "name": "stdout",
                    "text": [
                        "              precision    recall  f1-score   support\n",
                        "\n",
                        "        mild       0.80      1.00      0.89         4\n",
                        "      Severe       1.00      0.67      0.80         3\n",
                        "\n",
                        "    accuracy                           0.86         7\n",
                        "   macro avg       0.90      0.83      0.84         7\n",
                        "weighted avg       0.89      0.86      0.85         7\n",
                        "\n"
                    ]
                }
            ],
            "metadata": {}
        },
        {
            "cell_type": "code",
            "execution_count": 126,
            "source": [
                "import seaborn as sns\r\n",
                "from pylab import rcParams\r\n",
                "import matplotlib.pyplot as plt\r\n",
                "from matplotlib import rc\r\n",
                "\r\n",
                "%matplotlib inline\r\n",
                "%config InlineBackend.figure_format='retina'\r\n",
                "sns.set(style='whitegrid', palette='muted', font_scale=1.2)\r\n",
                "HAPPY_COLORS_PALETTE =\\\r\n",
                "[\"#01BEFE\", \"#FFDD00\", \"#FF7D00\", \"#FF006D\", \"#93D30C\", \"#8F00FF\"]\r\n",
                "sns.set_palette(sns.color_palette(HAPPY_COLORS_PALETTE))\r\n",
                "rcParams['figure.figsize'] = 12, 8\r\n",
                "\r\n",
                "cm = confusion_matrix(y_test, y_pred)\r\n",
                "df_cm = pd.DataFrame(cm, index=classes, columns=classes)\r\n",
                "hmap = sns.heatmap(df_cm, annot=True, fmt=\"d\")\r\n",
                "hmap.yaxis.set_ticklabels(hmap.yaxis.get_ticklabels(), rotation=0, ha='right')\r\n",
                "hmap.xaxis.set_ticklabels(hmap.xaxis.get_ticklabels(), rotation=30, ha='right')\r\n",
                "plt.ylabel('True label')\r\n",
                "plt.xlabel('Predicted label');"
            ],
            "outputs": [
                {
                    "output_type": "display_data",
                    "data": {
                        "text/plain": [
                            "<Figure size 864x576 with 2 Axes>"
                        ],
                        "image/png": "[encoded data removed]"
                    },
                    "metadata": {
                        "image/png": {
                            "width": 701,
                            "height": 511
                        }
                    }
                }
            ],
            "metadata": {}
        },
        {
            "cell_type": "markdown",
            "source": [
                "# 6. Making perdictions"
            ],
            "metadata": {}
        },
        {
            "cell_type": "code",
            "execution_count": 128,
            "source": [
                "def predict_type():\r\n",
                "  t = torch.as_tensor([mut_counts]).float()\r\n",
                "  output = net(t)\r\n",
                "  return output.ge(0.5).item()"
            ],
            "outputs": [],
            "metadata": {}
        },
        {
            "cell_type": "code",
            "execution_count": null,
            "source": [],
            "outputs": [],
            "metadata": {}
        },
        {
            "cell_type": "code",
            "execution_count": null,
            "source": [],
            "outputs": [],
            "metadata": {}
        },
        {
            "cell_type": "code",
            "execution_count": null,
            "source": [
                "https://curiousily.com/posts/build-your-first-neural-network-with-pytorch/"
            ],
            "outputs": [],
            "metadata": {}
        }
    ],
    "metadata": {
        "orig_nbformat": 4,
        "language_info": {
            "name": "python",
            "version": "3.8.8",
            "mimetype": "text/x-python",
            "codemirror_mode": {
                "name": "ipython",
                "version": 3
            },
            "pygments_lexer": "ipython3",
            "nbconvert_exporter": "python",
            "file_extension": ".py"
        },
        "kernelspec": {
            "name": "python3",
            "display_name": "Python 3.8.8 64-bit ('base': conda)"
        },
        "interpreter": {
            "hash": "b3ba2566441a7c06988d0923437866b63cedc61552a5af99d1f4fb67d367b25f"
        }
    },
    "nbformat": 4,
    "nbformat_minor": 2
}