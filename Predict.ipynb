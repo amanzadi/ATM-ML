{
    "cells": [
        {
            "cell_type": "markdown",
            "source": [
                "# 1. Packeges"
            ],
            "metadata": {}
        },
        {
            "cell_type": "code",
            "execution_count": 8,
            "source": [
                "# Liberies\r\n",
                "import os\r\n",
                "import glob\r\n",
                "import torch\r\n",
                "import numpy as np\r\n",
                "import pandas as pd\r\n",
                "from tqdm.notebook import tqdm"
            ],
            "outputs": [],
            "metadata": {}
        },
        {
            "cell_type": "markdown",
            "source": [
                "# 2. Data preprocessing"
            ],
            "metadata": {}
        },
        {
            "cell_type": "code",
            "execution_count": null,
            "source": [
                "path = '../data/new AT cases/'\r\n",
                "os.chdir(path)\r\n",
                "files = glob.glob('*.csv')\r\n",
                "print(files)"
            ],
            "outputs": [],
            "metadata": {}
        },
        {
            "cell_type": "code",
            "execution_count": null,
            "source": [
                "# function to isolate no. of mutations\r\n",
                "def mut_count(file, chr_list):\r\n",
                "\r\n",
                "    # created the dataframe\r\n",
                "    df = pd.read_csv(file, low_memory=False)\r\n",
                "    df = df.iloc[:, 77]  # only the chr column\r\n",
                "    name = file[:-4]     # name of the input file\r\n",
                "\r\n",
                "     \r\n",
                "    chr_count = []\r\n",
                "    chr_values = df.value_counts()\r\n",
                "    chr_names = df.unique().tolist()\r\n",
                "\r\n",
                "    # counts no. of mutation in each chr\r\n",
                "    for gene in chr_list:\r\n",
                "        if gene in chr_names:\r\n",
                "            chr_count.append(chr_values[gene])\r\n",
                "        else:\r\n",
                "            chr_count.append(0)\r\n",
                "\r\n",
                "    # creates the mutation count dataframe\r\n",
                "    dic = {'Chromosome': chr_list, name: chr_count}\r\n",
                "    df_chr = pd.DataFrame.from_dict(dic)\r\n",
                "\r\n",
                "    return(df_chr)"
            ],
            "outputs": [],
            "metadata": {}
        },
        {
            "cell_type": "code",
            "execution_count": null,
            "source": [
                "df = pd.read_csv(files[0])\r\n",
                "chr_names_list = df.iloc[:, 77].unique().tolist()\r\n",
                "\r\n",
                "# start col\r\n",
                "result = mut_count(files[0], chr_names_list)\r\n",
                "\r\n",
                "#merging results\r\n",
                "for file in tqdm(files[1:]):\r\n",
                "    tmp = mut_count(file, chr_names_list)\r\n",
                "    result = pd.concat([result, tmp.iloc[:,1]], axis=1)\r\n",
                "    \r\n",
                "#df.to_csv('mut_count_all.csv', index=False)\r\n",
                "result.to_csv('mut_count_all.csv', index=False)\r\n",
                "result "
            ],
            "outputs": [],
            "metadata": {}
        },
        {
            "cell_type": "markdown",
            "source": [
                "# 3. Data processing"
            ],
            "metadata": {}
        },
        {
            "cell_type": "code",
            "execution_count": 9,
            "source": [
                "# Mutation counts of patients as an input to neural net\r\n",
                "muts = pd.read_csv('../data/new AT cases/mut_count_all.csv')  \r\n",
                "muts.head()"
            ],
            "outputs": [
                {
                    "output_type": "execute_result",
                    "data": {
                        "text/plain": [
                            "  Chromosome  EX466  EX7777  EX870  EX882  EX897  EX899  EX915  EX916  EX927R\n",
                            "0       chr1  13764    2237  14655  12923  12703  13313  12678  12923   12768\n",
                            "1       chr2  10209    1019  10910   9400   9764   9694   9068   8997    9415\n",
                            "2       chr3   7427     835   8463   7138   7218   6830   6903   7161    7093\n",
                            "3       chr4   5875     641   6608   5415   5436   5705   5370   5461    5324\n",
                            "4       chr5   5877     789   6709   5447   6033   5934   6011   5684    5730"
                        ],
                        "text/html": [
                            "<div>\n",
                            "<style scoped>\n",
                            "    .dataframe tbody tr th:only-of-type {\n",
                            "        vertical-align: middle;\n",
                            "    }\n",
                            "\n",
                            "    .dataframe tbody tr th {\n",
                            "        vertical-align: top;\n",
                            "    }\n",
                            "\n",
                            "    .dataframe thead th {\n",
                            "        text-align: right;\n",
                            "    }\n",
                            "</style>\n",
                            "<table border=\"1\" class=\"dataframe\">\n",
                            "  <thead>\n",
                            "    <tr style=\"text-align: right;\">\n",
                            "      <th></th>\n",
                            "      <th>Chromosome</th>\n",
                            "      <th>EX466</th>\n",
                            "      <th>EX7777</th>\n",
                            "      <th>EX870</th>\n",
                            "      <th>EX882</th>\n",
                            "      <th>EX897</th>\n",
                            "      <th>EX899</th>\n",
                            "      <th>EX915</th>\n",
                            "      <th>EX916</th>\n",
                            "      <th>EX927R</th>\n",
                            "    </tr>\n",
                            "  </thead>\n",
                            "  <tbody>\n",
                            "    <tr>\n",
                            "      <th>0</th>\n",
                            "      <td>chr1</td>\n",
                            "      <td>13764</td>\n",
                            "      <td>2237</td>\n",
                            "      <td>14655</td>\n",
                            "      <td>12923</td>\n",
                            "      <td>12703</td>\n",
                            "      <td>13313</td>\n",
                            "      <td>12678</td>\n",
                            "      <td>12923</td>\n",
                            "      <td>12768</td>\n",
                            "    </tr>\n",
                            "    <tr>\n",
                            "      <th>1</th>\n",
                            "      <td>chr2</td>\n",
                            "      <td>10209</td>\n",
                            "      <td>1019</td>\n",
                            "      <td>10910</td>\n",
                            "      <td>9400</td>\n",
                            "      <td>9764</td>\n",
                            "      <td>9694</td>\n",
                            "      <td>9068</td>\n",
                            "      <td>8997</td>\n",
                            "      <td>9415</td>\n",
                            "    </tr>\n",
                            "    <tr>\n",
                            "      <th>2</th>\n",
                            "      <td>chr3</td>\n",
                            "      <td>7427</td>\n",
                            "      <td>835</td>\n",
                            "      <td>8463</td>\n",
                            "      <td>7138</td>\n",
                            "      <td>7218</td>\n",
                            "      <td>6830</td>\n",
                            "      <td>6903</td>\n",
                            "      <td>7161</td>\n",
                            "      <td>7093</td>\n",
                            "    </tr>\n",
                            "    <tr>\n",
                            "      <th>3</th>\n",
                            "      <td>chr4</td>\n",
                            "      <td>5875</td>\n",
                            "      <td>641</td>\n",
                            "      <td>6608</td>\n",
                            "      <td>5415</td>\n",
                            "      <td>5436</td>\n",
                            "      <td>5705</td>\n",
                            "      <td>5370</td>\n",
                            "      <td>5461</td>\n",
                            "      <td>5324</td>\n",
                            "    </tr>\n",
                            "    <tr>\n",
                            "      <th>4</th>\n",
                            "      <td>chr5</td>\n",
                            "      <td>5877</td>\n",
                            "      <td>789</td>\n",
                            "      <td>6709</td>\n",
                            "      <td>5447</td>\n",
                            "      <td>6033</td>\n",
                            "      <td>5934</td>\n",
                            "      <td>6011</td>\n",
                            "      <td>5684</td>\n",
                            "      <td>5730</td>\n",
                            "    </tr>\n",
                            "  </tbody>\n",
                            "</table>\n",
                            "</div>"
                        ]
                    },
                    "metadata": {},
                    "execution_count": 9
                }
            ],
            "metadata": {}
        },
        {
            "cell_type": "code",
            "execution_count": 10,
            "source": [
                "patients = muts.columns.values.tolist()[1:]\r\n",
                "patients"
            ],
            "outputs": [
                {
                    "output_type": "execute_result",
                    "data": {
                        "text/plain": [
                            "['EX466',\n",
                            " 'EX7777',\n",
                            " 'EX870',\n",
                            " 'EX882',\n",
                            " 'EX897',\n",
                            " 'EX899',\n",
                            " 'EX915',\n",
                            " 'EX916',\n",
                            " 'EX927R']"
                        ]
                    },
                    "metadata": {},
                    "execution_count": 10
                }
            ],
            "metadata": {}
        },
        {
            "cell_type": "code",
            "execution_count": 11,
            "source": [
                "# Individual normalizing\r\n",
                "def norm_ind(tensor):\r\n",
                "    ts = tensor/tensor.max()\r\n",
                "    return(ts)"
            ],
            "outputs": [],
            "metadata": {}
        },
        {
            "cell_type": "code",
            "execution_count": 12,
            "source": [
                "# ====== inputs  ====== #\r\n",
                "\r\n",
                "x = [] # muts_norm_glob\r\n",
                "\r\n",
                "\r\n",
                "# making the two sets of inputs and their labels\r\n",
                "for patient in patients:\r\n",
                "    ts = torch.FloatTensor(muts[patient])\r\n",
                "    x.append(norm_ind(ts).tolist())\r\n",
                "\r\n",
                "x = torch.FloatTensor(x)\r\n",
                "x[0]"
            ],
            "outputs": [
                {
                    "output_type": "execute_result",
                    "data": {
                        "text/plain": [
                            "tensor([1.0000, 0.7417, 0.5396, 0.4268, 0.4270, 0.4560, 0.5663, 0.3638, 0.4303,\n",
                            "        0.4453, 0.6061, 0.5548, 0.2039, 0.3498, 0.3372, 0.4346, 0.5857, 0.1766,\n",
                            "        0.6691, 0.2470, 0.1494, 0.2723, 0.0039, 0.1757, 0.0046])"
                        ]
                    },
                    "metadata": {},
                    "execution_count": 12
                }
            ],
            "metadata": {}
        },
        {
            "cell_type": "markdown",
            "source": [
                "# 4. Prediction"
            ],
            "metadata": {}
        },
        {
            "cell_type": "code",
            "execution_count": 13,
            "source": [
                "from torch import nn, optim\r\n",
                "import torch.nn.functional as F\r\n",
                "\r\n",
                "# The neural net\r\n",
                "class Net(nn.Module):\r\n",
                "  def __init__(self, n_features):\r\n",
                "    super(Net, self).__init__()\r\n",
                "    self.fc1 = nn.Linear(n_features, 12)\r\n",
                "    self.fc2 = nn.Linear(12, 5)\r\n",
                "    self.fc3 = nn.Linear(5, 1)\r\n",
                "    \r\n",
                "  def forward(self, x):\r\n",
                "    x = F.relu(self.fc1(x))\r\n",
                "    x = F.relu(self.fc2(x))\r\n",
                "    return torch.sigmoid(self.fc3(x))\r\n",
                "\r\n",
                "\r\n",
                "# Specify a path\r\n",
                "conf = '../code/model3.pt'\r\n",
                "\r\n",
                "# Load the saved weights\r\n",
                "net = Net(x.shape[1])\r\n",
                "net.load_state_dict(torch.load(conf))\r\n",
                "net.eval()"
            ],
            "outputs": [
                {
                    "output_type": "execute_result",
                    "data": {
                        "text/plain": [
                            "Net(\n",
                            "  (fc1): Linear(in_features=25, out_features=12, bias=True)\n",
                            "  (fc2): Linear(in_features=12, out_features=5, bias=True)\n",
                            "  (fc3): Linear(in_features=5, out_features=1, bias=True)\n",
                            ")"
                        ]
                    },
                    "metadata": {},
                    "execution_count": 13
                }
            ],
            "metadata": {}
        },
        {
            "cell_type": "code",
            "execution_count": 14,
            "source": [
                "def predict_type(muts_tensor):\r\n",
                "  t = muts_tensor\r\n",
                "  output = net(t)\r\n",
                "  return output #.ge(0.5).item()"
            ],
            "outputs": [],
            "metadata": {}
        },
        {
            "cell_type": "code",
            "execution_count": 15,
            "source": [
                "for i, patient in enumerate(patients):\r\n",
                "    pred = predict_type(x[i])\r\n",
                "    print(patient, pred[0])\r\n"
            ],
            "outputs": [
                {
                    "output_type": "stream",
                    "name": "stdout",
                    "text": [
                        "EX466 tensor(0.0230, grad_fn=<SelectBackward>)\n",
                        "EX7777 tensor(1.0000, grad_fn=<SelectBackward>)\n",
                        "EX870 tensor(0.1845, grad_fn=<SelectBackward>)\n",
                        "EX882 tensor(0.0837, grad_fn=<SelectBackward>)\n",
                        "EX897 tensor(0.4034, grad_fn=<SelectBackward>)\n",
                        "EX899 tensor(0.9990, grad_fn=<SelectBackward>)\n",
                        "EX915 tensor(0.2573, grad_fn=<SelectBackward>)\n",
                        "EX916 tensor(0.0044, grad_fn=<SelectBackward>)\n",
                        "EX927R tensor(0.9997, grad_fn=<SelectBackward>)\n"
                    ]
                }
            ],
            "metadata": {}
        },
        {
            "cell_type": "code",
            "execution_count": 36,
            "source": [
                "w = []\r\n",
                "b = []\r\n",
                "\r\n",
                "for name, param in model.named_parameters():\r\n",
                "    if name == 'fc1.weight':\r\n",
                "        w.append(param.data)\r\n",
                "    elif name == 'fc1.bias':\r\n",
                "        b.append(param.data)\r\n",
                "    else:\r\n",
                "        pass\r\n"
            ],
            "outputs": [],
            "metadata": {}
        },
        {
            "cell_type": "code",
            "execution_count": 68,
            "source": [
                "chrs = muts['Chromosome'].tolist()\r\n",
                "wb = {}\r\n",
                "\r\n",
                "# making a dic with weight and biad of each chr\r\n",
                "for i, choromosome in enumerate(chrs):\r\n",
                "    tmp_w = []\r\n",
                "    tmp_b = []\r\n",
                "    for j in range(len(w[0])):\r\n",
                "        tmp_w.append(w[0][j][i])\r\n",
                "        #tmp_b.append(b[0][j])\r\n",
                "    wb[choromosome] = tmp_w\r\n"
            ],
            "outputs": [],
            "metadata": {}
        },
        {
            "cell_type": "code",
            "execution_count": 71,
            "source": [
                "for choromosome in chrs:\r\n",
                "    a = torch.FloatTensor(wb[choromosome]).mean()\r\n",
                "    print (choromosome,':', a)"
            ],
            "outputs": [
                {
                    "output_type": "stream",
                    "name": "stdout",
                    "text": [
                        "chr1 : tensor(-0.0392)\n",
                        "chr2 : tensor(0.0117)\n",
                        "chr3 : tensor(0.0022)\n",
                        "chr4 : tensor(-0.0085)\n",
                        "chr5 : tensor(-0.0258)\n",
                        "chr6 : tensor(0.0036)\n",
                        "chr7 : tensor(-0.0062)\n",
                        "chr8 : tensor(0.0106)\n",
                        "chr9 : tensor(-0.0130)\n",
                        "chr10 : tensor(-0.0477)\n",
                        "chr11 : tensor(0.0127)\n",
                        "chr12 : tensor(-0.0252)\n",
                        "chr13 : tensor(0.0394)\n",
                        "chr14 : tensor(0.0373)\n",
                        "chr15 : tensor(0.0131)\n",
                        "chr16 : tensor(0.0356)\n",
                        "chr17 : tensor(0.0166)\n",
                        "chr18 : tensor(-0.0107)\n",
                        "chr19 : tensor(0.0153)\n",
                        "chr20 : tensor(-0.0628)\n",
                        "chr21 : tensor(0.0256)\n",
                        "chr22 : tensor(-4.9683e-06)\n",
                        "chrM : tensor(0.0515)\n",
                        "chrX : tensor(-0.0061)\n",
                        "chrY : tensor(0.0491)\n"
                    ]
                }
            ],
            "metadata": {}
        },
        {
            "cell_type": "code",
            "execution_count": 30,
            "source": [
                "model = Net(x.shape[1])\r\n",
                "#for param in model.parameters():\r\n",
                "for name, param in model.named_parameters():\r\n",
                "    print(name)  #,'\\n',param.data)\r\n",
                "    for i in range(len(param.data)):\r\n",
                "        print(i+1,':',param.data[i].mean())"
            ],
            "outputs": [
                {
                    "output_type": "stream",
                    "name": "stdout",
                    "text": [
                        "fc1.weight\n",
                        "1 : tensor(-0.0009)\n",
                        "2 : tensor(-0.0094)\n",
                        "3 : tensor(0.0501)\n",
                        "4 : tensor(-0.0115)\n",
                        "5 : tensor(-0.0040)\n",
                        "6 : tensor(0.0318)\n",
                        "7 : tensor(-0.0185)\n",
                        "8 : tensor(-0.0331)\n",
                        "9 : tensor(0.0173)\n",
                        "10 : tensor(0.0100)\n",
                        "11 : tensor(0.0149)\n",
                        "12 : tensor(-0.0088)\n",
                        "fc1.bias\n",
                        "1 : tensor(0.0601)\n",
                        "2 : tensor(0.0304)\n",
                        "3 : tensor(0.0449)\n",
                        "4 : tensor(-0.1819)\n",
                        "5 : tensor(-0.0080)\n",
                        "6 : tensor(0.0163)\n",
                        "7 : tensor(0.0624)\n",
                        "8 : tensor(0.1811)\n",
                        "9 : tensor(0.0838)\n",
                        "10 : tensor(-0.1470)\n",
                        "11 : tensor(0.1099)\n",
                        "12 : tensor(0.0239)\n",
                        "fc2.weight\n",
                        "1 : tensor(-0.0193)\n",
                        "2 : tensor(-0.0019)\n",
                        "3 : tensor(0.0803)\n",
                        "4 : tensor(-0.0396)\n",
                        "5 : tensor(-0.0961)\n",
                        "fc2.bias\n",
                        "1 : tensor(-0.1089)\n",
                        "2 : tensor(0.0446)\n",
                        "3 : tensor(0.0872)\n",
                        "4 : tensor(-0.2360)\n",
                        "5 : tensor(-0.0926)\n",
                        "fc3.weight\n",
                        "1 : tensor(-0.0031)\n",
                        "fc3.bias\n",
                        "1 : tensor(0.4145)\n"
                    ]
                }
            ],
            "metadata": {}
        },
        {
            "cell_type": "code",
            "execution_count": null,
            "source": [],
            "outputs": [],
            "metadata": {}
        }
    ],
    "metadata": {
        "orig_nbformat": 4,
        "language_info": {
            "name": "python",
            "version": "3.8.8",
            "mimetype": "text/x-python",
            "codemirror_mode": {
                "name": "ipython",
                "version": 3
            },
            "pygments_lexer": "ipython3",
            "nbconvert_exporter": "python",
            "file_extension": ".py"
        },
        "kernelspec": {
            "name": "python3",
            "display_name": "Python 3.8.8 64-bit ('base': conda)"
        },
        "interpreter": {
            "hash": "b3ba2566441a7c06988d0923437866b63cedc61552a5af99d1f4fb67d367b25f"
        }
    },
    "nbformat": 4,
    "nbformat_minor": 2
}